{
 "cells": [
  {
   "cell_type": "markdown",
   "id": "f9d21d63-cf9e-4fa9-b0b0-61c94505b880",
   "metadata": {},
   "source": [
    "## 1. Importar módulos necesarios"
   ]
  },
  {
   "cell_type": "code",
   "execution_count": 2,
   "id": "fdb03ebc-42ea-4b89-9460-7a4e0fd17c96",
   "metadata": {},
   "outputs": [
    {
     "name": "stderr",
     "output_type": "stream",
     "text": [
      "2025-02-04 11:15:22.581368: I tensorflow/core/util/port.cc:153] oneDNN custom operations are on. You may see slightly different numerical results due to floating-point round-off errors from different computation orders. To turn them off, set the environment variable `TF_ENABLE_ONEDNN_OPTS=0`.\n",
      "2025-02-04 11:15:22.582798: I external/local_xla/xla/tsl/cuda/cudart_stub.cc:32] Could not find cuda drivers on your machine, GPU will not be used.\n",
      "2025-02-04 11:15:22.586547: I external/local_xla/xla/tsl/cuda/cudart_stub.cc:32] Could not find cuda drivers on your machine, GPU will not be used.\n",
      "2025-02-04 11:15:22.599311: E external/local_xla/xla/stream_executor/cuda/cuda_fft.cc:477] Unable to register cuFFT factory: Attempting to register factory for plugin cuFFT when one has already been registered\n",
      "WARNING: All log messages before absl::InitializeLog() is called are written to STDERR\n",
      "E0000 00:00:1738664122.613022   23182 cuda_dnn.cc:8310] Unable to register cuDNN factory: Attempting to register factory for plugin cuDNN when one has already been registered\n",
      "E0000 00:00:1738664122.616927   23182 cuda_blas.cc:1418] Unable to register cuBLAS factory: Attempting to register factory for plugin cuBLAS when one has already been registered\n",
      "2025-02-04 11:15:22.630370: I tensorflow/core/platform/cpu_feature_guard.cc:210] This TensorFlow binary is optimized to use available CPU instructions in performance-critical operations.\n",
      "To enable the following instructions: AVX2 AVX512F AVX512_VNNI FMA, in other operations, rebuild TensorFlow with the appropriate compiler flags.\n"
     ]
    }
   ],
   "source": [
    "# %% [markdown]\n",
    "# ## 1. Importar módulos necesarios\n",
    "\n",
    "import numpy as np\n",
    "import pandas as pd\n",
    "import os\n",
    "from sklearn.preprocessing import LabelEncoder, StandardScaler\n",
    "from sklearn.model_selection import train_test_split\n",
    "from sklearn.metrics import classification_report\n",
    "import tensorflow as tf\n",
    "from tensorflow.keras.models import Model\n",
    "from tensorflow.keras.layers import Input, Dense, Dropout\n",
    "from tensorflow.keras.utils import to_categorical"
   ]
  },
  {
   "cell_type": "markdown",
   "id": "181e8bde-811f-448b-b93e-128493b54bdf",
   "metadata": {},
   "source": [
    "## 1.1 Comprobar si los paquetes se han cargado correctamente"
   ]
  },
  {
   "cell_type": "code",
   "execution_count": 3,
   "id": "b349020c-2305-4e18-b063-aee52c19e399",
   "metadata": {},
   "outputs": [
    {
     "name": "stdout",
     "output_type": "stream",
     "text": [
      "TensorFlow version: 2.18.0\n",
      "Eager execution: True\n"
     ]
    },
    {
     "name": "stderr",
     "output_type": "stream",
     "text": [
      "W0000 00:00:1738664130.687619   23182 gpu_device.cc:2344] Cannot dlopen some GPU libraries. Please make sure the missing libraries mentioned above are installed properly if you would like to use GPU. Follow the guide at https://www.tensorflow.org/install/gpu for how to download and setup the required libraries for your platform.\n",
      "Skipping registering GPU devices...\n"
     ]
    },
    {
     "data": {
      "text/html": [
       "<pre style=\"white-space:pre;overflow-x:auto;line-height:normal;font-family:Menlo,'DejaVu Sans Mono',consolas,'Courier New',monospace\"><span style=\"font-weight: bold\">Model: \"sequential\"</span>\n",
       "</pre>\n"
      ],
      "text/plain": [
       "\u001b[1mModel: \"sequential\"\u001b[0m\n"
      ]
     },
     "metadata": {},
     "output_type": "display_data"
    },
    {
     "data": {
      "text/html": [
       "<pre style=\"white-space:pre;overflow-x:auto;line-height:normal;font-family:Menlo,'DejaVu Sans Mono',consolas,'Courier New',monospace\">┏━━━━━━━━━━━━━━━━━━━━━━━━━━━━━━━━━┳━━━━━━━━━━━━━━━━━━━━━━━━┳━━━━━━━━━━━━━━━┓\n",
       "┃<span style=\"font-weight: bold\"> Layer (type)                    </span>┃<span style=\"font-weight: bold\"> Output Shape           </span>┃<span style=\"font-weight: bold\">       Param # </span>┃\n",
       "┡━━━━━━━━━━━━━━━━━━━━━━━━━━━━━━━━━╇━━━━━━━━━━━━━━━━━━━━━━━━╇━━━━━━━━━━━━━━━┩\n",
       "│ dense (<span style=\"color: #0087ff; text-decoration-color: #0087ff\">Dense</span>)                   │ (<span style=\"color: #00d7ff; text-decoration-color: #00d7ff\">None</span>, <span style=\"color: #00af00; text-decoration-color: #00af00\">10</span>)             │           <span style=\"color: #00af00; text-decoration-color: #00af00\">210</span> │\n",
       "├─────────────────────────────────┼────────────────────────┼───────────────┤\n",
       "│ dense_1 (<span style=\"color: #0087ff; text-decoration-color: #0087ff\">Dense</span>)                 │ (<span style=\"color: #00d7ff; text-decoration-color: #00d7ff\">None</span>, <span style=\"color: #00af00; text-decoration-color: #00af00\">1</span>)              │            <span style=\"color: #00af00; text-decoration-color: #00af00\">11</span> │\n",
       "└─────────────────────────────────┴────────────────────────┴───────────────┘\n",
       "</pre>\n"
      ],
      "text/plain": [
       "┏━━━━━━━━━━━━━━━━━━━━━━━━━━━━━━━━━┳━━━━━━━━━━━━━━━━━━━━━━━━┳━━━━━━━━━━━━━━━┓\n",
       "┃\u001b[1m \u001b[0m\u001b[1mLayer (type)                   \u001b[0m\u001b[1m \u001b[0m┃\u001b[1m \u001b[0m\u001b[1mOutput Shape          \u001b[0m\u001b[1m \u001b[0m┃\u001b[1m \u001b[0m\u001b[1m      Param #\u001b[0m\u001b[1m \u001b[0m┃\n",
       "┡━━━━━━━━━━━━━━━━━━━━━━━━━━━━━━━━━╇━━━━━━━━━━━━━━━━━━━━━━━━╇━━━━━━━━━━━━━━━┩\n",
       "│ dense (\u001b[38;5;33mDense\u001b[0m)                   │ (\u001b[38;5;45mNone\u001b[0m, \u001b[38;5;34m10\u001b[0m)             │           \u001b[38;5;34m210\u001b[0m │\n",
       "├─────────────────────────────────┼────────────────────────┼───────────────┤\n",
       "│ dense_1 (\u001b[38;5;33mDense\u001b[0m)                 │ (\u001b[38;5;45mNone\u001b[0m, \u001b[38;5;34m1\u001b[0m)              │            \u001b[38;5;34m11\u001b[0m │\n",
       "└─────────────────────────────────┴────────────────────────┴───────────────┘\n"
      ]
     },
     "metadata": {},
     "output_type": "display_data"
    },
    {
     "data": {
      "text/html": [
       "<pre style=\"white-space:pre;overflow-x:auto;line-height:normal;font-family:Menlo,'DejaVu Sans Mono',consolas,'Courier New',monospace\"><span style=\"font-weight: bold\"> Total params: </span><span style=\"color: #00af00; text-decoration-color: #00af00\">221</span> (884.00 B)\n",
       "</pre>\n"
      ],
      "text/plain": [
       "\u001b[1m Total params: \u001b[0m\u001b[38;5;34m221\u001b[0m (884.00 B)\n"
      ]
     },
     "metadata": {},
     "output_type": "display_data"
    },
    {
     "data": {
      "text/html": [
       "<pre style=\"white-space:pre;overflow-x:auto;line-height:normal;font-family:Menlo,'DejaVu Sans Mono',consolas,'Courier New',monospace\"><span style=\"font-weight: bold\"> Trainable params: </span><span style=\"color: #00af00; text-decoration-color: #00af00\">221</span> (884.00 B)\n",
       "</pre>\n"
      ],
      "text/plain": [
       "\u001b[1m Trainable params: \u001b[0m\u001b[38;5;34m221\u001b[0m (884.00 B)\n"
      ]
     },
     "metadata": {},
     "output_type": "display_data"
    },
    {
     "data": {
      "text/html": [
       "<pre style=\"white-space:pre;overflow-x:auto;line-height:normal;font-family:Menlo,'DejaVu Sans Mono',consolas,'Courier New',monospace\"><span style=\"font-weight: bold\"> Non-trainable params: </span><span style=\"color: #00af00; text-decoration-color: #00af00\">0</span> (0.00 B)\n",
       "</pre>\n"
      ],
      "text/plain": [
       "\u001b[1m Non-trainable params: \u001b[0m\u001b[38;5;34m0\u001b[0m (0.00 B)\n"
      ]
     },
     "metadata": {},
     "output_type": "display_data"
    }
   ],
   "source": [
    "# %% [markdown]\n",
    "# ## 1.1 Comprobar si los paquetes se han cargado correctamente\n",
    "\n",
    "from tensorflow.keras import Input\n",
    "\n",
    "print(\"TensorFlow version:\", tf.__version__)\n",
    "print(\"Eager execution:\", tf.executing_eagerly())\n",
    "\n",
    "# Verificar si Keras funciona\n",
    "from tensorflow.keras.models import Sequential\n",
    "from tensorflow.keras.layers import Dense\n",
    "\n",
    "model = Sequential([\n",
    "    Input(shape=(20,)),  # Define explícitamente la capa de entrada\n",
    "    Dense(10, activation='relu'),\n",
    "    Dense(1, activation='sigmoid')\n",
    "])\n",
    "\n",
    "model.summary()"
   ]
  },
  {
   "cell_type": "markdown",
   "id": "6bdb6ee3-b2e1-4346-b0b4-91dffc6df51f",
   "metadata": {},
   "source": [
    "## 2. Definir la estructura de los archivos de entrada"
   ]
  },
  {
   "cell_type": "markdown",
   "id": "cf97b6c4-88d9-4ab0-bb48-cb0447049254",
   "metadata": {},
   "source": [
    "**training_data.csv**:\n",
    "- Columna 1: strain_id\n",
    "- Columnas 2 a 11: Para cada antibiótico (FEP, MER, IMI, AZT, CIP):\n",
    "      Ejemplo:\n",
    "        FEP_MIC, FEP_eval, MER_MIC, MER_eval, IMI_MIC, IMI_eval, AZT_MIC, AZT_eval, CIP_MIC, CIP_eval\n",
    "  Las evaluaciones tienen 3 categorías: \"sensitive\", \"resistant\" e \"indeterminate\".\n",
    "- Columnas 12 en adelante: Información de mutaciones para 71 genes.\n",
    "   * Si no hay información para un gen: \"-\"\n",
    "   * Si el gen es wild type: NaN\n",
    "   * Si hay mutaciones: cadena con las mutaciones separadas por comas (ej. \"A123T,V456G\")\n",
    "\n",
    "**test_data.csv**:\n",
    "- Columna 1: strain_id\n",
    "- Columnas 2 en adelante: Información de mutaciones para los mismos 71 genes.\n",
    "\n"
   ]
  },
  {
   "cell_type": "code",
   "execution_count": 28,
   "id": "e88e9a67-74ce-489d-8264-23fe71fe030e",
   "metadata": {},
   "outputs": [
    {
     "name": "stdout",
     "output_type": "stream",
     "text": [
      "Dimensiones del DataFrame original: (1045, 79)\n",
      "Archivo de lectura: train_df:\n",
      "      Unnamed: 0       strain_id FEP_MIC FEP_eval MER_MIC MER_eval IMI_MIC  \\\n",
      "0          False  UMC Utrecht_28       2        S    ≤0.5        S       2   \n",
      "1          False  UMC Utrecht_66       2        S    ≤0.5        S       2   \n",
      "2          False  UMC Utrecht_29       8        S      16        R      16   \n",
      "3          False  UMC Utrecht_68       2        S    ≤0.5        S       2   \n",
      "4          False  UMC Utrecht_32       8        S       2        S       2   \n",
      "...          ...             ...     ...      ...     ...      ...     ...   \n",
      "1040       False       NAV01-004       2        S    ≤0.5        S       1   \n",
      "1041       False       NAV01-005       4        S       4        I      16   \n",
      "1042       False       PVA01-003       4        S       1        S       2   \n",
      "1043       False       PVA01-006       4        S    ≤0.5        S       4   \n",
      "1044       False       PVA01-011       2        S    ≤0.5        S       2   \n",
      "\n",
      "     IMI_eval AZT_MIC AZT_eval  ... PA3620 PA4366       PA4400 PA4468 PA4609  \\\n",
      "0           S       4        I  ...    NaN    NaN  A97V, L288V    NaN    NaN   \n",
      "1           S       4        I  ...    NaN    NaN          NaN    NaN    NaN   \n",
      "2           R      16        I  ...  A187S    NaN          NaN    NaN    NaN   \n",
      "3           S       4        I  ...    NaN    NaN          NaN    NaN    NaN   \n",
      "4           S      32        R  ...    NaN    NaN          NaN    NaN    NaN   \n",
      "...       ...     ...      ...  ...    ...    ...          ...    ...    ...   \n",
      "1040        S       4        S  ...    NaN    NaN          NaN    NaN    NaN   \n",
      "1041        R      ≤2        S  ...    NaN    NaN          NaN    NaN    NaN   \n",
      "1042        S       8        S  ...    NaN    NaN          NaN    NaN    NaN   \n",
      "1043        S      ≤2        S  ...    NaN    NaN          NaN    NaN    NaN   \n",
      "1044        S       4        S  ...    NaN    NaN          NaN    NaN    NaN   \n",
      "\n",
      "     PA4946 PA5147 PA5344                      PA5443 PA5493  \n",
      "0       NaN  A354T    NaN  K344R, A641S, S662N, N666S    NaN  \n",
      "1       NaN    NaN    NaN                         NaN    NaN  \n",
      "2       NaN  D269N    NaN                S662N, N666S  D876E  \n",
      "3       NaN    NaN    NaN                         NaN    NaN  \n",
      "4       NaN    NaN    NaN                         NaN    NaN  \n",
      "...     ...    ...    ...                         ...    ...  \n",
      "1040    NaN    NaN    NaN                         NaN    NaN  \n",
      "1041    NaN    NaN    NaN                         NaN    NaN  \n",
      "1042    NaN    NaN    NaN                         NaN    NaN  \n",
      "1043    NaN    NaN    NaN                         NaN    NaN  \n",
      "1044    NaN    NaN    NaN                         NaN    NaN  \n",
      "\n",
      "[1045 rows x 79 columns]\n"
     ]
    }
   ],
   "source": [
    "# %% [markdown]\n",
    "# ## 3. Cargar y preprocesar los datos\n",
    "# Leer el archivo de entrenamiento (1200 cepas)\n",
    "train_df = pd.read_csv('input/training_data.csv', sep=\";\").reset_index(drop=True)\n",
    "print(\"Dimensiones del DataFrame original:\", train_df.shape)\n",
    "\n",
    "# Definir nombres de columnas:\n",
    "# [\"strain_id\", \"FEP_MIC\", \"FEP_eval\", \"MER_MIC\", \"MER_eval\", \"IMI_MIC\", \"IMI_eval\",\n",
    "#  \"AZT_MIC\", \"AZT_eval\", \"CIP_MIC\", \"CIP_eval\", gene1, gene2, ..., gene71]\n",
    "id_col = \"strain_id\"\n",
    "\n",
    "# Evaluaciones clínicas de los antibióticos\n",
    "eval_cols = [\"FEP_eval\", \"MER_eval\", \"IMI_eval\", \"AZT_eval\", \"CIP_eval\"]\n",
    "\n",
    "# Columnas con genes de resistencia\n",
    "gene_cols = train_df.loc[:, \"PA0004\":\"PA5493\"]\n",
    "\n",
    "# Preprocesamiento de los genes: codificación multi-hot por gen\n",
    "# La idea es, para cada gen, construir un vocabulario de mutaciones (observadas en el set de entrenamiento)\n",
    "# y, para cada celda, crear un vector binario indicando la presencia de cada mutación.\n",
    "def build_gene_vocab(df, gene_columns):\n",
    "    vocab = {}\n",
    "    for col in gene_columns:\n",
    "        mutations = set()\n",
    "        for val in df[col]:\n",
    "            if pd.isna(val) or str(val).strip() == \"-\" or str(val).strip() == \"\":\n",
    "                continue\n",
    "            # Dividir las mutaciones por coma\n",
    "            for mut in val.split(\",\"):\n",
    "                mut = mut.strip()\n",
    "                if mut:\n",
    "                    mutations.add(mut)\n",
    "        # Ordenamos el vocabulario para tener un orden fijo\n",
    "        vocab[col] = sorted(list(mutations))\n",
    "    return vocab\n",
    "\n",
    "gene_vocab = build_gene_vocab(train_df, gene_cols)\n",
    "\n",
    "print('Archivo de lectura: train_df:')\n",
    "print(train_df)\n",
    "\n",
    "# print('Columnas con genes de resistencia: gene_cols:')\n",
    "# print(gene_cols)\n",
    "\n",
    "# print('Vocabulario de mutaciones: gene_vocab')\n",
    "# print(gene_vocab)"
   ]
  },
  {
   "cell_type": "code",
   "execution_count": 31,
   "id": "ffc27c21-df81-4cb3-9de2-588a283ee5b8",
   "metadata": {},
   "outputs": [
    {
     "name": "stdout",
     "output_type": "stream",
     "text": [
      "Número de índices únicos en train_df: 1045\n",
      "Dimensiones de X_train_genes: (1175, 2305)\n",
      "Dimensiones de X_test_input: (44, 2261)\n"
     ]
    }
   ],
   "source": [
    "# Función para codificar una fila: para cada gen, si la celda está vacía se retorna un vector de ceros,\n",
    "# si tiene mutaciones, se asigna 1 en las posiciones correspondientes al vocabulario.\n",
    "def encode_gene_row(row, gene_columns, vocab):\n",
    "    features = []\n",
    "    for col in gene_columns:\n",
    "        gene_voc = vocab[col]\n",
    "        vec = np.zeros(len(gene_voc), dtype=int)\n",
    "        cell = row[col]\n",
    "        if pd.isna(cell) or str(cell).strip() == \"-\" or str(cell).strip() == \"\":\n",
    "            # Wild type: vector de ceros\n",
    "            pass\n",
    "        else:\n",
    "            mutations = [m.strip() for m in cell.split(\",\") if m.strip() != \"\"]\n",
    "            for mut in mutations:\n",
    "                if mut in gene_voc:\n",
    "                    idx = gene_voc.index(mut)\n",
    "                    vec[idx] = 1\n",
    "        # Agregar el vector para este gen a la lista de características\n",
    "        features.extend(vec.tolist())\n",
    "    return features\n",
    "\n",
    "print(\"Número de índices únicos en train_df:\", train_df.index.nunique())\n",
    "\n",
    "# Aplicar la codificación a cada fila para los genes en el set de entrenamiento\n",
    "X_train_genes = train_df.apply(lambda row: encode_gene_row(row, gene_cols, gene_vocab), axis=1)\n",
    "X_train_genes = np.array(X_train.tolist())\n",
    "print(\"Dimensiones de X_train_genes:\", X_train_genes.shape)\n",
    "\n",
    "# Preparar las etiquetas para caracterizar clínicamente los valores MIC:\n",
    "# Cada evaluación es una cadena con una de 3 categorías: \"sensitive\", \"resistant\" o \"indeterminate\".\n",
    "y_antibiotics = {}\n",
    "antibiotic_encoders = {}\n",
    "\n",
    "for col in eval_cols:\n",
    "    le = LabelEncoder()\n",
    "    y_enc = le.fit_transform(train_df[col].astype(str).str.lower())\n",
    "    antibiotic_encoders[col] = le\n",
    "    # Convertimos a formato one-hot (aunque en clasificación binaria se puede usar una sola neurona con sigmoide)\n",
    "    # One-hot encoding para 3 clases *********************************REVISAR**********************************¿como se codifican las 3 clases?\n",
    "    y_antibiotics[col] = to_categorical(y_enc)\n",
    "\n",
    "\n",
    "# Creamos el diccionario de salidas para el modelo multi-salida (5 salidas, una por antibiótico)\n",
    "y_train = {\n",
    "    'FEP': y_antibiotics[\"FEP_eval\"],\n",
    "    'MER': y_antibiotics[\"MER_eval\"],\n",
    "    'IMI': y_antibiotics[\"IMI_eval\"],\n",
    "    'AZT': y_antibiotics[\"AZT_eval\"],\n",
    "    'CIP': y_antibiotics[\"CIP_eval\"]\n",
    "}\n",
    "\n",
    "\n",
    "# La entrada del modelo será únicamente la información codificada de los genes.\n",
    "X_train_input = X_train_genes\n",
    "print(\"Dimensiones de X_train_input:\", X_train_input.shape)\n",
    "\n",
    "# Cargar datos de test (200 cepas)\n",
    "test_df = pd.read_csv('input/test_data.csv',sep=\";\")\n",
    "# Se asume que test_data.csv tiene: \"strain_id\" y luego las 71 columnas de genes con los mismos nombres.\n",
    "test_gene_cols = test_df.columns[1:]\n",
    "X_test_genes = test_df.apply(lambda row: encode_gene_row(row, test_gene_cols, gene_vocab), axis=1)\n",
    "X_test_input = np.array(X_test_genes.tolist())\n",
    "print(\"Dimensiones de X_test_input:\", X_test_input.shape)"
   ]
  },
  {
   "cell_type": "code",
   "execution_count": 23,
   "id": "e5f15e6e-2f02-43d6-b722-f89a000a60c0",
   "metadata": {},
   "outputs": [
    {
     "name": "stdout",
     "output_type": "stream",
     "text": [
      "Matrices CrossLayer creadas\n"
     ]
    }
   ],
   "source": [
    "# ## 4. Definir una capa Cross para capturar interacciones entre mutaciones\n",
    "class CrossLayer(tf.keras.layers.Layer):\n",
    "    def __init__(self, num_layers=1, **kwargs):\n",
    "        super(CrossLayer, self).__init__(**kwargs)\n",
    "        self.num_layers = num_layers\n",
    "\n",
    "    def build(self, input_shape):\n",
    "        self.cross_weights = []\n",
    "        self.cross_biases = []\n",
    "        d = int(input_shape[-1])\n",
    "        for i in range(self.num_layers):\n",
    "            self.cross_weights.append(\n",
    "                self.add_weight(name=f'cross_w_{i}',\n",
    "                                shape=(d, 1),\n",
    "                                initializer='glorot_uniform',\n",
    "                                trainable=True)\n",
    "            )\n",
    "            self.cross_biases.append(\n",
    "                self.add_weight(name=f'cross_b_{i}',\n",
    "                                shape=(d,),\n",
    "                                initializer='zeros',\n",
    "                                trainable=True)\n",
    "            )\n",
    "        super(CrossLayer, self).build(input_shape)\n",
    "\n",
    "    def call(self, inputs):\n",
    "        x0 = inputs\n",
    "        x = inputs\n",
    "        for i in range(self.num_layers):\n",
    "            dot = tf.matmul(x, self.cross_weights[i])  # (batch_size, 1)\n",
    "            x = x0 * dot + self.cross_biases[i] + x\n",
    "        return x\n",
    "\n",
    "    print(\"Matrices CrossLayer creadas\")"
   ]
  },
  {
   "cell_type": "code",
   "execution_count": 25,
   "id": "a58a6b1d-1351-4c3b-9dc7-c1d8f141184c",
   "metadata": {},
   "outputs": [
    {
     "name": "stdout",
     "output_type": "stream",
     "text": [
      "Salidas creadas\n",
      "Calculada matriz dense para FEP\n",
      "2025-02-04 14:03:34.271335\n",
      "Calculada matriz dense para FEP\n",
      "2025-02-04 14:03:34.276603\n",
      "Calculada matriz dense para FEP\n",
      "2025-02-04 14:03:34.281790\n",
      "Calculada matriz dense para FEP\n",
      "2025-02-04 14:03:34.286962\n",
      "Calculada matriz dense para FEP\n",
      "2025-02-04 14:03:34.292266\n",
      "Ejecutando modelo\n"
     ]
    },
    {
     "data": {
      "text/html": [
       "<pre style=\"white-space:pre;overflow-x:auto;line-height:normal;font-family:Menlo,'DejaVu Sans Mono',consolas,'Courier New',monospace\"><span style=\"font-weight: bold\">Model: \"functional_5\"</span>\n",
       "</pre>\n"
      ],
      "text/plain": [
       "\u001b[1mModel: \"functional_5\"\u001b[0m\n"
      ]
     },
     "metadata": {},
     "output_type": "display_data"
    },
    {
     "data": {
      "text/html": [
       "<pre style=\"white-space:pre;overflow-x:auto;line-height:normal;font-family:Menlo,'DejaVu Sans Mono',consolas,'Courier New',monospace\">┏━━━━━━━━━━━━━━━━━━━━━┳━━━━━━━━━━━━━━━━━━━┳━━━━━━━━━━━━┳━━━━━━━━━━━━━━━━━━━┓\n",
       "┃<span style=\"font-weight: bold\"> Layer (type)        </span>┃<span style=\"font-weight: bold\"> Output Shape      </span>┃<span style=\"font-weight: bold\">    Param # </span>┃<span style=\"font-weight: bold\"> Connected to      </span>┃\n",
       "┡━━━━━━━━━━━━━━━━━━━━━╇━━━━━━━━━━━━━━━━━━━╇━━━━━━━━━━━━╇━━━━━━━━━━━━━━━━━━━┩\n",
       "│ input (<span style=\"color: #0087ff; text-decoration-color: #0087ff\">InputLayer</span>)  │ (<span style=\"color: #00d7ff; text-decoration-color: #00d7ff\">None</span>, <span style=\"color: #00af00; text-decoration-color: #00af00\">2305</span>)      │          <span style=\"color: #00af00; text-decoration-color: #00af00\">0</span> │ -                 │\n",
       "├─────────────────────┼───────────────────┼────────────┼───────────────────┤\n",
       "│ dense_14 (<span style=\"color: #0087ff; text-decoration-color: #0087ff\">Dense</span>)    │ (<span style=\"color: #00d7ff; text-decoration-color: #00d7ff\">None</span>, <span style=\"color: #00af00; text-decoration-color: #00af00\">256</span>)       │    <span style=\"color: #00af00; text-decoration-color: #00af00\">590,336</span> │ input[<span style=\"color: #00af00; text-decoration-color: #00af00\">0</span>][<span style=\"color: #00af00; text-decoration-color: #00af00\">0</span>]       │\n",
       "├─────────────────────┼───────────────────┼────────────┼───────────────────┤\n",
       "│ dropout_8 (<span style=\"color: #0087ff; text-decoration-color: #0087ff\">Dropout</span>) │ (<span style=\"color: #00d7ff; text-decoration-color: #00d7ff\">None</span>, <span style=\"color: #00af00; text-decoration-color: #00af00\">256</span>)       │          <span style=\"color: #00af00; text-decoration-color: #00af00\">0</span> │ dense_14[<span style=\"color: #00af00; text-decoration-color: #00af00\">0</span>][<span style=\"color: #00af00; text-decoration-color: #00af00\">0</span>]    │\n",
       "├─────────────────────┼───────────────────┼────────────┼───────────────────┤\n",
       "│ dense_15 (<span style=\"color: #0087ff; text-decoration-color: #0087ff\">Dense</span>)    │ (<span style=\"color: #00d7ff; text-decoration-color: #00d7ff\">None</span>, <span style=\"color: #00af00; text-decoration-color: #00af00\">128</span>)       │     <span style=\"color: #00af00; text-decoration-color: #00af00\">32,896</span> │ dropout_8[<span style=\"color: #00af00; text-decoration-color: #00af00\">0</span>][<span style=\"color: #00af00; text-decoration-color: #00af00\">0</span>]   │\n",
       "├─────────────────────┼───────────────────┼────────────┼───────────────────┤\n",
       "│ dropout_9 (<span style=\"color: #0087ff; text-decoration-color: #0087ff\">Dropout</span>) │ (<span style=\"color: #00d7ff; text-decoration-color: #00d7ff\">None</span>, <span style=\"color: #00af00; text-decoration-color: #00af00\">128</span>)       │          <span style=\"color: #00af00; text-decoration-color: #00af00\">0</span> │ dense_15[<span style=\"color: #00af00; text-decoration-color: #00af00\">0</span>][<span style=\"color: #00af00; text-decoration-color: #00af00\">0</span>]    │\n",
       "├─────────────────────┼───────────────────┼────────────┼───────────────────┤\n",
       "│ cross_layer_4       │ (<span style=\"color: #00d7ff; text-decoration-color: #00d7ff\">None</span>, <span style=\"color: #00af00; text-decoration-color: #00af00\">128</span>)       │        <span style=\"color: #00af00; text-decoration-color: #00af00\">256</span> │ dropout_9[<span style=\"color: #00af00; text-decoration-color: #00af00\">0</span>][<span style=\"color: #00af00; text-decoration-color: #00af00\">0</span>]   │\n",
       "│ (<span style=\"color: #0087ff; text-decoration-color: #0087ff\">CrossLayer</span>)        │                   │            │                   │\n",
       "├─────────────────────┼───────────────────┼────────────┼───────────────────┤\n",
       "│ dense_16 (<span style=\"color: #0087ff; text-decoration-color: #0087ff\">Dense</span>)    │ (<span style=\"color: #00d7ff; text-decoration-color: #00d7ff\">None</span>, <span style=\"color: #00af00; text-decoration-color: #00af00\">64</span>)        │      <span style=\"color: #00af00; text-decoration-color: #00af00\">8,256</span> │ cross_layer_4[<span style=\"color: #00af00; text-decoration-color: #00af00\">0</span>]… │\n",
       "├─────────────────────┼───────────────────┼────────────┼───────────────────┤\n",
       "│ FEP (<span style=\"color: #0087ff; text-decoration-color: #0087ff\">Dense</span>)         │ (<span style=\"color: #00d7ff; text-decoration-color: #00d7ff\">None</span>, <span style=\"color: #00af00; text-decoration-color: #00af00\">3</span>)         │        <span style=\"color: #00af00; text-decoration-color: #00af00\">195</span> │ dense_16[<span style=\"color: #00af00; text-decoration-color: #00af00\">0</span>][<span style=\"color: #00af00; text-decoration-color: #00af00\">0</span>]    │\n",
       "├─────────────────────┼───────────────────┼────────────┼───────────────────┤\n",
       "│ MER (<span style=\"color: #0087ff; text-decoration-color: #0087ff\">Dense</span>)         │ (<span style=\"color: #00d7ff; text-decoration-color: #00d7ff\">None</span>, <span style=\"color: #00af00; text-decoration-color: #00af00\">3</span>)         │        <span style=\"color: #00af00; text-decoration-color: #00af00\">195</span> │ dense_16[<span style=\"color: #00af00; text-decoration-color: #00af00\">0</span>][<span style=\"color: #00af00; text-decoration-color: #00af00\">0</span>]    │\n",
       "├─────────────────────┼───────────────────┼────────────┼───────────────────┤\n",
       "│ IMI (<span style=\"color: #0087ff; text-decoration-color: #0087ff\">Dense</span>)         │ (<span style=\"color: #00d7ff; text-decoration-color: #00d7ff\">None</span>, <span style=\"color: #00af00; text-decoration-color: #00af00\">3</span>)         │        <span style=\"color: #00af00; text-decoration-color: #00af00\">195</span> │ dense_16[<span style=\"color: #00af00; text-decoration-color: #00af00\">0</span>][<span style=\"color: #00af00; text-decoration-color: #00af00\">0</span>]    │\n",
       "├─────────────────────┼───────────────────┼────────────┼───────────────────┤\n",
       "│ AZT (<span style=\"color: #0087ff; text-decoration-color: #0087ff\">Dense</span>)         │ (<span style=\"color: #00d7ff; text-decoration-color: #00d7ff\">None</span>, <span style=\"color: #00af00; text-decoration-color: #00af00\">3</span>)         │        <span style=\"color: #00af00; text-decoration-color: #00af00\">195</span> │ dense_16[<span style=\"color: #00af00; text-decoration-color: #00af00\">0</span>][<span style=\"color: #00af00; text-decoration-color: #00af00\">0</span>]    │\n",
       "├─────────────────────┼───────────────────┼────────────┼───────────────────┤\n",
       "│ CIP (<span style=\"color: #0087ff; text-decoration-color: #0087ff\">Dense</span>)         │ (<span style=\"color: #00d7ff; text-decoration-color: #00d7ff\">None</span>, <span style=\"color: #00af00; text-decoration-color: #00af00\">3</span>)         │        <span style=\"color: #00af00; text-decoration-color: #00af00\">195</span> │ dense_16[<span style=\"color: #00af00; text-decoration-color: #00af00\">0</span>][<span style=\"color: #00af00; text-decoration-color: #00af00\">0</span>]    │\n",
       "└─────────────────────┴───────────────────┴────────────┴───────────────────┘\n",
       "</pre>\n"
      ],
      "text/plain": [
       "┏━━━━━━━━━━━━━━━━━━━━━┳━━━━━━━━━━━━━━━━━━━┳━━━━━━━━━━━━┳━━━━━━━━━━━━━━━━━━━┓\n",
       "┃\u001b[1m \u001b[0m\u001b[1mLayer (type)       \u001b[0m\u001b[1m \u001b[0m┃\u001b[1m \u001b[0m\u001b[1mOutput Shape     \u001b[0m\u001b[1m \u001b[0m┃\u001b[1m \u001b[0m\u001b[1m   Param #\u001b[0m\u001b[1m \u001b[0m┃\u001b[1m \u001b[0m\u001b[1mConnected to     \u001b[0m\u001b[1m \u001b[0m┃\n",
       "┡━━━━━━━━━━━━━━━━━━━━━╇━━━━━━━━━━━━━━━━━━━╇━━━━━━━━━━━━╇━━━━━━━━━━━━━━━━━━━┩\n",
       "│ input (\u001b[38;5;33mInputLayer\u001b[0m)  │ (\u001b[38;5;45mNone\u001b[0m, \u001b[38;5;34m2305\u001b[0m)      │          \u001b[38;5;34m0\u001b[0m │ -                 │\n",
       "├─────────────────────┼───────────────────┼────────────┼───────────────────┤\n",
       "│ dense_14 (\u001b[38;5;33mDense\u001b[0m)    │ (\u001b[38;5;45mNone\u001b[0m, \u001b[38;5;34m256\u001b[0m)       │    \u001b[38;5;34m590,336\u001b[0m │ input[\u001b[38;5;34m0\u001b[0m][\u001b[38;5;34m0\u001b[0m]       │\n",
       "├─────────────────────┼───────────────────┼────────────┼───────────────────┤\n",
       "│ dropout_8 (\u001b[38;5;33mDropout\u001b[0m) │ (\u001b[38;5;45mNone\u001b[0m, \u001b[38;5;34m256\u001b[0m)       │          \u001b[38;5;34m0\u001b[0m │ dense_14[\u001b[38;5;34m0\u001b[0m][\u001b[38;5;34m0\u001b[0m]    │\n",
       "├─────────────────────┼───────────────────┼────────────┼───────────────────┤\n",
       "│ dense_15 (\u001b[38;5;33mDense\u001b[0m)    │ (\u001b[38;5;45mNone\u001b[0m, \u001b[38;5;34m128\u001b[0m)       │     \u001b[38;5;34m32,896\u001b[0m │ dropout_8[\u001b[38;5;34m0\u001b[0m][\u001b[38;5;34m0\u001b[0m]   │\n",
       "├─────────────────────┼───────────────────┼────────────┼───────────────────┤\n",
       "│ dropout_9 (\u001b[38;5;33mDropout\u001b[0m) │ (\u001b[38;5;45mNone\u001b[0m, \u001b[38;5;34m128\u001b[0m)       │          \u001b[38;5;34m0\u001b[0m │ dense_15[\u001b[38;5;34m0\u001b[0m][\u001b[38;5;34m0\u001b[0m]    │\n",
       "├─────────────────────┼───────────────────┼────────────┼───────────────────┤\n",
       "│ cross_layer_4       │ (\u001b[38;5;45mNone\u001b[0m, \u001b[38;5;34m128\u001b[0m)       │        \u001b[38;5;34m256\u001b[0m │ dropout_9[\u001b[38;5;34m0\u001b[0m][\u001b[38;5;34m0\u001b[0m]   │\n",
       "│ (\u001b[38;5;33mCrossLayer\u001b[0m)        │                   │            │                   │\n",
       "├─────────────────────┼───────────────────┼────────────┼───────────────────┤\n",
       "│ dense_16 (\u001b[38;5;33mDense\u001b[0m)    │ (\u001b[38;5;45mNone\u001b[0m, \u001b[38;5;34m64\u001b[0m)        │      \u001b[38;5;34m8,256\u001b[0m │ cross_layer_4[\u001b[38;5;34m0\u001b[0m]… │\n",
       "├─────────────────────┼───────────────────┼────────────┼───────────────────┤\n",
       "│ FEP (\u001b[38;5;33mDense\u001b[0m)         │ (\u001b[38;5;45mNone\u001b[0m, \u001b[38;5;34m3\u001b[0m)         │        \u001b[38;5;34m195\u001b[0m │ dense_16[\u001b[38;5;34m0\u001b[0m][\u001b[38;5;34m0\u001b[0m]    │\n",
       "├─────────────────────┼───────────────────┼────────────┼───────────────────┤\n",
       "│ MER (\u001b[38;5;33mDense\u001b[0m)         │ (\u001b[38;5;45mNone\u001b[0m, \u001b[38;5;34m3\u001b[0m)         │        \u001b[38;5;34m195\u001b[0m │ dense_16[\u001b[38;5;34m0\u001b[0m][\u001b[38;5;34m0\u001b[0m]    │\n",
       "├─────────────────────┼───────────────────┼────────────┼───────────────────┤\n",
       "│ IMI (\u001b[38;5;33mDense\u001b[0m)         │ (\u001b[38;5;45mNone\u001b[0m, \u001b[38;5;34m3\u001b[0m)         │        \u001b[38;5;34m195\u001b[0m │ dense_16[\u001b[38;5;34m0\u001b[0m][\u001b[38;5;34m0\u001b[0m]    │\n",
       "├─────────────────────┼───────────────────┼────────────┼───────────────────┤\n",
       "│ AZT (\u001b[38;5;33mDense\u001b[0m)         │ (\u001b[38;5;45mNone\u001b[0m, \u001b[38;5;34m3\u001b[0m)         │        \u001b[38;5;34m195\u001b[0m │ dense_16[\u001b[38;5;34m0\u001b[0m][\u001b[38;5;34m0\u001b[0m]    │\n",
       "├─────────────────────┼───────────────────┼────────────┼───────────────────┤\n",
       "│ CIP (\u001b[38;5;33mDense\u001b[0m)         │ (\u001b[38;5;45mNone\u001b[0m, \u001b[38;5;34m3\u001b[0m)         │        \u001b[38;5;34m195\u001b[0m │ dense_16[\u001b[38;5;34m0\u001b[0m][\u001b[38;5;34m0\u001b[0m]    │\n",
       "└─────────────────────┴───────────────────┴────────────┴───────────────────┘\n"
      ]
     },
     "metadata": {},
     "output_type": "display_data"
    },
    {
     "data": {
      "text/html": [
       "<pre style=\"white-space:pre;overflow-x:auto;line-height:normal;font-family:Menlo,'DejaVu Sans Mono',consolas,'Courier New',monospace\"><span style=\"font-weight: bold\"> Total params: </span><span style=\"color: #00af00; text-decoration-color: #00af00\">632,719</span> (2.41 MB)\n",
       "</pre>\n"
      ],
      "text/plain": [
       "\u001b[1m Total params: \u001b[0m\u001b[38;5;34m632,719\u001b[0m (2.41 MB)\n"
      ]
     },
     "metadata": {},
     "output_type": "display_data"
    },
    {
     "data": {
      "text/html": [
       "<pre style=\"white-space:pre;overflow-x:auto;line-height:normal;font-family:Menlo,'DejaVu Sans Mono',consolas,'Courier New',monospace\"><span style=\"font-weight: bold\"> Trainable params: </span><span style=\"color: #00af00; text-decoration-color: #00af00\">632,719</span> (2.41 MB)\n",
       "</pre>\n"
      ],
      "text/plain": [
       "\u001b[1m Trainable params: \u001b[0m\u001b[38;5;34m632,719\u001b[0m (2.41 MB)\n"
      ]
     },
     "metadata": {},
     "output_type": "display_data"
    },
    {
     "data": {
      "text/html": [
       "<pre style=\"white-space:pre;overflow-x:auto;line-height:normal;font-family:Menlo,'DejaVu Sans Mono',consolas,'Courier New',monospace\"><span style=\"font-weight: bold\"> Non-trainable params: </span><span style=\"color: #00af00; text-decoration-color: #00af00\">0</span> (0.00 B)\n",
       "</pre>\n"
      ],
      "text/plain": [
       "\u001b[1m Non-trainable params: \u001b[0m\u001b[38;5;34m0\u001b[0m (0.00 B)\n"
      ]
     },
     "metadata": {},
     "output_type": "display_data"
    },
    {
     "name": "stdout",
     "output_type": "stream",
     "text": [
      "Calculados parametros para modelo\n",
      "2025-02-04 14:03:34.340900\n",
      "FEP_eval -> ['s' 'r' 'i']\n",
      "MER_eval -> ['s' 'r' 'i']\n",
      "IMI_eval -> ['s' 'r' 'i']\n",
      "AZT_eval -> ['i' 'r' 's']\n",
      "CIP_eval -> ['r' 's' 'i']\n"
     ]
    }
   ],
   "source": [
    "# ## 5. Definir el modelo de redes neuronales multi-salida\n",
    "#\n",
    "# Se construirán 5 salidas, una para cada antibiótico, cada una con 3 neuronas (softmax).\n",
    "input_layer = Input(shape=(X_train_input.shape[1],), name='input')\n",
    "x = Dense(256, activation='relu')(input_layer)\n",
    "x = Dropout(0.3)(x)\n",
    "x = Dense(128, activation='relu')(x)\n",
    "x = Dropout(0.3)(x)\n",
    "# Capa Cross para modelar interacciones entre las mutaciones\n",
    "x = CrossLayer(num_layers=1)(x)\n",
    "x = Dense(64, activation='relu')(x)\n",
    "\n",
    "print(\"Salidas creadas\")\n",
    "\n",
    "# Salidas para cada antibiótico: FEP, MER, IMI, AZT, CIP\n",
    "out_FEP = Dense(3, activation='softmax', name='FEP')(x)\n",
    "print(\"Calculada matriz dense para FEP\")\n",
    "print(pd.Timestamp.now())\n",
    "\n",
    "out_MER = Dense(3, activation='softmax', name='MER')(x)\n",
    "print(\"Calculada matriz dense para FEP\")\n",
    "print(pd.Timestamp.now())\n",
    "\n",
    "out_IMI = Dense(3, activation='softmax', name='IMI')(x)\n",
    "print(\"Calculada matriz dense para FEP\")\n",
    "print(pd.Timestamp.now())\n",
    "\n",
    "out_AZT = Dense(3, activation='softmax', name='AZT')(x)\n",
    "print(\"Calculada matriz dense para FEP\")\n",
    "print(pd.Timestamp.now())\n",
    "\n",
    "out_CIP = Dense(3, activation='softmax', name='CIP')(x)\n",
    "print(\"Calculada matriz dense para FEP\")\n",
    "print(pd.Timestamp.now())\n",
    "\n",
    "print(\"Ejecutando modelo\")\n",
    "\n",
    "model = tf.keras.models.Model(inputs=input_layer, outputs=[out_FEP, out_MER, out_IMI, out_AZT, out_CIP])\n",
    "model.compile(optimizer='adam',\n",
    "              loss={'FEP': 'categorical_crossentropy',\n",
    "                    'MER': 'categorical_crossentropy',\n",
    "                    'IMI': 'categorical_crossentropy',\n",
    "                    'AZT': 'categorical_crossentropy',\n",
    "                    'CIP': 'categorical_crossentropy'},\n",
    "              metrics={'FEP': 'accuracy',\n",
    "                       'MER': 'accuracy',\n",
    "                       'IMI': 'accuracy',\n",
    "                       'AZT': 'accuracy',\n",
    "                       'CIP': 'accuracy'})\n",
    "\n",
    "model.summary()\n",
    "print(\"Calculados parametros para modelo\")\n",
    "print(pd.Timestamp.now())\n",
    "\n",
    "for col in eval_cols:\n",
    "    unique_vals = train_df[col].astype(str).str.lower().unique()\n",
    "    print(f\"{col} -> {unique_vals}\")"
   ]
  },
  {
   "cell_type": "code",
   "execution_count": 27,
   "id": "bd2628a3-6d88-4fca-be42-c3ffd8b7d4e6",
   "metadata": {},
   "outputs": [
    {
     "name": "stdout",
     "output_type": "stream",
     "text": [
      "Dimensiones del DataFrame original: (1045, 79)\n",
      "Dimensiones de X_train_input: (1175, 2305)\n",
      "Dimensiones de y_train[FEP]: (1045, 3)\n",
      "Dimensiones de y_train[MER]: (1045, 3)\n",
      "Dimensiones de y_train[IMI]: (1045, 3)\n",
      "Dimensiones de y_train[AZT]: (1045, 3)\n",
      "Dimensiones de y_train[CIP]: (1045, 3)\n",
      "Epoch 1/50\n",
      "\u001b[1m28/30\u001b[0m \u001b[32m━━━━━━━━━━━━━━━━━━\u001b[0m\u001b[37m━━\u001b[0m \u001b[1m0s\u001b[0m 10ms/step - AZT_accuracy: 0.6486 - AZT_loss: 0.9011 - CIP_accuracy: 0.7355 - CIP_loss: 0.5516 - FEP_accuracy: 0.7672 - FEP_loss: 0.6571 - IMI_accuracy: 0.5903 - IMI_loss: 0.8843 - MER_accuracy: 0.5749 - MER_loss: 0.8587 - loss: 3.8528"
     ]
    },
    {
     "ename": "ValueError",
     "evalue": "Data cardinality is ambiguous. Make sure all arrays contain the same number of samples.'x' sizes: 235\n'y' sizes: 105, 105, 105, 105, 105\n",
     "output_type": "error",
     "traceback": [
      "\u001b[0;31m---------------------------------------------------------------------------\u001b[0m",
      "\u001b[0;31mValueError\u001b[0m                                Traceback (most recent call last)",
      "Cell \u001b[0;32mIn[27], line 7\u001b[0m\n\u001b[1;32m      4\u001b[0m \u001b[38;5;28;01mfor\u001b[39;00m key \u001b[38;5;129;01min\u001b[39;00m y_train:\n\u001b[1;32m      5\u001b[0m     \u001b[38;5;28mprint\u001b[39m(\u001b[38;5;124mf\u001b[39m\u001b[38;5;124m\"\u001b[39m\u001b[38;5;124mDimensiones de y_train[\u001b[39m\u001b[38;5;132;01m{\u001b[39;00mkey\u001b[38;5;132;01m}\u001b[39;00m\u001b[38;5;124m]:\u001b[39m\u001b[38;5;124m\"\u001b[39m, y_train[key]\u001b[38;5;241m.\u001b[39mshape)\n\u001b[0;32m----> 7\u001b[0m history \u001b[38;5;241m=\u001b[39m \u001b[43mmodel\u001b[49m\u001b[38;5;241;43m.\u001b[39;49m\u001b[43mfit\u001b[49m\u001b[43m(\u001b[49m\u001b[43mX_train_input\u001b[49m\u001b[43m,\u001b[49m\u001b[43m \u001b[49m\u001b[43my_train\u001b[49m\u001b[43m,\u001b[49m\n\u001b[1;32m      8\u001b[0m \u001b[43m                    \u001b[49m\u001b[43mepochs\u001b[49m\u001b[38;5;241;43m=\u001b[39;49m\u001b[38;5;241;43m50\u001b[39;49m\u001b[43m,\u001b[49m\u001b[43m \u001b[49m\u001b[43mbatch_size\u001b[49m\u001b[38;5;241;43m=\u001b[39;49m\u001b[38;5;241;43m32\u001b[39;49m\u001b[43m,\u001b[49m\u001b[43m \u001b[49m\u001b[43mvalidation_split\u001b[49m\u001b[38;5;241;43m=\u001b[39;49m\u001b[38;5;241;43m0.2\u001b[39;49m\u001b[43m)\u001b[49m\n\u001b[1;32m     10\u001b[0m \u001b[38;5;28mprint\u001b[39m(\u001b[38;5;124m\"\u001b[39m\u001b[38;5;124mModelo entrenado\u001b[39m\u001b[38;5;124m\"\u001b[39m)\n",
      "File \u001b[0;32m~/.local/share/virtualenvs/AMR_prediction_IA-6UzMmna5/lib/python3.10/site-packages/keras/src/utils/traceback_utils.py:122\u001b[0m, in \u001b[0;36mfilter_traceback.<locals>.error_handler\u001b[0;34m(*args, **kwargs)\u001b[0m\n\u001b[1;32m    119\u001b[0m     filtered_tb \u001b[38;5;241m=\u001b[39m _process_traceback_frames(e\u001b[38;5;241m.\u001b[39m__traceback__)\n\u001b[1;32m    120\u001b[0m     \u001b[38;5;66;03m# To get the full stack trace, call:\u001b[39;00m\n\u001b[1;32m    121\u001b[0m     \u001b[38;5;66;03m# `keras.config.disable_traceback_filtering()`\u001b[39;00m\n\u001b[0;32m--> 122\u001b[0m     \u001b[38;5;28;01mraise\u001b[39;00m e\u001b[38;5;241m.\u001b[39mwith_traceback(filtered_tb) \u001b[38;5;28;01mfrom\u001b[39;00m\u001b[38;5;250m \u001b[39m\u001b[38;5;28;01mNone\u001b[39;00m\n\u001b[1;32m    123\u001b[0m \u001b[38;5;28;01mfinally\u001b[39;00m:\n\u001b[1;32m    124\u001b[0m     \u001b[38;5;28;01mdel\u001b[39;00m filtered_tb\n",
      "File \u001b[0;32m~/.local/share/virtualenvs/AMR_prediction_IA-6UzMmna5/lib/python3.10/site-packages/keras/src/trainers/data_adapters/data_adapter_utils.py:115\u001b[0m, in \u001b[0;36mcheck_data_cardinality\u001b[0;34m(data)\u001b[0m\n\u001b[1;32m    111\u001b[0m     sizes \u001b[38;5;241m=\u001b[39m \u001b[38;5;124m\"\u001b[39m\u001b[38;5;124m, \u001b[39m\u001b[38;5;124m\"\u001b[39m\u001b[38;5;241m.\u001b[39mjoin(\n\u001b[1;32m    112\u001b[0m         \u001b[38;5;28mstr\u001b[39m(i\u001b[38;5;241m.\u001b[39mshape[\u001b[38;5;241m0\u001b[39m]) \u001b[38;5;28;01mfor\u001b[39;00m i \u001b[38;5;129;01min\u001b[39;00m tree\u001b[38;5;241m.\u001b[39mflatten(single_data)\n\u001b[1;32m    113\u001b[0m     )\n\u001b[1;32m    114\u001b[0m     msg \u001b[38;5;241m+\u001b[39m\u001b[38;5;241m=\u001b[39m \u001b[38;5;124mf\u001b[39m\u001b[38;5;124m\"\u001b[39m\u001b[38;5;124m'\u001b[39m\u001b[38;5;132;01m{\u001b[39;00mlabel\u001b[38;5;132;01m}\u001b[39;00m\u001b[38;5;124m'\u001b[39m\u001b[38;5;124m sizes: \u001b[39m\u001b[38;5;132;01m{\u001b[39;00msizes\u001b[38;5;132;01m}\u001b[39;00m\u001b[38;5;130;01m\\n\u001b[39;00m\u001b[38;5;124m\"\u001b[39m\n\u001b[0;32m--> 115\u001b[0m \u001b[38;5;28;01mraise\u001b[39;00m \u001b[38;5;167;01mValueError\u001b[39;00m(msg)\n",
      "\u001b[0;31mValueError\u001b[0m: Data cardinality is ambiguous. Make sure all arrays contain the same number of samples.'x' sizes: 235\n'y' sizes: 105, 105, 105, 105, 105\n"
     ]
    }
   ],
   "source": [
    "# ## 6. Entrenar el modelo\n",
    "print(\"Dimensiones del DataFrame original:\", train_df.shape)\n",
    "print(\"Dimensiones de X_train_input:\", X_train_input.shape)\n",
    "for key in y_train:\n",
    "    print(f\"Dimensiones de y_train[{key}]:\", y_train[key].shape)\n",
    "\n",
    "history = model.fit(X_train_input, y_train,\n",
    "                    epochs=50, batch_size=32, validation_split=0.2)\n",
    "\n",
    "print(\"Modelo entrenado\")"
   ]
  },
  {
   "cell_type": "code",
   "execution_count": null,
   "id": "8241b7b0-47e0-48a7-83d3-7bc348f78771",
   "metadata": {},
   "outputs": [],
   "source": [
    "# ## 7. Predicción en el set de test\n",
    "#\n",
    "# En el set de test se dispone únicamente de la información de mutaciones (no de MIC).\n",
    "predictions = model.predict(X_test_input)\n",
    "\n",
    "# Para cada antibiótico, se toma la clase con mayor probabilidad.\n",
    "pred_FEP = np.argmax(predictions[0], axis=1)\n",
    "pred_MER = np.argmax(predictions[1], axis=1)\n",
    "pred_IMI = np.argmax(predictions[2], axis=1)\n",
    "pred_AZT = np.argmax(predictions[3], axis=1)\n",
    "pred_CIP = np.argmax(predictions[4], axis=1)\n",
    "\n",
    "# Convertir las predicciones a etiquetas legibles usando los encoders definidos para cada evaluación.\n",
    "pred_FEP_labels = antibiotic_encoders[\"FEP_eval\"].inverse_transform(pred_FEP)\n",
    "pred_MER_labels = antibiotic_encoders[\"MER_eval\"].inverse_transform(pred_MER)\n",
    "pred_IMI_labels = antibiotic_encoders[\"IMI_eval\"].inverse_transform(pred_IMI)\n",
    "pred_AZT_labels = antibiotic_encoders[\"AZT_eval\"].inverse_transform(pred_AZT)\n",
    "pred_CIP_labels = antibiotic_encoders[\"CIP_eval\"].inverse_transform(pred_CIP)\n",
    "\n",
    "print(\"Predicción para FEP (primeras 5 cepas):\", pred_FEP_labels[:5])\n",
    "print(\"Predicción para MER (primeras 5 cepas):\", pred_MER_labels[:5])\n",
    "print(\"Predicción para IMI (primeras 5 cepas):\", pred_IMI_labels[:5])\n",
    "print(\"Predicción para AZT (primeras 5 cepas):\", pred_AZT_labels[:5])\n",
    "print(\"Predicción para CIP (primeras 5 cepas):\", pred_CIP_labels[:5])"
   ]
  }
 ],
 "metadata": {
  "kernelspec": {
   "display_name": "Python 3 (ipykernel)",
   "language": "python",
   "name": "python3"
  },
  "language_info": {
   "codemirror_mode": {
    "name": "ipython",
    "version": 3
   },
   "file_extension": ".py",
   "mimetype": "text/x-python",
   "name": "python",
   "nbconvert_exporter": "python",
   "pygments_lexer": "ipython3",
   "version": "3.10.12"
  }
 },
 "nbformat": 4,
 "nbformat_minor": 5
}
