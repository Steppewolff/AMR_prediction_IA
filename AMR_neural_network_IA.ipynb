{
 "cells": [
  {
   "cell_type": "markdown",
   "id": "f9d21d63-cf9e-4fa9-b0b0-61c94505b880",
   "metadata": {},
   "source": [
    "## 1. Importar módulos necesarios"
   ]
  },
  {
   "cell_type": "code",
   "execution_count": 2,
   "id": "fdb03ebc-42ea-4b89-9460-7a4e0fd17c96",
   "metadata": {},
   "outputs": [
    {
     "name": "stderr",
     "output_type": "stream",
     "text": [
      "2025-02-05 09:36:38.905435: I tensorflow/core/util/port.cc:153] oneDNN custom operations are on. You may see slightly different numerical results due to floating-point round-off errors from different computation orders. To turn them off, set the environment variable `TF_ENABLE_ONEDNN_OPTS=0`.\n",
      "2025-02-05 09:36:38.906395: I external/local_xla/xla/tsl/cuda/cudart_stub.cc:32] Could not find cuda drivers on your machine, GPU will not be used.\n",
      "2025-02-05 09:36:38.908854: I external/local_xla/xla/tsl/cuda/cudart_stub.cc:32] Could not find cuda drivers on your machine, GPU will not be used.\n",
      "2025-02-05 09:36:38.916599: E external/local_xla/xla/stream_executor/cuda/cuda_fft.cc:477] Unable to register cuFFT factory: Attempting to register factory for plugin cuFFT when one has already been registered\n",
      "WARNING: All log messages before absl::InitializeLog() is called are written to STDERR\n",
      "E0000 00:00:1738744598.929856  154752 cuda_dnn.cc:8310] Unable to register cuDNN factory: Attempting to register factory for plugin cuDNN when one has already been registered\n",
      "E0000 00:00:1738744598.933802  154752 cuda_blas.cc:1418] Unable to register cuBLAS factory: Attempting to register factory for plugin cuBLAS when one has already been registered\n",
      "2025-02-05 09:36:38.947581: I tensorflow/core/platform/cpu_feature_guard.cc:210] This TensorFlow binary is optimized to use available CPU instructions in performance-critical operations.\n",
      "To enable the following instructions: AVX2 AVX512F AVX512_VNNI FMA, in other operations, rebuild TensorFlow with the appropriate compiler flags.\n"
     ]
    }
   ],
   "source": [
    "# ## 1. Importar módulos necesarios\n",
    "\n",
    "import numpy as np\n",
    "import pandas as pd\n",
    "import os\n",
    "from sklearn.preprocessing import LabelEncoder, StandardScaler\n",
    "from sklearn.model_selection import train_test_split\n",
    "from sklearn.metrics import classification_report\n",
    "import tensorflow as tf\n",
    "from tensorflow.keras.models import Model\n",
    "from tensorflow.keras.layers import Input, Dense, Dropout\n",
    "from tensorflow.keras.utils import to_categorical"
   ]
  },
  {
   "cell_type": "markdown",
   "id": "181e8bde-811f-448b-b93e-128493b54bdf",
   "metadata": {},
   "source": [
    "## 1.1 Comprobar si los paquetes se han cargado correctamente"
   ]
  },
  {
   "cell_type": "code",
   "execution_count": 3,
   "id": "b349020c-2305-4e18-b063-aee52c19e399",
   "metadata": {},
   "outputs": [
    {
     "name": "stdout",
     "output_type": "stream",
     "text": [
      "TensorFlow version: 2.18.0\n",
      "Eager execution: True\n"
     ]
    },
    {
     "name": "stderr",
     "output_type": "stream",
     "text": [
      "W0000 00:00:1738744602.655403  154752 gpu_device.cc:2344] Cannot dlopen some GPU libraries. Please make sure the missing libraries mentioned above are installed properly if you would like to use GPU. Follow the guide at https://www.tensorflow.org/install/gpu for how to download and setup the required libraries for your platform.\n",
      "Skipping registering GPU devices...\n"
     ]
    },
    {
     "data": {
      "text/html": [
       "<pre style=\"white-space:pre;overflow-x:auto;line-height:normal;font-family:Menlo,'DejaVu Sans Mono',consolas,'Courier New',monospace\"><span style=\"font-weight: bold\">Model: \"sequential\"</span>\n",
       "</pre>\n"
      ],
      "text/plain": [
       "\u001b[1mModel: \"sequential\"\u001b[0m\n"
      ]
     },
     "metadata": {},
     "output_type": "display_data"
    },
    {
     "data": {
      "text/html": [
       "<pre style=\"white-space:pre;overflow-x:auto;line-height:normal;font-family:Menlo,'DejaVu Sans Mono',consolas,'Courier New',monospace\">┏━━━━━━━━━━━━━━━━━━━━━━━━━━━━━━━━━┳━━━━━━━━━━━━━━━━━━━━━━━━┳━━━━━━━━━━━━━━━┓\n",
       "┃<span style=\"font-weight: bold\"> Layer (type)                    </span>┃<span style=\"font-weight: bold\"> Output Shape           </span>┃<span style=\"font-weight: bold\">       Param # </span>┃\n",
       "┡━━━━━━━━━━━━━━━━━━━━━━━━━━━━━━━━━╇━━━━━━━━━━━━━━━━━━━━━━━━╇━━━━━━━━━━━━━━━┩\n",
       "│ dense (<span style=\"color: #0087ff; text-decoration-color: #0087ff\">Dense</span>)                   │ (<span style=\"color: #00d7ff; text-decoration-color: #00d7ff\">None</span>, <span style=\"color: #00af00; text-decoration-color: #00af00\">10</span>)             │           <span style=\"color: #00af00; text-decoration-color: #00af00\">210</span> │\n",
       "├─────────────────────────────────┼────────────────────────┼───────────────┤\n",
       "│ dense_1 (<span style=\"color: #0087ff; text-decoration-color: #0087ff\">Dense</span>)                 │ (<span style=\"color: #00d7ff; text-decoration-color: #00d7ff\">None</span>, <span style=\"color: #00af00; text-decoration-color: #00af00\">1</span>)              │            <span style=\"color: #00af00; text-decoration-color: #00af00\">11</span> │\n",
       "└─────────────────────────────────┴────────────────────────┴───────────────┘\n",
       "</pre>\n"
      ],
      "text/plain": [
       "┏━━━━━━━━━━━━━━━━━━━━━━━━━━━━━━━━━┳━━━━━━━━━━━━━━━━━━━━━━━━┳━━━━━━━━━━━━━━━┓\n",
       "┃\u001b[1m \u001b[0m\u001b[1mLayer (type)                   \u001b[0m\u001b[1m \u001b[0m┃\u001b[1m \u001b[0m\u001b[1mOutput Shape          \u001b[0m\u001b[1m \u001b[0m┃\u001b[1m \u001b[0m\u001b[1m      Param #\u001b[0m\u001b[1m \u001b[0m┃\n",
       "┡━━━━━━━━━━━━━━━━━━━━━━━━━━━━━━━━━╇━━━━━━━━━━━━━━━━━━━━━━━━╇━━━━━━━━━━━━━━━┩\n",
       "│ dense (\u001b[38;5;33mDense\u001b[0m)                   │ (\u001b[38;5;45mNone\u001b[0m, \u001b[38;5;34m10\u001b[0m)             │           \u001b[38;5;34m210\u001b[0m │\n",
       "├─────────────────────────────────┼────────────────────────┼───────────────┤\n",
       "│ dense_1 (\u001b[38;5;33mDense\u001b[0m)                 │ (\u001b[38;5;45mNone\u001b[0m, \u001b[38;5;34m1\u001b[0m)              │            \u001b[38;5;34m11\u001b[0m │\n",
       "└─────────────────────────────────┴────────────────────────┴───────────────┘\n"
      ]
     },
     "metadata": {},
     "output_type": "display_data"
    },
    {
     "data": {
      "text/html": [
       "<pre style=\"white-space:pre;overflow-x:auto;line-height:normal;font-family:Menlo,'DejaVu Sans Mono',consolas,'Courier New',monospace\"><span style=\"font-weight: bold\"> Total params: </span><span style=\"color: #00af00; text-decoration-color: #00af00\">221</span> (884.00 B)\n",
       "</pre>\n"
      ],
      "text/plain": [
       "\u001b[1m Total params: \u001b[0m\u001b[38;5;34m221\u001b[0m (884.00 B)\n"
      ]
     },
     "metadata": {},
     "output_type": "display_data"
    },
    {
     "data": {
      "text/html": [
       "<pre style=\"white-space:pre;overflow-x:auto;line-height:normal;font-family:Menlo,'DejaVu Sans Mono',consolas,'Courier New',monospace\"><span style=\"font-weight: bold\"> Trainable params: </span><span style=\"color: #00af00; text-decoration-color: #00af00\">221</span> (884.00 B)\n",
       "</pre>\n"
      ],
      "text/plain": [
       "\u001b[1m Trainable params: \u001b[0m\u001b[38;5;34m221\u001b[0m (884.00 B)\n"
      ]
     },
     "metadata": {},
     "output_type": "display_data"
    },
    {
     "data": {
      "text/html": [
       "<pre style=\"white-space:pre;overflow-x:auto;line-height:normal;font-family:Menlo,'DejaVu Sans Mono',consolas,'Courier New',monospace\"><span style=\"font-weight: bold\"> Non-trainable params: </span><span style=\"color: #00af00; text-decoration-color: #00af00\">0</span> (0.00 B)\n",
       "</pre>\n"
      ],
      "text/plain": [
       "\u001b[1m Non-trainable params: \u001b[0m\u001b[38;5;34m0\u001b[0m (0.00 B)\n"
      ]
     },
     "metadata": {},
     "output_type": "display_data"
    }
   ],
   "source": [
    "# ## 1.1 Comprobar si los paquetes se han cargado correctamente\n",
    "\n",
    "from tensorflow.keras import Input\n",
    "\n",
    "print(\"TensorFlow version:\", tf.__version__)\n",
    "print(\"Eager execution:\", tf.executing_eagerly())\n",
    "\n",
    "# Verificar si Keras funciona\n",
    "from tensorflow.keras.models import Sequential\n",
    "from tensorflow.keras.layers import Dense\n",
    "\n",
    "model = Sequential([\n",
    "    Input(shape=(20,)),  # Define explícitamente la capa de entrada\n",
    "    Dense(10, activation='relu'),\n",
    "    Dense(1, activation='sigmoid')\n",
    "])\n",
    "\n",
    "model.summary()"
   ]
  },
  {
   "cell_type": "markdown",
   "id": "6bdb6ee3-b2e1-4346-b0b4-91dffc6df51f",
   "metadata": {},
   "source": [
    "## 2. Definir la estructura de los archivos de entrada"
   ]
  },
  {
   "cell_type": "markdown",
   "id": "cf97b6c4-88d9-4ab0-bb48-cb0447049254",
   "metadata": {},
   "source": [
    "**training_data.csv**:\n",
    "- Columna 1: strain_id\n",
    "- Columnas 2 a 11: Para cada antibiótico (FEP, MER, IMI, AZT, CIP):\n",
    "      Ejemplo:\n",
    "        FEP_MIC, FEP_eval, MER_MIC, MER_eval, IMI_MIC, IMI_eval, AZT_MIC, AZT_eval, CIP_MIC, CIP_eval\n",
    "  Las evaluaciones tienen 3 categorías: \"sensitive\", \"resistant\" e \"indeterminate\".\n",
    "- Columnas 12 en adelante: Información de mutaciones para 71 genes.\n",
    "   * Si no hay información para un gen: \"-\"\n",
    "   * Si el gen es wild type: NaN\n",
    "   * Si hay mutaciones: cadena con las mutaciones separadas por comas (ej. \"A123T,V456G\")\n",
    "\n",
    "**test_data.csv**:\n",
    "- Columna 1: strain_id\n",
    "- Columnas 2 en adelante: Información de mutaciones para los mismos 71 genes.\n",
    "\n"
   ]
  },
  {
   "cell_type": "markdown",
   "id": "03d9089c-c021-49f8-8cda-2d7755bdda29",
   "metadata": {},
   "source": [
    "## 3. Cargar y preprocesar los datos"
   ]
  },
  {
   "cell_type": "code",
   "execution_count": 4,
   "id": "e88e9a67-74ce-489d-8264-23fe71fe030e",
   "metadata": {},
   "outputs": [
    {
     "name": "stdout",
     "output_type": "stream",
     "text": [
      "Dimensiones del DataFrame original: (1045, 79)\n",
      "Vocabulario de mutaciones: gene_vocab\n",
      "{'PA0004': ['A623T', 'A627V', 'A720V', 'D4N', 'E168D', 'E215D', 'E239Q', 'E468D', 'G481D', 'H148N', 'H148N; aa467Δ2', 'H170Y', 'I529M', 'I529V', 'I769V', 'N5K', 'N5K; E468D', 'P749S', 'P789L', 'R22C', 'S466F', 'S466F; E721K', 'S466Y', 'S578A', 'T235S', 'T595I', 'T640S', 'V146L'], 'PA0005': ['A18S', 'I244L', 'I244T', 'I33F', 'N46S', 'Q45R', 'R62S', 'T55A', 'V10I', 'Y192F'], 'PA0424': ['A103G', 'A103G; V126E; nt373Δ1', 'A103T', 'C30R', 'K44M; V126E', 'L102P', 'L57Q', 'L95F', 'N79S', 'Q106R', 'Q49X', 'Q55P; V126E', 'R114C', 'R63H', 'R70Q', 'R73L; V126E', 'R78X', 'R82H', 'S92N', 'V126E', 'V126E; V132A', 'V126E; nt33Δ13', 'V126E; nt67Δ10', 'V132A', 'V132M', 'V42E', 'aa11∆4', 'aa90∆4', 'nt120Δ1', 'nt161InsC', 'nt215Δ11', 'nt217∆1', 'nt266InsG', 'nt318InsG', 'nt319Δ10', 'nt367Δ15', 'nt373Δ1', 'nt385InsGGGT', 'nt386InsGGGA', 'nt386InsGTGT', 'nt391InsGGGT', 'nt402∆11', 'nt47InsG', 'nt61Δ1', 'nt80InsA'], 'PA0425': ['A111T', 'A117V', 'A280V; D373E', 'A33T', 'C24G', 'D342E', 'D373E', 'D373G', 'D373N', 'E53X', 'I63V', 'K76Q', 'K86E', 'L338Q', 'N269S', 'P376S', 'Q104X', 'Q143P', 'Q281X', 'Q288X', 'Q69X', 'R119C', 'R326Q', 'R57W', 'S258L', 'T256A', 'T256I', 'V229A', 'V278I', 'V286I', 'Y120F', 'nt16Δ4', 'nt359Δ14', 'nt454Δ1', 'nt911Δ1'], 'PA0426': ['A539T', 'A707S', 'A707S I963V', 'A735D', 'E422X', 'E429D', 'E845D', 'G860D', 'G957D', 'G957D; V1042A', 'G957D; nt2806Δ2', 'H525N', 'I186V', 'I745V', 'K196R', 'L672Q', 'L772Q', 'N248K', 'N312S', 'P190L', 'P724L', 'Q259L', 'Q319X', 'R185C; R766W', 'R817P', 'S1041Y', 'S183L', 'S583T', 'T98A', 'V1014I', 'V1042A', 'V770A', 'W753R', 'aa287∆4', 'aa36Δ5', 'aa36∆5', 'nt1135∆1', 'nt1345∆8', 'nt1435∆1', 'nt1543Δ5', 'nt1726∆4', 'nt2936∆1', 'nt3018∆5', 'nt600Δ1', 'nt878InsGG'], 'PA0427': ['A238V', 'A261T', 'A478T', 'A478T; nt1446InsC', 'D448N', 'F352L', 'K196R', 'Q265E', 'R404H', 'S125N', 'T180I', 'T198P', 'T477S', 'V72L', 'nt1451InsC', 'nt426∆1', 'nt501∆5'], 'PA0807': ['A196V', 'A208V', 'A219T', 'A219T; nt409Δ1', 'A237E', 'A37T; A219T', 'A51T', 'D197E', 'D235G', 'D75G', 'E168A', 'E168D', 'G186S', 'H53R', 'I171V', 'I67T', 'I67T; A219T', 'K36E', 'K63E', 'L246P', 'P157A; D197E', 'P55A', 'P55S', 'R180L', 'R182C', 'R66C', 'R66G', 'T179S', 'T39I', 'T40I', 'V19M', 'V19M; A219T', 'V213I', 'Y207X', 'Y234H', 'nt410∆1'], 'PA0869': ['A287S', 'G154R', 'G40S', 'H205N', 'L15F', 'M121I', 'N220K', 'P88S', 'R105Q', 'R98H', 'S167A', 'S194T', 'S250N', 'V201M; A287S', 'V305M', 'V305M; S250N', 'V61A'], 'PA0958': ['A12E', 'A425G', 'D43N', 'F77L', 'F89L', 'G316D', 'I367M', 'K550X', 'L165M; F170V', 'L432P', 'L96I', 'M1S', 'Q142*', 'Q142X', 'Q158X', 'Q166X', 'Q250K', 'Q250X', 'Q340X', 'Q402H', 'Q422X', 'Q66X', 'R140E', 'R154L', 'S57E; S59R; R312G', 'T291P', 'V127L', 'V128L', 'V436G', 'W138*', 'W138X', 'W277*', 'W277X', 'W339X', 'W415X', 'W417X', 'W65X', 'W77X', 'WT', 'Y214X', 'Y225X', 'Y237C', 'Y397X', 'Y436F', 'aa397∆9', 'nt1025InsGGCCC', 'nt1056∆1', 'nt105Δ1', 'nt106InsG', 'nt1072InsC', 'nt1185∆1', 'nt1189InsAG', 'nt1200insC', 'nt1205InsC', 'nt1206InsC', 'nt1216InsGTCCG', 'nt1221∆2', 'nt1286Δ1', 'nt1298∆2', 'nt1301Δ1', 'nt1307insA', 'nt187Δ1', 'nt195InsGACTG', 'nt199Δ1', 'nt200InsC', 'nt209∆10', 'nt251Δ547', 'nt276insTGACCT', 'nt30InsGC', 'nt311InsCG', 'nt334Δ2', 'nt350InsC', 'nt385InsGA', 'nt434Δ1', 'nt438InsC', 'nt463Δ13', 'nt473Δ14', 'nt475insC', 'nt500ins(Pseudomonas phage vB_Pae_BR141c', 'nt55InsGCACT', 'nt55Δ40', 'nt59InsGCACT', 'nt5IS', 'nt619insCCGAATTTCAT', 'nt630Δ1', 'nt635Δ1', 'nt635∆1', 'nt636InsG', 'nt659Δ1', 'nt676IS', 'nt69InsC', 'nt710InsTT', 'nt742∆1', 'nt768IS', 'nt88IS', 'nt991InsAC', 'partial genome)'], 'PA1179': ['A149V', 'A92V; Q124X', 'E144G', 'I50V', 'P31Q', 'R81C', 'S72A', 'V133L'], 'PA1180': ['A15T', 'A391V', 'D90H', 'I40V', 'K59H', 'N104H', 'P337L', 'Q263H', 'Q263L', 'R61H', 'R94S', 'S157T', 'S300R', 'V57M', 'Y377C', 'Y85F'], 'PA1777': ['E149*', 'E253D', 'H279R', 'Q160L', 'Q25X', 'T93A'], 'PA1798': ['A115E', 'A115E; V304I; E343D; H398R; Y407H', 'A149T', 'A149T; H398R', 'A285V; H398R', 'A293V', 'A29V', 'A345T', 'A345T; H398R', 'A395T', 'A82T', 'A82T; H398R', 'A82T; T131P; H398R', 'D249N', 'D249N; H398R', 'D294A', 'D348N', 'D351N', 'E343D', 'E90X', 'G303R', 'H194Q; H398R', 'H398R', 'H398R; nt921Δ4', 'I27L', 'L137P', 'L137P; H398R', 'L137P; H398R; nt109Δ1', 'L137P; H398R; nt997Δ1', 'L137P; L227P; H398R', 'L137P; S228P; H398R', 'L137P; V216A; H398R', 'L141P', 'L246P', 'L346P', 'L50P; H398R', 'L54P', 'L79P; H398R', 'Q349K', 'R165H', 'R243H', 'R243H; V313I; H398R', 'R356L', 'R385H', 'R385H; H398R', 'R421C', 'R7H; H398R', 'R83K', 'S277N; H398R', 'S33R', 'S352I', 'S352I; H398R', 'S386N', 'T131P', 'T131P; D348N; H398R', 'T131P; H398R', 'V146A', 'V152A', 'V152A; H398R', 'V216A', 'V216A; H398R', 'V238L', 'V291L', 'V291L; H398R', 'V295I', 'V304I', 'V313I', 'V327L', 'Y407H', 'Y73C; H398R', 'aa118∆4', 'nt1086∆1', 'nt396InsC'], 'PA1799': ['A129T', 'A23T', 'A41G', 'A44G', 'A44S', 'E214D', 'E214K', 'E87K; L153R; S170N', 'G137D', 'G232D', 'G30D', 'I80L', 'L11F', 'L153R', 'L153R; S170N', 'L153R; S170N; nt618InsA', 'L164Q', 'L58R', 'L90I', 'M160T', 'P126L; L153R; S170N', 'P128S', 'P128S; L153R; S170N', 'R178C', 'R34H', 'S170N', 'T135A', 'T135A: L153R', 'T135A; L153R', 'V55I', 'V55I; I80L', 'aa214∆1', 'nt621Δ4'], 'PA2018': ['A131T', 'A254G', 'A285T', 'A298T', 'A307T', 'A400T', 'A501T', 'A501V', 'A527V', 'A533V', 'A586T', 'A624S', 'A63V', 'A708T', 'A772T', 'A865D', 'D149G', 'D149Y', 'D159G', 'D217V; T543A; Q840E', 'D428N', 'D428N; T543A', 'D428N; T543A; Q840E', 'D502G', 'D628H', 'D724V', 'DELETED', 'E152D', 'E152D; T543A', 'E152D; T543A; Q840E', 'E505G', 'E634D', 'E644*', 'E688D', 'E731G', 'F29S', 'F29S; R515C; T543A', 'F29S; T543A; A772T; Q840E; Q1039R', 'F858Y', 'G1002A', 'G1035D', 'G423C', 'G530S', 'G589A', 'G776S', 'I15V', 'I499L', 'I531T', 'I536V', 'I536V; T543A', 'I536V; T543A; G589A', 'I536V; T543A; G589A; N1036T; Q1039R', 'I536V; T543A; G589A; Q840E', 'I536V; T543A; G589A; Q840E; N1036T', 'I536V; T543A; G589A; Q840E; N1036T; Q1039R', 'I536V; T543A; G589A; Q840E; N1063T', 'I536V; T543A; N1036T; Q1039R', 'I543V', 'I849V', 'K191R', 'K773R', 'K800R', 'L162F', 'L197F; Q282R; A596V; K692M; Q840E; N1036T', 'L239P', 'L697F', 'L984F', 'M347T', 'N1036S', 'N1036T', 'N526K', 'N709H', 'N709S', 'N98S', 'P1032S', 'Q1039R', 'Q282R', 'Q282R; A799V', 'Q282R; T543A', 'Q282R; T543A; V980I', 'Q840E', 'Q843P', 'Q843R', 'Q955R', 'R1024S', 'R1033L', 'R251H', 'R362H', 'R519H', 'R633Q', 'R706H', 'R722S', 'R782K', 'R782Q', 'R786H', 'S144A', 'S48N', 'T1034S', 'T238I', 'T393A', 'T472A', 'T472P', 'T543A', 'T543A; A635P; G652S', 'T543A; G589A; Q840E', 'T543A; M574R', 'T543A; N1036T', 'T543A; N1036T; Q1039R', 'T543A; Q840E', 'T543A; Q840E; G1002A', 'T543A; Q840E; G1035D; N1036T; Q1039R', 'T543A; Q840E; N1036T; Q1039R', 'T543A; Q840E; P1032S', 'T543A; Q840E; Q1039R', 'T543A; Q840E; V875M; N1036S', 'T543A; Q840E; V980I', 'T543A; T927I; N1036T; Q1039R', 'T543A; nt613InsC', 'T742I', 'V1021L', 'V113I; T543A; Q840E', 'V139I', 'V240A', 'V24A', 'V24I', 'V299M; T543A; I642V; Q840E; Q1039H', 'V398A; T543A', 'V431I', 'V475A; Q840E', 'V548M', 'V554A', 'V61L', 'V735A', 'V875M', 'V980I', 'Y181D'], 'PA2019': ['A113T', 'A15T', 'A27T', 'A30T', 'A30T; K329Q; L331V', 'A30T; K329Q; L331V; W358R', 'A30T; K329Q; L331V; W358R; A375P; A383P', 'A30T; W358R', 'A36T', 'A375P', 'A383P', 'A383V', 'A38T', 'A48V', 'D135Y', 'D346H', 'D384G', 'DELETED', 'E142K', 'G344D', 'H119Y', 'H119Y; K329Q', 'H119Y; K329Q; W358R', 'I212L', 'I349V', 'K236Q', 'K329Q', 'K329Q; L331V', 'K329Q; L331V; D346H; W358R', 'K329Q; L331V; W358R', 'K329Q; L331V; W358R; nt1157Δ1', 'K329Q; R351S', 'K329Q; R351S; W358R', 'K329Q; W358R', 'L12P', 'L12P; A30T; K329Q; L331V; W358R', 'L154Q', 'L22M', 'L22M; D135Y; L331V; K329Q', 'L288W; K329Q; L331V; W358R; nt865Δ1', 'L331M', 'L331V', 'L389Q', 'Q396X', 'Q4H', 'R151H', 'R282C', 'R338H', 'R351S', 'R69Q', 'S320A', 'S320P', 'S382G', 'V309I', 'V376M', 'V44I', 'W358C', 'W358R', 'Y255X'], 'PA2020': ['A2T', 'A35V', 'A47P', 'A47V', 'A81V', 'A88P', 'C63R', 'C63R; R126C', 'D83E', 'DELETED', 'E71*', 'E8X', 'F192L', 'G195D', 'G195S', 'G50S', 'G68D', 'G89S', 'G89S;  nt483InsTAT', 'G89S; A175T', 'G89S; aa163InsY', 'G89S; nt483InsTAT', 'H51D', 'H51Y', 'I108S', 'K131R', 'L128M', 'L138R', 'L138R; L196I', 'L138R; N186S', 'L174Q', 'L196I', 'L199R', 'L37P', 'L93P', 'N186S', 'N54D; L174Q', 'Q10X', 'Q132P', 'Q132X', 'Q134R', 'Q134R; nt593Δ13', 'Q140K', 'R104W', 'R13H', 'R200S', 'R45C', 'R65C; L138R', 'S44F', 'T12N', 'T31N', 'V105G', 'V105G; L138R; N186S', 'V23F', 'V43G', 'V48A', 'W167X', 'W176X', 'W185X', 'Y204X', 'aa163InsY', 'aa187∆6', 'nt100∆1', 'nt111InsGCGGACGCCGCCGGGGTTTCTCGCGGT', 'nt144InsT', 'nt154InsACAAGA', 'nt216Δ3', 'nt225Δ10', 'nt227∆1', 'nt236InsGCCG', 'nt248Δ13', 'nt278Δ16', 'nt289Δ11', 'nt290Δ11', 'nt291∆11', 'nt305Δ3', 'nt319Δ16', 'nt350∆19', 'nt367∆10', 'nt385Δ1', 'nt386∆1', 'nt396InsGGGCAACGCTTCGGCCTCCGGCAGATCCGCC', 'nt47Δ13', 'nt484InsC', 'nt489Δ14', 'nt491∆10', 'nt525Δ8', 'nt568∆10', 'nt569∆10', 'nt590InsC', 'nt593Δ10', 'nt593Δ14', 'nt604Δ1', 'nt99Δ1', 'nt9InsC'], 'PA2023': ['C242X', 'DELETED', 'F248S', 'G175S', 'G56S', 'K236T', 'L21R', 'T167I', 'Y12C', 'aa207∆4', 'nt61∆5', 'nt679∆1'], 'PA2272': ['A102T', 'A102T; A104P', 'A103V', 'A104P', 'A104P; A258T', 'A104P; I143L', 'A104P; I447V', 'A104P; V204A', 'A104P; V466I', 'A104T', 'A20S; G58D', 'A258T', 'A420S', 'A505T', 'A86D', 'A86G', 'A86T', 'DELETED', 'E37K; A104P', 'E389Q', 'G238V', 'I143L', 'I355V', 'I447V', 'I547T', 'K358R', 'M336I', 'N178K', 'P54S', 'Q110K', 'Q553R', 'R521K', 'R82K', 'S251T', 'T520S', 'V18I; R82K; G96D; A104P', 'V18L', 'V466I', 'V91A; A104P', 'Y495H'], 'PA2491': ['A175V', 'A180T', 'A52V; D249N', 'A75V', 'A75V; D249N', 'A75V; V241M; D249N', 'A87V', 'D201N', 'D232G', 'D249N', 'D249N; H321R', 'D249N; T299I', 'DELETED', 'E181D', 'E184D', 'E205V', 'E205V; D249N', 'E286D', 'F10L', 'G11S', 'G212D', 'G231S', 'G231S; D249N', 'G248C', 'G76S', 'G78S', 'G78S; D249N', 'K17T', 'K17T; A175V; E181D; D249N', 'K43E', 'L186F', 'L32Q; A75V; D249N; V333M', 'L82P', 'M106T', 'N246K', 'P13L', 'P225L', 'P24L', 'P328L', 'P90L', 'P94S', 'Q100H', 'R108C', 'S179C', 'S289T', 'S84F', 'S84F; I218F; D249N', 'T148S', 'T236P', 'V104A', 'V132A', 'V241M', 'V308I', 'V318I', 'V73A', 'V73A; D249N', 'V77I', 'X340ext', 'aa138Δ3', 'aa147InsLKAG', 'nt350∆1', 'nt390Δ11', 'nt396InsGT', 'nt769∆1', 'nt907∆14', '∆803nt'], 'PA2492': ['A245V', 'A299T', 'A34G', 'A47V', 'D59A', 'D96A', 'DELETED', 'E107D', 'E202*', 'E26G', 'E26G; P60S; F172I', 'F172I', 'G276D', 'M7V', 'M7V; F172I', 'M7V; P8H; P60S; F172I', 'P17L', 'P28L', 'P28L; P60S; F172I', 'P28Lr; F172I', 'P60S', 'P60S; D96A; F172I', 'P60S; F172I', 'P60S; F172I; L188P', 'P60S; F172I; R209S', 'P60S; F172I; R334C', 'P60S; F172I; nt392InsC', 'P60S; F172I; nt471Δ2', 'P77S', 'R22G', 'R334P', 'R40H', 'R45X', 'R58Q', 'R66C', 'S19W', 'V265A', 'V57I', 'aa92Δ4', 'nt228Δ3', 'nt229Δ2', 'nt234∆8', 'nt59Δ1', 'nt60∆1', 'nt61∆1', 'nt844∆1'], 'PA2493': ['A231T', 'A27V', 'A377V', 'A383G', 'A407V', 'A79G', 'D249N', 'D353E', 'D370E', 'DELETED', 'E2V', 'F284L', 'G250D', 'G282S', 'I175V', 'K153R', 'P337A', 'P397Q', 'Q368R', 'Q372L', 'S22G', 'S403T', 'S8F', 'T285I', 'V156A'], 'PA2494': ['A1062T', 'A256T', 'A258T', 'A598E', 'A598S', 'A842T', 'A843T', 'A850E', 'D230A', 'D648A', 'D666E', 'D669G', 'DELETED', 'E860G', 'F509V', 'G1056D', 'G501S', 'H318Q', 'I753V', 'L893V', 'N276S', 'Q363R', 'Q788R', 'S510L', 'S519G', 'T713A', 'T95I', 'V957I', 'nt3070∆1', '∆2646nt'], 'PA2495': ['A113S', 'A12T', 'A140T', 'A228V', 'A247S', 'A277V', 'A302S', 'A360T', 'A365V', 'A38T', 'A410S', 'A4T', 'D102N', 'D306E', 'D31V', 'D98E', 'DELETED', 'E243Q', 'G16S', 'G218S', 'G364S', 'K366K', 'K48E', 'L15V', 'P35L', 'P470S', 'R150H', 'R151L', 'R363H', 'R455H', 'S13P', 'S77N', 'S77T', 'T275S', 'T27A', 'T34P', 'T34S', 'T37A', 'V172I'], 'PA3047': ['A217G', 'A22T', 'A340G', 'A358V', 'A358V; A394P', 'A35T', 'A394P', 'A394P; A474T', 'A434T', 'A474T', 'D176N', 'F324I', 'G117V', 'G263S', 'G328C', 'G437D', 'H473Y', 'K313E', 'M85V', 'N122S; A394P', 'N197S', 'N44K', 'P218A', 'Q156H', 'R475Q', 'S150G', 'S390R', 'S399X', 'T27S', 'T27S; S150G', 'T428P', 'V289I', 'Y396F', 'Y61H', 'nt1062Δ10', 'nt1223InsGAGTGC', 'nt665InsGGCCT'], 'PA3168': ['A51V', 'A51V; D87Y', 'A668T', 'A669P', 'A908T', 'D652Y', 'D87G', 'D87N', 'D87Y', 'D893E', 'E153K', 'E793K', 'G860S', 'G889R', 'G897D', 'K408R', 'N200S', 'P440S', 'S784P', 'S903A', 'S912A', 'T571A', 'T686A', 'T83A', 'T83I', 'T83I; D87H', 'T83I; D87N', 'T83I; D87N; I839V', 'T83I; K162R', 'T83I; V671I', 'T83I; V671I; G860S', 'T83I; aa914Δ2', 'T83I; aa914ΔPS', 'T847A', 'V671A', 'V671I', 'aa616ΔR', 'aa910∆ES', 'aa911∆2', 'aa914InsPK', 'aa914InsSE', 'aa914Δ2', 'aa914ΔPS'], 'PA3574': ['A19T', 'C149Y', 'D147E', 'D187H', 'D80A', 'E120D', 'E21D', 'G172D', 'G206S', 'G78R', 'G81R', 'L153Q', 'L169P', 'L72P; D187H', 'N129K; nt451Δ1', 'N130S', 'Q97X', 'R12C', 'T11N', 'T188A', 'T4I', 'V128M', 'X213ext', 'aa15Δ1', 'nt130InsGACC; D187H', 'nt159Δ2', 'nt165Δ1', 'nt228Δ19', 'nt232Δ19; G78R', 'nt232∆19', 'nt25InsA', 'nt263Δ17', 'nt295Δ17', 'nt295∆17', 'nt31Δ11', 'nt376Δ1', 'nt394∆4', 'nt395∆4', 'nt398Δ2', 'nt451Δ16', 'nt475Δ16', 'nt476∆10', '∆204nt'], 'PA3721': ['A145V', 'A169P', 'A186T', 'A4V', 'D79E', 'E153Q', 'G213D', 'G71E', 'G71E; A145V; S209R', 'G71E; A186T', 'G71E; D79E; S209R', 'G71E; E153Q', 'G71E; E153Q; S209R', 'G71E; P210L; S209R', 'G71E; Q182K; L206V; S209R', 'G71E; S209R', 'G71E; S209R; P210L', 'H30Y; G71E', 'L206V', 'M39T; G71E; S209R', 'P210L', 'Q182K', 'R191L; S209R', 'R48W', 'S209R', 'T100S', 'T50P', 'T50P; G71E; S209R', 'nt12InsG', 'nt15∆1', 'nt198∆1', 'nt199∆1', 'nt444∆1', '∆239nt'], 'PA3999': ['A363G', 'D231E', 'I136V', 'N54S', 'N86S', 'S355T', 'T286S', 'V29I', 'V50I', 'nt390InsGT', 'nt619Δ1'], 'PA4003': ['A269V', 'A481T', 'A532V', 'A619E', 'D485N', 'D493N', 'D507G', 'E107D', 'H402L', 'K631R', 'L33P', 'L534P', 'L631R', 'P503L', 'P621L', 'S376N', 'T112S', 'V29I', 'V439A', 'V490L'], 'PA4020': ['A222G', 'A286V', 'A303V', 'A303V; M297V', 'A303V; M297V; G24S; aa118Δ1', 'A303V; M297V; nt111Δ1', 'A303V; M297V; nt112InsC', 'A331T', 'A356V', 'A428T; M297V; S131N', 'C410T', 'D351G', 'D382N', 'D411A', 'D411A; G343S', 'D411A; aa439InsGGF', 'G231E', 'H190Y', 'H98Y', 'I266S', 'M297L', 'M297V', 'M297V; P274T', 'M297V; T236P', 'M297V; nt1178Δ1', 'P178L', 'P274L', 'Q347R', 'R103P', 'R322Q', 'S119G; nt112InsC', 'S306N', 'S306R', 'S306R; M297L', 'T115A', 'T276A', 'Ter452Rext*', 'V124G', 'V124I', 'V281F', 'V358I', 'V358I; M297V', 'V420M; M297V', 'X452ext', 'Y35S', 'aa35∆4', 'aa451InsR', 'nt111InsC', 'nt111InsG', 'nt112InsC'], 'PA4109': ['A10S', 'A118V; G283E', 'A16V', 'A175T', 'A175V', 'A51T', 'D135G', 'D135N', 'E114A', 'E114A; E172V; A208T', 'E114A; G283E; M288R', 'E114A; I251V; G283E; M288R', 'E162Q', 'E88K', 'F87L', 'G154R', 'G154R; G283E; M288R', 'G231S', 'G273E', 'G283E', 'G283E; M288R', 'G295R', 'H209Y', 'I251V', 'K42R', 'L113Q', 'L177V', 'M241I', 'M288R', 'M288R; G283E', 'M61L', 'R244W', 'R244W; G273E', 'R86C', 'S179N', 'S179T', 'nt271Δ3', 'nt66InsCC'], 'PA4110': ['A156V', 'A170T', 'A24G', 'A278G', 'A36T', 'A55T', 'A97V', 'A97V; T105A; V205L; G391A', 'D257V', 'D263V', 'D280N', 'D291N', 'D302H', 'E198K', 'E247G', 'F19L', 'F6L', 'G129S', 'G183D', 'G194D', 'G229S', 'G27D', 'G27D; A55T; T105A; Q155R; V205L; G391A', 'G27D; A97V; T105A; F147L; V205L; G391A', 'G27D; A97V; T105A; V205L; G391A', 'G27D; T105A; V205L', 'G27D; T105A; V205L; G391A', 'G27D; T105A; V205L; G391P', 'G27D; T105A; V205L; V356I; G391A', 'G27D; T96I; T105A; V205L; V356I; G391A', 'G391A', 'G391P', 'H215Y', 'I325V', 'I365V', 'L133I', 'L176R', 'L200F', 'L200I', 'P148S', 'P23S', 'P23S; T105A; G391A', 'P23S; T105A; G391A; G183D', 'P274H', 'P274L', 'P274T', 'P7S', 'P82L', 'Q117E', 'Q117L', 'Q155R', 'Q311L', 'R114S', 'R235H', 'R273K', 'R284H', 'R5G', 'R5G; T21A; P23S;A36T; T105A; Q117L; A170T; L200I; V205L; R273K; V356I; G391A', 'R79Q', 'R79Q; T105A', 'R79Q; T105A; G129S', 'R79Q; T105A; P274L', 'R79Q; T105A; R235H', 'S173N', 'S173R', 'S254N', 'S306A', 'S306T', 'T105A', 'T105A; G391A', 'T105A; L176R', 'T105A; V205L; V356I; G391A', 'T16I', 'T16I; G27D; T105A; P148S; V205L; G391A', 'T21A', 'T21A; T105A', 'T21A; T105A; G391A', 'V205L', 'V239A', 'V356I'], 'PA4266': ['A246V', 'D588G', 'E401D', 'E463Q; R680C', 'F582I', 'I186V', 'K212T', 'K430E', 'K496R', 'Q678L', 'Q678R', 'R680C', 'S695T', 'T671A', 'T671I', 'V111M', 'V119A', 'V30F', 'V30I', 'Y552C', 'Y683C', 'aa615InsQL'], 'PA4418': ['A139S', 'A246V', 'A481S', 'A572V', 'D440E', 'D515N', 'F533L', 'G243S', 'G8S', 'H41Y', 'I347T', 'L219V', 'L21P', 'L23V', 'L240V', 'L3V', 'M460T', 'N117S', 'N242S', 'R441H', 'R504C', 'R551L', 'S455F', 'T514S', 'T91A', 'T91A; G243S', 'V373I', 'V373I; R504C', 'V471G', 'Y146F', 'Y268C', 'Y5H'], 'PA4522': ['A134P; G148A; D183Y', 'A134V', 'A136P', 'A136V', 'A136V; G148A', 'A136V; G148A; P162L', 'A144V', 'A29T', 'A29V', 'A29V; W97C; G148A', 'A85G', 'A85S', 'A96T', 'A96T; G148A', 'D112Y; G148A', 'D129N', 'D167E; G148A', 'D183Y', 'D28G', 'D28G; G148A; S175L', 'D59E', 'D83G', 'E163Q', 'E170G', 'E68D', 'F113L', 'F113L; G148A; D183Y', 'G148A', 'G148A; D183Y', 'G148A; G156D; D183Y', 'G148A; P168L; S175L', 'G148A; Q155*; D183Y', 'G148A; R164H; D183Y', 'G148A; S175L', 'G148A; nt377Δ1', 'G148A; nt407InsGGC', 'G46S', 'G46S; G148A', 'G84D; A136V; G148A', 'H71Q; G148A; D183Y', 'L33P', 'L40Q', 'P126Q', 'P41S; G148A', 'Q131X', 'Q44H', 'Q44H; G148A; D183Y', 'Q44H; G148A; D183Y; nt430Δ17', 'Q44H; L135Q; G148A; D183Y', 'Q44K', 'Q51X; G148A', 'Q55P; G148A; D183Y', 'Q88L', 'Q88L; G148A', 'Q88R; A136V; G148A', 'R11H', 'R11L', 'R11L; A96T; G148A; D183Y', 'R11L; G137E; G148A; D183Y', 'R11L; G148A; D183Y', 'R11L; G148A; D183Y; nt436Δ1', 'R11L; L40Q; G148A; D183Y', 'R11L; R140W; G148A; D183Y', 'R14H', 'R178C', 'R82C; G148A; D183Y', 'S175L', 'S175P', 'S18L; G148A; D183Y', 'S39R', 'S75F', 'S91F', 'T139M', 'T139M; G148A; D183Y', 'T139R', 'T166P', 'T182I', 'T47I', 'V10A; T139A; G148A', 'V10G', 'V10G; G148A', 'V10G; G148A; D183Y', 'V10I', 'V10I; A85G; G148A; E170G', 'V30A; G148A', 'W97C', 'W9R', 'nt393Δ1'], 'PA4597': ['A14V', 'A152T', 'A152V', 'A163T', 'A260V', 'A30V', 'A364V', 'A372V', 'A40G', 'A41T', 'A48V', 'D256G', 'D303V', 'D351A', 'D35H', 'D68G', 'F6L', 'G108S', 'G120S', 'G184S', 'G278D', 'G322A', 'G352S', 'I261T', 'K413M', 'L250F', 'L291F', 'L66P', 'L81I', 'M69V', 'N121H', 'N121S', 'N73D', 'Q267R', 'R210H', 'R263Q', 'R263W', 'S127N', 'S176G', 'S264N', 'T323S', 'T376A', 'T376S', 'V146I', 'V472A'], 'PA4598': ['A1039T', 'A1039V', 'A155T', 'A536S', 'A566T', 'A566V', 'A642D', 'A647V', 'A734V', 'A748V', 'A905T', 'A958S', 'A959S', 'E257Q', 'E314D', 'E314Q', 'E602K', 'E650Q', 'G1042R', 'G147D', 'G199D', 'G686R', 'H651R', 'H953N', 'I427V', 'I610V', 'I703V', 'I960L', 'I982V', 'K1031R', 'K804R', 'K863Q', 'L1027V', 'M118T', 'N669D', 'N775K', 'P829H', 'Q149H', 'R254H', 'R540G', 'R596S', 'R696C', 'S1040T', 'S281L', 'S606L', 'S685G', 'S738N', 'S845A', 'S896T', 'T304A', 'T489I', 'T659M', 'T659S', 'T778A', 'T87S', 'V343A', 'V351L', 'V364L', 'V384L', 'V434A', 'V523A', 'V607A', 'V660I', 'V914I', 'aa1027InsLLS', 'nt554InsG'], 'PA4599': ['A106T', 'A227V', 'A262E', 'A277T', 'A31V', 'A378T', 'A384V', 'A49V', 'D226E', 'D298A', 'E152Q', 'E251Q', 'E26A', 'E347K', 'E350K', 'G254S', 'G8R', 'H310R', 'I133V', 'I369V', 'M34I', 'N299S   G334A', 'P351L', 'P383S', 'P47S', 'Q134X', 'Q300R', 'Q381L', 'R76G', 'R76Q', 'R76W', 'S157T', 'S313G', 'S330A', 'S341A', 'S51R', 'T145I', 'T175A', 'V131M', 'V282I', 'V337A', 'V367A', 'nt205∆2'], 'PA4600': ['A121T', 'A124T', 'A170T', 'A30T', 'D56G', 'DELETED', 'E75G', 'E78X', 'G129R', 'G133S', 'G154R; nt279Δ9', 'G180S', 'H109Y', 'I149L', 'L88F', 'Q64X', 'R163Q', 'R186H', 'R21H', 'R21H; D56G', 'R47Q', 'R82L', 'T2P', 'V35A; D56G', 'W115*', 'X188ext', 'nt295∆14', 'nt331Δ1', 'nt42InsGCAGTC'], 'PA4700': ['A109T', 'A254T', 'A751T', 'D502G; L353Q; S25G', 'D502N', 'E265K', 'E52Q', 'F234L', 'F453Y', 'G503D', 'G503D; L353Q; S25G', 'K607R', 'K607R; D383N; L353Q; S25G', 'K607R; L353Q', 'K607R; L353Q; S25G', 'L20F', 'L353Q', 'L353Q; S25G', 'M715K', 'M715K; K607R', 'P100S', 'P16L', 'P543S', 'Q427E', 'R227C', 'S108N', 'S25G', 'S96N', 'V433I', 'W26R'], 'PA4776': ['D61E', 'D61N', 'E131A', 'E131D', 'E163D', 'G19E', 'G70S', 'H139Y', 'L134P', 'L71P', 'L71R', 'L71R; Y179H', 'R122H', 'R81Q', 'T142P'], 'PA4777': ['A119T', 'A173T', 'A197S', 'A413T', 'A462T', 'A467V', 'A4T', 'A4T; D47N; E69A; Y345H; P369A; A462T', 'A4T; D70N; H340R; Y345H', 'A4T; G52S; G68S; Y345H; G362S', 'A4T; G68S; V344M; Y345H; G362S', 'A4T; G68S; Y345H; G362S', 'A4T; H311Q; Y345H; A413T', 'A4T; V15I; G68S; L139P; Y345H', 'A4T; V15I; G68S; Y345H', 'A4T; V15I; G68S; Y345H; R474Q', 'A4T; V6A; V15I; G68S; Y345H', 'A67T', 'D70N', 'E213D', 'E269K', 'E320K; Y345H', 'G188S', 'G188S; Y345H', 'G362S', 'G439D', 'G441D', 'G469S', 'G68S', 'G68S; Y345H', 'H311Q', 'H340R', 'L217V', 'L301F; Y345H', 'L31P', 'L31Q; Y345H', 'L339S; Y345H', 'L35V', 'L398Q', 'P369A', 'P369S', 'R10L', 'R234C', 'S2P', 'S2P; A4T; G68S; Y345H; G362S', 'S2P; A4T; V15I; G68S; Y345H', 'S2P; A4T; V6A; V15I; G68S; Y345H', 'S94N', 'T343A', 'T343N', 'T406A', 'T458I', 'T63S', 'V15I', 'V15I; G68S', 'V322A', 'V431I', 'V451L', 'V6A', 'Y345H', 'Y345H; G443R'], 'PA4964': ['A208G', 'A233P', 'A528T', 'A587T', 'A688V', 'D422A', 'D533E; A587T', 'D62N', 'D754N', 'D86N; S331T', 'E225D', 'E498D', 'E513D', 'E91K', 'E91K; H262Q; L458F', 'E91V', 'F360Y', 'F601Y', 'G85C', 'H262Q', 'I388V', 'K474R', 'K726R', 'L168Q', 'L95Q', 'M502L', 'N633S', 'P506S', 'P683S', 'P752T', 'Q359R', 'Q405R', 'R131S', 'R201P', 'R441L', 'S197L', 'S197L; H262Q', 'S331T', 'S635A', 'S87L', 'S87L; E513D', 'S87L; P752T', 'S87W', 'S87W; E513D', 'S87W; H262Q', 'S87W; L168Q', 'T556S', 'V238I', 'V419L', 'V646L'], 'PA4967': ['A342V', 'A473V', 'A473V; D533E', 'D142N', 'D419N', 'D419N; D533E', 'D533E', 'E215Q', 'E459G', 'E459K', 'E459K; D533E', 'E459V', 'G494S; D533E', 'H360Y; V460G', 'H50Y', 'I57V', 'I89T', 'K157R', 'L444V; D533E', 'P195T', 'P438S', 'P438S; D533E', 'P511S', 'S147T', 'S261L; D533E', 'S346T', 'S457G', 'S457R', 'V200M', 'V460G', 'V520A', 'V629A', 'Y4C', 'nt1345InsGTGGAC'], 'PA5045': ['A368T', 'A368T; S631I', 'A399P', 'A421T; S539T', 'A617T', 'D309E', 'D616V', 'D625A', 'D73N', 'E158K', 'E161Q', 'E245D', 'E367G; S631I', 'E53K', 'E53K; S631I', 'E618D', 'G596R', 'G634S', 'H628N', 'H628N; V643I', 'I403V', 'I418T', 'I418T; N622K', 'I418V', 'K431Q', 'L532V', 'M196L', 'M389L', 'N223D', 'N554D', 'N622K', 'P388S', 'P803S', 'Q408X', 'Q454H', 'Q641L', 'R378H', 'S520P', 'S539T', 'S631I', 'S717C', 'T412I', 'T794A', 'V12A', 'V244I', 'V598M', 'V613A', 'V613I', 'V643I', 'V643I; S717C', 'aa615InsP', 'aa616InsP'], 'PA5235': ['A121T', 'A121T; nt575Δ13', 'A121T; nt832Δ1', 'A121T; nt838Δ1', 'A259G', 'A439T', 'C309Y; A439T; nt210Δ6', 'C432S', 'G305D', 'G369D', 'G396S', 'G422S', 'G99D', 'H114R', 'K437T', 'L101M', 'L373Q', 'L403M', 'P444S', 'P444T', 'S119C', 'S156G', 'T211P', 'Ter449Gext*', 'Ter449Gext*; nt210Δ6', 'V198M', 'V246I', 'V334I', 'W132X', 'W149R', 'X449ext', 'Y205C', 'aa499InsG', 'nt1107Δ1', 'nt143Δ9', 'nt159Δ16', 'nt210Δ6', 'nt840Δ1', 'resf'], 'PA5471': ['A245V', 'A262S', 'A286T', 'A352V', 'A58V', 'A87T', 'C40R', 'C40R; A87V; D161G; H182Q; V243A; E307D; I346V', 'C40R; H182Q; V243A', 'C40R; L88P; D161G', 'C40R; L88P; D161G; H182Q; V243A', 'C40R; L88P; S112N; D119E; D207N; I237V; V243A', 'C40R; L88P; S112N; D119E; I237V; Ans238S; V243A; A352V', 'C40R; L88P; S112N; D119E; I237V; V243A', 'C40R; S112N; D119E; D161G; H182Q; I237V; V243A', 'C40R; S112N; D161G; H182Q; I237V; V243A', 'D104E', 'D119E', 'D159A', 'D159N', 'D161G', 'D18N; L88P; D161G; H182Q; V243A', 'D207N', 'E307D', 'E35K; L88P; D161G; H182Q; I237V; Ans238S; V243A; A352V', 'G134D', 'G157D', 'G190A', 'G190S', 'G258S', 'G51C', 'H182Q', 'H182Y', 'I237V', 'I346V', 'L174F', 'L196P', 'L88P', 'L88P; D119E', 'L88P; D161G; H182Q; R204C; V243A', 'L88P; D161G; H182Q; V243A', 'L88P; D161G; H182Q; V243A; A262S', 'L88P; D161G; H182Q; V243A; A352V', 'L88P; D161G; H182Q; V243A; G258S', 'L88P; D161G; H182Q; V243A; V266M', 'L88P; D161G; H182Q; V243A; V283L', 'L88P; G157D; D161G; H182Q; V243A', 'L88P; H182Q', 'L88P; V243A', 'N238S', 'P244L', 'R204C', 'R302C', 'R320C', 'R320P', 'R322H', 'R322S', 'R41C; L88P; D161G; H182Q', 'R52C; L88P; D161G; H182Q; V243A', 'S112N', 'S184G', 'S314N', 'S348T', 'T32I', 'Ter14Qext*; L88P; D161G; H182Q; R204C; V243A', 'V242M', 'V243A', 'V247I', 'V266M', 'V362I'], 'PA5485': ['A30V', 'A8V', 'F9I', 'P116S', 'P21Q', 'Q110K', 'Q110R', 'Q117E', 'R189H', 'S12A', 'T115S', 'T258A', 'V40I', 'V89D', 'nt12∆4', 'nt4Δ4'], 'PA5513': ['A141V', 'A191V', 'A278S', 'A280T', 'A281T', 'A50T', 'A82S', 'D241N', 'D279A', 'F7S', 'G229D', 'H264Q', 'P245S', 'P92S', 'Q164L', 'R212H', 'R236H', 'S11L', 'S4Y', 'T119I', 'T232I', 'V139M', 'V265A', 'V267A', 'nt389InsCCCGG'], 'PA5514': ['A189T', 'D109E', 'E176A', 'E56Q', 'F6L', 'G139S', 'G196S', 'I244T', 'K112E', 'L170I', 'N134D', 'N225Y', 'Q25R', 'R137H', 'R167H', 'R49C', 'R66Q', 'R83K', 'T16A', 'V148A'], 'PA5542': ['A11V', 'A164T', 'A19S', 'A27V', 'A412T', 'D302N', 'E123A', 'E265Q', 'E89A', 'H236Q', 'I106V', 'K332R', 'L152I', 'P161L', 'P219T', 'P249L', 'P350S', 'Q297L', 'R100H', 'R97T', 'R97W', 'S138A', 'S224A', 'S224G', 'S224T', 'S22L', 'S266R', 'S325T', 'S3N', 'T68A', 'T68I', 'T68S', 'V112I', 'V17I', 'V351L', 'V77A', 'V77T'], 'PA0355': ['A152T', 'A98V', 'D42A', 'E164D', 'E175D', 'E57D', 'I83V', 'N170S', 'R172Q', 'T24I', 'T64I', 'V21I'], 'PA0357': ['A208V', 'A66S', 'A66T', 'A99V', 'S250G', 'T251S'], 'PA0750': ['N56S', 'V43A', 'nt131∆5'], 'PA1816': ['N213S', 'R33H', 'S118T', 'T114S', 'V49I'], 'PA3002': ['A366T', 'A391P', 'A536T', 'G19D', 'H439Q', 'K38R', 'K585E', 'Q421K', 'R241C', 'S111P', 'S12T', 'S680N', 'S8N', 'V30I', 'V347I', 'V647A', 'aa11∆1', 'aa11∆S'], 'PA3620': ['A187S', 'A781T', 'I133V', 'I579V', 'M803V', 'T593S'], 'PA4366': ['S59T'], 'PA4400': ['A239T', 'A97V', 'E236D', 'L288V', 'P290S'], 'PA4468': ['G109E', 'R102Q', 'S55N'], 'PA4609': ['A41G', 'A41V', 'T76A', 'V251M'], 'PA4946': ['A272D', 'A391V', 'A4T', 'D623A', 'E428D', 'G414D', 'N595S', 'R207Q', 'V321I', 'W385C'], 'PA5147': ['A354T', 'D269N', 'E103A', 'E166A', 'G270D', 'G27D', 'G311A', 'G311S', 'G311T', 'G319A', 'R314P'], 'PA5344': ['I309L'], 'PA5443': ['A641S', 'D476N', 'E210K', 'G164V', 'K344R', 'N666S', 'S494G', 'S662N', 'T659A', 'V556I'], 'PA5493': ['C882H', 'C882R', 'D126G', 'D379E', 'D706E', 'D876E', 'D910G', 'E210K', 'E376D', 'K395Q', 'K396R', 'L419M', 'L857I', 'N299S', 'P635L', 'Q853L', 'R420Q', 'R636L', 'S735N', 'V350L', 'V729M', 'V905I']}\n"
     ]
    }
   ],
   "source": [
    "# ## 3. Cargar y preprocesar los datos\n",
    "# Leer el archivo de entrenamiento (1200 cepas)\n",
    "train_df = pd.read_csv('input/training_data.csv', sep=\";\").reset_index(drop=True)\n",
    "print(\"Dimensiones del DataFrame original:\", train_df.shape)\n",
    "\n",
    "# Definir nombres de columnas:\n",
    "# [\"strain_id\", \"FEP_MIC\", \"FEP_eval\", \"MER_MIC\", \"MER_eval\", \"IMI_MIC\", \"IMI_eval\",\n",
    "#  \"AZT_MIC\", \"AZT_eval\", \"CIP_MIC\", \"CIP_eval\", gene1, gene2, ..., gene71]\n",
    "id_col = \"strain_id\"\n",
    "\n",
    "# Evaluaciones clínicas de los antibióticos\n",
    "eval_cols = [\"FEP_eval\", \"MER_eval\", \"IMI_eval\", \"AZT_eval\", \"CIP_eval\"]\n",
    "\n",
    "# Columnas con genes de resistencia\n",
    "gene_cols = train_df.loc[:, \"PA0004\":\"PA5493\"]\n",
    "\n",
    "# Preprocesamiento de los genes: codificación multi-hot por gen\n",
    "# La idea es, para cada gen, construir un vocabulario de mutaciones (observadas en el set de entrenamiento)\n",
    "# y, para cada celda, crear un vector binario indicando la presencia de cada mutación.\n",
    "def build_gene_vocab(df, gene_columns):\n",
    "    vocab = {}\n",
    "    for col in gene_columns:\n",
    "        mutations = set()\n",
    "        for val in df[col]:\n",
    "            if pd.isna(val) or str(val).strip() == \"-\" or str(val).strip() == \"\":\n",
    "                continue\n",
    "            # Dividir las mutaciones por coma\n",
    "            for mut in val.split(\",\"):\n",
    "                mut = mut.strip()\n",
    "                if mut:\n",
    "                    mutations.add(mut)\n",
    "        # Ordenamos el vocabulario para tener un orden fijo\n",
    "        vocab[col] = sorted(list(mutations))\n",
    "    return vocab\n",
    "\n",
    "gene_vocab = build_gene_vocab(train_df, gene_cols)\n",
    "\n",
    "print('Vocabulario de mutaciones: gene_vocab')\n",
    "print(gene_vocab)"
   ]
  },
  {
   "cell_type": "markdown",
   "id": "13a1c0f5-3e30-4f4a-8387-0b3e3be96891",
   "metadata": {},
   "source": [
    "## 3.1 Codificar matrices para el set de entrenamiento"
   ]
  },
  {
   "cell_type": "code",
   "execution_count": 5,
   "id": "ffc27c21-df81-4cb3-9de2-588a283ee5b8",
   "metadata": {},
   "outputs": [
    {
     "name": "stdout",
     "output_type": "stream",
     "text": [
      "Número de índices únicos en train_df: 1045\n",
      "Número de muestras generadas: 1045\n",
      "Dimensiones de X_train_genes: (1045, 2261)\n",
      "Dimensiones de X_train_input: (1045, 2261)\n",
      "Dimensiones de X_test_input: (44, 2261)\n"
     ]
    }
   ],
   "source": [
    "# Función para codificar una fila: para cada gen, si la celda está vacía se retorna un vector de ceros,\n",
    "# si tiene mutaciones, se asigna 1 en las posiciones correspondientes al vocabulario.\n",
    "def encode_gene_row(row, gene_columns, vocab):\n",
    "    features = []\n",
    "    for col in gene_columns:\n",
    "        gene_voc = vocab[col]\n",
    "        vec = np.zeros(len(gene_voc), dtype=int)\n",
    "        cell = row[col]\n",
    "        if pd.isna(cell) or str(cell).strip() == \"-\" or str(cell).strip() == \"\":\n",
    "            # Wild type: vector de ceros\n",
    "            pass\n",
    "        else:\n",
    "            mutations = [m.strip() for m in cell.split(\",\") if m.strip() != \"\"]\n",
    "            for mut in mutations:\n",
    "                if mut in gene_voc:\n",
    "                    idx = gene_voc.index(mut)\n",
    "                    vec[idx] = 1\n",
    "        # Agregar el vector para este gen a la lista de características\n",
    "        features.extend(vec.tolist())\n",
    "    return features\n",
    "\n",
    "print(\"Número de índices únicos en train_df:\", train_df.index.nunique())\n",
    "\n",
    "# # Aplicar la codificación a cada fila para los genes en el set de entrenamiento\n",
    "X_train_list = [encode_gene_row(row, gene_cols, gene_vocab) for _, row in train_df.iterrows()]\n",
    "print(\"Número de muestras generadas:\", len(X_train_list))\n",
    "X_train_genes = np.array(X_train_list)\n",
    "print(\"Dimensiones de X_train_genes:\", X_train_genes.shape)\n",
    "\n",
    "# Preparar las etiquetas para caracterizar clínicamente los valores MIC:\n",
    "# Cada evaluación es una cadena con una de 3 categorías: \"sensitive\", \"resistant\" o \"indeterminate\".\n",
    "y_antibiotics = {}\n",
    "antibiotic_encoders = {}\n",
    "\n",
    "for col in eval_cols:\n",
    "    le = LabelEncoder()\n",
    "    y_enc = le.fit_transform(train_df[col].astype(str).str.lower())\n",
    "    antibiotic_encoders[col] = le\n",
    "    # Convertimos a formato one-hot (aunque en clasificación binaria se puede usar una sola neurona con sigmoide)\n",
    "    # One-hot encoding para 3 clases *********************************REVISAR**********************************¿como se codifican las 3 clases?\n",
    "    y_antibiotics[col] = to_categorical(y_enc)\n",
    "\n",
    "\n",
    "# Creamos el diccionario de salidas para el modelo multi-salida (5 salidas, una por antibiótico)\n",
    "y_train = {\n",
    "    'FEP': y_antibiotics[\"FEP_eval\"],\n",
    "    'MER': y_antibiotics[\"MER_eval\"],\n",
    "    'IMI': y_antibiotics[\"IMI_eval\"],\n",
    "    'AZT': y_antibiotics[\"AZT_eval\"],\n",
    "    'CIP': y_antibiotics[\"CIP_eval\"]\n",
    "}\n",
    "\n",
    "\n",
    "# La entrada del modelo será únicamente la información codificada de los genes.\n",
    "X_train_input = X_train_genes\n",
    "print(\"Dimensiones de X_train_input:\", X_train_input.shape)\n",
    "\n",
    "# Cargar datos de test (200 cepas)\n",
    "test_df = pd.read_csv('input/test_data.csv',sep=\";\")\n",
    "# Se asume que test_data.csv tiene: \"strain_id\" y luego las 71 columnas de genes con los mismos nombres.\n",
    "test_gene_cols = test_df.columns[1:]\n",
    "X_test_genes = test_df.apply(lambda row: encode_gene_row(row, test_gene_cols, gene_vocab), axis=1)\n",
    "X_test_input = np.array(X_test_genes.tolist())\n",
    "print(\"Dimensiones de X_test_input:\", X_test_input.shape)"
   ]
  },
  {
   "cell_type": "markdown",
   "id": "da70fdb1-17b4-49d3-9886-47020ce4518b",
   "metadata": {},
   "source": [
    "## 4. Definir una capa Cross para capturar interacciones entre mutaciones"
   ]
  },
  {
   "cell_type": "code",
   "execution_count": 6,
   "id": "e5f15e6e-2f02-43d6-b722-f89a000a60c0",
   "metadata": {},
   "outputs": [
    {
     "name": "stdout",
     "output_type": "stream",
     "text": [
      "Matrices CrossLayer creadas\n"
     ]
    }
   ],
   "source": [
    "# ## 4. Definir una capa Cross para capturar interacciones entre mutaciones\n",
    "class CrossLayer(tf.keras.layers.Layer):\n",
    "    def __init__(self, num_layers=1, **kwargs):\n",
    "        super(CrossLayer, self).__init__(**kwargs)\n",
    "        self.num_layers = num_layers\n",
    "\n",
    "    def build(self, input_shape):\n",
    "        self.cross_weights = []\n",
    "        self.cross_biases = []\n",
    "        d = int(input_shape[-1])\n",
    "        for i in range(self.num_layers):\n",
    "            self.cross_weights.append(\n",
    "                self.add_weight(name=f'cross_w_{i}',\n",
    "                                shape=(d, 1),\n",
    "                                initializer='glorot_uniform',\n",
    "                                trainable=True)\n",
    "            )\n",
    "            self.cross_biases.append(\n",
    "                self.add_weight(name=f'cross_b_{i}',\n",
    "                                shape=(d,),\n",
    "                                initializer='zeros',\n",
    "                                trainable=True)\n",
    "            )\n",
    "        super(CrossLayer, self).build(input_shape)\n",
    "\n",
    "    def call(self, inputs):\n",
    "        x0 = inputs\n",
    "        x = inputs\n",
    "        for i in range(self.num_layers):\n",
    "            dot = tf.matmul(x, self.cross_weights[i])  # (batch_size, 1)\n",
    "            x = x0 * dot + self.cross_biases[i] + x\n",
    "        return x\n",
    "\n",
    "    print(\"Matrices CrossLayer creadas\")"
   ]
  },
  {
   "cell_type": "markdown",
   "id": "88ed3651-6f2e-4cc9-9914-6938f28128b6",
   "metadata": {},
   "source": [
    "## 5. Definir el modelo de redes neuronales multi-salida"
   ]
  },
  {
   "cell_type": "code",
   "execution_count": 7,
   "id": "a58a6b1d-1351-4c3b-9dc7-c1d8f141184c",
   "metadata": {},
   "outputs": [
    {
     "name": "stdout",
     "output_type": "stream",
     "text": [
      "Salidas creadas\n",
      "Ejecutando modelo\n"
     ]
    },
    {
     "data": {
      "text/html": [
       "<pre style=\"white-space:pre;overflow-x:auto;line-height:normal;font-family:Menlo,'DejaVu Sans Mono',consolas,'Courier New',monospace\"><span style=\"font-weight: bold\">Model: \"functional_1\"</span>\n",
       "</pre>\n"
      ],
      "text/plain": [
       "\u001b[1mModel: \"functional_1\"\u001b[0m\n"
      ]
     },
     "metadata": {},
     "output_type": "display_data"
    },
    {
     "data": {
      "text/html": [
       "<pre style=\"white-space:pre;overflow-x:auto;line-height:normal;font-family:Menlo,'DejaVu Sans Mono',consolas,'Courier New',monospace\">┏━━━━━━━━━━━━━━━━━━━━━┳━━━━━━━━━━━━━━━━━━━┳━━━━━━━━━━━━┳━━━━━━━━━━━━━━━━━━━┓\n",
       "┃<span style=\"font-weight: bold\"> Layer (type)        </span>┃<span style=\"font-weight: bold\"> Output Shape      </span>┃<span style=\"font-weight: bold\">    Param # </span>┃<span style=\"font-weight: bold\"> Connected to      </span>┃\n",
       "┡━━━━━━━━━━━━━━━━━━━━━╇━━━━━━━━━━━━━━━━━━━╇━━━━━━━━━━━━╇━━━━━━━━━━━━━━━━━━━┩\n",
       "│ input (<span style=\"color: #0087ff; text-decoration-color: #0087ff\">InputLayer</span>)  │ (<span style=\"color: #00d7ff; text-decoration-color: #00d7ff\">None</span>, <span style=\"color: #00af00; text-decoration-color: #00af00\">2261</span>)      │          <span style=\"color: #00af00; text-decoration-color: #00af00\">0</span> │ -                 │\n",
       "├─────────────────────┼───────────────────┼────────────┼───────────────────┤\n",
       "│ dense_2 (<span style=\"color: #0087ff; text-decoration-color: #0087ff\">Dense</span>)     │ (<span style=\"color: #00d7ff; text-decoration-color: #00d7ff\">None</span>, <span style=\"color: #00af00; text-decoration-color: #00af00\">256</span>)       │    <span style=\"color: #00af00; text-decoration-color: #00af00\">579,072</span> │ input[<span style=\"color: #00af00; text-decoration-color: #00af00\">0</span>][<span style=\"color: #00af00; text-decoration-color: #00af00\">0</span>]       │\n",
       "├─────────────────────┼───────────────────┼────────────┼───────────────────┤\n",
       "│ dropout (<span style=\"color: #0087ff; text-decoration-color: #0087ff\">Dropout</span>)   │ (<span style=\"color: #00d7ff; text-decoration-color: #00d7ff\">None</span>, <span style=\"color: #00af00; text-decoration-color: #00af00\">256</span>)       │          <span style=\"color: #00af00; text-decoration-color: #00af00\">0</span> │ dense_2[<span style=\"color: #00af00; text-decoration-color: #00af00\">0</span>][<span style=\"color: #00af00; text-decoration-color: #00af00\">0</span>]     │\n",
       "├─────────────────────┼───────────────────┼────────────┼───────────────────┤\n",
       "│ dense_3 (<span style=\"color: #0087ff; text-decoration-color: #0087ff\">Dense</span>)     │ (<span style=\"color: #00d7ff; text-decoration-color: #00d7ff\">None</span>, <span style=\"color: #00af00; text-decoration-color: #00af00\">128</span>)       │     <span style=\"color: #00af00; text-decoration-color: #00af00\">32,896</span> │ dropout[<span style=\"color: #00af00; text-decoration-color: #00af00\">0</span>][<span style=\"color: #00af00; text-decoration-color: #00af00\">0</span>]     │\n",
       "├─────────────────────┼───────────────────┼────────────┼───────────────────┤\n",
       "│ dropout_1 (<span style=\"color: #0087ff; text-decoration-color: #0087ff\">Dropout</span>) │ (<span style=\"color: #00d7ff; text-decoration-color: #00d7ff\">None</span>, <span style=\"color: #00af00; text-decoration-color: #00af00\">128</span>)       │          <span style=\"color: #00af00; text-decoration-color: #00af00\">0</span> │ dense_3[<span style=\"color: #00af00; text-decoration-color: #00af00\">0</span>][<span style=\"color: #00af00; text-decoration-color: #00af00\">0</span>]     │\n",
       "├─────────────────────┼───────────────────┼────────────┼───────────────────┤\n",
       "│ cross_layer         │ (<span style=\"color: #00d7ff; text-decoration-color: #00d7ff\">None</span>, <span style=\"color: #00af00; text-decoration-color: #00af00\">128</span>)       │        <span style=\"color: #00af00; text-decoration-color: #00af00\">256</span> │ dropout_1[<span style=\"color: #00af00; text-decoration-color: #00af00\">0</span>][<span style=\"color: #00af00; text-decoration-color: #00af00\">0</span>]   │\n",
       "│ (<span style=\"color: #0087ff; text-decoration-color: #0087ff\">CrossLayer</span>)        │                   │            │                   │\n",
       "├─────────────────────┼───────────────────┼────────────┼───────────────────┤\n",
       "│ dense_4 (<span style=\"color: #0087ff; text-decoration-color: #0087ff\">Dense</span>)     │ (<span style=\"color: #00d7ff; text-decoration-color: #00d7ff\">None</span>, <span style=\"color: #00af00; text-decoration-color: #00af00\">64</span>)        │      <span style=\"color: #00af00; text-decoration-color: #00af00\">8,256</span> │ cross_layer[<span style=\"color: #00af00; text-decoration-color: #00af00\">0</span>][<span style=\"color: #00af00; text-decoration-color: #00af00\">0</span>] │\n",
       "├─────────────────────┼───────────────────┼────────────┼───────────────────┤\n",
       "│ FEP (<span style=\"color: #0087ff; text-decoration-color: #0087ff\">Dense</span>)         │ (<span style=\"color: #00d7ff; text-decoration-color: #00d7ff\">None</span>, <span style=\"color: #00af00; text-decoration-color: #00af00\">3</span>)         │        <span style=\"color: #00af00; text-decoration-color: #00af00\">195</span> │ dense_4[<span style=\"color: #00af00; text-decoration-color: #00af00\">0</span>][<span style=\"color: #00af00; text-decoration-color: #00af00\">0</span>]     │\n",
       "├─────────────────────┼───────────────────┼────────────┼───────────────────┤\n",
       "│ MER (<span style=\"color: #0087ff; text-decoration-color: #0087ff\">Dense</span>)         │ (<span style=\"color: #00d7ff; text-decoration-color: #00d7ff\">None</span>, <span style=\"color: #00af00; text-decoration-color: #00af00\">3</span>)         │        <span style=\"color: #00af00; text-decoration-color: #00af00\">195</span> │ dense_4[<span style=\"color: #00af00; text-decoration-color: #00af00\">0</span>][<span style=\"color: #00af00; text-decoration-color: #00af00\">0</span>]     │\n",
       "├─────────────────────┼───────────────────┼────────────┼───────────────────┤\n",
       "│ IMI (<span style=\"color: #0087ff; text-decoration-color: #0087ff\">Dense</span>)         │ (<span style=\"color: #00d7ff; text-decoration-color: #00d7ff\">None</span>, <span style=\"color: #00af00; text-decoration-color: #00af00\">3</span>)         │        <span style=\"color: #00af00; text-decoration-color: #00af00\">195</span> │ dense_4[<span style=\"color: #00af00; text-decoration-color: #00af00\">0</span>][<span style=\"color: #00af00; text-decoration-color: #00af00\">0</span>]     │\n",
       "├─────────────────────┼───────────────────┼────────────┼───────────────────┤\n",
       "│ AZT (<span style=\"color: #0087ff; text-decoration-color: #0087ff\">Dense</span>)         │ (<span style=\"color: #00d7ff; text-decoration-color: #00d7ff\">None</span>, <span style=\"color: #00af00; text-decoration-color: #00af00\">3</span>)         │        <span style=\"color: #00af00; text-decoration-color: #00af00\">195</span> │ dense_4[<span style=\"color: #00af00; text-decoration-color: #00af00\">0</span>][<span style=\"color: #00af00; text-decoration-color: #00af00\">0</span>]     │\n",
       "├─────────────────────┼───────────────────┼────────────┼───────────────────┤\n",
       "│ CIP (<span style=\"color: #0087ff; text-decoration-color: #0087ff\">Dense</span>)         │ (<span style=\"color: #00d7ff; text-decoration-color: #00d7ff\">None</span>, <span style=\"color: #00af00; text-decoration-color: #00af00\">3</span>)         │        <span style=\"color: #00af00; text-decoration-color: #00af00\">195</span> │ dense_4[<span style=\"color: #00af00; text-decoration-color: #00af00\">0</span>][<span style=\"color: #00af00; text-decoration-color: #00af00\">0</span>]     │\n",
       "└─────────────────────┴───────────────────┴────────────┴───────────────────┘\n",
       "</pre>\n"
      ],
      "text/plain": [
       "┏━━━━━━━━━━━━━━━━━━━━━┳━━━━━━━━━━━━━━━━━━━┳━━━━━━━━━━━━┳━━━━━━━━━━━━━━━━━━━┓\n",
       "┃\u001b[1m \u001b[0m\u001b[1mLayer (type)       \u001b[0m\u001b[1m \u001b[0m┃\u001b[1m \u001b[0m\u001b[1mOutput Shape     \u001b[0m\u001b[1m \u001b[0m┃\u001b[1m \u001b[0m\u001b[1m   Param #\u001b[0m\u001b[1m \u001b[0m┃\u001b[1m \u001b[0m\u001b[1mConnected to     \u001b[0m\u001b[1m \u001b[0m┃\n",
       "┡━━━━━━━━━━━━━━━━━━━━━╇━━━━━━━━━━━━━━━━━━━╇━━━━━━━━━━━━╇━━━━━━━━━━━━━━━━━━━┩\n",
       "│ input (\u001b[38;5;33mInputLayer\u001b[0m)  │ (\u001b[38;5;45mNone\u001b[0m, \u001b[38;5;34m2261\u001b[0m)      │          \u001b[38;5;34m0\u001b[0m │ -                 │\n",
       "├─────────────────────┼───────────────────┼────────────┼───────────────────┤\n",
       "│ dense_2 (\u001b[38;5;33mDense\u001b[0m)     │ (\u001b[38;5;45mNone\u001b[0m, \u001b[38;5;34m256\u001b[0m)       │    \u001b[38;5;34m579,072\u001b[0m │ input[\u001b[38;5;34m0\u001b[0m][\u001b[38;5;34m0\u001b[0m]       │\n",
       "├─────────────────────┼───────────────────┼────────────┼───────────────────┤\n",
       "│ dropout (\u001b[38;5;33mDropout\u001b[0m)   │ (\u001b[38;5;45mNone\u001b[0m, \u001b[38;5;34m256\u001b[0m)       │          \u001b[38;5;34m0\u001b[0m │ dense_2[\u001b[38;5;34m0\u001b[0m][\u001b[38;5;34m0\u001b[0m]     │\n",
       "├─────────────────────┼───────────────────┼────────────┼───────────────────┤\n",
       "│ dense_3 (\u001b[38;5;33mDense\u001b[0m)     │ (\u001b[38;5;45mNone\u001b[0m, \u001b[38;5;34m128\u001b[0m)       │     \u001b[38;5;34m32,896\u001b[0m │ dropout[\u001b[38;5;34m0\u001b[0m][\u001b[38;5;34m0\u001b[0m]     │\n",
       "├─────────────────────┼───────────────────┼────────────┼───────────────────┤\n",
       "│ dropout_1 (\u001b[38;5;33mDropout\u001b[0m) │ (\u001b[38;5;45mNone\u001b[0m, \u001b[38;5;34m128\u001b[0m)       │          \u001b[38;5;34m0\u001b[0m │ dense_3[\u001b[38;5;34m0\u001b[0m][\u001b[38;5;34m0\u001b[0m]     │\n",
       "├─────────────────────┼───────────────────┼────────────┼───────────────────┤\n",
       "│ cross_layer         │ (\u001b[38;5;45mNone\u001b[0m, \u001b[38;5;34m128\u001b[0m)       │        \u001b[38;5;34m256\u001b[0m │ dropout_1[\u001b[38;5;34m0\u001b[0m][\u001b[38;5;34m0\u001b[0m]   │\n",
       "│ (\u001b[38;5;33mCrossLayer\u001b[0m)        │                   │            │                   │\n",
       "├─────────────────────┼───────────────────┼────────────┼───────────────────┤\n",
       "│ dense_4 (\u001b[38;5;33mDense\u001b[0m)     │ (\u001b[38;5;45mNone\u001b[0m, \u001b[38;5;34m64\u001b[0m)        │      \u001b[38;5;34m8,256\u001b[0m │ cross_layer[\u001b[38;5;34m0\u001b[0m][\u001b[38;5;34m0\u001b[0m] │\n",
       "├─────────────────────┼───────────────────┼────────────┼───────────────────┤\n",
       "│ FEP (\u001b[38;5;33mDense\u001b[0m)         │ (\u001b[38;5;45mNone\u001b[0m, \u001b[38;5;34m3\u001b[0m)         │        \u001b[38;5;34m195\u001b[0m │ dense_4[\u001b[38;5;34m0\u001b[0m][\u001b[38;5;34m0\u001b[0m]     │\n",
       "├─────────────────────┼───────────────────┼────────────┼───────────────────┤\n",
       "│ MER (\u001b[38;5;33mDense\u001b[0m)         │ (\u001b[38;5;45mNone\u001b[0m, \u001b[38;5;34m3\u001b[0m)         │        \u001b[38;5;34m195\u001b[0m │ dense_4[\u001b[38;5;34m0\u001b[0m][\u001b[38;5;34m0\u001b[0m]     │\n",
       "├─────────────────────┼───────────────────┼────────────┼───────────────────┤\n",
       "│ IMI (\u001b[38;5;33mDense\u001b[0m)         │ (\u001b[38;5;45mNone\u001b[0m, \u001b[38;5;34m3\u001b[0m)         │        \u001b[38;5;34m195\u001b[0m │ dense_4[\u001b[38;5;34m0\u001b[0m][\u001b[38;5;34m0\u001b[0m]     │\n",
       "├─────────────────────┼───────────────────┼────────────┼───────────────────┤\n",
       "│ AZT (\u001b[38;5;33mDense\u001b[0m)         │ (\u001b[38;5;45mNone\u001b[0m, \u001b[38;5;34m3\u001b[0m)         │        \u001b[38;5;34m195\u001b[0m │ dense_4[\u001b[38;5;34m0\u001b[0m][\u001b[38;5;34m0\u001b[0m]     │\n",
       "├─────────────────────┼───────────────────┼────────────┼───────────────────┤\n",
       "│ CIP (\u001b[38;5;33mDense\u001b[0m)         │ (\u001b[38;5;45mNone\u001b[0m, \u001b[38;5;34m3\u001b[0m)         │        \u001b[38;5;34m195\u001b[0m │ dense_4[\u001b[38;5;34m0\u001b[0m][\u001b[38;5;34m0\u001b[0m]     │\n",
       "└─────────────────────┴───────────────────┴────────────┴───────────────────┘\n"
      ]
     },
     "metadata": {},
     "output_type": "display_data"
    },
    {
     "data": {
      "text/html": [
       "<pre style=\"white-space:pre;overflow-x:auto;line-height:normal;font-family:Menlo,'DejaVu Sans Mono',consolas,'Courier New',monospace\"><span style=\"font-weight: bold\"> Total params: </span><span style=\"color: #00af00; text-decoration-color: #00af00\">621,455</span> (2.37 MB)\n",
       "</pre>\n"
      ],
      "text/plain": [
       "\u001b[1m Total params: \u001b[0m\u001b[38;5;34m621,455\u001b[0m (2.37 MB)\n"
      ]
     },
     "metadata": {},
     "output_type": "display_data"
    },
    {
     "data": {
      "text/html": [
       "<pre style=\"white-space:pre;overflow-x:auto;line-height:normal;font-family:Menlo,'DejaVu Sans Mono',consolas,'Courier New',monospace\"><span style=\"font-weight: bold\"> Trainable params: </span><span style=\"color: #00af00; text-decoration-color: #00af00\">621,455</span> (2.37 MB)\n",
       "</pre>\n"
      ],
      "text/plain": [
       "\u001b[1m Trainable params: \u001b[0m\u001b[38;5;34m621,455\u001b[0m (2.37 MB)\n"
      ]
     },
     "metadata": {},
     "output_type": "display_data"
    },
    {
     "data": {
      "text/html": [
       "<pre style=\"white-space:pre;overflow-x:auto;line-height:normal;font-family:Menlo,'DejaVu Sans Mono',consolas,'Courier New',monospace\"><span style=\"font-weight: bold\"> Non-trainable params: </span><span style=\"color: #00af00; text-decoration-color: #00af00\">0</span> (0.00 B)\n",
       "</pre>\n"
      ],
      "text/plain": [
       "\u001b[1m Non-trainable params: \u001b[0m\u001b[38;5;34m0\u001b[0m (0.00 B)\n"
      ]
     },
     "metadata": {},
     "output_type": "display_data"
    },
    {
     "name": "stdout",
     "output_type": "stream",
     "text": [
      "Calculados parametros para modelo\n",
      "2025-02-05 09:37:07.481671\n",
      "FEP_eval -> ['s' 'r' 'i']\n",
      "MER_eval -> ['s' 'r' 'i']\n",
      "IMI_eval -> ['s' 'r' 'i']\n",
      "AZT_eval -> ['i' 'r' 's']\n",
      "CIP_eval -> ['r' 's' 'i']\n"
     ]
    }
   ],
   "source": [
    "# ## 5. Definir el modelo de redes neuronales multi-salida\n",
    "#\n",
    "# Se construirán 5 salidas, una para cada antibiótico, cada una con 3 neuronas (softmax).\n",
    "input_layer = Input(shape=(X_train_input.shape[1],), name='input')\n",
    "x = Dense(256, activation='relu')(input_layer)\n",
    "x = Dropout(0.3)(x)\n",
    "x = Dense(128, activation='relu')(x)\n",
    "x = Dropout(0.3)(x)\n",
    "# Capa Cross para modelar interacciones entre las mutaciones\n",
    "x = CrossLayer(num_layers=1)(x)\n",
    "x = Dense(64, activation='relu')(x)\n",
    "\n",
    "print(\"Salidas creadas\")\n",
    "\n",
    "# Salidas para cada antibiótico: FEP, MER, IMI, AZT, CIP\n",
    "out_FEP = Dense(3, activation='softmax', name='FEP')(x)\n",
    "out_MER = Dense(3, activation='softmax', name='MER')(x)\n",
    "out_IMI = Dense(3, activation='softmax', name='IMI')(x)\n",
    "out_AZT = Dense(3, activation='softmax', name='AZT')(x)\n",
    "out_CIP = Dense(3, activation='softmax', name='CIP')(x)\n",
    "\n",
    "print(\"Ejecutando modelo\")\n",
    "\n",
    "model = tf.keras.models.Model(inputs=input_layer, outputs=[out_FEP, out_MER, out_IMI, out_AZT, out_CIP])\n",
    "model.compile(optimizer='adam',\n",
    "              loss={'FEP': 'categorical_crossentropy',\n",
    "                    'MER': 'categorical_crossentropy',\n",
    "                    'IMI': 'categorical_crossentropy',\n",
    "                    'AZT': 'categorical_crossentropy',\n",
    "                    'CIP': 'categorical_crossentropy'},\n",
    "              metrics={'FEP': 'accuracy',\n",
    "                       'MER': 'accuracy',\n",
    "                       'IMI': 'accuracy',\n",
    "                       'AZT': 'accuracy',\n",
    "                       'CIP': 'accuracy'})\n",
    "\n",
    "model.summary()\n",
    "print(\"Calculados parametros para modelo\")\n",
    "print(pd.Timestamp.now())\n",
    "\n",
    "for col in eval_cols:\n",
    "    unique_vals = train_df[col].astype(str).str.lower().unique()\n",
    "    print(f\"{col} -> {unique_vals}\")"
   ]
  },
  {
   "cell_type": "markdown",
   "id": "f590b247-87c9-4b16-aed4-9bb34cc0f845",
   "metadata": {},
   "source": [
    "## 6. Entrenar el modelo"
   ]
  },
  {
   "cell_type": "code",
   "execution_count": 8,
   "id": "bd2628a3-6d88-4fca-be42-c3ffd8b7d4e6",
   "metadata": {},
   "outputs": [
    {
     "name": "stdout",
     "output_type": "stream",
     "text": [
      "Dimensiones del DataFrame original: (1045, 79)\n",
      "Dimensiones de X_train_input: (1045, 2261)\n",
      "Dimensiones de y_train[FEP]: (1045, 3)\n",
      "Dimensiones de y_train[MER]: (1045, 3)\n",
      "Dimensiones de y_train[IMI]: (1045, 3)\n",
      "Dimensiones de y_train[AZT]: (1045, 3)\n",
      "Dimensiones de y_train[CIP]: (1045, 3)\n",
      "Epoch 1/50\n",
      "\u001b[1m27/27\u001b[0m \u001b[32m━━━━━━━━━━━━━━━━━━━━\u001b[0m\u001b[37m\u001b[0m \u001b[1m3s\u001b[0m 28ms/step - AZT_accuracy: 0.5041 - AZT_loss: 1.0726 - CIP_accuracy: 0.5005 - CIP_loss: 0.9631 - FEP_accuracy: 0.4083 - FEP_loss: 1.0049 - IMI_accuracy: 0.4177 - IMI_loss: 1.0742 - MER_accuracy: 0.4085 - MER_loss: 1.0845 - loss: 5.2008 - val_AZT_accuracy: 0.1483 - val_AZT_loss: 1.3066 - val_CIP_accuracy: 0.3876 - val_CIP_loss: 0.7634 - val_FEP_accuracy: 0.7943 - val_FEP_loss: 0.7604 - val_IMI_accuracy: 0.8421 - val_IMI_loss: 0.9116 - val_MER_accuracy: 0.6603 - val_MER_loss: 0.9537 - val_loss: 4.6566\n",
      "Epoch 2/50\n",
      "\u001b[1m27/27\u001b[0m \u001b[32m━━━━━━━━━━━━━━━━━━━━\u001b[0m\u001b[37m\u001b[0m \u001b[1m0s\u001b[0m 12ms/step - AZT_accuracy: 0.6729 - AZT_loss: 0.8269 - CIP_accuracy: 0.6485 - CIP_loss: 0.6287 - FEP_accuracy: 0.7168 - FEP_loss: 0.7088 - IMI_accuracy: 0.5390 - IMI_loss: 0.9734 - MER_accuracy: 0.5726 - MER_loss: 0.9167 - loss: 4.0555 - val_AZT_accuracy: 0.1627 - val_AZT_loss: 1.4984 - val_CIP_accuracy: 0.8660 - val_CIP_loss: 0.5533 - val_FEP_accuracy: 0.9617 - val_FEP_loss: 0.4058 - val_IMI_accuracy: 0.8708 - val_IMI_loss: 0.7000 - val_MER_accuracy: 0.7512 - val_MER_loss: 0.8768 - val_loss: 3.9814\n",
      "Epoch 3/50\n",
      "\u001b[1m27/27\u001b[0m \u001b[32m━━━━━━━━━━━━━━━━━━━━\u001b[0m\u001b[37m\u001b[0m \u001b[1m0s\u001b[0m 12ms/step - AZT_accuracy: 0.6977 - AZT_loss: 0.7175 - CIP_accuracy: 0.7533 - CIP_loss: 0.4761 - FEP_accuracy: 0.7528 - FEP_loss: 0.5559 - IMI_accuracy: 0.5803 - IMI_loss: 0.8824 - MER_accuracy: 0.6032 - MER_loss: 0.8528 - loss: 3.4832 - val_AZT_accuracy: 0.1627 - val_AZT_loss: 1.6795 - val_CIP_accuracy: 0.8469 - val_CIP_loss: 0.4242 - val_FEP_accuracy: 0.9617 - val_FEP_loss: 0.2690 - val_IMI_accuracy: 0.8756 - val_IMI_loss: 0.5863 - val_MER_accuracy: 0.7943 - val_MER_loss: 0.6959 - val_loss: 3.5929\n",
      "Epoch 4/50\n",
      "\u001b[1m27/27\u001b[0m \u001b[32m━━━━━━━━━━━━━━━━━━━━\u001b[0m\u001b[37m\u001b[0m \u001b[1m0s\u001b[0m 11ms/step - AZT_accuracy: 0.7475 - AZT_loss: 0.6464 - CIP_accuracy: 0.7697 - CIP_loss: 0.4189 - FEP_accuracy: 0.7810 - FEP_loss: 0.4812 - IMI_accuracy: 0.6217 - IMI_loss: 0.8069 - MER_accuracy: 0.6231 - MER_loss: 0.7819 - loss: 3.1362 - val_AZT_accuracy: 0.1675 - val_AZT_loss: 1.6465 - val_CIP_accuracy: 0.8421 - val_CIP_loss: 0.4106 - val_FEP_accuracy: 0.9187 - val_FEP_loss: 0.3302 - val_IMI_accuracy: 0.8708 - val_IMI_loss: 0.5672 - val_MER_accuracy: 0.7943 - val_MER_loss: 0.6659 - val_loss: 3.5590\n",
      "Epoch 5/50\n",
      "\u001b[1m27/27\u001b[0m \u001b[32m━━━━━━━━━━━━━━━━━━━━\u001b[0m\u001b[37m\u001b[0m \u001b[1m0s\u001b[0m 10ms/step - AZT_accuracy: 0.7694 - AZT_loss: 0.6217 - CIP_accuracy: 0.7346 - CIP_loss: 0.4253 - FEP_accuracy: 0.7661 - FEP_loss: 0.4910 - IMI_accuracy: 0.5993 - IMI_loss: 0.8196 - MER_accuracy: 0.6145 - MER_loss: 0.7831 - loss: 3.1416 - val_AZT_accuracy: 0.1722 - val_AZT_loss: 1.3032 - val_CIP_accuracy: 0.8325 - val_CIP_loss: 0.4118 - val_FEP_accuracy: 0.9617 - val_FEP_loss: 0.2394 - val_IMI_accuracy: 0.8708 - val_IMI_loss: 0.5160 - val_MER_accuracy: 0.7895 - val_MER_loss: 0.6665 - val_loss: 3.0771\n",
      "Epoch 6/50\n",
      "\u001b[1m27/27\u001b[0m \u001b[32m━━━━━━━━━━━━━━━━━━━━\u001b[0m\u001b[37m\u001b[0m \u001b[1m0s\u001b[0m 11ms/step - AZT_accuracy: 0.7805 - AZT_loss: 0.5780 - CIP_accuracy: 0.7562 - CIP_loss: 0.4182 - FEP_accuracy: 0.8069 - FEP_loss: 0.4479 - IMI_accuracy: 0.6547 - IMI_loss: 0.7702 - MER_accuracy: 0.6293 - MER_loss: 0.7450 - loss: 2.9605 - val_AZT_accuracy: 0.1722 - val_AZT_loss: 1.2437 - val_CIP_accuracy: 0.8230 - val_CIP_loss: 0.4154 - val_FEP_accuracy: 0.9569 - val_FEP_loss: 0.2221 - val_IMI_accuracy: 0.8708 - val_IMI_loss: 0.5076 - val_MER_accuracy: 0.8038 - val_MER_loss: 0.5983 - val_loss: 2.9289\n",
      "Epoch 7/50\n",
      "\u001b[1m27/27\u001b[0m \u001b[32m━━━━━━━━━━━━━━━━━━━━\u001b[0m\u001b[37m\u001b[0m \u001b[1m0s\u001b[0m 11ms/step - AZT_accuracy: 0.7846 - AZT_loss: 0.5639 - CIP_accuracy: 0.7595 - CIP_loss: 0.4449 - FEP_accuracy: 0.7982 - FEP_loss: 0.4546 - IMI_accuracy: 0.6403 - IMI_loss: 0.7550 - MER_accuracy: 0.6310 - MER_loss: 0.7616 - loss: 2.9780 - val_AZT_accuracy: 0.2010 - val_AZT_loss: 1.1381 - val_CIP_accuracy: 0.8421 - val_CIP_loss: 0.3851 - val_FEP_accuracy: 0.9426 - val_FEP_loss: 0.2322 - val_IMI_accuracy: 0.8708 - val_IMI_loss: 0.4712 - val_MER_accuracy: 0.7943 - val_MER_loss: 0.6127 - val_loss: 2.7826\n",
      "Epoch 8/50\n",
      "\u001b[1m27/27\u001b[0m \u001b[32m━━━━━━━━━━━━━━━━━━━━\u001b[0m\u001b[37m\u001b[0m \u001b[1m0s\u001b[0m 10ms/step - AZT_accuracy: 0.7928 - AZT_loss: 0.5404 - CIP_accuracy: 0.7402 - CIP_loss: 0.4257 - FEP_accuracy: 0.8269 - FEP_loss: 0.3970 - IMI_accuracy: 0.6156 - IMI_loss: 0.7982 - MER_accuracy: 0.6610 - MER_loss: 0.7144 - loss: 2.8701 - val_AZT_accuracy: 0.7416 - val_AZT_loss: 0.8483 - val_CIP_accuracy: 0.8421 - val_CIP_loss: 0.4051 - val_FEP_accuracy: 0.9522 - val_FEP_loss: 0.2313 - val_IMI_accuracy: 0.8708 - val_IMI_loss: 0.4900 - val_MER_accuracy: 0.7847 - val_MER_loss: 0.6314 - val_loss: 2.5484\n",
      "Epoch 9/50\n",
      "\u001b[1m27/27\u001b[0m \u001b[32m━━━━━━━━━━━━━━━━━━━━\u001b[0m\u001b[37m\u001b[0m \u001b[1m0s\u001b[0m 10ms/step - AZT_accuracy: 0.7938 - AZT_loss: 0.5543 - CIP_accuracy: 0.7475 - CIP_loss: 0.4160 - FEP_accuracy: 0.7833 - FEP_loss: 0.4437 - IMI_accuracy: 0.6034 - IMI_loss: 0.7648 - MER_accuracy: 0.6512 - MER_loss: 0.7095 - loss: 2.8910 - val_AZT_accuracy: 0.7895 - val_AZT_loss: 0.7902 - val_CIP_accuracy: 0.8182 - val_CIP_loss: 0.4353 - val_FEP_accuracy: 0.9474 - val_FEP_loss: 0.2165 - val_IMI_accuracy: 0.8708 - val_IMI_loss: 0.4883 - val_MER_accuracy: 0.7990 - val_MER_loss: 0.5889 - val_loss: 2.4616\n",
      "Epoch 10/50\n",
      "\u001b[1m27/27\u001b[0m \u001b[32m━━━━━━━━━━━━━━━━━━━━\u001b[0m\u001b[37m\u001b[0m \u001b[1m0s\u001b[0m 11ms/step - AZT_accuracy: 0.8055 - AZT_loss: 0.5103 - CIP_accuracy: 0.7499 - CIP_loss: 0.4040 - FEP_accuracy: 0.8193 - FEP_loss: 0.4065 - IMI_accuracy: 0.6144 - IMI_loss: 0.7406 - MER_accuracy: 0.6369 - MER_loss: 0.6893 - loss: 2.7529 - val_AZT_accuracy: 0.7656 - val_AZT_loss: 0.8041 - val_CIP_accuracy: 0.8373 - val_CIP_loss: 0.4101 - val_FEP_accuracy: 0.9378 - val_FEP_loss: 0.2342 - val_IMI_accuracy: 0.8708 - val_IMI_loss: 0.4811 - val_MER_accuracy: 0.7943 - val_MER_loss: 0.6067 - val_loss: 2.4773\n",
      "Epoch 11/50\n",
      "\u001b[1m27/27\u001b[0m \u001b[32m━━━━━━━━━━━━━━━━━━━━\u001b[0m\u001b[37m\u001b[0m \u001b[1m0s\u001b[0m 11ms/step - AZT_accuracy: 0.7958 - AZT_loss: 0.5199 - CIP_accuracy: 0.7403 - CIP_loss: 0.3748 - FEP_accuracy: 0.8064 - FEP_loss: 0.3983 - IMI_accuracy: 0.6520 - IMI_loss: 0.7231 - MER_accuracy: 0.6618 - MER_loss: 0.6614 - loss: 2.6806 - val_AZT_accuracy: 0.8230 - val_AZT_loss: 0.7253 - val_CIP_accuracy: 0.8086 - val_CIP_loss: 0.4456 - val_FEP_accuracy: 0.9378 - val_FEP_loss: 0.2228 - val_IMI_accuracy: 0.8708 - val_IMI_loss: 0.4857 - val_MER_accuracy: 0.8038 - val_MER_loss: 0.5819 - val_loss: 2.4034\n",
      "Epoch 12/50\n",
      "\u001b[1m27/27\u001b[0m \u001b[32m━━━━━━━━━━━━━━━━━━━━\u001b[0m\u001b[37m\u001b[0m \u001b[1m0s\u001b[0m 9ms/step - AZT_accuracy: 0.8304 - AZT_loss: 0.4690 - CIP_accuracy: 0.7461 - CIP_loss: 0.4054 - FEP_accuracy: 0.8124 - FEP_loss: 0.4071 - IMI_accuracy: 0.6196 - IMI_loss: 0.7437 - MER_accuracy: 0.6410 - MER_loss: 0.6964 - loss: 2.7213 - val_AZT_accuracy: 0.8182 - val_AZT_loss: 0.7212 - val_CIP_accuracy: 0.8373 - val_CIP_loss: 0.4011 - val_FEP_accuracy: 0.9426 - val_FEP_loss: 0.2118 - val_IMI_accuracy: 0.8708 - val_IMI_loss: 0.4712 - val_MER_accuracy: 0.8038 - val_MER_loss: 0.6010 - val_loss: 2.3497\n",
      "Epoch 13/50\n",
      "\u001b[1m27/27\u001b[0m \u001b[32m━━━━━━━━━━━━━━━━━━━━\u001b[0m\u001b[37m\u001b[0m \u001b[1m0s\u001b[0m 11ms/step - AZT_accuracy: 0.8200 - AZT_loss: 0.5020 - CIP_accuracy: 0.7760 - CIP_loss: 0.3891 - FEP_accuracy: 0.8219 - FEP_loss: 0.3805 - IMI_accuracy: 0.6857 - IMI_loss: 0.6689 - MER_accuracy: 0.6905 - MER_loss: 0.6491 - loss: 2.5924 - val_AZT_accuracy: 0.8278 - val_AZT_loss: 0.6664 - val_CIP_accuracy: 0.8373 - val_CIP_loss: 0.4029 - val_FEP_accuracy: 0.9282 - val_FEP_loss: 0.2493 - val_IMI_accuracy: 0.8708 - val_IMI_loss: 0.4703 - val_MER_accuracy: 0.7990 - val_MER_loss: 0.5948 - val_loss: 2.3273\n",
      "Epoch 14/50\n",
      "\u001b[1m27/27\u001b[0m \u001b[32m━━━━━━━━━━━━━━━━━━━━\u001b[0m\u001b[37m\u001b[0m \u001b[1m0s\u001b[0m 12ms/step - AZT_accuracy: 0.8143 - AZT_loss: 0.5239 - CIP_accuracy: 0.7706 - CIP_loss: 0.4247 - FEP_accuracy: 0.8046 - FEP_loss: 0.4172 - IMI_accuracy: 0.6652 - IMI_loss: 0.7354 - MER_accuracy: 0.6543 - MER_loss: 0.7147 - loss: 2.8114 - val_AZT_accuracy: 0.8708 - val_AZT_loss: 0.5123 - val_CIP_accuracy: 0.8325 - val_CIP_loss: 0.4399 - val_FEP_accuracy: 0.9426 - val_FEP_loss: 0.1951 - val_IMI_accuracy: 0.8660 - val_IMI_loss: 0.5035 - val_MER_accuracy: 0.7990 - val_MER_loss: 0.5748 - val_loss: 2.1709\n",
      "Epoch 15/50\n",
      "\u001b[1m27/27\u001b[0m \u001b[32m━━━━━━━━━━━━━━━━━━━━\u001b[0m\u001b[37m\u001b[0m \u001b[1m0s\u001b[0m 9ms/step - AZT_accuracy: 0.8075 - AZT_loss: 0.4958 - CIP_accuracy: 0.7704 - CIP_loss: 0.3740 - FEP_accuracy: 0.8146 - FEP_loss: 0.3964 - IMI_accuracy: 0.6451 - IMI_loss: 0.6827 - MER_accuracy: 0.6780 - MER_loss: 0.6640 - loss: 2.6135 - val_AZT_accuracy: 0.8565 - val_AZT_loss: 0.6021 - val_CIP_accuracy: 0.8325 - val_CIP_loss: 0.4293 - val_FEP_accuracy: 0.9330 - val_FEP_loss: 0.2206 - val_IMI_accuracy: 0.8660 - val_IMI_loss: 0.4832 - val_MER_accuracy: 0.7990 - val_MER_loss: 0.5759 - val_loss: 2.2580\n",
      "Epoch 16/50\n",
      "\u001b[1m27/27\u001b[0m \u001b[32m━━━━━━━━━━━━━━━━━━━━\u001b[0m\u001b[37m\u001b[0m \u001b[1m0s\u001b[0m 11ms/step - AZT_accuracy: 0.8074 - AZT_loss: 0.5088 - CIP_accuracy: 0.7843 - CIP_loss: 0.3629 - FEP_accuracy: 0.8005 - FEP_loss: 0.3975 - IMI_accuracy: 0.6826 - IMI_loss: 0.6478 - MER_accuracy: 0.6817 - MER_loss: 0.6205 - loss: 2.5367 - val_AZT_accuracy: 0.8804 - val_AZT_loss: 0.5058 - val_CIP_accuracy: 0.8134 - val_CIP_loss: 0.4738 - val_FEP_accuracy: 0.9426 - val_FEP_loss: 0.1945 - val_IMI_accuracy: 0.8660 - val_IMI_loss: 0.4768 - val_MER_accuracy: 0.7943 - val_MER_loss: 0.5750 - val_loss: 2.1736\n",
      "Epoch 17/50\n",
      "\u001b[1m27/27\u001b[0m \u001b[32m━━━━━━━━━━━━━━━━━━━━\u001b[0m\u001b[37m\u001b[0m \u001b[1m0s\u001b[0m 12ms/step - AZT_accuracy: 0.8120 - AZT_loss: 0.4995 - CIP_accuracy: 0.7722 - CIP_loss: 0.3801 - FEP_accuracy: 0.8284 - FEP_loss: 0.3868 - IMI_accuracy: 0.6621 - IMI_loss: 0.6775 - MER_accuracy: 0.6857 - MER_loss: 0.6438 - loss: 2.5911 - val_AZT_accuracy: 0.8517 - val_AZT_loss: 0.5655 - val_CIP_accuracy: 0.8373 - val_CIP_loss: 0.4209 - val_FEP_accuracy: 0.9378 - val_FEP_loss: 0.2436 - val_IMI_accuracy: 0.8660 - val_IMI_loss: 0.4976 - val_MER_accuracy: 0.7990 - val_MER_loss: 0.5997 - val_loss: 2.2728\n",
      "Epoch 18/50\n",
      "\u001b[1m27/27\u001b[0m \u001b[32m━━━━━━━━━━━━━━━━━━━━\u001b[0m\u001b[37m\u001b[0m \u001b[1m0s\u001b[0m 10ms/step - AZT_accuracy: 0.8494 - AZT_loss: 0.4275 - CIP_accuracy: 0.7695 - CIP_loss: 0.3899 - FEP_accuracy: 0.8186 - FEP_loss: 0.3879 - IMI_accuracy: 0.6708 - IMI_loss: 0.6809 - MER_accuracy: 0.6563 - MER_loss: 0.6615 - loss: 2.5451 - val_AZT_accuracy: 0.8756 - val_AZT_loss: 0.4864 - val_CIP_accuracy: 0.8373 - val_CIP_loss: 0.3935 - val_FEP_accuracy: 0.9282 - val_FEP_loss: 0.2372 - val_IMI_accuracy: 0.8708 - val_IMI_loss: 0.4786 - val_MER_accuracy: 0.7990 - val_MER_loss: 0.6080 - val_loss: 2.1505\n",
      "Epoch 19/50\n",
      "\u001b[1m27/27\u001b[0m \u001b[32m━━━━━━━━━━━━━━━━━━━━\u001b[0m\u001b[37m\u001b[0m \u001b[1m0s\u001b[0m 11ms/step - AZT_accuracy: 0.8231 - AZT_loss: 0.4749 - CIP_accuracy: 0.7635 - CIP_loss: 0.4260 - FEP_accuracy: 0.8119 - FEP_loss: 0.4062 - IMI_accuracy: 0.6550 - IMI_loss: 0.6967 - MER_accuracy: 0.6813 - MER_loss: 0.6616 - loss: 2.6621 - val_AZT_accuracy: 0.8756 - val_AZT_loss: 0.4860 - val_CIP_accuracy: 0.8134 - val_CIP_loss: 0.4706 - val_FEP_accuracy: 0.9426 - val_FEP_loss: 0.1886 - val_IMI_accuracy: 0.8660 - val_IMI_loss: 0.4796 - val_MER_accuracy: 0.7990 - val_MER_loss: 0.5663 - val_loss: 2.1380\n",
      "Epoch 20/50\n",
      "\u001b[1m27/27\u001b[0m \u001b[32m━━━━━━━━━━━━━━━━━━━━\u001b[0m\u001b[37m\u001b[0m \u001b[1m0s\u001b[0m 12ms/step - AZT_accuracy: 0.8157 - AZT_loss: 0.4792 - CIP_accuracy: 0.7638 - CIP_loss: 0.3956 - FEP_accuracy: 0.8097 - FEP_loss: 0.4033 - IMI_accuracy: 0.6570 - IMI_loss: 0.6953 - MER_accuracy: 0.6782 - MER_loss: 0.6766 - loss: 2.6544 - val_AZT_accuracy: 0.8900 - val_AZT_loss: 0.4455 - val_CIP_accuracy: 0.8421 - val_CIP_loss: 0.4247 - val_FEP_accuracy: 0.9426 - val_FEP_loss: 0.1835 - val_IMI_accuracy: 0.8708 - val_IMI_loss: 0.4925 - val_MER_accuracy: 0.8038 - val_MER_loss: 0.6290 - val_loss: 2.1201\n",
      "Epoch 21/50\n",
      "\u001b[1m27/27\u001b[0m \u001b[32m━━━━━━━━━━━━━━━━━━━━\u001b[0m\u001b[37m\u001b[0m \u001b[1m0s\u001b[0m 10ms/step - AZT_accuracy: 0.8183 - AZT_loss: 0.4707 - CIP_accuracy: 0.7549 - CIP_loss: 0.3747 - FEP_accuracy: 0.8045 - FEP_loss: 0.4090 - IMI_accuracy: 0.6542 - IMI_loss: 0.6909 - MER_accuracy: 0.6668 - MER_loss: 0.6601 - loss: 2.6086 - val_AZT_accuracy: 0.8804 - val_AZT_loss: 0.4413 - val_CIP_accuracy: 0.8325 - val_CIP_loss: 0.4595 - val_FEP_accuracy: 0.9426 - val_FEP_loss: 0.1916 - val_IMI_accuracy: 0.8708 - val_IMI_loss: 0.4775 - val_MER_accuracy: 0.8038 - val_MER_loss: 0.5927 - val_loss: 2.1059\n",
      "Epoch 22/50\n",
      "\u001b[1m27/27\u001b[0m \u001b[32m━━━━━━━━━━━━━━━━━━━━\u001b[0m\u001b[37m\u001b[0m \u001b[1m0s\u001b[0m 10ms/step - AZT_accuracy: 0.8373 - AZT_loss: 0.4490 - CIP_accuracy: 0.7799 - CIP_loss: 0.3705 - FEP_accuracy: 0.8217 - FEP_loss: 0.3745 - IMI_accuracy: 0.6822 - IMI_loss: 0.6499 - MER_accuracy: 0.6900 - MER_loss: 0.6426 - loss: 2.4857 - val_AZT_accuracy: 0.8804 - val_AZT_loss: 0.3918 - val_CIP_accuracy: 0.8373 - val_CIP_loss: 0.4278 - val_FEP_accuracy: 0.9426 - val_FEP_loss: 0.1998 - val_IMI_accuracy: 0.8708 - val_IMI_loss: 0.4886 - val_MER_accuracy: 0.7990 - val_MER_loss: 0.6114 - val_loss: 2.0650\n",
      "Epoch 23/50\n",
      "\u001b[1m27/27\u001b[0m \u001b[32m━━━━━━━━━━━━━━━━━━━━\u001b[0m\u001b[37m\u001b[0m \u001b[1m0s\u001b[0m 11ms/step - AZT_accuracy: 0.8182 - AZT_loss: 0.4750 - CIP_accuracy: 0.7352 - CIP_loss: 0.3846 - FEP_accuracy: 0.7838 - FEP_loss: 0.4260 - IMI_accuracy: 0.6288 - IMI_loss: 0.6903 - MER_accuracy: 0.6496 - MER_loss: 0.6523 - loss: 2.6340 - val_AZT_accuracy: 0.8995 - val_AZT_loss: 0.4096 - val_CIP_accuracy: 0.8325 - val_CIP_loss: 0.4700 - val_FEP_accuracy: 0.9426 - val_FEP_loss: 0.1914 - val_IMI_accuracy: 0.8708 - val_IMI_loss: 0.5098 - val_MER_accuracy: 0.7990 - val_MER_loss: 0.6090 - val_loss: 2.1331\n",
      "Epoch 24/50\n",
      "\u001b[1m27/27\u001b[0m \u001b[32m━━━━━━━━━━━━━━━━━━━━\u001b[0m\u001b[37m\u001b[0m \u001b[1m0s\u001b[0m 10ms/step - AZT_accuracy: 0.8290 - AZT_loss: 0.4397 - CIP_accuracy: 0.7778 - CIP_loss: 0.3636 - FEP_accuracy: 0.8133 - FEP_loss: 0.3697 - IMI_accuracy: 0.6761 - IMI_loss: 0.6542 - MER_accuracy: 0.7083 - MER_loss: 0.6039 - loss: 2.4291 - val_AZT_accuracy: 0.8756 - val_AZT_loss: 0.4923 - val_CIP_accuracy: 0.8278 - val_CIP_loss: 0.4906 - val_FEP_accuracy: 0.9426 - val_FEP_loss: 0.1829 - val_IMI_accuracy: 0.8660 - val_IMI_loss: 0.4934 - val_MER_accuracy: 0.7990 - val_MER_loss: 0.5883 - val_loss: 2.1886\n",
      "Epoch 25/50\n",
      "\u001b[1m27/27\u001b[0m \u001b[32m━━━━━━━━━━━━━━━━━━━━\u001b[0m\u001b[37m\u001b[0m \u001b[1m0s\u001b[0m 11ms/step - AZT_accuracy: 0.8198 - AZT_loss: 0.4574 - CIP_accuracy: 0.7647 - CIP_loss: 0.3864 - FEP_accuracy: 0.8162 - FEP_loss: 0.3876 - IMI_accuracy: 0.6597 - IMI_loss: 0.6774 - MER_accuracy: 0.6742 - MER_loss: 0.6597 - loss: 2.5698 - val_AZT_accuracy: 0.9043 - val_AZT_loss: 0.3965 - val_CIP_accuracy: 0.8421 - val_CIP_loss: 0.4635 - val_FEP_accuracy: 0.9474 - val_FEP_loss: 0.1807 - val_IMI_accuracy: 0.8660 - val_IMI_loss: 0.4976 - val_MER_accuracy: 0.7943 - val_MER_loss: 0.5921 - val_loss: 2.0706\n",
      "Epoch 26/50\n",
      "\u001b[1m27/27\u001b[0m \u001b[32m━━━━━━━━━━━━━━━━━━━━\u001b[0m\u001b[37m\u001b[0m \u001b[1m0s\u001b[0m 12ms/step - AZT_accuracy: 0.8083 - AZT_loss: 0.4652 - CIP_accuracy: 0.7639 - CIP_loss: 0.3873 - FEP_accuracy: 0.8107 - FEP_loss: 0.3948 - IMI_accuracy: 0.6873 - IMI_loss: 0.6352 - MER_accuracy: 0.6761 - MER_loss: 0.6372 - loss: 2.5188 - val_AZT_accuracy: 0.8995 - val_AZT_loss: 0.3821 - val_CIP_accuracy: 0.8278 - val_CIP_loss: 0.4889 - val_FEP_accuracy: 0.9474 - val_FEP_loss: 0.1746 - val_IMI_accuracy: 0.8660 - val_IMI_loss: 0.4868 - val_MER_accuracy: 0.7990 - val_MER_loss: 0.6079 - val_loss: 2.0824\n",
      "Epoch 27/50\n",
      "\u001b[1m27/27\u001b[0m \u001b[32m━━━━━━━━━━━━━━━━━━━━\u001b[0m\u001b[37m\u001b[0m \u001b[1m0s\u001b[0m 11ms/step - AZT_accuracy: 0.8462 - AZT_loss: 0.4349 - CIP_accuracy: 0.7901 - CIP_loss: 0.3702 - FEP_accuracy: 0.8250 - FEP_loss: 0.3787 - IMI_accuracy: 0.6659 - IMI_loss: 0.6603 - MER_accuracy: 0.7019 - MER_loss: 0.6308 - loss: 2.4683 - val_AZT_accuracy: 0.8995 - val_AZT_loss: 0.3445 - val_CIP_accuracy: 0.8325 - val_CIP_loss: 0.4395 - val_FEP_accuracy: 0.9426 - val_FEP_loss: 0.1903 - val_IMI_accuracy: 0.8660 - val_IMI_loss: 0.4867 - val_MER_accuracy: 0.7943 - val_MER_loss: 0.6366 - val_loss: 2.0382\n",
      "Epoch 28/50\n",
      "\u001b[1m27/27\u001b[0m \u001b[32m━━━━━━━━━━━━━━━━━━━━\u001b[0m\u001b[37m\u001b[0m \u001b[1m0s\u001b[0m 13ms/step - AZT_accuracy: 0.8172 - AZT_loss: 0.4563 - CIP_accuracy: 0.7547 - CIP_loss: 0.3721 - FEP_accuracy: 0.8157 - FEP_loss: 0.3788 - IMI_accuracy: 0.6507 - IMI_loss: 0.6748 - MER_accuracy: 0.6596 - MER_loss: 0.6422 - loss: 2.5236 - val_AZT_accuracy: 0.9139 - val_AZT_loss: 0.3065 - val_CIP_accuracy: 0.8373 - val_CIP_loss: 0.4939 - val_FEP_accuracy: 0.9474 - val_FEP_loss: 0.1732 - val_IMI_accuracy: 0.8756 - val_IMI_loss: 0.4937 - val_MER_accuracy: 0.7990 - val_MER_loss: 0.6464 - val_loss: 2.0541\n",
      "Epoch 29/50\n",
      "\u001b[1m27/27\u001b[0m \u001b[32m━━━━━━━━━━━━━━━━━━━━\u001b[0m\u001b[37m\u001b[0m \u001b[1m0s\u001b[0m 11ms/step - AZT_accuracy: 0.8217 - AZT_loss: 0.4456 - CIP_accuracy: 0.7669 - CIP_loss: 0.3823 - FEP_accuracy: 0.8075 - FEP_loss: 0.3809 - IMI_accuracy: 0.6568 - IMI_loss: 0.6703 - MER_accuracy: 0.6744 - MER_loss: 0.6419 - loss: 2.5208 - val_AZT_accuracy: 0.9187 - val_AZT_loss: 0.3176 - val_CIP_accuracy: 0.8421 - val_CIP_loss: 0.4838 - val_FEP_accuracy: 0.9426 - val_FEP_loss: 0.1800 - val_IMI_accuracy: 0.8708 - val_IMI_loss: 0.5119 - val_MER_accuracy: 0.7799 - val_MER_loss: 0.6715 - val_loss: 2.1036\n",
      "Epoch 30/50\n",
      "\u001b[1m27/27\u001b[0m \u001b[32m━━━━━━━━━━━━━━━━━━━━\u001b[0m\u001b[37m\u001b[0m \u001b[1m0s\u001b[0m 11ms/step - AZT_accuracy: 0.8128 - AZT_loss: 0.4775 - CIP_accuracy: 0.7551 - CIP_loss: 0.3699 - FEP_accuracy: 0.7992 - FEP_loss: 0.3923 - IMI_accuracy: 0.6753 - IMI_loss: 0.6475 - MER_accuracy: 0.6653 - MER_loss: 0.6546 - loss: 2.5367 - val_AZT_accuracy: 0.9378 - val_AZT_loss: 0.2471 - val_CIP_accuracy: 0.8230 - val_CIP_loss: 0.5549 - val_FEP_accuracy: 0.9474 - val_FEP_loss: 0.1735 - val_IMI_accuracy: 0.8756 - val_IMI_loss: 0.5049 - val_MER_accuracy: 0.7990 - val_MER_loss: 0.6559 - val_loss: 2.0749\n",
      "Epoch 31/50\n",
      "\u001b[1m27/27\u001b[0m \u001b[32m━━━━━━━━━━━━━━━━━━━━\u001b[0m\u001b[37m\u001b[0m \u001b[1m0s\u001b[0m 11ms/step - AZT_accuracy: 0.8207 - AZT_loss: 0.4617 - CIP_accuracy: 0.7842 - CIP_loss: 0.3759 - FEP_accuracy: 0.8217 - FEP_loss: 0.3882 - IMI_accuracy: 0.6534 - IMI_loss: 0.6783 - MER_accuracy: 0.6838 - MER_loss: 0.6347 - loss: 2.5407 - val_AZT_accuracy: 0.8900 - val_AZT_loss: 0.4161 - val_CIP_accuracy: 0.8373 - val_CIP_loss: 0.4429 - val_FEP_accuracy: 0.9522 - val_FEP_loss: 0.1879 - val_IMI_accuracy: 0.8756 - val_IMI_loss: 0.4905 - val_MER_accuracy: 0.7943 - val_MER_loss: 0.6468 - val_loss: 2.1316\n",
      "Epoch 32/50\n",
      "\u001b[1m27/27\u001b[0m \u001b[32m━━━━━━━━━━━━━━━━━━━━\u001b[0m\u001b[37m\u001b[0m \u001b[1m0s\u001b[0m 11ms/step - AZT_accuracy: 0.8152 - AZT_loss: 0.4635 - CIP_accuracy: 0.7613 - CIP_loss: 0.3853 - FEP_accuracy: 0.8067 - FEP_loss: 0.3920 - IMI_accuracy: 0.6617 - IMI_loss: 0.6738 - MER_accuracy: 0.6559 - MER_loss: 0.6569 - loss: 2.5697 - val_AZT_accuracy: 0.9139 - val_AZT_loss: 0.2872 - val_CIP_accuracy: 0.8421 - val_CIP_loss: 0.4832 - val_FEP_accuracy: 0.9522 - val_FEP_loss: 0.1795 - val_IMI_accuracy: 0.8756 - val_IMI_loss: 0.4797 - val_MER_accuracy: 0.7943 - val_MER_loss: 0.6658 - val_loss: 2.0361\n",
      "Epoch 33/50\n",
      "\u001b[1m27/27\u001b[0m \u001b[32m━━━━━━━━━━━━━━━━━━━━\u001b[0m\u001b[37m\u001b[0m \u001b[1m0s\u001b[0m 11ms/step - AZT_accuracy: 0.8072 - AZT_loss: 0.4918 - CIP_accuracy: 0.7663 - CIP_loss: 0.3884 - FEP_accuracy: 0.8282 - FEP_loss: 0.3680 - IMI_accuracy: 0.6667 - IMI_loss: 0.6646 - MER_accuracy: 0.6767 - MER_loss: 0.6535 - loss: 2.5672 - val_AZT_accuracy: 0.9139 - val_AZT_loss: 0.2482 - val_CIP_accuracy: 0.8230 - val_CIP_loss: 0.5549 - val_FEP_accuracy: 0.9522 - val_FEP_loss: 0.1733 - val_IMI_accuracy: 0.8708 - val_IMI_loss: 0.5507 - val_MER_accuracy: 0.7990 - val_MER_loss: 0.6322 - val_loss: 2.0970\n",
      "Epoch 34/50\n",
      "\u001b[1m27/27\u001b[0m \u001b[32m━━━━━━━━━━━━━━━━━━━━\u001b[0m\u001b[37m\u001b[0m \u001b[1m0s\u001b[0m 10ms/step - AZT_accuracy: 0.8292 - AZT_loss: 0.4584 - CIP_accuracy: 0.7680 - CIP_loss: 0.3674 - FEP_accuracy: 0.8204 - FEP_loss: 0.3730 - IMI_accuracy: 0.6693 - IMI_loss: 0.6531 - MER_accuracy: 0.6759 - MER_loss: 0.6490 - loss: 2.5024 - val_AZT_accuracy: 0.9282 - val_AZT_loss: 0.2115 - val_CIP_accuracy: 0.8421 - val_CIP_loss: 0.5535 - val_FEP_accuracy: 0.9474 - val_FEP_loss: 0.1807 - val_IMI_accuracy: 0.8708 - val_IMI_loss: 0.5416 - val_MER_accuracy: 0.7943 - val_MER_loss: 0.6798 - val_loss: 2.1023\n",
      "Epoch 35/50\n",
      "\u001b[1m27/27\u001b[0m \u001b[32m━━━━━━━━━━━━━━━━━━━━\u001b[0m\u001b[37m\u001b[0m \u001b[1m0s\u001b[0m 9ms/step - AZT_accuracy: 0.8099 - AZT_loss: 0.4690 - CIP_accuracy: 0.7600 - CIP_loss: 0.3991 - FEP_accuracy: 0.8125 - FEP_loss: 0.3871 - IMI_accuracy: 0.6346 - IMI_loss: 0.6637 - MER_accuracy: 0.6638 - MER_loss: 0.6437 - loss: 2.5579 - val_AZT_accuracy: 0.9282 - val_AZT_loss: 0.2300 - val_CIP_accuracy: 0.8373 - val_CIP_loss: 0.5748 - val_FEP_accuracy: 0.9474 - val_FEP_loss: 0.1843 - val_IMI_accuracy: 0.8708 - val_IMI_loss: 0.5570 - val_MER_accuracy: 0.7943 - val_MER_loss: 0.6757 - val_loss: 2.1580\n",
      "Epoch 36/50\n",
      "\u001b[1m27/27\u001b[0m \u001b[32m━━━━━━━━━━━━━━━━━━━━\u001b[0m\u001b[37m\u001b[0m \u001b[1m0s\u001b[0m 11ms/step - AZT_accuracy: 0.8202 - AZT_loss: 0.4520 - CIP_accuracy: 0.7642 - CIP_loss: 0.3631 - FEP_accuracy: 0.8117 - FEP_loss: 0.3921 - IMI_accuracy: 0.6847 - IMI_loss: 0.6321 - MER_accuracy: 0.6924 - MER_loss: 0.6198 - loss: 2.4569 - val_AZT_accuracy: 0.9426 - val_AZT_loss: 0.2071 - val_CIP_accuracy: 0.8278 - val_CIP_loss: 0.5736 - val_FEP_accuracy: 0.9474 - val_FEP_loss: 0.1867 - val_IMI_accuracy: 0.8660 - val_IMI_loss: 0.5370 - val_MER_accuracy: 0.7990 - val_MER_loss: 0.6698 - val_loss: 2.1077\n",
      "Epoch 37/50\n",
      "\u001b[1m27/27\u001b[0m \u001b[32m━━━━━━━━━━━━━━━━━━━━\u001b[0m\u001b[37m\u001b[0m \u001b[1m0s\u001b[0m 11ms/step - AZT_accuracy: 0.8335 - AZT_loss: 0.4374 - CIP_accuracy: 0.7960 - CIP_loss: 0.3591 - FEP_accuracy: 0.8272 - FEP_loss: 0.3691 - IMI_accuracy: 0.7127 - IMI_loss: 0.6079 - MER_accuracy: 0.7084 - MER_loss: 0.6060 - loss: 2.3836 - val_AZT_accuracy: 0.9378 - val_AZT_loss: 0.2107 - val_CIP_accuracy: 0.8134 - val_CIP_loss: 0.7600 - val_FEP_accuracy: 0.9378 - val_FEP_loss: 0.1914 - val_IMI_accuracy: 0.8708 - val_IMI_loss: 0.5862 - val_MER_accuracy: 0.7847 - val_MER_loss: 0.6728 - val_loss: 2.3467\n",
      "Epoch 38/50\n",
      "\u001b[1m27/27\u001b[0m \u001b[32m━━━━━━━━━━━━━━━━━━━━\u001b[0m\u001b[37m\u001b[0m \u001b[1m0s\u001b[0m 12ms/step - AZT_accuracy: 0.8628 - AZT_loss: 0.4020 - CIP_accuracy: 0.7907 - CIP_loss: 0.3767 - FEP_accuracy: 0.8502 - FEP_loss: 0.3403 - IMI_accuracy: 0.6956 - IMI_loss: 0.6228 - MER_accuracy: 0.6947 - MER_loss: 0.6328 - loss: 2.3755 - val_AZT_accuracy: 0.9187 - val_AZT_loss: 0.2471 - val_CIP_accuracy: 0.8325 - val_CIP_loss: 0.5157 - val_FEP_accuracy: 0.9569 - val_FEP_loss: 0.1778 - val_IMI_accuracy: 0.8708 - val_IMI_loss: 0.5892 - val_MER_accuracy: 0.7943 - val_MER_loss: 0.6315 - val_loss: 2.1018\n",
      "Epoch 39/50\n",
      "\u001b[1m27/27\u001b[0m \u001b[32m━━━━━━━━━━━━━━━━━━━━\u001b[0m\u001b[37m\u001b[0m \u001b[1m0s\u001b[0m 10ms/step - AZT_accuracy: 0.8284 - AZT_loss: 0.4506 - CIP_accuracy: 0.7387 - CIP_loss: 0.3776 - FEP_accuracy: 0.8088 - FEP_loss: 0.3854 - IMI_accuracy: 0.6864 - IMI_loss: 0.6442 - MER_accuracy: 0.6954 - MER_loss: 0.6174 - loss: 2.4750 - val_AZT_accuracy: 0.9282 - val_AZT_loss: 0.2327 - val_CIP_accuracy: 0.8373 - val_CIP_loss: 0.5326 - val_FEP_accuracy: 0.9569 - val_FEP_loss: 0.1814 - val_IMI_accuracy: 0.8660 - val_IMI_loss: 0.5659 - val_MER_accuracy: 0.7990 - val_MER_loss: 0.6547 - val_loss: 2.1094\n",
      "Epoch 40/50\n",
      "\u001b[1m27/27\u001b[0m \u001b[32m━━━━━━━━━━━━━━━━━━━━\u001b[0m\u001b[37m\u001b[0m \u001b[1m0s\u001b[0m 8ms/step - AZT_accuracy: 0.8127 - AZT_loss: 0.4755 - CIP_accuracy: 0.7466 - CIP_loss: 0.4024 - FEP_accuracy: 0.8175 - FEP_loss: 0.3807 - IMI_accuracy: 0.6663 - IMI_loss: 0.6642 - MER_accuracy: 0.6458 - MER_loss: 0.6898 - loss: 2.6167 - val_AZT_accuracy: 0.9091 - val_AZT_loss: 0.2762 - val_CIP_accuracy: 0.8325 - val_CIP_loss: 0.5275 - val_FEP_accuracy: 0.9569 - val_FEP_loss: 0.1832 - val_IMI_accuracy: 0.8708 - val_IMI_loss: 0.5810 - val_MER_accuracy: 0.7990 - val_MER_loss: 0.6345 - val_loss: 2.1436\n",
      "Epoch 41/50\n",
      "\u001b[1m27/27\u001b[0m \u001b[32m━━━━━━━━━━━━━━━━━━━━\u001b[0m\u001b[37m\u001b[0m \u001b[1m0s\u001b[0m 10ms/step - AZT_accuracy: 0.8338 - AZT_loss: 0.4451 - CIP_accuracy: 0.7707 - CIP_loss: 0.3763 - FEP_accuracy: 0.8275 - FEP_loss: 0.3694 - IMI_accuracy: 0.6535 - IMI_loss: 0.6579 - MER_accuracy: 0.6898 - MER_loss: 0.6223 - loss: 2.4650 - val_AZT_accuracy: 0.9330 - val_AZT_loss: 0.2327 - val_CIP_accuracy: 0.8373 - val_CIP_loss: 0.4520 - val_FEP_accuracy: 0.9569 - val_FEP_loss: 0.1804 - val_IMI_accuracy: 0.8708 - val_IMI_loss: 0.6039 - val_MER_accuracy: 0.7990 - val_MER_loss: 0.6796 - val_loss: 2.0950\n",
      "Epoch 42/50\n",
      "\u001b[1m27/27\u001b[0m \u001b[32m━━━━━━━━━━━━━━━━━━━━\u001b[0m\u001b[37m\u001b[0m \u001b[1m0s\u001b[0m 11ms/step - AZT_accuracy: 0.8350 - AZT_loss: 0.4397 - CIP_accuracy: 0.7282 - CIP_loss: 0.3758 - FEP_accuracy: 0.8206 - FEP_loss: 0.3778 - IMI_accuracy: 0.6670 - IMI_loss: 0.6333 - MER_accuracy: 0.6704 - MER_loss: 0.6379 - loss: 2.4640 - val_AZT_accuracy: 0.9234 - val_AZT_loss: 0.2322 - val_CIP_accuracy: 0.8325 - val_CIP_loss: 0.5226 - val_FEP_accuracy: 0.9569 - val_FEP_loss: 0.1810 - val_IMI_accuracy: 0.8660 - val_IMI_loss: 0.6489 - val_MER_accuracy: 0.7990 - val_MER_loss: 0.6854 - val_loss: 2.2128\n",
      "Epoch 43/50\n",
      "\u001b[1m27/27\u001b[0m \u001b[32m━━━━━━━━━━━━━━━━━━━━\u001b[0m\u001b[37m\u001b[0m \u001b[1m0s\u001b[0m 12ms/step - AZT_accuracy: 0.8338 - AZT_loss: 0.4400 - CIP_accuracy: 0.7731 - CIP_loss: 0.3684 - FEP_accuracy: 0.8194 - FEP_loss: 0.3641 - IMI_accuracy: 0.6585 - IMI_loss: 0.6633 - MER_accuracy: 0.6584 - MER_loss: 0.6509 - loss: 2.4855 - val_AZT_accuracy: 0.9426 - val_AZT_loss: 0.2231 - val_CIP_accuracy: 0.8373 - val_CIP_loss: 0.4981 - val_FEP_accuracy: 0.9426 - val_FEP_loss: 0.1911 - val_IMI_accuracy: 0.8708 - val_IMI_loss: 0.6294 - val_MER_accuracy: 0.7990 - val_MER_loss: 0.7334 - val_loss: 2.2114\n",
      "Epoch 44/50\n",
      "\u001b[1m27/27\u001b[0m \u001b[32m━━━━━━━━━━━━━━━━━━━━\u001b[0m\u001b[37m\u001b[0m \u001b[1m0s\u001b[0m 10ms/step - AZT_accuracy: 0.8323 - AZT_loss: 0.4388 - CIP_accuracy: 0.7708 - CIP_loss: 0.3717 - FEP_accuracy: 0.8143 - FEP_loss: 0.3741 - IMI_accuracy: 0.6616 - IMI_loss: 0.6401 - MER_accuracy: 0.6620 - MER_loss: 0.6495 - loss: 2.4745 - val_AZT_accuracy: 0.9282 - val_AZT_loss: 0.2283 - val_CIP_accuracy: 0.8373 - val_CIP_loss: 0.5371 - val_FEP_accuracy: 0.9474 - val_FEP_loss: 0.1824 - val_IMI_accuracy: 0.8708 - val_IMI_loss: 0.6283 - val_MER_accuracy: 0.7990 - val_MER_loss: 0.6830 - val_loss: 2.1950\n",
      "Epoch 45/50\n",
      "\u001b[1m27/27\u001b[0m \u001b[32m━━━━━━━━━━━━━━━━━━━━\u001b[0m\u001b[37m\u001b[0m \u001b[1m0s\u001b[0m 9ms/step - AZT_accuracy: 0.8288 - AZT_loss: 0.4374 - CIP_accuracy: 0.7744 - CIP_loss: 0.3664 - FEP_accuracy: 0.8255 - FEP_loss: 0.3683 - IMI_accuracy: 0.7022 - IMI_loss: 0.6156 - MER_accuracy: 0.6901 - MER_loss: 0.6225 - loss: 2.4103 - val_AZT_accuracy: 0.9330 - val_AZT_loss: 0.2215 - val_CIP_accuracy: 0.8469 - val_CIP_loss: 0.5537 - val_FEP_accuracy: 0.9569 - val_FEP_loss: 0.1816 - val_IMI_accuracy: 0.8708 - val_IMI_loss: 0.6514 - val_MER_accuracy: 0.7990 - val_MER_loss: 0.7084 - val_loss: 2.2503\n",
      "Epoch 46/50\n",
      "\u001b[1m27/27\u001b[0m \u001b[32m━━━━━━━━━━━━━━━━━━━━\u001b[0m\u001b[37m\u001b[0m \u001b[1m0s\u001b[0m 10ms/step - AZT_accuracy: 0.8260 - AZT_loss: 0.4441 - CIP_accuracy: 0.7624 - CIP_loss: 0.3730 - FEP_accuracy: 0.8330 - FEP_loss: 0.3496 - IMI_accuracy: 0.6690 - IMI_loss: 0.6503 - MER_accuracy: 0.6776 - MER_loss: 0.6456 - loss: 2.4619 - val_AZT_accuracy: 0.9522 - val_AZT_loss: 0.2077 - val_CIP_accuracy: 0.8278 - val_CIP_loss: 0.5732 - val_FEP_accuracy: 0.9569 - val_FEP_loss: 0.1817 - val_IMI_accuracy: 0.8708 - val_IMI_loss: 0.6733 - val_MER_accuracy: 0.7990 - val_MER_loss: 0.7940 - val_loss: 2.3603\n",
      "Epoch 47/50\n",
      "\u001b[1m27/27\u001b[0m \u001b[32m━━━━━━━━━━━━━━━━━━━━\u001b[0m\u001b[37m\u001b[0m \u001b[1m0s\u001b[0m 11ms/step - AZT_accuracy: 0.8425 - AZT_loss: 0.4190 - CIP_accuracy: 0.7861 - CIP_loss: 0.3557 - FEP_accuracy: 0.8224 - FEP_loss: 0.3667 - IMI_accuracy: 0.6812 - IMI_loss: 0.6295 - MER_accuracy: 0.6853 - MER_loss: 0.6048 - loss: 2.3739 - val_AZT_accuracy: 0.9569 - val_AZT_loss: 0.1825 - val_CIP_accuracy: 0.8278 - val_CIP_loss: 0.6132 - val_FEP_accuracy: 0.9569 - val_FEP_loss: 0.1838 - val_IMI_accuracy: 0.8708 - val_IMI_loss: 0.6878 - val_MER_accuracy: 0.7990 - val_MER_loss: 0.7388 - val_loss: 2.3400\n",
      "Epoch 48/50\n",
      "\u001b[1m27/27\u001b[0m \u001b[32m━━━━━━━━━━━━━━━━━━━━\u001b[0m\u001b[37m\u001b[0m \u001b[1m0s\u001b[0m 10ms/step - AZT_accuracy: 0.8240 - AZT_loss: 0.4575 - CIP_accuracy: 0.7624 - CIP_loss: 0.3859 - FEP_accuracy: 0.8182 - FEP_loss: 0.3934 - IMI_accuracy: 0.6803 - IMI_loss: 0.6301 - MER_accuracy: 0.6789 - MER_loss: 0.6317 - loss: 2.5021 - val_AZT_accuracy: 0.9569 - val_AZT_loss: 0.1817 - val_CIP_accuracy: 0.8278 - val_CIP_loss: 0.5841 - val_FEP_accuracy: 0.9522 - val_FEP_loss: 0.1845 - val_IMI_accuracy: 0.8708 - val_IMI_loss: 0.7310 - val_MER_accuracy: 0.7990 - val_MER_loss: 0.8087 - val_loss: 2.4251\n",
      "Epoch 49/50\n",
      "\u001b[1m27/27\u001b[0m \u001b[32m━━━━━━━━━━━━━━━━━━━━\u001b[0m\u001b[37m\u001b[0m \u001b[1m0s\u001b[0m 10ms/step - AZT_accuracy: 0.8352 - AZT_loss: 0.4349 - CIP_accuracy: 0.7676 - CIP_loss: 0.3895 - FEP_accuracy: 0.8187 - FEP_loss: 0.3844 - IMI_accuracy: 0.6678 - IMI_loss: 0.6638 - MER_accuracy: 0.6935 - MER_loss: 0.6409 - loss: 2.5109 - val_AZT_accuracy: 0.9426 - val_AZT_loss: 0.1875 - val_CIP_accuracy: 0.8278 - val_CIP_loss: 0.6163 - val_FEP_accuracy: 0.9569 - val_FEP_loss: 0.1827 - val_IMI_accuracy: 0.8708 - val_IMI_loss: 0.6336 - val_MER_accuracy: 0.7943 - val_MER_loss: 0.7826 - val_loss: 2.3318\n",
      "Epoch 50/50\n",
      "\u001b[1m27/27\u001b[0m \u001b[32m━━━━━━━━━━━━━━━━━━━━\u001b[0m\u001b[37m\u001b[0m \u001b[1m0s\u001b[0m 11ms/step - AZT_accuracy: 0.8280 - AZT_loss: 0.4575 - CIP_accuracy: 0.7907 - CIP_loss: 0.3733 - FEP_accuracy: 0.8268 - FEP_loss: 0.3871 - IMI_accuracy: 0.6691 - IMI_loss: 0.6659 - MER_accuracy: 0.7028 - MER_loss: 0.6313 - loss: 2.5153 - val_AZT_accuracy: 0.9569 - val_AZT_loss: 0.1775 - val_CIP_accuracy: 0.8278 - val_CIP_loss: 0.6541 - val_FEP_accuracy: 0.9522 - val_FEP_loss: 0.1938 - val_IMI_accuracy: 0.8708 - val_IMI_loss: 0.6672 - val_MER_accuracy: 0.7990 - val_MER_loss: 0.7548 - val_loss: 2.3766\n",
      "Modelo entrenado\n"
     ]
    }
   ],
   "source": [
    "# ## 6. Entrenar el modelo\n",
    "print(\"Dimensiones del DataFrame original:\", train_df.shape)\n",
    "print(\"Dimensiones de X_train_input:\", X_train_input.shape)\n",
    "for key in y_train:\n",
    "    print(f\"Dimensiones de y_train[{key}]:\", y_train[key].shape)\n",
    "\n",
    "history = model.fit(X_train_input, y_train,\n",
    "                    epochs=50, batch_size=32, validation_split=0.2)\n",
    "\n",
    "print(\"Modelo entrenado\")"
   ]
  },
  {
   "cell_type": "markdown",
   "id": "a38e1c8b-7403-4ab1-9ef6-2c2f9633e4a5",
   "metadata": {},
   "source": [
    "## 7. Predicción en el set de test"
   ]
  },
  {
   "cell_type": "code",
   "execution_count": 23,
   "id": "8241b7b0-47e0-48a7-83d3-7bc348f78771",
   "metadata": {},
   "outputs": [
    {
     "name": "stdout",
     "output_type": "stream",
     "text": [
      "\u001b[1m2/2\u001b[0m \u001b[32m━━━━━━━━━━━━━━━━━━━━\u001b[0m\u001b[37m\u001b[0m \u001b[1m0s\u001b[0m 21ms/step\n",
      "Tasa de predicción correcta:\n",
      "FEP  :  0.9772727272727273\n",
      "MER  :  0.8409090909090909\n",
      "IMI  :  0.8409090909090909\n",
      "AZT  :  0.9545454545454546\n",
      "CIP  :  0.7272727272727273\n"
     ]
    }
   ],
   "source": [
    "# ## 7. Predicción en el set de test\n",
    "#\n",
    "# En el set de test se dispone únicamente de la información de mutaciones (no de MIC).\n",
    "predictions = model.predict(X_test_input)\n",
    "\n",
    "# Para cada antibiótico, se toma la clase con mayor probabilidad.\n",
    "pred_FEP = np.argmax(predictions[0], axis=1)\n",
    "pred_MER = np.argmax(predictions[1], axis=1)\n",
    "pred_IMI = np.argmax(predictions[2], axis=1)\n",
    "pred_AZT = np.argmax(predictions[3], axis=1)\n",
    "pred_CIP = np.argmax(predictions[4], axis=1)\n",
    "\n",
    "# Convertir las predicciones a etiquetas legibles usando los encoders definidos para cada evaluación.\n",
    "pred_FEP_labels = antibiotic_encoders[\"FEP_eval\"].inverse_transform(pred_FEP)\n",
    "pred_MER_labels = antibiotic_encoders[\"MER_eval\"].inverse_transform(pred_MER)\n",
    "pred_IMI_labels = antibiotic_encoders[\"IMI_eval\"].inverse_transform(pred_IMI)\n",
    "pred_AZT_labels = antibiotic_encoders[\"AZT_eval\"].inverse_transform(pred_AZT)\n",
    "pred_CIP_labels = antibiotic_encoders[\"CIP_eval\"].inverse_transform(pred_CIP)\n",
    "\n",
    "results_df = pd.read_csv('input/test_solved.csv', sep=\";\")\n",
    "\n",
    "success = {\"FEP\":0, \"MER\":0, \"IMI\":0, \"AZT\":0, \"CIP\":0}\n",
    "for index, result in results_df[\"FEP_eval\"].items():\n",
    "    if pred_FEP_labels[index] == result.lower():\n",
    "        success[\"FEP\"] = success[\"FEP\"] + 1 \n",
    "\n",
    "for index, result in results_df[\"MER_eval\"].items():\n",
    "    if pred_FEP_labels[index] == result.lower():\n",
    "        success[\"MER\"] = success[\"MER\"] + 1 \n",
    "\n",
    "for index, result in results_df[\"IMI_eval\"].items():\n",
    "    if pred_FEP_labels[index] == result.lower():\n",
    "        success[\"IMI\"] = success[\"IMI\"] + 1 \n",
    "\n",
    "for index, result in results_df[\"AZT_eval\"].items():\n",
    "    if pred_FEP_labels[index] == result.lower():\n",
    "        success[\"AZT\"] = success[\"AZT\"] + 1 \n",
    "\n",
    "for index, result in results_df[\"CIP_eval\"].items():\n",
    "    if pred_FEP_labels[index] == result.lower():\n",
    "        success[\"CIP\"] = success[\"CIP\"] + 1 \n",
    "        \n",
    "print(\"Tasa de predicción correcta:\")\n",
    "for ab, value in success.items():\n",
    "    print(ab, \" : \", value/44)"
   ]
  },
  {
   "cell_type": "code",
   "execution_count": null,
   "id": "a73d4226-f944-41aa-920e-371970c8b1f4",
   "metadata": {},
   "outputs": [],
   "source": []
  }
 ],
 "metadata": {
  "kernelspec": {
   "display_name": "Python 3 (ipykernel)",
   "language": "python",
   "name": "python3"
  },
  "language_info": {
   "codemirror_mode": {
    "name": "ipython",
    "version": 3
   },
   "file_extension": ".py",
   "mimetype": "text/x-python",
   "name": "python",
   "nbconvert_exporter": "python",
   "pygments_lexer": "ipython3",
   "version": "3.10.12"
  }
 },
 "nbformat": 4,
 "nbformat_minor": 5
}
