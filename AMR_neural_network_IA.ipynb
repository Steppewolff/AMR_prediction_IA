{
 "cells": [
  {
   "cell_type": "markdown",
   "id": "f9d21d63-cf9e-4fa9-b0b0-61c94505b880",
   "metadata": {},
   "source": [
    "## 1. Importar módulos necesarios"
   ]
  },
  {
   "cell_type": "code",
   "execution_count": 1,
   "id": "fdb03ebc-42ea-4b89-9460-7a4e0fd17c96",
   "metadata": {},
   "outputs": [
    {
     "name": "stderr",
     "output_type": "stream",
     "text": [
      "2025-02-05 12:26:21.162539: I external/local_xla/xla/tsl/cuda/cudart_stub.cc:32] Could not find cuda drivers on your machine, GPU will not be used.\n",
      "2025-02-05 12:26:21.228957: I external/local_xla/xla/tsl/cuda/cudart_stub.cc:32] Could not find cuda drivers on your machine, GPU will not be used.\n",
      "2025-02-05 12:26:21.305429: E external/local_xla/xla/stream_executor/cuda/cuda_fft.cc:477] Unable to register cuFFT factory: Attempting to register factory for plugin cuFFT when one has already been registered\n",
      "WARNING: All log messages before absl::InitializeLog() is called are written to STDERR\n",
      "E0000 00:00:1738754781.368225   12188 cuda_dnn.cc:8310] Unable to register cuDNN factory: Attempting to register factory for plugin cuDNN when one has already been registered\n",
      "E0000 00:00:1738754781.384129   12188 cuda_blas.cc:1418] Unable to register cuBLAS factory: Attempting to register factory for plugin cuBLAS when one has already been registered\n",
      "2025-02-05 12:26:21.536427: I tensorflow/core/platform/cpu_feature_guard.cc:210] This TensorFlow binary is optimized to use available CPU instructions in performance-critical operations.\n",
      "To enable the following instructions: AVX2 FMA, in other operations, rebuild TensorFlow with the appropriate compiler flags.\n"
     ]
    }
   ],
   "source": [
    "# ## 1. Importar módulos necesarios\n",
    "\n",
    "import numpy as np\n",
    "import pandas as pd\n",
    "import os\n",
    "from sklearn.preprocessing import LabelEncoder, StandardScaler\n",
    "from sklearn.model_selection import train_test_split\n",
    "from sklearn.metrics import classification_report\n",
    "import tensorflow as tf\n",
    "from tensorflow.keras.models import Model\n",
    "from tensorflow.keras.layers import Input, Dense, Dropout\n",
    "from tensorflow.keras.utils import to_categorical"
   ]
  },
  {
   "cell_type": "markdown",
   "id": "181e8bde-811f-448b-b93e-128493b54bdf",
   "metadata": {},
   "source": [
    "## 1.1 Comprobar si los paquetes se han cargado correctamente"
   ]
  },
  {
   "cell_type": "code",
   "execution_count": 2,
   "id": "b349020c-2305-4e18-b063-aee52c19e399",
   "metadata": {},
   "outputs": [
    {
     "name": "stdout",
     "output_type": "stream",
     "text": [
      "TensorFlow version: 2.18.0\n",
      "Eager execution: True\n"
     ]
    },
    {
     "name": "stderr",
     "output_type": "stream",
     "text": [
      "W0000 00:00:1738756085.380430   12188 gpu_device.cc:2344] Cannot dlopen some GPU libraries. Please make sure the missing libraries mentioned above are installed properly if you would like to use GPU. Follow the guide at https://www.tensorflow.org/install/gpu for how to download and setup the required libraries for your platform.\n",
      "Skipping registering GPU devices...\n"
     ]
    },
    {
     "data": {
      "text/html": [
       "<pre style=\"white-space:pre;overflow-x:auto;line-height:normal;font-family:Menlo,'DejaVu Sans Mono',consolas,'Courier New',monospace\"><span style=\"font-weight: bold\">Model: \"sequential\"</span>\n",
       "</pre>\n"
      ],
      "text/plain": [
       "\u001b[1mModel: \"sequential\"\u001b[0m\n"
      ]
     },
     "metadata": {},
     "output_type": "display_data"
    },
    {
     "data": {
      "text/html": [
       "<pre style=\"white-space:pre;overflow-x:auto;line-height:normal;font-family:Menlo,'DejaVu Sans Mono',consolas,'Courier New',monospace\">┏━━━━━━━━━━━━━━━━━━━━━━━━━━━━━━━━━┳━━━━━━━━━━━━━━━━━━━━━━━━┳━━━━━━━━━━━━━━━┓\n",
       "┃<span style=\"font-weight: bold\"> Layer (type)                    </span>┃<span style=\"font-weight: bold\"> Output Shape           </span>┃<span style=\"font-weight: bold\">       Param # </span>┃\n",
       "┡━━━━━━━━━━━━━━━━━━━━━━━━━━━━━━━━━╇━━━━━━━━━━━━━━━━━━━━━━━━╇━━━━━━━━━━━━━━━┩\n",
       "│ dense (<span style=\"color: #0087ff; text-decoration-color: #0087ff\">Dense</span>)                   │ (<span style=\"color: #00d7ff; text-decoration-color: #00d7ff\">None</span>, <span style=\"color: #00af00; text-decoration-color: #00af00\">10</span>)             │           <span style=\"color: #00af00; text-decoration-color: #00af00\">210</span> │\n",
       "├─────────────────────────────────┼────────────────────────┼───────────────┤\n",
       "│ dense_1 (<span style=\"color: #0087ff; text-decoration-color: #0087ff\">Dense</span>)                 │ (<span style=\"color: #00d7ff; text-decoration-color: #00d7ff\">None</span>, <span style=\"color: #00af00; text-decoration-color: #00af00\">1</span>)              │            <span style=\"color: #00af00; text-decoration-color: #00af00\">11</span> │\n",
       "└─────────────────────────────────┴────────────────────────┴───────────────┘\n",
       "</pre>\n"
      ],
      "text/plain": [
       "┏━━━━━━━━━━━━━━━━━━━━━━━━━━━━━━━━━┳━━━━━━━━━━━━━━━━━━━━━━━━┳━━━━━━━━━━━━━━━┓\n",
       "┃\u001b[1m \u001b[0m\u001b[1mLayer (type)                   \u001b[0m\u001b[1m \u001b[0m┃\u001b[1m \u001b[0m\u001b[1mOutput Shape          \u001b[0m\u001b[1m \u001b[0m┃\u001b[1m \u001b[0m\u001b[1m      Param #\u001b[0m\u001b[1m \u001b[0m┃\n",
       "┡━━━━━━━━━━━━━━━━━━━━━━━━━━━━━━━━━╇━━━━━━━━━━━━━━━━━━━━━━━━╇━━━━━━━━━━━━━━━┩\n",
       "│ dense (\u001b[38;5;33mDense\u001b[0m)                   │ (\u001b[38;5;45mNone\u001b[0m, \u001b[38;5;34m10\u001b[0m)             │           \u001b[38;5;34m210\u001b[0m │\n",
       "├─────────────────────────────────┼────────────────────────┼───────────────┤\n",
       "│ dense_1 (\u001b[38;5;33mDense\u001b[0m)                 │ (\u001b[38;5;45mNone\u001b[0m, \u001b[38;5;34m1\u001b[0m)              │            \u001b[38;5;34m11\u001b[0m │\n",
       "└─────────────────────────────────┴────────────────────────┴───────────────┘\n"
      ]
     },
     "metadata": {},
     "output_type": "display_data"
    },
    {
     "data": {
      "text/html": [
       "<pre style=\"white-space:pre;overflow-x:auto;line-height:normal;font-family:Menlo,'DejaVu Sans Mono',consolas,'Courier New',monospace\"><span style=\"font-weight: bold\"> Total params: </span><span style=\"color: #00af00; text-decoration-color: #00af00\">221</span> (884.00 B)\n",
       "</pre>\n"
      ],
      "text/plain": [
       "\u001b[1m Total params: \u001b[0m\u001b[38;5;34m221\u001b[0m (884.00 B)\n"
      ]
     },
     "metadata": {},
     "output_type": "display_data"
    },
    {
     "data": {
      "text/html": [
       "<pre style=\"white-space:pre;overflow-x:auto;line-height:normal;font-family:Menlo,'DejaVu Sans Mono',consolas,'Courier New',monospace\"><span style=\"font-weight: bold\"> Trainable params: </span><span style=\"color: #00af00; text-decoration-color: #00af00\">221</span> (884.00 B)\n",
       "</pre>\n"
      ],
      "text/plain": [
       "\u001b[1m Trainable params: \u001b[0m\u001b[38;5;34m221\u001b[0m (884.00 B)\n"
      ]
     },
     "metadata": {},
     "output_type": "display_data"
    },
    {
     "data": {
      "text/html": [
       "<pre style=\"white-space:pre;overflow-x:auto;line-height:normal;font-family:Menlo,'DejaVu Sans Mono',consolas,'Courier New',monospace\"><span style=\"font-weight: bold\"> Non-trainable params: </span><span style=\"color: #00af00; text-decoration-color: #00af00\">0</span> (0.00 B)\n",
       "</pre>\n"
      ],
      "text/plain": [
       "\u001b[1m Non-trainable params: \u001b[0m\u001b[38;5;34m0\u001b[0m (0.00 B)\n"
      ]
     },
     "metadata": {},
     "output_type": "display_data"
    }
   ],
   "source": [
    "# ## 1.1 Comprobar si los paquetes se han cargado correctamente\n",
    "\n",
    "from tensorflow.keras import Input\n",
    "\n",
    "print(\"TensorFlow version:\", tf.__version__)\n",
    "print(\"Eager execution:\", tf.executing_eagerly())\n",
    "\n",
    "# Verificar si Keras funciona\n",
    "from tensorflow.keras.models import Sequential\n",
    "from tensorflow.keras.layers import Dense\n",
    "\n",
    "model = Sequential([\n",
    "    Input(shape=(20,)),  # Define explícitamente la capa de entrada\n",
    "    Dense(10, activation='relu'),\n",
    "    Dense(1, activation='sigmoid')\n",
    "])\n",
    "\n",
    "model.summary()"
   ]
  },
  {
   "cell_type": "markdown",
   "id": "6bdb6ee3-b2e1-4346-b0b4-91dffc6df51f",
   "metadata": {},
   "source": [
    "## 2. Definir la estructura de los archivos de entrada"
   ]
  },
  {
   "cell_type": "markdown",
   "id": "cf97b6c4-88d9-4ab0-bb48-cb0447049254",
   "metadata": {},
   "source": [
    "**training_data.csv**:\n",
    "- Columna 1: strain_id\n",
    "- Columnas 2 a 11: Para cada antibiótico (FEP, MER, IMI, AZT, CIP):\n",
    "      Ejemplo:\n",
    "        FEP_MIC, FEP_eval, MER_MIC, MER_eval, IMI_MIC, IMI_eval, AZT_MIC, AZT_eval, CIP_MIC, CIP_eval\n",
    "  Las evaluaciones tienen 3 categorías: \"sensitive\", \"resistant\" e \"indeterminate\".\n",
    "- Columnas 12 en adelante: Información de mutaciones para 71 genes.\n",
    "   * Si no hay información para un gen: \"-\"\n",
    "   * Si el gen es wild type: NaN\n",
    "   * Si hay mutaciones: cadena con las mutaciones separadas por comas (ej. \"A123T,V456G\")\n",
    "\n",
    "**test_data.csv**:\n",
    "- Columna 1: strain_id\n",
    "- Columnas 2 en adelante: Información de mutaciones para los mismos 71 genes.\n",
    "\n"
   ]
  },
  {
   "cell_type": "markdown",
   "id": "03d9089c-c021-49f8-8cda-2d7755bdda29",
   "metadata": {},
   "source": [
    "## 3. Cargar y preprocesar los datos"
   ]
  },
  {
   "cell_type": "code",
   "execution_count": 3,
   "id": "e88e9a67-74ce-489d-8264-23fe71fe030e",
   "metadata": {},
   "outputs": [
    {
     "name": "stdout",
     "output_type": "stream",
     "text": [
      "Dimensiones del DataFrame original: (1045, 79)\n",
      "Vocabulario de mutaciones: gene_vocab\n",
      "{'PA0004': ['A623T', 'A627V', 'A720V', 'D4N', 'E168D', 'E215D', 'E239Q', 'E468D', 'G481D', 'H148N', 'H148N; aa467Δ2', 'H170Y', 'I529M', 'I529V', 'I769V', 'N5K', 'N5K; E468D', 'P749S', 'P789L', 'R22C', 'S466F', 'S466F; E721K', 'S466Y', 'S578A', 'T235S', 'T595I', 'T640S', 'V146L'], 'PA0005': ['A18S', 'I244L', 'I244T', 'I33F', 'N46S', 'Q45R', 'R62S', 'T55A', 'V10I', 'Y192F'], 'PA0424': ['A103G', 'A103G; V126E; nt373Δ1', 'A103T', 'C30R', 'K44M; V126E', 'L102P', 'L57Q', 'L95F', 'N79S', 'Q106R', 'Q49X', 'Q55P; V126E', 'R114C', 'R63H', 'R70Q', 'R73L; V126E', 'R78X', 'R82H', 'S92N', 'V126E', 'V126E; V132A', 'V126E; nt33Δ13', 'V126E; nt67Δ10', 'V132A', 'V132M', 'V42E', 'aa11∆4', 'aa90∆4', 'nt120Δ1', 'nt161InsC', 'nt215Δ11', 'nt217∆1', 'nt266InsG', 'nt318InsG', 'nt319Δ10', 'nt367Δ15', 'nt373Δ1', 'nt385InsGGGT', 'nt386InsGGGA', 'nt386InsGTGT', 'nt391InsGGGT', 'nt402∆11', 'nt47InsG', 'nt61Δ1', 'nt80InsA'], 'PA0425': ['A111T', 'A117V', 'A280V; D373E', 'A33T', 'C24G', 'D342E', 'D373E', 'D373G', 'D373N', 'E53X', 'I63V', 'K76Q', 'K86E', 'L338Q', 'N269S', 'P376S', 'Q104X', 'Q143P', 'Q281X', 'Q288X', 'Q69X', 'R119C', 'R326Q', 'R57W', 'S258L', 'T256A', 'T256I', 'V229A', 'V278I', 'V286I', 'Y120F', 'nt16Δ4', 'nt359Δ14', 'nt454Δ1', 'nt911Δ1'], 'PA0426': ['A539T', 'A707S', 'A707S I963V', 'A735D', 'E422X', 'E429D', 'E845D', 'G860D', 'G957D', 'G957D; V1042A', 'G957D; nt2806Δ2', 'H525N', 'I186V', 'I745V', 'K196R', 'L672Q', 'L772Q', 'N248K', 'N312S', 'P190L', 'P724L', 'Q259L', 'Q319X', 'R185C; R766W', 'R817P', 'S1041Y', 'S183L', 'S583T', 'T98A', 'V1014I', 'V1042A', 'V770A', 'W753R', 'aa287∆4', 'aa36Δ5', 'aa36∆5', 'nt1135∆1', 'nt1345∆8', 'nt1435∆1', 'nt1543Δ5', 'nt1726∆4', 'nt2936∆1', 'nt3018∆5', 'nt600Δ1', 'nt878InsGG'], 'PA0427': ['A238V', 'A261T', 'A478T', 'A478T; nt1446InsC', 'D448N', 'F352L', 'K196R', 'Q265E', 'R404H', 'S125N', 'T180I', 'T198P', 'T477S', 'V72L', 'nt1451InsC', 'nt426∆1', 'nt501∆5'], 'PA0807': ['A196V', 'A208V', 'A219T', 'A219T; nt409Δ1', 'A237E', 'A37T; A219T', 'A51T', 'D197E', 'D235G', 'D75G', 'E168A', 'E168D', 'G186S', 'H53R', 'I171V', 'I67T', 'I67T; A219T', 'K36E', 'K63E', 'L246P', 'P157A; D197E', 'P55A', 'P55S', 'R180L', 'R182C', 'R66C', 'R66G', 'T179S', 'T39I', 'T40I', 'V19M', 'V19M; A219T', 'V213I', 'Y207X', 'Y234H', 'nt410∆1'], 'PA0869': ['A287S', 'G154R', 'G40S', 'H205N', 'L15F', 'M121I', 'N220K', 'P88S', 'R105Q', 'R98H', 'S167A', 'S194T', 'S250N', 'V201M; A287S', 'V305M', 'V305M; S250N', 'V61A'], 'PA0958': ['A12E', 'A425G', 'D43N', 'F77L', 'F89L', 'G316D', 'I367M', 'K550X', 'L165M; F170V', 'L432P', 'L96I', 'M1S', 'Q142*', 'Q142X', 'Q158X', 'Q166X', 'Q250K', 'Q250X', 'Q340X', 'Q402H', 'Q422X', 'Q66X', 'R140E', 'R154L', 'S57E; S59R; R312G', 'T291P', 'V127L', 'V128L', 'V436G', 'W138*', 'W138X', 'W277*', 'W277X', 'W339X', 'W415X', 'W417X', 'W65X', 'W77X', 'WT', 'Y214X', 'Y225X', 'Y237C', 'Y397X', 'Y436F', 'aa397∆9', 'nt1025InsGGCCC', 'nt1056∆1', 'nt105Δ1', 'nt106InsG', 'nt1072InsC', 'nt1185∆1', 'nt1189InsAG', 'nt1200insC', 'nt1205InsC', 'nt1206InsC', 'nt1216InsGTCCG', 'nt1221∆2', 'nt1286Δ1', 'nt1298∆2', 'nt1301Δ1', 'nt1307insA', 'nt187Δ1', 'nt195InsGACTG', 'nt199Δ1', 'nt200InsC', 'nt209∆10', 'nt251Δ547', 'nt276insTGACCT', 'nt30InsGC', 'nt311InsCG', 'nt334Δ2', 'nt350InsC', 'nt385InsGA', 'nt434Δ1', 'nt438InsC', 'nt463Δ13', 'nt473Δ14', 'nt475insC', 'nt500ins(Pseudomonas phage vB_Pae_BR141c', 'nt55InsGCACT', 'nt55Δ40', 'nt59InsGCACT', 'nt5IS', 'nt619insCCGAATTTCAT', 'nt630Δ1', 'nt635Δ1', 'nt635∆1', 'nt636InsG', 'nt659Δ1', 'nt676IS', 'nt69InsC', 'nt710InsTT', 'nt742∆1', 'nt768IS', 'nt88IS', 'nt991InsAC', 'partial genome)'], 'PA1179': ['A149V', 'A92V; Q124X', 'E144G', 'I50V', 'P31Q', 'R81C', 'S72A', 'V133L'], 'PA1180': ['A15T', 'A391V', 'D90H', 'I40V', 'K59H', 'N104H', 'P337L', 'Q263H', 'Q263L', 'R61H', 'R94S', 'S157T', 'S300R', 'V57M', 'Y377C', 'Y85F'], 'PA1777': ['E149*', 'E253D', 'H279R', 'Q160L', 'Q25X', 'T93A'], 'PA1798': ['A115E', 'A115E; V304I; E343D; H398R; Y407H', 'A149T', 'A149T; H398R', 'A285V; H398R', 'A293V', 'A29V', 'A345T', 'A345T; H398R', 'A395T', 'A82T', 'A82T; H398R', 'A82T; T131P; H398R', 'D249N', 'D249N; H398R', 'D294A', 'D348N', 'D351N', 'E343D', 'E90X', 'G303R', 'H194Q; H398R', 'H398R', 'H398R; nt921Δ4', 'I27L', 'L137P', 'L137P; H398R', 'L137P; H398R; nt109Δ1', 'L137P; H398R; nt997Δ1', 'L137P; L227P; H398R', 'L137P; S228P; H398R', 'L137P; V216A; H398R', 'L141P', 'L246P', 'L346P', 'L50P; H398R', 'L54P', 'L79P; H398R', 'Q349K', 'R165H', 'R243H', 'R243H; V313I; H398R', 'R356L', 'R385H', 'R385H; H398R', 'R421C', 'R7H; H398R', 'R83K', 'S277N; H398R', 'S33R', 'S352I', 'S352I; H398R', 'S386N', 'T131P', 'T131P; D348N; H398R', 'T131P; H398R', 'V146A', 'V152A', 'V152A; H398R', 'V216A', 'V216A; H398R', 'V238L', 'V291L', 'V291L; H398R', 'V295I', 'V304I', 'V313I', 'V327L', 'Y407H', 'Y73C; H398R', 'aa118∆4', 'nt1086∆1', 'nt396InsC'], 'PA1799': ['A129T', 'A23T', 'A41G', 'A44G', 'A44S', 'E214D', 'E214K', 'E87K; L153R; S170N', 'G137D', 'G232D', 'G30D', 'I80L', 'L11F', 'L153R', 'L153R; S170N', 'L153R; S170N; nt618InsA', 'L164Q', 'L58R', 'L90I', 'M160T', 'P126L; L153R; S170N', 'P128S', 'P128S; L153R; S170N', 'R178C', 'R34H', 'S170N', 'T135A', 'T135A: L153R', 'T135A; L153R', 'V55I', 'V55I; I80L', 'aa214∆1', 'nt621Δ4'], 'PA2018': ['A131T', 'A254G', 'A285T', 'A298T', 'A307T', 'A400T', 'A501T', 'A501V', 'A527V', 'A533V', 'A586T', 'A624S', 'A63V', 'A708T', 'A772T', 'A865D', 'D149G', 'D149Y', 'D159G', 'D217V; T543A; Q840E', 'D428N', 'D428N; T543A', 'D428N; T543A; Q840E', 'D502G', 'D628H', 'D724V', 'DELETED', 'E152D', 'E152D; T543A', 'E152D; T543A; Q840E', 'E505G', 'E634D', 'E644*', 'E688D', 'E731G', 'F29S', 'F29S; R515C; T543A', 'F29S; T543A; A772T; Q840E; Q1039R', 'F858Y', 'G1002A', 'G1035D', 'G423C', 'G530S', 'G589A', 'G776S', 'I15V', 'I499L', 'I531T', 'I536V', 'I536V; T543A', 'I536V; T543A; G589A', 'I536V; T543A; G589A; N1036T; Q1039R', 'I536V; T543A; G589A; Q840E', 'I536V; T543A; G589A; Q840E; N1036T', 'I536V; T543A; G589A; Q840E; N1036T; Q1039R', 'I536V; T543A; G589A; Q840E; N1063T', 'I536V; T543A; N1036T; Q1039R', 'I543V', 'I849V', 'K191R', 'K773R', 'K800R', 'L162F', 'L197F; Q282R; A596V; K692M; Q840E; N1036T', 'L239P', 'L697F', 'L984F', 'M347T', 'N1036S', 'N1036T', 'N526K', 'N709H', 'N709S', 'N98S', 'P1032S', 'Q1039R', 'Q282R', 'Q282R; A799V', 'Q282R; T543A', 'Q282R; T543A; V980I', 'Q840E', 'Q843P', 'Q843R', 'Q955R', 'R1024S', 'R1033L', 'R251H', 'R362H', 'R519H', 'R633Q', 'R706H', 'R722S', 'R782K', 'R782Q', 'R786H', 'S144A', 'S48N', 'T1034S', 'T238I', 'T393A', 'T472A', 'T472P', 'T543A', 'T543A; A635P; G652S', 'T543A; G589A; Q840E', 'T543A; M574R', 'T543A; N1036T', 'T543A; N1036T; Q1039R', 'T543A; Q840E', 'T543A; Q840E; G1002A', 'T543A; Q840E; G1035D; N1036T; Q1039R', 'T543A; Q840E; N1036T; Q1039R', 'T543A; Q840E; P1032S', 'T543A; Q840E; Q1039R', 'T543A; Q840E; V875M; N1036S', 'T543A; Q840E; V980I', 'T543A; T927I; N1036T; Q1039R', 'T543A; nt613InsC', 'T742I', 'V1021L', 'V113I; T543A; Q840E', 'V139I', 'V240A', 'V24A', 'V24I', 'V299M; T543A; I642V; Q840E; Q1039H', 'V398A; T543A', 'V431I', 'V475A; Q840E', 'V548M', 'V554A', 'V61L', 'V735A', 'V875M', 'V980I', 'Y181D'], 'PA2019': ['A113T', 'A15T', 'A27T', 'A30T', 'A30T; K329Q; L331V', 'A30T; K329Q; L331V; W358R', 'A30T; K329Q; L331V; W358R; A375P; A383P', 'A30T; W358R', 'A36T', 'A375P', 'A383P', 'A383V', 'A38T', 'A48V', 'D135Y', 'D346H', 'D384G', 'DELETED', 'E142K', 'G344D', 'H119Y', 'H119Y; K329Q', 'H119Y; K329Q; W358R', 'I212L', 'I349V', 'K236Q', 'K329Q', 'K329Q; L331V', 'K329Q; L331V; D346H; W358R', 'K329Q; L331V; W358R', 'K329Q; L331V; W358R; nt1157Δ1', 'K329Q; R351S', 'K329Q; R351S; W358R', 'K329Q; W358R', 'L12P', 'L12P; A30T; K329Q; L331V; W358R', 'L154Q', 'L22M', 'L22M; D135Y; L331V; K329Q', 'L288W; K329Q; L331V; W358R; nt865Δ1', 'L331M', 'L331V', 'L389Q', 'Q396X', 'Q4H', 'R151H', 'R282C', 'R338H', 'R351S', 'R69Q', 'S320A', 'S320P', 'S382G', 'V309I', 'V376M', 'V44I', 'W358C', 'W358R', 'Y255X'], 'PA2020': ['A2T', 'A35V', 'A47P', 'A47V', 'A81V', 'A88P', 'C63R', 'C63R; R126C', 'D83E', 'DELETED', 'E71*', 'E8X', 'F192L', 'G195D', 'G195S', 'G50S', 'G68D', 'G89S', 'G89S;  nt483InsTAT', 'G89S; A175T', 'G89S; aa163InsY', 'G89S; nt483InsTAT', 'H51D', 'H51Y', 'I108S', 'K131R', 'L128M', 'L138R', 'L138R; L196I', 'L138R; N186S', 'L174Q', 'L196I', 'L199R', 'L37P', 'L93P', 'N186S', 'N54D; L174Q', 'Q10X', 'Q132P', 'Q132X', 'Q134R', 'Q134R; nt593Δ13', 'Q140K', 'R104W', 'R13H', 'R200S', 'R45C', 'R65C; L138R', 'S44F', 'T12N', 'T31N', 'V105G', 'V105G; L138R; N186S', 'V23F', 'V43G', 'V48A', 'W167X', 'W176X', 'W185X', 'Y204X', 'aa163InsY', 'aa187∆6', 'nt100∆1', 'nt111InsGCGGACGCCGCCGGGGTTTCTCGCGGT', 'nt144InsT', 'nt154InsACAAGA', 'nt216Δ3', 'nt225Δ10', 'nt227∆1', 'nt236InsGCCG', 'nt248Δ13', 'nt278Δ16', 'nt289Δ11', 'nt290Δ11', 'nt291∆11', 'nt305Δ3', 'nt319Δ16', 'nt350∆19', 'nt367∆10', 'nt385Δ1', 'nt386∆1', 'nt396InsGGGCAACGCTTCGGCCTCCGGCAGATCCGCC', 'nt47Δ13', 'nt484InsC', 'nt489Δ14', 'nt491∆10', 'nt525Δ8', 'nt568∆10', 'nt569∆10', 'nt590InsC', 'nt593Δ10', 'nt593Δ14', 'nt604Δ1', 'nt99Δ1', 'nt9InsC'], 'PA2023': ['C242X', 'DELETED', 'F248S', 'G175S', 'G56S', 'K236T', 'L21R', 'T167I', 'Y12C', 'aa207∆4', 'nt61∆5', 'nt679∆1'], 'PA2272': ['A102T', 'A102T; A104P', 'A103V', 'A104P', 'A104P; A258T', 'A104P; I143L', 'A104P; I447V', 'A104P; V204A', 'A104P; V466I', 'A104T', 'A20S; G58D', 'A258T', 'A420S', 'A505T', 'A86D', 'A86G', 'A86T', 'DELETED', 'E37K; A104P', 'E389Q', 'G238V', 'I143L', 'I355V', 'I447V', 'I547T', 'K358R', 'M336I', 'N178K', 'P54S', 'Q110K', 'Q553R', 'R521K', 'R82K', 'S251T', 'T520S', 'V18I; R82K; G96D; A104P', 'V18L', 'V466I', 'V91A; A104P', 'Y495H'], 'PA2491': ['A175V', 'A180T', 'A52V; D249N', 'A75V', 'A75V; D249N', 'A75V; V241M; D249N', 'A87V', 'D201N', 'D232G', 'D249N', 'D249N; H321R', 'D249N; T299I', 'DELETED', 'E181D', 'E184D', 'E205V', 'E205V; D249N', 'E286D', 'F10L', 'G11S', 'G212D', 'G231S', 'G231S; D249N', 'G248C', 'G76S', 'G78S', 'G78S; D249N', 'K17T', 'K17T; A175V; E181D; D249N', 'K43E', 'L186F', 'L32Q; A75V; D249N; V333M', 'L82P', 'M106T', 'N246K', 'P13L', 'P225L', 'P24L', 'P328L', 'P90L', 'P94S', 'Q100H', 'R108C', 'S179C', 'S289T', 'S84F', 'S84F; I218F; D249N', 'T148S', 'T236P', 'V104A', 'V132A', 'V241M', 'V308I', 'V318I', 'V73A', 'V73A; D249N', 'V77I', 'X340ext', 'aa138Δ3', 'aa147InsLKAG', 'nt350∆1', 'nt390Δ11', 'nt396InsGT', 'nt769∆1', 'nt907∆14', '∆803nt'], 'PA2492': ['A245V', 'A299T', 'A34G', 'A47V', 'D59A', 'D96A', 'DELETED', 'E107D', 'E202*', 'E26G', 'E26G; P60S; F172I', 'F172I', 'G276D', 'M7V', 'M7V; F172I', 'M7V; P8H; P60S; F172I', 'P17L', 'P28L', 'P28L; P60S; F172I', 'P28Lr; F172I', 'P60S', 'P60S; D96A; F172I', 'P60S; F172I', 'P60S; F172I; L188P', 'P60S; F172I; R209S', 'P60S; F172I; R334C', 'P60S; F172I; nt392InsC', 'P60S; F172I; nt471Δ2', 'P77S', 'R22G', 'R334P', 'R40H', 'R45X', 'R58Q', 'R66C', 'S19W', 'V265A', 'V57I', 'aa92Δ4', 'nt228Δ3', 'nt229Δ2', 'nt234∆8', 'nt59Δ1', 'nt60∆1', 'nt61∆1', 'nt844∆1'], 'PA2493': ['A231T', 'A27V', 'A377V', 'A383G', 'A407V', 'A79G', 'D249N', 'D353E', 'D370E', 'DELETED', 'E2V', 'F284L', 'G250D', 'G282S', 'I175V', 'K153R', 'P337A', 'P397Q', 'Q368R', 'Q372L', 'S22G', 'S403T', 'S8F', 'T285I', 'V156A'], 'PA2494': ['A1062T', 'A256T', 'A258T', 'A598E', 'A598S', 'A842T', 'A843T', 'A850E', 'D230A', 'D648A', 'D666E', 'D669G', 'DELETED', 'E860G', 'F509V', 'G1056D', 'G501S', 'H318Q', 'I753V', 'L893V', 'N276S', 'Q363R', 'Q788R', 'S510L', 'S519G', 'T713A', 'T95I', 'V957I', 'nt3070∆1', '∆2646nt'], 'PA2495': ['A113S', 'A12T', 'A140T', 'A228V', 'A247S', 'A277V', 'A302S', 'A360T', 'A365V', 'A38T', 'A410S', 'A4T', 'D102N', 'D306E', 'D31V', 'D98E', 'DELETED', 'E243Q', 'G16S', 'G218S', 'G364S', 'K366K', 'K48E', 'L15V', 'P35L', 'P470S', 'R150H', 'R151L', 'R363H', 'R455H', 'S13P', 'S77N', 'S77T', 'T275S', 'T27A', 'T34P', 'T34S', 'T37A', 'V172I'], 'PA3047': ['A217G', 'A22T', 'A340G', 'A358V', 'A358V; A394P', 'A35T', 'A394P', 'A394P; A474T', 'A434T', 'A474T', 'D176N', 'F324I', 'G117V', 'G263S', 'G328C', 'G437D', 'H473Y', 'K313E', 'M85V', 'N122S; A394P', 'N197S', 'N44K', 'P218A', 'Q156H', 'R475Q', 'S150G', 'S390R', 'S399X', 'T27S', 'T27S; S150G', 'T428P', 'V289I', 'Y396F', 'Y61H', 'nt1062Δ10', 'nt1223InsGAGTGC', 'nt665InsGGCCT'], 'PA3168': ['A51V', 'A51V; D87Y', 'A668T', 'A669P', 'A908T', 'D652Y', 'D87G', 'D87N', 'D87Y', 'D893E', 'E153K', 'E793K', 'G860S', 'G889R', 'G897D', 'K408R', 'N200S', 'P440S', 'S784P', 'S903A', 'S912A', 'T571A', 'T686A', 'T83A', 'T83I', 'T83I; D87H', 'T83I; D87N', 'T83I; D87N; I839V', 'T83I; K162R', 'T83I; V671I', 'T83I; V671I; G860S', 'T83I; aa914Δ2', 'T83I; aa914ΔPS', 'T847A', 'V671A', 'V671I', 'aa616ΔR', 'aa910∆ES', 'aa911∆2', 'aa914InsPK', 'aa914InsSE', 'aa914Δ2', 'aa914ΔPS'], 'PA3574': ['A19T', 'C149Y', 'D147E', 'D187H', 'D80A', 'E120D', 'E21D', 'G172D', 'G206S', 'G78R', 'G81R', 'L153Q', 'L169P', 'L72P; D187H', 'N129K; nt451Δ1', 'N130S', 'Q97X', 'R12C', 'T11N', 'T188A', 'T4I', 'V128M', 'X213ext', 'aa15Δ1', 'nt130InsGACC; D187H', 'nt159Δ2', 'nt165Δ1', 'nt228Δ19', 'nt232Δ19; G78R', 'nt232∆19', 'nt25InsA', 'nt263Δ17', 'nt295Δ17', 'nt295∆17', 'nt31Δ11', 'nt376Δ1', 'nt394∆4', 'nt395∆4', 'nt398Δ2', 'nt451Δ16', 'nt475Δ16', 'nt476∆10', '∆204nt'], 'PA3721': ['A145V', 'A169P', 'A186T', 'A4V', 'D79E', 'E153Q', 'G213D', 'G71E', 'G71E; A145V; S209R', 'G71E; A186T', 'G71E; D79E; S209R', 'G71E; E153Q', 'G71E; E153Q; S209R', 'G71E; P210L; S209R', 'G71E; Q182K; L206V; S209R', 'G71E; S209R', 'G71E; S209R; P210L', 'H30Y; G71E', 'L206V', 'M39T; G71E; S209R', 'P210L', 'Q182K', 'R191L; S209R', 'R48W', 'S209R', 'T100S', 'T50P', 'T50P; G71E; S209R', 'nt12InsG', 'nt15∆1', 'nt198∆1', 'nt199∆1', 'nt444∆1', '∆239nt'], 'PA3999': ['A363G', 'D231E', 'I136V', 'N54S', 'N86S', 'S355T', 'T286S', 'V29I', 'V50I', 'nt390InsGT', 'nt619Δ1'], 'PA4003': ['A269V', 'A481T', 'A532V', 'A619E', 'D485N', 'D493N', 'D507G', 'E107D', 'H402L', 'K631R', 'L33P', 'L534P', 'L631R', 'P503L', 'P621L', 'S376N', 'T112S', 'V29I', 'V439A', 'V490L'], 'PA4020': ['A222G', 'A286V', 'A303V', 'A303V; M297V', 'A303V; M297V; G24S; aa118Δ1', 'A303V; M297V; nt111Δ1', 'A303V; M297V; nt112InsC', 'A331T', 'A356V', 'A428T; M297V; S131N', 'C410T', 'D351G', 'D382N', 'D411A', 'D411A; G343S', 'D411A; aa439InsGGF', 'G231E', 'H190Y', 'H98Y', 'I266S', 'M297L', 'M297V', 'M297V; P274T', 'M297V; T236P', 'M297V; nt1178Δ1', 'P178L', 'P274L', 'Q347R', 'R103P', 'R322Q', 'S119G; nt112InsC', 'S306N', 'S306R', 'S306R; M297L', 'T115A', 'T276A', 'Ter452Rext*', 'V124G', 'V124I', 'V281F', 'V358I', 'V358I; M297V', 'V420M; M297V', 'X452ext', 'Y35S', 'aa35∆4', 'aa451InsR', 'nt111InsC', 'nt111InsG', 'nt112InsC'], 'PA4109': ['A10S', 'A118V; G283E', 'A16V', 'A175T', 'A175V', 'A51T', 'D135G', 'D135N', 'E114A', 'E114A; E172V; A208T', 'E114A; G283E; M288R', 'E114A; I251V; G283E; M288R', 'E162Q', 'E88K', 'F87L', 'G154R', 'G154R; G283E; M288R', 'G231S', 'G273E', 'G283E', 'G283E; M288R', 'G295R', 'H209Y', 'I251V', 'K42R', 'L113Q', 'L177V', 'M241I', 'M288R', 'M288R; G283E', 'M61L', 'R244W', 'R244W; G273E', 'R86C', 'S179N', 'S179T', 'nt271Δ3', 'nt66InsCC'], 'PA4110': ['A156V', 'A170T', 'A24G', 'A278G', 'A36T', 'A55T', 'A97V', 'A97V; T105A; V205L; G391A', 'D257V', 'D263V', 'D280N', 'D291N', 'D302H', 'E198K', 'E247G', 'F19L', 'F6L', 'G129S', 'G183D', 'G194D', 'G229S', 'G27D', 'G27D; A55T; T105A; Q155R; V205L; G391A', 'G27D; A97V; T105A; F147L; V205L; G391A', 'G27D; A97V; T105A; V205L; G391A', 'G27D; T105A; V205L', 'G27D; T105A; V205L; G391A', 'G27D; T105A; V205L; G391P', 'G27D; T105A; V205L; V356I; G391A', 'G27D; T96I; T105A; V205L; V356I; G391A', 'G391A', 'G391P', 'H215Y', 'I325V', 'I365V', 'L133I', 'L176R', 'L200F', 'L200I', 'P148S', 'P23S', 'P23S; T105A; G391A', 'P23S; T105A; G391A; G183D', 'P274H', 'P274L', 'P274T', 'P7S', 'P82L', 'Q117E', 'Q117L', 'Q155R', 'Q311L', 'R114S', 'R235H', 'R273K', 'R284H', 'R5G', 'R5G; T21A; P23S;A36T; T105A; Q117L; A170T; L200I; V205L; R273K; V356I; G391A', 'R79Q', 'R79Q; T105A', 'R79Q; T105A; G129S', 'R79Q; T105A; P274L', 'R79Q; T105A; R235H', 'S173N', 'S173R', 'S254N', 'S306A', 'S306T', 'T105A', 'T105A; G391A', 'T105A; L176R', 'T105A; V205L; V356I; G391A', 'T16I', 'T16I; G27D; T105A; P148S; V205L; G391A', 'T21A', 'T21A; T105A', 'T21A; T105A; G391A', 'V205L', 'V239A', 'V356I'], 'PA4266': ['A246V', 'D588G', 'E401D', 'E463Q; R680C', 'F582I', 'I186V', 'K212T', 'K430E', 'K496R', 'Q678L', 'Q678R', 'R680C', 'S695T', 'T671A', 'T671I', 'V111M', 'V119A', 'V30F', 'V30I', 'Y552C', 'Y683C', 'aa615InsQL'], 'PA4418': ['A139S', 'A246V', 'A481S', 'A572V', 'D440E', 'D515N', 'F533L', 'G243S', 'G8S', 'H41Y', 'I347T', 'L219V', 'L21P', 'L23V', 'L240V', 'L3V', 'M460T', 'N117S', 'N242S', 'R441H', 'R504C', 'R551L', 'S455F', 'T514S', 'T91A', 'T91A; G243S', 'V373I', 'V373I; R504C', 'V471G', 'Y146F', 'Y268C', 'Y5H'], 'PA4522': ['A134P; G148A; D183Y', 'A134V', 'A136P', 'A136V', 'A136V; G148A', 'A136V; G148A; P162L', 'A144V', 'A29T', 'A29V', 'A29V; W97C; G148A', 'A85G', 'A85S', 'A96T', 'A96T; G148A', 'D112Y; G148A', 'D129N', 'D167E; G148A', 'D183Y', 'D28G', 'D28G; G148A; S175L', 'D59E', 'D83G', 'E163Q', 'E170G', 'E68D', 'F113L', 'F113L; G148A; D183Y', 'G148A', 'G148A; D183Y', 'G148A; G156D; D183Y', 'G148A; P168L; S175L', 'G148A; Q155*; D183Y', 'G148A; R164H; D183Y', 'G148A; S175L', 'G148A; nt377Δ1', 'G148A; nt407InsGGC', 'G46S', 'G46S; G148A', 'G84D; A136V; G148A', 'H71Q; G148A; D183Y', 'L33P', 'L40Q', 'P126Q', 'P41S; G148A', 'Q131X', 'Q44H', 'Q44H; G148A; D183Y', 'Q44H; G148A; D183Y; nt430Δ17', 'Q44H; L135Q; G148A; D183Y', 'Q44K', 'Q51X; G148A', 'Q55P; G148A; D183Y', 'Q88L', 'Q88L; G148A', 'Q88R; A136V; G148A', 'R11H', 'R11L', 'R11L; A96T; G148A; D183Y', 'R11L; G137E; G148A; D183Y', 'R11L; G148A; D183Y', 'R11L; G148A; D183Y; nt436Δ1', 'R11L; L40Q; G148A; D183Y', 'R11L; R140W; G148A; D183Y', 'R14H', 'R178C', 'R82C; G148A; D183Y', 'S175L', 'S175P', 'S18L; G148A; D183Y', 'S39R', 'S75F', 'S91F', 'T139M', 'T139M; G148A; D183Y', 'T139R', 'T166P', 'T182I', 'T47I', 'V10A; T139A; G148A', 'V10G', 'V10G; G148A', 'V10G; G148A; D183Y', 'V10I', 'V10I; A85G; G148A; E170G', 'V30A; G148A', 'W97C', 'W9R', 'nt393Δ1'], 'PA4597': ['A14V', 'A152T', 'A152V', 'A163T', 'A260V', 'A30V', 'A364V', 'A372V', 'A40G', 'A41T', 'A48V', 'D256G', 'D303V', 'D351A', 'D35H', 'D68G', 'F6L', 'G108S', 'G120S', 'G184S', 'G278D', 'G322A', 'G352S', 'I261T', 'K413M', 'L250F', 'L291F', 'L66P', 'L81I', 'M69V', 'N121H', 'N121S', 'N73D', 'Q267R', 'R210H', 'R263Q', 'R263W', 'S127N', 'S176G', 'S264N', 'T323S', 'T376A', 'T376S', 'V146I', 'V472A'], 'PA4598': ['A1039T', 'A1039V', 'A155T', 'A536S', 'A566T', 'A566V', 'A642D', 'A647V', 'A734V', 'A748V', 'A905T', 'A958S', 'A959S', 'E257Q', 'E314D', 'E314Q', 'E602K', 'E650Q', 'G1042R', 'G147D', 'G199D', 'G686R', 'H651R', 'H953N', 'I427V', 'I610V', 'I703V', 'I960L', 'I982V', 'K1031R', 'K804R', 'K863Q', 'L1027V', 'M118T', 'N669D', 'N775K', 'P829H', 'Q149H', 'R254H', 'R540G', 'R596S', 'R696C', 'S1040T', 'S281L', 'S606L', 'S685G', 'S738N', 'S845A', 'S896T', 'T304A', 'T489I', 'T659M', 'T659S', 'T778A', 'T87S', 'V343A', 'V351L', 'V364L', 'V384L', 'V434A', 'V523A', 'V607A', 'V660I', 'V914I', 'aa1027InsLLS', 'nt554InsG'], 'PA4599': ['A106T', 'A227V', 'A262E', 'A277T', 'A31V', 'A378T', 'A384V', 'A49V', 'D226E', 'D298A', 'E152Q', 'E251Q', 'E26A', 'E347K', 'E350K', 'G254S', 'G8R', 'H310R', 'I133V', 'I369V', 'M34I', 'N299S   G334A', 'P351L', 'P383S', 'P47S', 'Q134X', 'Q300R', 'Q381L', 'R76G', 'R76Q', 'R76W', 'S157T', 'S313G', 'S330A', 'S341A', 'S51R', 'T145I', 'T175A', 'V131M', 'V282I', 'V337A', 'V367A', 'nt205∆2'], 'PA4600': ['A121T', 'A124T', 'A170T', 'A30T', 'D56G', 'DELETED', 'E75G', 'E78X', 'G129R', 'G133S', 'G154R; nt279Δ9', 'G180S', 'H109Y', 'I149L', 'L88F', 'Q64X', 'R163Q', 'R186H', 'R21H', 'R21H; D56G', 'R47Q', 'R82L', 'T2P', 'V35A; D56G', 'W115*', 'X188ext', 'nt295∆14', 'nt331Δ1', 'nt42InsGCAGTC'], 'PA4700': ['A109T', 'A254T', 'A751T', 'D502G; L353Q; S25G', 'D502N', 'E265K', 'E52Q', 'F234L', 'F453Y', 'G503D', 'G503D; L353Q; S25G', 'K607R', 'K607R; D383N; L353Q; S25G', 'K607R; L353Q', 'K607R; L353Q; S25G', 'L20F', 'L353Q', 'L353Q; S25G', 'M715K', 'M715K; K607R', 'P100S', 'P16L', 'P543S', 'Q427E', 'R227C', 'S108N', 'S25G', 'S96N', 'V433I', 'W26R'], 'PA4776': ['D61E', 'D61N', 'E131A', 'E131D', 'E163D', 'G19E', 'G70S', 'H139Y', 'L134P', 'L71P', 'L71R', 'L71R; Y179H', 'R122H', 'R81Q', 'T142P'], 'PA4777': ['A119T', 'A173T', 'A197S', 'A413T', 'A462T', 'A467V', 'A4T', 'A4T; D47N; E69A; Y345H; P369A; A462T', 'A4T; D70N; H340R; Y345H', 'A4T; G52S; G68S; Y345H; G362S', 'A4T; G68S; V344M; Y345H; G362S', 'A4T; G68S; Y345H; G362S', 'A4T; H311Q; Y345H; A413T', 'A4T; V15I; G68S; L139P; Y345H', 'A4T; V15I; G68S; Y345H', 'A4T; V15I; G68S; Y345H; R474Q', 'A4T; V6A; V15I; G68S; Y345H', 'A67T', 'D70N', 'E213D', 'E269K', 'E320K; Y345H', 'G188S', 'G188S; Y345H', 'G362S', 'G439D', 'G441D', 'G469S', 'G68S', 'G68S; Y345H', 'H311Q', 'H340R', 'L217V', 'L301F; Y345H', 'L31P', 'L31Q; Y345H', 'L339S; Y345H', 'L35V', 'L398Q', 'P369A', 'P369S', 'R10L', 'R234C', 'S2P', 'S2P; A4T; G68S; Y345H; G362S', 'S2P; A4T; V15I; G68S; Y345H', 'S2P; A4T; V6A; V15I; G68S; Y345H', 'S94N', 'T343A', 'T343N', 'T406A', 'T458I', 'T63S', 'V15I', 'V15I; G68S', 'V322A', 'V431I', 'V451L', 'V6A', 'Y345H', 'Y345H; G443R'], 'PA4964': ['A208G', 'A233P', 'A528T', 'A587T', 'A688V', 'D422A', 'D533E; A587T', 'D62N', 'D754N', 'D86N; S331T', 'E225D', 'E498D', 'E513D', 'E91K', 'E91K; H262Q; L458F', 'E91V', 'F360Y', 'F601Y', 'G85C', 'H262Q', 'I388V', 'K474R', 'K726R', 'L168Q', 'L95Q', 'M502L', 'N633S', 'P506S', 'P683S', 'P752T', 'Q359R', 'Q405R', 'R131S', 'R201P', 'R441L', 'S197L', 'S197L; H262Q', 'S331T', 'S635A', 'S87L', 'S87L; E513D', 'S87L; P752T', 'S87W', 'S87W; E513D', 'S87W; H262Q', 'S87W; L168Q', 'T556S', 'V238I', 'V419L', 'V646L'], 'PA4967': ['A342V', 'A473V', 'A473V; D533E', 'D142N', 'D419N', 'D419N; D533E', 'D533E', 'E215Q', 'E459G', 'E459K', 'E459K; D533E', 'E459V', 'G494S; D533E', 'H360Y; V460G', 'H50Y', 'I57V', 'I89T', 'K157R', 'L444V; D533E', 'P195T', 'P438S', 'P438S; D533E', 'P511S', 'S147T', 'S261L; D533E', 'S346T', 'S457G', 'S457R', 'V200M', 'V460G', 'V520A', 'V629A', 'Y4C', 'nt1345InsGTGGAC'], 'PA5045': ['A368T', 'A368T; S631I', 'A399P', 'A421T; S539T', 'A617T', 'D309E', 'D616V', 'D625A', 'D73N', 'E158K', 'E161Q', 'E245D', 'E367G; S631I', 'E53K', 'E53K; S631I', 'E618D', 'G596R', 'G634S', 'H628N', 'H628N; V643I', 'I403V', 'I418T', 'I418T; N622K', 'I418V', 'K431Q', 'L532V', 'M196L', 'M389L', 'N223D', 'N554D', 'N622K', 'P388S', 'P803S', 'Q408X', 'Q454H', 'Q641L', 'R378H', 'S520P', 'S539T', 'S631I', 'S717C', 'T412I', 'T794A', 'V12A', 'V244I', 'V598M', 'V613A', 'V613I', 'V643I', 'V643I; S717C', 'aa615InsP', 'aa616InsP'], 'PA5235': ['A121T', 'A121T; nt575Δ13', 'A121T; nt832Δ1', 'A121T; nt838Δ1', 'A259G', 'A439T', 'C309Y; A439T; nt210Δ6', 'C432S', 'G305D', 'G369D', 'G396S', 'G422S', 'G99D', 'H114R', 'K437T', 'L101M', 'L373Q', 'L403M', 'P444S', 'P444T', 'S119C', 'S156G', 'T211P', 'Ter449Gext*', 'Ter449Gext*; nt210Δ6', 'V198M', 'V246I', 'V334I', 'W132X', 'W149R', 'X449ext', 'Y205C', 'aa499InsG', 'nt1107Δ1', 'nt143Δ9', 'nt159Δ16', 'nt210Δ6', 'nt840Δ1', 'resf'], 'PA5471': ['A245V', 'A262S', 'A286T', 'A352V', 'A58V', 'A87T', 'C40R', 'C40R; A87V; D161G; H182Q; V243A; E307D; I346V', 'C40R; H182Q; V243A', 'C40R; L88P; D161G', 'C40R; L88P; D161G; H182Q; V243A', 'C40R; L88P; S112N; D119E; D207N; I237V; V243A', 'C40R; L88P; S112N; D119E; I237V; Ans238S; V243A; A352V', 'C40R; L88P; S112N; D119E; I237V; V243A', 'C40R; S112N; D119E; D161G; H182Q; I237V; V243A', 'C40R; S112N; D161G; H182Q; I237V; V243A', 'D104E', 'D119E', 'D159A', 'D159N', 'D161G', 'D18N; L88P; D161G; H182Q; V243A', 'D207N', 'E307D', 'E35K; L88P; D161G; H182Q; I237V; Ans238S; V243A; A352V', 'G134D', 'G157D', 'G190A', 'G190S', 'G258S', 'G51C', 'H182Q', 'H182Y', 'I237V', 'I346V', 'L174F', 'L196P', 'L88P', 'L88P; D119E', 'L88P; D161G; H182Q; R204C; V243A', 'L88P; D161G; H182Q; V243A', 'L88P; D161G; H182Q; V243A; A262S', 'L88P; D161G; H182Q; V243A; A352V', 'L88P; D161G; H182Q; V243A; G258S', 'L88P; D161G; H182Q; V243A; V266M', 'L88P; D161G; H182Q; V243A; V283L', 'L88P; G157D; D161G; H182Q; V243A', 'L88P; H182Q', 'L88P; V243A', 'N238S', 'P244L', 'R204C', 'R302C', 'R320C', 'R320P', 'R322H', 'R322S', 'R41C; L88P; D161G; H182Q', 'R52C; L88P; D161G; H182Q; V243A', 'S112N', 'S184G', 'S314N', 'S348T', 'T32I', 'Ter14Qext*; L88P; D161G; H182Q; R204C; V243A', 'V242M', 'V243A', 'V247I', 'V266M', 'V362I'], 'PA5485': ['A30V', 'A8V', 'F9I', 'P116S', 'P21Q', 'Q110K', 'Q110R', 'Q117E', 'R189H', 'S12A', 'T115S', 'T258A', 'V40I', 'V89D', 'nt12∆4', 'nt4Δ4'], 'PA5513': ['A141V', 'A191V', 'A278S', 'A280T', 'A281T', 'A50T', 'A82S', 'D241N', 'D279A', 'F7S', 'G229D', 'H264Q', 'P245S', 'P92S', 'Q164L', 'R212H', 'R236H', 'S11L', 'S4Y', 'T119I', 'T232I', 'V139M', 'V265A', 'V267A', 'nt389InsCCCGG'], 'PA5514': ['A189T', 'D109E', 'E176A', 'E56Q', 'F6L', 'G139S', 'G196S', 'I244T', 'K112E', 'L170I', 'N134D', 'N225Y', 'Q25R', 'R137H', 'R167H', 'R49C', 'R66Q', 'R83K', 'T16A', 'V148A'], 'PA5542': ['A11V', 'A164T', 'A19S', 'A27V', 'A412T', 'D302N', 'E123A', 'E265Q', 'E89A', 'H236Q', 'I106V', 'K332R', 'L152I', 'P161L', 'P219T', 'P249L', 'P350S', 'Q297L', 'R100H', 'R97T', 'R97W', 'S138A', 'S224A', 'S224G', 'S224T', 'S22L', 'S266R', 'S325T', 'S3N', 'T68A', 'T68I', 'T68S', 'V112I', 'V17I', 'V351L', 'V77A', 'V77T'], 'PA0355': ['A152T', 'A98V', 'D42A', 'E164D', 'E175D', 'E57D', 'I83V', 'N170S', 'R172Q', 'T24I', 'T64I', 'V21I'], 'PA0357': ['A208V', 'A66S', 'A66T', 'A99V', 'S250G', 'T251S'], 'PA0750': ['N56S', 'V43A', 'nt131∆5'], 'PA1816': ['N213S', 'R33H', 'S118T', 'T114S', 'V49I'], 'PA3002': ['A366T', 'A391P', 'A536T', 'G19D', 'H439Q', 'K38R', 'K585E', 'Q421K', 'R241C', 'S111P', 'S12T', 'S680N', 'S8N', 'V30I', 'V347I', 'V647A', 'aa11∆1', 'aa11∆S'], 'PA3620': ['A187S', 'A781T', 'I133V', 'I579V', 'M803V', 'T593S'], 'PA4366': ['S59T'], 'PA4400': ['A239T', 'A97V', 'E236D', 'L288V', 'P290S'], 'PA4468': ['G109E', 'R102Q', 'S55N'], 'PA4609': ['A41G', 'A41V', 'T76A', 'V251M'], 'PA4946': ['A272D', 'A391V', 'A4T', 'D623A', 'E428D', 'G414D', 'N595S', 'R207Q', 'V321I', 'W385C'], 'PA5147': ['A354T', 'D269N', 'E103A', 'E166A', 'G270D', 'G27D', 'G311A', 'G311S', 'G311T', 'G319A', 'R314P'], 'PA5344': ['I309L'], 'PA5443': ['A641S', 'D476N', 'E210K', 'G164V', 'K344R', 'N666S', 'S494G', 'S662N', 'T659A', 'V556I'], 'PA5493': ['C882H', 'C882R', 'D126G', 'D379E', 'D706E', 'D876E', 'D910G', 'E210K', 'E376D', 'K395Q', 'K396R', 'L419M', 'L857I', 'N299S', 'P635L', 'Q853L', 'R420Q', 'R636L', 'S735N', 'V350L', 'V729M', 'V905I']}\n"
     ]
    }
   ],
   "source": [
    "# ## 3. Cargar y preprocesar los datos\n",
    "# Leer el archivo de entrenamiento (1200 cepas)\n",
    "train_df = pd.read_csv('input/training_data.csv', sep=\";\").reset_index(drop=True)\n",
    "print(\"Dimensiones del DataFrame original:\", train_df.shape)\n",
    "\n",
    "# Definir nombres de columnas:\n",
    "# [\"strain_id\", \"FEP_MIC\", \"FEP_eval\", \"MER_MIC\", \"MER_eval\", \"IMI_MIC\", \"IMI_eval\",\n",
    "#  \"AZT_MIC\", \"AZT_eval\", \"CIP_MIC\", \"CIP_eval\", gene1, gene2, ..., gene71]\n",
    "id_col = \"strain_id\"\n",
    "\n",
    "# Evaluaciones clínicas de los antibióticos\n",
    "eval_cols = [\"FEP_eval\", \"MER_eval\", \"IMI_eval\", \"AZT_eval\", \"CIP_eval\"]\n",
    "\n",
    "# Columnas con genes de resistencia\n",
    "gene_cols = train_df.loc[:, \"PA0004\":\"PA5493\"]\n",
    "\n",
    "# Preprocesamiento de los genes: codificación multi-hot por gen\n",
    "# La idea es, para cada gen, construir un vocabulario de mutaciones (observadas en el set de entrenamiento)\n",
    "# y, para cada celda, crear un vector binario indicando la presencia de cada mutación.\n",
    "def build_gene_vocab(df, gene_columns):\n",
    "    vocab = {}\n",
    "    for col in gene_columns:\n",
    "        mutations = set()\n",
    "        for val in df[col]:\n",
    "            if pd.isna(val) or str(val).strip() == \"-\" or str(val).strip() == \"\":\n",
    "                continue\n",
    "            # Dividir las mutaciones por coma\n",
    "            for mut in val.split(\",\"):\n",
    "                mut = mut.strip()\n",
    "                if mut:\n",
    "                    mutations.add(mut)\n",
    "        # Ordenamos el vocabulario para tener un orden fijo\n",
    "        vocab[col] = sorted(list(mutations))\n",
    "    return vocab\n",
    "\n",
    "gene_vocab = build_gene_vocab(train_df, gene_cols)\n",
    "\n",
    "print('Vocabulario de mutaciones: gene_vocab')\n",
    "print(gene_vocab)"
   ]
  },
  {
   "cell_type": "markdown",
   "id": "13a1c0f5-3e30-4f4a-8387-0b3e3be96891",
   "metadata": {},
   "source": [
    "## 3.1 Codificar matrices para el set de entrenamiento"
   ]
  },
  {
   "cell_type": "code",
   "execution_count": 4,
   "id": "ffc27c21-df81-4cb3-9de2-588a283ee5b8",
   "metadata": {},
   "outputs": [
    {
     "name": "stdout",
     "output_type": "stream",
     "text": [
      "Número de índices únicos en train_df: 1045\n",
      "Número de muestras generadas: 1045\n",
      "Dimensiones de X_train_genes: (1045, 2261)\n",
      "Dimensiones de X_train_input: (1045, 2261)\n",
      "Dimensiones de X_test_input: (44, 2261)\n"
     ]
    }
   ],
   "source": [
    "# Función para codificar una fila: para cada gen, si la celda está vacía se retorna un vector de ceros,\n",
    "# si tiene mutaciones, se asigna 1 en las posiciones correspondientes al vocabulario.\n",
    "def encode_gene_row(row, gene_columns, vocab):\n",
    "    features = []\n",
    "    for col in gene_columns:\n",
    "        gene_voc = vocab[col]\n",
    "        vec = np.zeros(len(gene_voc), dtype=int)\n",
    "        cell = row[col]\n",
    "        if pd.isna(cell) or str(cell).strip() == \"-\" or str(cell).strip() == \"\":\n",
    "            # Wild type: vector de ceros\n",
    "            pass\n",
    "        else:\n",
    "            mutations = [m.strip() for m in cell.split(\",\") if m.strip() != \"\"]\n",
    "            for mut in mutations:\n",
    "                if mut in gene_voc:\n",
    "                    idx = gene_voc.index(mut)\n",
    "                    vec[idx] = 1\n",
    "        # Agregar el vector para este gen a la lista de características\n",
    "        features.extend(vec.tolist())\n",
    "    return features\n",
    "\n",
    "print(\"Número de índices únicos en train_df:\", train_df.index.nunique())\n",
    "\n",
    "# # Aplicar la codificación a cada fila para los genes en el set de entrenamiento\n",
    "X_train_list = [encode_gene_row(row, gene_cols, gene_vocab) for _, row in train_df.iterrows()]\n",
    "print(\"Número de muestras generadas:\", len(X_train_list))\n",
    "X_train_genes = np.array(X_train_list)\n",
    "print(\"Dimensiones de X_train_genes:\", X_train_genes.shape)\n",
    "\n",
    "# Preparar las etiquetas para caracterizar clínicamente los valores MIC:\n",
    "# Cada evaluación es una cadena con una de 3 categorías: \"sensitive\", \"resistant\" o \"indeterminate\".\n",
    "y_antibiotics = {}\n",
    "antibiotic_encoders = {}\n",
    "\n",
    "for col in eval_cols:\n",
    "    le = LabelEncoder()\n",
    "    y_enc = le.fit_transform(train_df[col].astype(str).str.lower())\n",
    "    antibiotic_encoders[col] = le\n",
    "    # Convertimos a formato one-hot (aunque en clasificación binaria se puede usar una sola neurona con sigmoide)\n",
    "    # One-hot encoding para 3 clases *********************************REVISAR**********************************¿como se codifican las 3 clases?\n",
    "    y_antibiotics[col] = to_categorical(y_enc)\n",
    "\n",
    "\n",
    "# Creamos el diccionario de salidas para el modelo multi-salida (5 salidas, una por antibiótico)\n",
    "y_train = {\n",
    "    'FEP': y_antibiotics[\"FEP_eval\"],\n",
    "    'MER': y_antibiotics[\"MER_eval\"],\n",
    "    'IMI': y_antibiotics[\"IMI_eval\"],\n",
    "    'AZT': y_antibiotics[\"AZT_eval\"],\n",
    "    'CIP': y_antibiotics[\"CIP_eval\"]\n",
    "}\n",
    "\n",
    "\n",
    "# La entrada del modelo será únicamente la información codificada de los genes.\n",
    "X_train_input = X_train_genes\n",
    "print(\"Dimensiones de X_train_input:\", X_train_input.shape)\n",
    "\n",
    "# Cargar datos de test (200 cepas)\n",
    "test_df = pd.read_csv('input/test_data.csv',sep=\";\")\n",
    "# Se asume que test_data.csv tiene: \"strain_id\" y luego las 71 columnas de genes con los mismos nombres.\n",
    "test_gene_cols = test_df.columns[1:]\n",
    "X_test_genes = test_df.apply(lambda row: encode_gene_row(row, test_gene_cols, gene_vocab), axis=1)\n",
    "X_test_input = np.array(X_test_genes.tolist())\n",
    "print(\"Dimensiones de X_test_input:\", X_test_input.shape)"
   ]
  },
  {
   "cell_type": "markdown",
   "id": "da70fdb1-17b4-49d3-9886-47020ce4518b",
   "metadata": {},
   "source": [
    "## 4. Definir una capa Cross para capturar interacciones entre mutaciones"
   ]
  },
  {
   "cell_type": "code",
   "execution_count": 7,
   "id": "e5f15e6e-2f02-43d6-b722-f89a000a60c0",
   "metadata": {},
   "outputs": [
    {
     "name": "stdout",
     "output_type": "stream",
     "text": [
      "Matrices CrossLayer creadas\n"
     ]
    }
   ],
   "source": [
    "# ## 4. Definir una capa Cross para capturar interacciones entre mutaciones\n",
    "class CrossLayer(tf.keras.layers.Layer):\n",
    "    def __init__(self, num_layers=1, **kwargs):\n",
    "        super(CrossLayer, self).__init__(**kwargs)\n",
    "        self.num_layers = num_layers\n",
    "\n",
    "    def build(self, input_shape):\n",
    "        self.cross_weights = []\n",
    "        self.cross_biases = []\n",
    "        d = int(input_shape[-1])\n",
    "        for i in range(self.num_layers):\n",
    "            self.cross_weights.append(\n",
    "                self.add_weight(name=f'cross_w_{i}',\n",
    "                                shape=(d, 1),\n",
    "                                initializer='glorot_uniform',\n",
    "                                trainable=True)\n",
    "            )\n",
    "            self.cross_biases.append(\n",
    "                self.add_weight(name=f'cross_b_{i}',\n",
    "                                shape=(d,),\n",
    "                                initializer='zeros',\n",
    "                                trainable=True)\n",
    "            )\n",
    "        super(CrossLayer, self).build(input_shape)\n",
    "\n",
    "    def call(self, inputs):\n",
    "        x0 = inputs\n",
    "        x = inputs\n",
    "        for i in range(self.num_layers):\n",
    "            dot = tf.matmul(x, self.cross_weights[i])  # (batch_size, 1)\n",
    "            x = x0 * dot + self.cross_biases[i] + x\n",
    "        return x\n",
    "\n",
    "    print(\"Matrices CrossLayer creadas\")"
   ]
  },
  {
   "cell_type": "markdown",
   "id": "88ed3651-6f2e-4cc9-9914-6938f28128b6",
   "metadata": {},
   "source": [
    "## 5. Definir el modelo de redes neuronales multi-salida"
   ]
  },
  {
   "cell_type": "code",
   "execution_count": 8,
   "id": "a58a6b1d-1351-4c3b-9dc7-c1d8f141184c",
   "metadata": {},
   "outputs": [
    {
     "name": "stdout",
     "output_type": "stream",
     "text": [
      "Salidas creadas\n",
      "Ejecutando modelo\n"
     ]
    },
    {
     "data": {
      "text/html": [
       "<pre style=\"white-space:pre;overflow-x:auto;line-height:normal;font-family:Menlo,'DejaVu Sans Mono',consolas,'Courier New',monospace\"><span style=\"font-weight: bold\">Model: \"functional_1\"</span>\n",
       "</pre>\n"
      ],
      "text/plain": [
       "\u001b[1mModel: \"functional_1\"\u001b[0m\n"
      ]
     },
     "metadata": {},
     "output_type": "display_data"
    },
    {
     "data": {
      "text/html": [
       "<pre style=\"white-space:pre;overflow-x:auto;line-height:normal;font-family:Menlo,'DejaVu Sans Mono',consolas,'Courier New',monospace\">┏━━━━━━━━━━━━━━━━━━━━━┳━━━━━━━━━━━━━━━━━━━┳━━━━━━━━━━━━┳━━━━━━━━━━━━━━━━━━━┓\n",
       "┃<span style=\"font-weight: bold\"> Layer (type)        </span>┃<span style=\"font-weight: bold\"> Output Shape      </span>┃<span style=\"font-weight: bold\">    Param # </span>┃<span style=\"font-weight: bold\"> Connected to      </span>┃\n",
       "┡━━━━━━━━━━━━━━━━━━━━━╇━━━━━━━━━━━━━━━━━━━╇━━━━━━━━━━━━╇━━━━━━━━━━━━━━━━━━━┩\n",
       "│ input (<span style=\"color: #0087ff; text-decoration-color: #0087ff\">InputLayer</span>)  │ (<span style=\"color: #00d7ff; text-decoration-color: #00d7ff\">None</span>, <span style=\"color: #00af00; text-decoration-color: #00af00\">2261</span>)      │          <span style=\"color: #00af00; text-decoration-color: #00af00\">0</span> │ -                 │\n",
       "├─────────────────────┼───────────────────┼────────────┼───────────────────┤\n",
       "│ dense_2 (<span style=\"color: #0087ff; text-decoration-color: #0087ff\">Dense</span>)     │ (<span style=\"color: #00d7ff; text-decoration-color: #00d7ff\">None</span>, <span style=\"color: #00af00; text-decoration-color: #00af00\">256</span>)       │    <span style=\"color: #00af00; text-decoration-color: #00af00\">579,072</span> │ input[<span style=\"color: #00af00; text-decoration-color: #00af00\">0</span>][<span style=\"color: #00af00; text-decoration-color: #00af00\">0</span>]       │\n",
       "├─────────────────────┼───────────────────┼────────────┼───────────────────┤\n",
       "│ dropout (<span style=\"color: #0087ff; text-decoration-color: #0087ff\">Dropout</span>)   │ (<span style=\"color: #00d7ff; text-decoration-color: #00d7ff\">None</span>, <span style=\"color: #00af00; text-decoration-color: #00af00\">256</span>)       │          <span style=\"color: #00af00; text-decoration-color: #00af00\">0</span> │ dense_2[<span style=\"color: #00af00; text-decoration-color: #00af00\">0</span>][<span style=\"color: #00af00; text-decoration-color: #00af00\">0</span>]     │\n",
       "├─────────────────────┼───────────────────┼────────────┼───────────────────┤\n",
       "│ dense_3 (<span style=\"color: #0087ff; text-decoration-color: #0087ff\">Dense</span>)     │ (<span style=\"color: #00d7ff; text-decoration-color: #00d7ff\">None</span>, <span style=\"color: #00af00; text-decoration-color: #00af00\">128</span>)       │     <span style=\"color: #00af00; text-decoration-color: #00af00\">32,896</span> │ dropout[<span style=\"color: #00af00; text-decoration-color: #00af00\">0</span>][<span style=\"color: #00af00; text-decoration-color: #00af00\">0</span>]     │\n",
       "├─────────────────────┼───────────────────┼────────────┼───────────────────┤\n",
       "│ dropout_1 (<span style=\"color: #0087ff; text-decoration-color: #0087ff\">Dropout</span>) │ (<span style=\"color: #00d7ff; text-decoration-color: #00d7ff\">None</span>, <span style=\"color: #00af00; text-decoration-color: #00af00\">128</span>)       │          <span style=\"color: #00af00; text-decoration-color: #00af00\">0</span> │ dense_3[<span style=\"color: #00af00; text-decoration-color: #00af00\">0</span>][<span style=\"color: #00af00; text-decoration-color: #00af00\">0</span>]     │\n",
       "├─────────────────────┼───────────────────┼────────────┼───────────────────┤\n",
       "│ cross_layer         │ (<span style=\"color: #00d7ff; text-decoration-color: #00d7ff\">None</span>, <span style=\"color: #00af00; text-decoration-color: #00af00\">128</span>)       │        <span style=\"color: #00af00; text-decoration-color: #00af00\">256</span> │ dropout_1[<span style=\"color: #00af00; text-decoration-color: #00af00\">0</span>][<span style=\"color: #00af00; text-decoration-color: #00af00\">0</span>]   │\n",
       "│ (<span style=\"color: #0087ff; text-decoration-color: #0087ff\">CrossLayer</span>)        │                   │            │                   │\n",
       "├─────────────────────┼───────────────────┼────────────┼───────────────────┤\n",
       "│ dense_4 (<span style=\"color: #0087ff; text-decoration-color: #0087ff\">Dense</span>)     │ (<span style=\"color: #00d7ff; text-decoration-color: #00d7ff\">None</span>, <span style=\"color: #00af00; text-decoration-color: #00af00\">64</span>)        │      <span style=\"color: #00af00; text-decoration-color: #00af00\">8,256</span> │ cross_layer[<span style=\"color: #00af00; text-decoration-color: #00af00\">0</span>][<span style=\"color: #00af00; text-decoration-color: #00af00\">0</span>] │\n",
       "├─────────────────────┼───────────────────┼────────────┼───────────────────┤\n",
       "│ FEP (<span style=\"color: #0087ff; text-decoration-color: #0087ff\">Dense</span>)         │ (<span style=\"color: #00d7ff; text-decoration-color: #00d7ff\">None</span>, <span style=\"color: #00af00; text-decoration-color: #00af00\">3</span>)         │        <span style=\"color: #00af00; text-decoration-color: #00af00\">195</span> │ dense_4[<span style=\"color: #00af00; text-decoration-color: #00af00\">0</span>][<span style=\"color: #00af00; text-decoration-color: #00af00\">0</span>]     │\n",
       "├─────────────────────┼───────────────────┼────────────┼───────────────────┤\n",
       "│ MER (<span style=\"color: #0087ff; text-decoration-color: #0087ff\">Dense</span>)         │ (<span style=\"color: #00d7ff; text-decoration-color: #00d7ff\">None</span>, <span style=\"color: #00af00; text-decoration-color: #00af00\">3</span>)         │        <span style=\"color: #00af00; text-decoration-color: #00af00\">195</span> │ dense_4[<span style=\"color: #00af00; text-decoration-color: #00af00\">0</span>][<span style=\"color: #00af00; text-decoration-color: #00af00\">0</span>]     │\n",
       "├─────────────────────┼───────────────────┼────────────┼───────────────────┤\n",
       "│ IMI (<span style=\"color: #0087ff; text-decoration-color: #0087ff\">Dense</span>)         │ (<span style=\"color: #00d7ff; text-decoration-color: #00d7ff\">None</span>, <span style=\"color: #00af00; text-decoration-color: #00af00\">3</span>)         │        <span style=\"color: #00af00; text-decoration-color: #00af00\">195</span> │ dense_4[<span style=\"color: #00af00; text-decoration-color: #00af00\">0</span>][<span style=\"color: #00af00; text-decoration-color: #00af00\">0</span>]     │\n",
       "├─────────────────────┼───────────────────┼────────────┼───────────────────┤\n",
       "│ AZT (<span style=\"color: #0087ff; text-decoration-color: #0087ff\">Dense</span>)         │ (<span style=\"color: #00d7ff; text-decoration-color: #00d7ff\">None</span>, <span style=\"color: #00af00; text-decoration-color: #00af00\">3</span>)         │        <span style=\"color: #00af00; text-decoration-color: #00af00\">195</span> │ dense_4[<span style=\"color: #00af00; text-decoration-color: #00af00\">0</span>][<span style=\"color: #00af00; text-decoration-color: #00af00\">0</span>]     │\n",
       "├─────────────────────┼───────────────────┼────────────┼───────────────────┤\n",
       "│ CIP (<span style=\"color: #0087ff; text-decoration-color: #0087ff\">Dense</span>)         │ (<span style=\"color: #00d7ff; text-decoration-color: #00d7ff\">None</span>, <span style=\"color: #00af00; text-decoration-color: #00af00\">3</span>)         │        <span style=\"color: #00af00; text-decoration-color: #00af00\">195</span> │ dense_4[<span style=\"color: #00af00; text-decoration-color: #00af00\">0</span>][<span style=\"color: #00af00; text-decoration-color: #00af00\">0</span>]     │\n",
       "└─────────────────────┴───────────────────┴────────────┴───────────────────┘\n",
       "</pre>\n"
      ],
      "text/plain": [
       "┏━━━━━━━━━━━━━━━━━━━━━┳━━━━━━━━━━━━━━━━━━━┳━━━━━━━━━━━━┳━━━━━━━━━━━━━━━━━━━┓\n",
       "┃\u001b[1m \u001b[0m\u001b[1mLayer (type)       \u001b[0m\u001b[1m \u001b[0m┃\u001b[1m \u001b[0m\u001b[1mOutput Shape     \u001b[0m\u001b[1m \u001b[0m┃\u001b[1m \u001b[0m\u001b[1m   Param #\u001b[0m\u001b[1m \u001b[0m┃\u001b[1m \u001b[0m\u001b[1mConnected to     \u001b[0m\u001b[1m \u001b[0m┃\n",
       "┡━━━━━━━━━━━━━━━━━━━━━╇━━━━━━━━━━━━━━━━━━━╇━━━━━━━━━━━━╇━━━━━━━━━━━━━━━━━━━┩\n",
       "│ input (\u001b[38;5;33mInputLayer\u001b[0m)  │ (\u001b[38;5;45mNone\u001b[0m, \u001b[38;5;34m2261\u001b[0m)      │          \u001b[38;5;34m0\u001b[0m │ -                 │\n",
       "├─────────────────────┼───────────────────┼────────────┼───────────────────┤\n",
       "│ dense_2 (\u001b[38;5;33mDense\u001b[0m)     │ (\u001b[38;5;45mNone\u001b[0m, \u001b[38;5;34m256\u001b[0m)       │    \u001b[38;5;34m579,072\u001b[0m │ input[\u001b[38;5;34m0\u001b[0m][\u001b[38;5;34m0\u001b[0m]       │\n",
       "├─────────────────────┼───────────────────┼────────────┼───────────────────┤\n",
       "│ dropout (\u001b[38;5;33mDropout\u001b[0m)   │ (\u001b[38;5;45mNone\u001b[0m, \u001b[38;5;34m256\u001b[0m)       │          \u001b[38;5;34m0\u001b[0m │ dense_2[\u001b[38;5;34m0\u001b[0m][\u001b[38;5;34m0\u001b[0m]     │\n",
       "├─────────────────────┼───────────────────┼────────────┼───────────────────┤\n",
       "│ dense_3 (\u001b[38;5;33mDense\u001b[0m)     │ (\u001b[38;5;45mNone\u001b[0m, \u001b[38;5;34m128\u001b[0m)       │     \u001b[38;5;34m32,896\u001b[0m │ dropout[\u001b[38;5;34m0\u001b[0m][\u001b[38;5;34m0\u001b[0m]     │\n",
       "├─────────────────────┼───────────────────┼────────────┼───────────────────┤\n",
       "│ dropout_1 (\u001b[38;5;33mDropout\u001b[0m) │ (\u001b[38;5;45mNone\u001b[0m, \u001b[38;5;34m128\u001b[0m)       │          \u001b[38;5;34m0\u001b[0m │ dense_3[\u001b[38;5;34m0\u001b[0m][\u001b[38;5;34m0\u001b[0m]     │\n",
       "├─────────────────────┼───────────────────┼────────────┼───────────────────┤\n",
       "│ cross_layer         │ (\u001b[38;5;45mNone\u001b[0m, \u001b[38;5;34m128\u001b[0m)       │        \u001b[38;5;34m256\u001b[0m │ dropout_1[\u001b[38;5;34m0\u001b[0m][\u001b[38;5;34m0\u001b[0m]   │\n",
       "│ (\u001b[38;5;33mCrossLayer\u001b[0m)        │                   │            │                   │\n",
       "├─────────────────────┼───────────────────┼────────────┼───────────────────┤\n",
       "│ dense_4 (\u001b[38;5;33mDense\u001b[0m)     │ (\u001b[38;5;45mNone\u001b[0m, \u001b[38;5;34m64\u001b[0m)        │      \u001b[38;5;34m8,256\u001b[0m │ cross_layer[\u001b[38;5;34m0\u001b[0m][\u001b[38;5;34m0\u001b[0m] │\n",
       "├─────────────────────┼───────────────────┼────────────┼───────────────────┤\n",
       "│ FEP (\u001b[38;5;33mDense\u001b[0m)         │ (\u001b[38;5;45mNone\u001b[0m, \u001b[38;5;34m3\u001b[0m)         │        \u001b[38;5;34m195\u001b[0m │ dense_4[\u001b[38;5;34m0\u001b[0m][\u001b[38;5;34m0\u001b[0m]     │\n",
       "├─────────────────────┼───────────────────┼────────────┼───────────────────┤\n",
       "│ MER (\u001b[38;5;33mDense\u001b[0m)         │ (\u001b[38;5;45mNone\u001b[0m, \u001b[38;5;34m3\u001b[0m)         │        \u001b[38;5;34m195\u001b[0m │ dense_4[\u001b[38;5;34m0\u001b[0m][\u001b[38;5;34m0\u001b[0m]     │\n",
       "├─────────────────────┼───────────────────┼────────────┼───────────────────┤\n",
       "│ IMI (\u001b[38;5;33mDense\u001b[0m)         │ (\u001b[38;5;45mNone\u001b[0m, \u001b[38;5;34m3\u001b[0m)         │        \u001b[38;5;34m195\u001b[0m │ dense_4[\u001b[38;5;34m0\u001b[0m][\u001b[38;5;34m0\u001b[0m]     │\n",
       "├─────────────────────┼───────────────────┼────────────┼───────────────────┤\n",
       "│ AZT (\u001b[38;5;33mDense\u001b[0m)         │ (\u001b[38;5;45mNone\u001b[0m, \u001b[38;5;34m3\u001b[0m)         │        \u001b[38;5;34m195\u001b[0m │ dense_4[\u001b[38;5;34m0\u001b[0m][\u001b[38;5;34m0\u001b[0m]     │\n",
       "├─────────────────────┼───────────────────┼────────────┼───────────────────┤\n",
       "│ CIP (\u001b[38;5;33mDense\u001b[0m)         │ (\u001b[38;5;45mNone\u001b[0m, \u001b[38;5;34m3\u001b[0m)         │        \u001b[38;5;34m195\u001b[0m │ dense_4[\u001b[38;5;34m0\u001b[0m][\u001b[38;5;34m0\u001b[0m]     │\n",
       "└─────────────────────┴───────────────────┴────────────┴───────────────────┘\n"
      ]
     },
     "metadata": {},
     "output_type": "display_data"
    },
    {
     "data": {
      "text/html": [
       "<pre style=\"white-space:pre;overflow-x:auto;line-height:normal;font-family:Menlo,'DejaVu Sans Mono',consolas,'Courier New',monospace\"><span style=\"font-weight: bold\"> Total params: </span><span style=\"color: #00af00; text-decoration-color: #00af00\">621,455</span> (2.37 MB)\n",
       "</pre>\n"
      ],
      "text/plain": [
       "\u001b[1m Total params: \u001b[0m\u001b[38;5;34m621,455\u001b[0m (2.37 MB)\n"
      ]
     },
     "metadata": {},
     "output_type": "display_data"
    },
    {
     "data": {
      "text/html": [
       "<pre style=\"white-space:pre;overflow-x:auto;line-height:normal;font-family:Menlo,'DejaVu Sans Mono',consolas,'Courier New',monospace\"><span style=\"font-weight: bold\"> Trainable params: </span><span style=\"color: #00af00; text-decoration-color: #00af00\">621,455</span> (2.37 MB)\n",
       "</pre>\n"
      ],
      "text/plain": [
       "\u001b[1m Trainable params: \u001b[0m\u001b[38;5;34m621,455\u001b[0m (2.37 MB)\n"
      ]
     },
     "metadata": {},
     "output_type": "display_data"
    },
    {
     "data": {
      "text/html": [
       "<pre style=\"white-space:pre;overflow-x:auto;line-height:normal;font-family:Menlo,'DejaVu Sans Mono',consolas,'Courier New',monospace\"><span style=\"font-weight: bold\"> Non-trainable params: </span><span style=\"color: #00af00; text-decoration-color: #00af00\">0</span> (0.00 B)\n",
       "</pre>\n"
      ],
      "text/plain": [
       "\u001b[1m Non-trainable params: \u001b[0m\u001b[38;5;34m0\u001b[0m (0.00 B)\n"
      ]
     },
     "metadata": {},
     "output_type": "display_data"
    },
    {
     "name": "stdout",
     "output_type": "stream",
     "text": [
      "Calculados parametros para modelo\n",
      "2025-02-05 12:49:15.342407\n",
      "FEP_eval -> ['s' 'r' 'i']\n",
      "MER_eval -> ['s' 'r' 'i']\n",
      "IMI_eval -> ['s' 'r' 'i']\n",
      "AZT_eval -> ['i' 'r' 's']\n",
      "CIP_eval -> ['r' 's' 'i']\n"
     ]
    }
   ],
   "source": [
    "# ## 5. Definir el modelo de redes neuronales multi-salida\n",
    "#\n",
    "# Se construirán 5 salidas, una para cada antibiótico, cada una con 3 neuronas (softmax).\n",
    "input_layer = Input(shape=(X_train_input.shape[1],), name='input')\n",
    "x = Dense(256, activation='relu')(input_layer)\n",
    "x = Dropout(0.3)(x)\n",
    "x = Dense(128, activation='relu')(x)\n",
    "x = Dropout(0.3)(x)\n",
    "# Capa Cross para modelar interacciones entre las mutaciones\n",
    "x = CrossLayer(num_layers=1)(x)\n",
    "x = Dense(64, activation='relu')(x)\n",
    "\n",
    "print(\"Salidas creadas\")\n",
    "\n",
    "# Salidas para cada antibiótico: FEP, MER, IMI, AZT, CIP\n",
    "out_FEP = Dense(3, activation='softmax', name='FEP')(x)\n",
    "out_MER = Dense(3, activation='softmax', name='MER')(x)\n",
    "out_IMI = Dense(3, activation='softmax', name='IMI')(x)\n",
    "out_AZT = Dense(3, activation='softmax', name='AZT')(x)\n",
    "out_CIP = Dense(3, activation='softmax', name='CIP')(x)\n",
    "\n",
    "print(\"Ejecutando modelo\")\n",
    "\n",
    "model = tf.keras.models.Model(inputs=input_layer, outputs=[out_FEP, out_MER, out_IMI, out_AZT, out_CIP])\n",
    "model.compile(optimizer='adam',\n",
    "              loss={'FEP': 'categorical_crossentropy',\n",
    "                    'MER': 'categorical_crossentropy',\n",
    "                    'IMI': 'categorical_crossentropy',\n",
    "                    'AZT': 'categorical_crossentropy',\n",
    "                    'CIP': 'categorical_crossentropy'},\n",
    "              metrics={'FEP': 'accuracy',\n",
    "                       'MER': 'accuracy',\n",
    "                       'IMI': 'accuracy',\n",
    "                       'AZT': 'accuracy',\n",
    "                       'CIP': 'accuracy'})\n",
    "\n",
    "model.summary()\n",
    "print(\"Calculados parametros para modelo\")\n",
    "print(pd.Timestamp.now())\n",
    "\n",
    "for col in eval_cols:\n",
    "    unique_vals = train_df[col].astype(str).str.lower().unique()\n",
    "    print(f\"{col} -> {unique_vals}\")"
   ]
  },
  {
   "cell_type": "markdown",
   "id": "f590b247-87c9-4b16-aed4-9bb34cc0f845",
   "metadata": {},
   "source": [
    "## 6. Entrenar el modelo"
   ]
  },
  {
   "cell_type": "code",
   "execution_count": 9,
   "id": "bd2628a3-6d88-4fca-be42-c3ffd8b7d4e6",
   "metadata": {},
   "outputs": [
    {
     "name": "stdout",
     "output_type": "stream",
     "text": [
      "Dimensiones del DataFrame original: (1045, 79)\n",
      "Dimensiones de X_train_input: (1045, 2261)\n",
      "Dimensiones de y_train[FEP]: (1045, 3)\n",
      "Dimensiones de y_train[MER]: (1045, 3)\n",
      "Dimensiones de y_train[IMI]: (1045, 3)\n",
      "Dimensiones de y_train[AZT]: (1045, 3)\n",
      "Dimensiones de y_train[CIP]: (1045, 3)\n",
      "Epoch 1/50\n",
      "\u001b[1m27/27\u001b[0m \u001b[32m━━━━━━━━━━━━━━━━━━━━\u001b[0m\u001b[37m\u001b[0m \u001b[1m3s\u001b[0m 21ms/step - AZT_accuracy: 0.5528 - AZT_loss: 1.0534 - CIP_accuracy: 0.4546 - CIP_loss: 0.9820 - FEP_accuracy: 0.4956 - FEP_loss: 1.0447 - IMI_accuracy: 0.3921 - IMI_loss: 1.0934 - MER_accuracy: 0.3603 - MER_loss: 1.0847 - loss: 5.2608 - val_AZT_accuracy: 0.1531 - val_AZT_loss: 1.3804 - val_CIP_accuracy: 0.3732 - val_CIP_loss: 0.8360 - val_FEP_accuracy: 0.9139 - val_FEP_loss: 0.7710 - val_IMI_accuracy: 0.5024 - val_IMI_loss: 0.9607 - val_MER_accuracy: 0.2201 - val_MER_loss: 1.0213 - val_loss: 4.9454\n",
      "Epoch 2/50\n",
      "\u001b[1m27/27\u001b[0m \u001b[32m━━━━━━━━━━━━━━━━━━━━\u001b[0m\u001b[37m\u001b[0m \u001b[1m0s\u001b[0m 7ms/step - AZT_accuracy: 0.6470 - AZT_loss: 0.8563 - CIP_accuracy: 0.6490 - CIP_loss: 0.5981 - FEP_accuracy: 0.7611 - FEP_loss: 0.6908 - IMI_accuracy: 0.5009 - IMI_loss: 0.9672 - MER_accuracy: 0.4650 - MER_loss: 0.9700 - loss: 4.0826 - val_AZT_accuracy: 0.1627 - val_AZT_loss: 1.5188 - val_CIP_accuracy: 0.8182 - val_CIP_loss: 0.5891 - val_FEP_accuracy: 0.8995 - val_FEP_loss: 0.4963 - val_IMI_accuracy: 0.8517 - val_IMI_loss: 0.7637 - val_MER_accuracy: 0.7368 - val_MER_loss: 0.8827 - val_loss: 4.2004\n",
      "Epoch 3/50\n",
      "\u001b[1m27/27\u001b[0m \u001b[32m━━━━━━━━━━━━━━━━━━━━\u001b[0m\u001b[37m\u001b[0m \u001b[1m0s\u001b[0m 7ms/step - AZT_accuracy: 0.7304 - AZT_loss: 0.7026 - CIP_accuracy: 0.7076 - CIP_loss: 0.4970 - FEP_accuracy: 0.7814 - FEP_loss: 0.5367 - IMI_accuracy: 0.5440 - IMI_loss: 0.9044 - MER_accuracy: 0.5402 - MER_loss: 0.8777 - loss: 3.5188 - val_AZT_accuracy: 0.1722 - val_AZT_loss: 1.6058 - val_CIP_accuracy: 0.8900 - val_CIP_loss: 0.4737 - val_FEP_accuracy: 0.9187 - val_FEP_loss: 0.3470 - val_IMI_accuracy: 0.8565 - val_IMI_loss: 0.5945 - val_MER_accuracy: 0.7799 - val_MER_loss: 0.7300 - val_loss: 3.6973\n",
      "Epoch 4/50\n",
      "\u001b[1m27/27\u001b[0m \u001b[32m━━━━━━━━━━━━━━━━━━━━\u001b[0m\u001b[37m\u001b[0m \u001b[1m0s\u001b[0m 7ms/step - AZT_accuracy: 0.7274 - AZT_loss: 0.6915 - CIP_accuracy: 0.7162 - CIP_loss: 0.4548 - FEP_accuracy: 0.7625 - FEP_loss: 0.5099 - IMI_accuracy: 0.5906 - IMI_loss: 0.8312 - MER_accuracy: 0.5935 - MER_loss: 0.8272 - loss: 3.3149 - val_AZT_accuracy: 0.1675 - val_AZT_loss: 1.3699 - val_CIP_accuracy: 0.8517 - val_CIP_loss: 0.4089 - val_FEP_accuracy: 0.9139 - val_FEP_loss: 0.3481 - val_IMI_accuracy: 0.8708 - val_IMI_loss: 0.5078 - val_MER_accuracy: 0.7943 - val_MER_loss: 0.6155 - val_loss: 3.1994\n",
      "Epoch 5/50\n",
      "\u001b[1m27/27\u001b[0m \u001b[32m━━━━━━━━━━━━━━━━━━━━\u001b[0m\u001b[37m\u001b[0m \u001b[1m0s\u001b[0m 7ms/step - AZT_accuracy: 0.7692 - AZT_loss: 0.6147 - CIP_accuracy: 0.7653 - CIP_loss: 0.4253 - FEP_accuracy: 0.8019 - FEP_loss: 0.4488 - IMI_accuracy: 0.6011 - IMI_loss: 0.7984 - MER_accuracy: 0.6301 - MER_loss: 0.7723 - loss: 3.0566 - val_AZT_accuracy: 0.1722 - val_AZT_loss: 1.3951 - val_CIP_accuracy: 0.8517 - val_CIP_loss: 0.4010 - val_FEP_accuracy: 0.9091 - val_FEP_loss: 0.3576 - val_IMI_accuracy: 0.8660 - val_IMI_loss: 0.4929 - val_MER_accuracy: 0.7943 - val_MER_loss: 0.6225 - val_loss: 3.2150\n",
      "Epoch 6/50\n",
      "\u001b[1m27/27\u001b[0m \u001b[32m━━━━━━━━━━━━━━━━━━━━\u001b[0m\u001b[37m\u001b[0m \u001b[1m0s\u001b[0m 7ms/step - AZT_accuracy: 0.7515 - AZT_loss: 0.6349 - CIP_accuracy: 0.7426 - CIP_loss: 0.4181 - FEP_accuracy: 0.7844 - FEP_loss: 0.4636 - IMI_accuracy: 0.5810 - IMI_loss: 0.7973 - MER_accuracy: 0.6172 - MER_loss: 0.7515 - loss: 3.0648 - val_AZT_accuracy: 0.1818 - val_AZT_loss: 1.2140 - val_CIP_accuracy: 0.8517 - val_CIP_loss: 0.3909 - val_FEP_accuracy: 0.9139 - val_FEP_loss: 0.3098 - val_IMI_accuracy: 0.8660 - val_IMI_loss: 0.4682 - val_MER_accuracy: 0.7943 - val_MER_loss: 0.5896 - val_loss: 2.9202\n",
      "Epoch 7/50\n",
      "\u001b[1m27/27\u001b[0m \u001b[32m━━━━━━━━━━━━━━━━━━━━\u001b[0m\u001b[37m\u001b[0m \u001b[1m0s\u001b[0m 7ms/step - AZT_accuracy: 0.7839 - AZT_loss: 0.5560 - CIP_accuracy: 0.7377 - CIP_loss: 0.4170 - FEP_accuracy: 0.7894 - FEP_loss: 0.4366 - IMI_accuracy: 0.6183 - IMI_loss: 0.7981 - MER_accuracy: 0.6403 - MER_loss: 0.7276 - loss: 2.9332 - val_AZT_accuracy: 0.2344 - val_AZT_loss: 1.0919 - val_CIP_accuracy: 0.8660 - val_CIP_loss: 0.3786 - val_FEP_accuracy: 0.9043 - val_FEP_loss: 0.3667 - val_IMI_accuracy: 0.8660 - val_IMI_loss: 0.4552 - val_MER_accuracy: 0.7895 - val_MER_loss: 0.6058 - val_loss: 2.8444\n",
      "Epoch 8/50\n",
      "\u001b[1m27/27\u001b[0m \u001b[32m━━━━━━━━━━━━━━━━━━━━\u001b[0m\u001b[37m\u001b[0m \u001b[1m0s\u001b[0m 7ms/step - AZT_accuracy: 0.8022 - AZT_loss: 0.5337 - CIP_accuracy: 0.7412 - CIP_loss: 0.4157 - FEP_accuracy: 0.7974 - FEP_loss: 0.4419 - IMI_accuracy: 0.6142 - IMI_loss: 0.7651 - MER_accuracy: 0.6283 - MER_loss: 0.7509 - loss: 2.9045 - val_AZT_accuracy: 0.7608 - val_AZT_loss: 0.8066 - val_CIP_accuracy: 0.8517 - val_CIP_loss: 0.3831 - val_FEP_accuracy: 0.9043 - val_FEP_loss: 0.3364 - val_IMI_accuracy: 0.8708 - val_IMI_loss: 0.4177 - val_MER_accuracy: 0.7990 - val_MER_loss: 0.5578 - val_loss: 2.4528\n",
      "Epoch 9/50\n",
      "\u001b[1m27/27\u001b[0m \u001b[32m━━━━━━━━━━━━━━━━━━━━\u001b[0m\u001b[37m\u001b[0m \u001b[1m0s\u001b[0m 7ms/step - AZT_accuracy: 0.8062 - AZT_loss: 0.5359 - CIP_accuracy: 0.7575 - CIP_loss: 0.4109 - FEP_accuracy: 0.8067 - FEP_loss: 0.4269 - IMI_accuracy: 0.6145 - IMI_loss: 0.7847 - MER_accuracy: 0.6603 - MER_loss: 0.6960 - loss: 2.8567 - val_AZT_accuracy: 0.7416 - val_AZT_loss: 0.8245 - val_CIP_accuracy: 0.8517 - val_CIP_loss: 0.3687 - val_FEP_accuracy: 0.9043 - val_FEP_loss: 0.3376 - val_IMI_accuracy: 0.8708 - val_IMI_loss: 0.4186 - val_MER_accuracy: 0.7943 - val_MER_loss: 0.5640 - val_loss: 2.4622\n",
      "Epoch 10/50\n",
      "\u001b[1m27/27\u001b[0m \u001b[32m━━━━━━━━━━━━━━━━━━━━\u001b[0m\u001b[37m\u001b[0m \u001b[1m0s\u001b[0m 6ms/step - AZT_accuracy: 0.8051 - AZT_loss: 0.5102 - CIP_accuracy: 0.7495 - CIP_loss: 0.4073 - FEP_accuracy: 0.8067 - FEP_loss: 0.4167 - IMI_accuracy: 0.6267 - IMI_loss: 0.7567 - MER_accuracy: 0.6484 - MER_loss: 0.6968 - loss: 2.7905 - val_AZT_accuracy: 0.8421 - val_AZT_loss: 0.6617 - val_CIP_accuracy: 0.8517 - val_CIP_loss: 0.3607 - val_FEP_accuracy: 0.8947 - val_FEP_loss: 0.3450 - val_IMI_accuracy: 0.8708 - val_IMI_loss: 0.4181 - val_MER_accuracy: 0.7895 - val_MER_loss: 0.5556 - val_loss: 2.2882\n",
      "Epoch 11/50\n",
      "\u001b[1m27/27\u001b[0m \u001b[32m━━━━━━━━━━━━━━━━━━━━\u001b[0m\u001b[37m\u001b[0m \u001b[1m0s\u001b[0m 7ms/step - AZT_accuracy: 0.8113 - AZT_loss: 0.5128 - CIP_accuracy: 0.7759 - CIP_loss: 0.3940 - FEP_accuracy: 0.8009 - FEP_loss: 0.4044 - IMI_accuracy: 0.6373 - IMI_loss: 0.7331 - MER_accuracy: 0.6554 - MER_loss: 0.7016 - loss: 2.7460 - val_AZT_accuracy: 0.8421 - val_AZT_loss: 0.6722 - val_CIP_accuracy: 0.8517 - val_CIP_loss: 0.3913 - val_FEP_accuracy: 0.9043 - val_FEP_loss: 0.2894 - val_IMI_accuracy: 0.8708 - val_IMI_loss: 0.4184 - val_MER_accuracy: 0.7990 - val_MER_loss: 0.5582 - val_loss: 2.2781\n",
      "Epoch 12/50\n",
      "\u001b[1m27/27\u001b[0m \u001b[32m━━━━━━━━━━━━━━━━━━━━\u001b[0m\u001b[37m\u001b[0m \u001b[1m0s\u001b[0m 7ms/step - AZT_accuracy: 0.8116 - AZT_loss: 0.5142 - CIP_accuracy: 0.7392 - CIP_loss: 0.4196 - FEP_accuracy: 0.8100 - FEP_loss: 0.4166 - IMI_accuracy: 0.6421 - IMI_loss: 0.7044 - MER_accuracy: 0.6547 - MER_loss: 0.7004 - loss: 2.7572 - val_AZT_accuracy: 0.8708 - val_AZT_loss: 0.5602 - val_CIP_accuracy: 0.8612 - val_CIP_loss: 0.3597 - val_FEP_accuracy: 0.9139 - val_FEP_loss: 0.2728 - val_IMI_accuracy: 0.8756 - val_IMI_loss: 0.4226 - val_MER_accuracy: 0.7990 - val_MER_loss: 0.5735 - val_loss: 2.1419\n",
      "Epoch 13/50\n",
      "\u001b[1m27/27\u001b[0m \u001b[32m━━━━━━━━━━━━━━━━━━━━\u001b[0m\u001b[37m\u001b[0m \u001b[1m0s\u001b[0m 7ms/step - AZT_accuracy: 0.7999 - AZT_loss: 0.5221 - CIP_accuracy: 0.7754 - CIP_loss: 0.3927 - FEP_accuracy: 0.7922 - FEP_loss: 0.4235 - IMI_accuracy: 0.6596 - IMI_loss: 0.6953 - MER_accuracy: 0.6630 - MER_loss: 0.6881 - loss: 2.7198 - val_AZT_accuracy: 0.8469 - val_AZT_loss: 0.6054 - val_CIP_accuracy: 0.8900 - val_CIP_loss: 0.3500 - val_FEP_accuracy: 0.8995 - val_FEP_loss: 0.3195 - val_IMI_accuracy: 0.8708 - val_IMI_loss: 0.4027 - val_MER_accuracy: 0.7990 - val_MER_loss: 0.5574 - val_loss: 2.1874\n",
      "Epoch 14/50\n",
      "\u001b[1m27/27\u001b[0m \u001b[32m━━━━━━━━━━━━━━━━━━━━\u001b[0m\u001b[37m\u001b[0m \u001b[1m0s\u001b[0m 7ms/step - AZT_accuracy: 0.8099 - AZT_loss: 0.5074 - CIP_accuracy: 0.7678 - CIP_loss: 0.3876 - FEP_accuracy: 0.8196 - FEP_loss: 0.3979 - IMI_accuracy: 0.6779 - IMI_loss: 0.6851 - MER_accuracy: 0.6699 - MER_loss: 0.6827 - loss: 2.6613 - val_AZT_accuracy: 0.8612 - val_AZT_loss: 0.5239 - val_CIP_accuracy: 0.8660 - val_CIP_loss: 0.3521 - val_FEP_accuracy: 0.8995 - val_FEP_loss: 0.2877 - val_IMI_accuracy: 0.8708 - val_IMI_loss: 0.4145 - val_MER_accuracy: 0.7990 - val_MER_loss: 0.5759 - val_loss: 2.1065\n",
      "Epoch 15/50\n",
      "\u001b[1m27/27\u001b[0m \u001b[32m━━━━━━━━━━━━━━━━━━━━\u001b[0m\u001b[37m\u001b[0m \u001b[1m0s\u001b[0m 7ms/step - AZT_accuracy: 0.8019 - AZT_loss: 0.5372 - CIP_accuracy: 0.7609 - CIP_loss: 0.4061 - FEP_accuracy: 0.8025 - FEP_loss: 0.4147 - IMI_accuracy: 0.6359 - IMI_loss: 0.7138 - MER_accuracy: 0.6610 - MER_loss: 0.6953 - loss: 2.7693 - val_AZT_accuracy: 0.8900 - val_AZT_loss: 0.4373 - val_CIP_accuracy: 0.8612 - val_CIP_loss: 0.3523 - val_FEP_accuracy: 0.8995 - val_FEP_loss: 0.2652 - val_IMI_accuracy: 0.8756 - val_IMI_loss: 0.4120 - val_MER_accuracy: 0.7990 - val_MER_loss: 0.5732 - val_loss: 1.9980\n",
      "Epoch 16/50\n",
      "\u001b[1m27/27\u001b[0m \u001b[32m━━━━━━━━━━━━━━━━━━━━\u001b[0m\u001b[37m\u001b[0m \u001b[1m0s\u001b[0m 7ms/step - AZT_accuracy: 0.8127 - AZT_loss: 0.4991 - CIP_accuracy: 0.7651 - CIP_loss: 0.3803 - FEP_accuracy: 0.8082 - FEP_loss: 0.3870 - IMI_accuracy: 0.6561 - IMI_loss: 0.6649 - MER_accuracy: 0.6796 - MER_loss: 0.6254 - loss: 2.5581 - val_AZT_accuracy: 0.8852 - val_AZT_loss: 0.4530 - val_CIP_accuracy: 0.8565 - val_CIP_loss: 0.3759 - val_FEP_accuracy: 0.8995 - val_FEP_loss: 0.2681 - val_IMI_accuracy: 0.8708 - val_IMI_loss: 0.4315 - val_MER_accuracy: 0.7990 - val_MER_loss: 0.5621 - val_loss: 2.0482\n",
      "Epoch 17/50\n",
      "\u001b[1m27/27\u001b[0m \u001b[32m━━━━━━━━━━━━━━━━━━━━\u001b[0m\u001b[37m\u001b[0m \u001b[1m0s\u001b[0m 7ms/step - AZT_accuracy: 0.8110 - AZT_loss: 0.4926 - CIP_accuracy: 0.7588 - CIP_loss: 0.3843 - FEP_accuracy: 0.8047 - FEP_loss: 0.3949 - IMI_accuracy: 0.6539 - IMI_loss: 0.6761 - MER_accuracy: 0.6762 - MER_loss: 0.6498 - loss: 2.5972 - val_AZT_accuracy: 0.8995 - val_AZT_loss: 0.4098 - val_CIP_accuracy: 0.8708 - val_CIP_loss: 0.3546 - val_FEP_accuracy: 0.9091 - val_FEP_loss: 0.2816 - val_IMI_accuracy: 0.8708 - val_IMI_loss: 0.4062 - val_MER_accuracy: 0.7990 - val_MER_loss: 0.5686 - val_loss: 1.9828\n",
      "Epoch 18/50\n",
      "\u001b[1m27/27\u001b[0m \u001b[32m━━━━━━━━━━━━━━━━━━━━\u001b[0m\u001b[37m\u001b[0m \u001b[1m0s\u001b[0m 7ms/step - AZT_accuracy: 0.8283 - AZT_loss: 0.4588 - CIP_accuracy: 0.7621 - CIP_loss: 0.3736 - FEP_accuracy: 0.8060 - FEP_loss: 0.4039 - IMI_accuracy: 0.6754 - IMI_loss: 0.6845 - MER_accuracy: 0.6696 - MER_loss: 0.6551 - loss: 2.5735 - val_AZT_accuracy: 0.8756 - val_AZT_loss: 0.4693 - val_CIP_accuracy: 0.8660 - val_CIP_loss: 0.3596 - val_FEP_accuracy: 0.9043 - val_FEP_loss: 0.2768 - val_IMI_accuracy: 0.8756 - val_IMI_loss: 0.4113 - val_MER_accuracy: 0.7990 - val_MER_loss: 0.5760 - val_loss: 2.0499\n",
      "Epoch 19/50\n",
      "\u001b[1m27/27\u001b[0m \u001b[32m━━━━━━━━━━━━━━━━━━━━\u001b[0m\u001b[37m\u001b[0m \u001b[1m0s\u001b[0m 7ms/step - AZT_accuracy: 0.8386 - AZT_loss: 0.4496 - CIP_accuracy: 0.7531 - CIP_loss: 0.3838 - FEP_accuracy: 0.8096 - FEP_loss: 0.3974 - IMI_accuracy: 0.6604 - IMI_loss: 0.6706 - MER_accuracy: 0.6765 - MER_loss: 0.6516 - loss: 2.5503 - val_AZT_accuracy: 0.8756 - val_AZT_loss: 0.4564 - val_CIP_accuracy: 0.8517 - val_CIP_loss: 0.3785 - val_FEP_accuracy: 0.9139 - val_FEP_loss: 0.2550 - val_IMI_accuracy: 0.8756 - val_IMI_loss: 0.4205 - val_MER_accuracy: 0.7990 - val_MER_loss: 0.5937 - val_loss: 2.0584\n",
      "Epoch 20/50\n",
      "\u001b[1m27/27\u001b[0m \u001b[32m━━━━━━━━━━━━━━━━━━━━\u001b[0m\u001b[37m\u001b[0m \u001b[1m0s\u001b[0m 7ms/step - AZT_accuracy: 0.8071 - AZT_loss: 0.4853 - CIP_accuracy: 0.7569 - CIP_loss: 0.4053 - FEP_accuracy: 0.8139 - FEP_loss: 0.3757 - IMI_accuracy: 0.6580 - IMI_loss: 0.6938 - MER_accuracy: 0.6575 - MER_loss: 0.6996 - loss: 2.6602 - val_AZT_accuracy: 0.8756 - val_AZT_loss: 0.5253 - val_CIP_accuracy: 0.8517 - val_CIP_loss: 0.3787 - val_FEP_accuracy: 0.9091 - val_FEP_loss: 0.2618 - val_IMI_accuracy: 0.8708 - val_IMI_loss: 0.4360 - val_MER_accuracy: 0.7990 - val_MER_loss: 0.5872 - val_loss: 2.1426\n",
      "Epoch 21/50\n",
      "\u001b[1m27/27\u001b[0m \u001b[32m━━━━━━━━━━━━━━━━━━━━\u001b[0m\u001b[37m\u001b[0m \u001b[1m0s\u001b[0m 7ms/step - AZT_accuracy: 0.8140 - AZT_loss: 0.4892 - CIP_accuracy: 0.7639 - CIP_loss: 0.3796 - FEP_accuracy: 0.8145 - FEP_loss: 0.3747 - IMI_accuracy: 0.6757 - IMI_loss: 0.6454 - MER_accuracy: 0.6917 - MER_loss: 0.6198 - loss: 2.5075 - val_AZT_accuracy: 0.8947 - val_AZT_loss: 0.3923 - val_CIP_accuracy: 0.8517 - val_CIP_loss: 0.4213 - val_FEP_accuracy: 0.9091 - val_FEP_loss: 0.2540 - val_IMI_accuracy: 0.8756 - val_IMI_loss: 0.4269 - val_MER_accuracy: 0.7990 - val_MER_loss: 0.5870 - val_loss: 2.0366\n",
      "Epoch 22/50\n",
      "\u001b[1m27/27\u001b[0m \u001b[32m━━━━━━━━━━━━━━━━━━━━\u001b[0m\u001b[37m\u001b[0m \u001b[1m0s\u001b[0m 6ms/step - AZT_accuracy: 0.8063 - AZT_loss: 0.4843 - CIP_accuracy: 0.7604 - CIP_loss: 0.3722 - FEP_accuracy: 0.7977 - FEP_loss: 0.3944 - IMI_accuracy: 0.6715 - IMI_loss: 0.6355 - MER_accuracy: 0.6936 - MER_loss: 0.6139 - loss: 2.5041 - val_AZT_accuracy: 0.8947 - val_AZT_loss: 0.4260 - val_CIP_accuracy: 0.8517 - val_CIP_loss: 0.3962 - val_FEP_accuracy: 0.9187 - val_FEP_loss: 0.2364 - val_IMI_accuracy: 0.8708 - val_IMI_loss: 0.4307 - val_MER_accuracy: 0.7990 - val_MER_loss: 0.5724 - val_loss: 2.0167\n",
      "Epoch 23/50\n",
      "\u001b[1m27/27\u001b[0m \u001b[32m━━━━━━━━━━━━━━━━━━━━\u001b[0m\u001b[37m\u001b[0m \u001b[1m0s\u001b[0m 7ms/step - AZT_accuracy: 0.8153 - AZT_loss: 0.5012 - CIP_accuracy: 0.7612 - CIP_loss: 0.3800 - FEP_accuracy: 0.8214 - FEP_loss: 0.3836 - IMI_accuracy: 0.6814 - IMI_loss: 0.6665 - MER_accuracy: 0.6833 - MER_loss: 0.6309 - loss: 2.5623 - val_AZT_accuracy: 0.8756 - val_AZT_loss: 0.3617 - val_CIP_accuracy: 0.8517 - val_CIP_loss: 0.4280 - val_FEP_accuracy: 0.8995 - val_FEP_loss: 0.2727 - val_IMI_accuracy: 0.8708 - val_IMI_loss: 0.4500 - val_MER_accuracy: 0.7943 - val_MER_loss: 0.5657 - val_loss: 2.0314\n",
      "Epoch 24/50\n",
      "\u001b[1m27/27\u001b[0m \u001b[32m━━━━━━━━━━━━━━━━━━━━\u001b[0m\u001b[37m\u001b[0m \u001b[1m0s\u001b[0m 7ms/step - AZT_accuracy: 0.8359 - AZT_loss: 0.4542 - CIP_accuracy: 0.7899 - CIP_loss: 0.3804 - FEP_accuracy: 0.8381 - FEP_loss: 0.3656 - IMI_accuracy: 0.6475 - IMI_loss: 0.6893 - MER_accuracy: 0.6980 - MER_loss: 0.6392 - loss: 2.5332 - val_AZT_accuracy: 0.9091 - val_AZT_loss: 0.3146 - val_CIP_accuracy: 0.8517 - val_CIP_loss: 0.4171 - val_FEP_accuracy: 0.9139 - val_FEP_loss: 0.2421 - val_IMI_accuracy: 0.8708 - val_IMI_loss: 0.4719 - val_MER_accuracy: 0.7943 - val_MER_loss: 0.6039 - val_loss: 2.0024\n",
      "Epoch 25/50\n",
      "\u001b[1m27/27\u001b[0m \u001b[32m━━━━━━━━━━━━━━━━━━━━\u001b[0m\u001b[37m\u001b[0m \u001b[1m0s\u001b[0m 7ms/step - AZT_accuracy: 0.8297 - AZT_loss: 0.4766 - CIP_accuracy: 0.7592 - CIP_loss: 0.3793 - FEP_accuracy: 0.8245 - FEP_loss: 0.3753 - IMI_accuracy: 0.6514 - IMI_loss: 0.6782 - MER_accuracy: 0.6740 - MER_loss: 0.6457 - loss: 2.5576 - val_AZT_accuracy: 0.8756 - val_AZT_loss: 0.4530 - val_CIP_accuracy: 0.8517 - val_CIP_loss: 0.4421 - val_FEP_accuracy: 0.9091 - val_FEP_loss: 0.2468 - val_IMI_accuracy: 0.8708 - val_IMI_loss: 0.4524 - val_MER_accuracy: 0.7943 - val_MER_loss: 0.5754 - val_loss: 2.1216\n",
      "Epoch 26/50\n",
      "\u001b[1m27/27\u001b[0m \u001b[32m━━━━━━━━━━━━━━━━━━━━\u001b[0m\u001b[37m\u001b[0m \u001b[1m0s\u001b[0m 7ms/step - AZT_accuracy: 0.8261 - AZT_loss: 0.4552 - CIP_accuracy: 0.7668 - CIP_loss: 0.3778 - FEP_accuracy: 0.8280 - FEP_loss: 0.3708 - IMI_accuracy: 0.6808 - IMI_loss: 0.6562 - MER_accuracy: 0.6922 - MER_loss: 0.6301 - loss: 2.4909 - val_AZT_accuracy: 0.8804 - val_AZT_loss: 0.3883 - val_CIP_accuracy: 0.8660 - val_CIP_loss: 0.3751 - val_FEP_accuracy: 0.9234 - val_FEP_loss: 0.2203 - val_IMI_accuracy: 0.8708 - val_IMI_loss: 0.4552 - val_MER_accuracy: 0.7943 - val_MER_loss: 0.6430 - val_loss: 2.0356\n",
      "Epoch 27/50\n",
      "\u001b[1m27/27\u001b[0m \u001b[32m━━━━━━━━━━━━━━━━━━━━\u001b[0m\u001b[37m\u001b[0m \u001b[1m0s\u001b[0m 7ms/step - AZT_accuracy: 0.8194 - AZT_loss: 0.4762 - CIP_accuracy: 0.7606 - CIP_loss: 0.3765 - FEP_accuracy: 0.8191 - FEP_loss: 0.3806 - IMI_accuracy: 0.6633 - IMI_loss: 0.6593 - MER_accuracy: 0.6744 - MER_loss: 0.6384 - loss: 2.5279 - val_AZT_accuracy: 0.9043 - val_AZT_loss: 0.3115 - val_CIP_accuracy: 0.8612 - val_CIP_loss: 0.4107 - val_FEP_accuracy: 0.9091 - val_FEP_loss: 0.2295 - val_IMI_accuracy: 0.8708 - val_IMI_loss: 0.4838 - val_MER_accuracy: 0.7943 - val_MER_loss: 0.6301 - val_loss: 2.0205\n",
      "Epoch 28/50\n",
      "\u001b[1m27/27\u001b[0m \u001b[32m━━━━━━━━━━━━━━━━━━━━\u001b[0m\u001b[37m\u001b[0m \u001b[1m0s\u001b[0m 7ms/step - AZT_accuracy: 0.8237 - AZT_loss: 0.4644 - CIP_accuracy: 0.7403 - CIP_loss: 0.3816 - FEP_accuracy: 0.8189 - FEP_loss: 0.3824 - IMI_accuracy: 0.6499 - IMI_loss: 0.6648 - MER_accuracy: 0.6609 - MER_loss: 0.6471 - loss: 2.5361 - val_AZT_accuracy: 0.8995 - val_AZT_loss: 0.3290 - val_CIP_accuracy: 0.8517 - val_CIP_loss: 0.4397 - val_FEP_accuracy: 0.9187 - val_FEP_loss: 0.2187 - val_IMI_accuracy: 0.8708 - val_IMI_loss: 0.4950 - val_MER_accuracy: 0.7943 - val_MER_loss: 0.6504 - val_loss: 2.0854\n",
      "Epoch 29/50\n",
      "\u001b[1m27/27\u001b[0m \u001b[32m━━━━━━━━━━━━━━━━━━━━\u001b[0m\u001b[37m\u001b[0m \u001b[1m0s\u001b[0m 7ms/step - AZT_accuracy: 0.8302 - AZT_loss: 0.4505 - CIP_accuracy: 0.7830 - CIP_loss: 0.3685 - FEP_accuracy: 0.8166 - FEP_loss: 0.3779 - IMI_accuracy: 0.6774 - IMI_loss: 0.6538 - MER_accuracy: 0.6936 - MER_loss: 0.6278 - loss: 2.4829 - val_AZT_accuracy: 0.9043 - val_AZT_loss: 0.2973 - val_CIP_accuracy: 0.8565 - val_CIP_loss: 0.4396 - val_FEP_accuracy: 0.9139 - val_FEP_loss: 0.2314 - val_IMI_accuracy: 0.8708 - val_IMI_loss: 0.4990 - val_MER_accuracy: 0.7943 - val_MER_loss: 0.6397 - val_loss: 2.0566\n",
      "Epoch 30/50\n",
      "\u001b[1m27/27\u001b[0m \u001b[32m━━━━━━━━━━━━━━━━━━━━\u001b[0m\u001b[37m\u001b[0m \u001b[1m0s\u001b[0m 7ms/step - AZT_accuracy: 0.8202 - AZT_loss: 0.4603 - CIP_accuracy: 0.7514 - CIP_loss: 0.4001 - FEP_accuracy: 0.8102 - FEP_loss: 0.4121 - IMI_accuracy: 0.6406 - IMI_loss: 0.6983 - MER_accuracy: 0.6635 - MER_loss: 0.6830 - loss: 2.6547 - val_AZT_accuracy: 0.8804 - val_AZT_loss: 0.3671 - val_CIP_accuracy: 0.8565 - val_CIP_loss: 0.4322 - val_FEP_accuracy: 0.9187 - val_FEP_loss: 0.2258 - val_IMI_accuracy: 0.8756 - val_IMI_loss: 0.4495 - val_MER_accuracy: 0.7943 - val_MER_loss: 0.6184 - val_loss: 2.0428\n",
      "Epoch 31/50\n",
      "\u001b[1m27/27\u001b[0m \u001b[32m━━━━━━━━━━━━━━━━━━━━\u001b[0m\u001b[37m\u001b[0m \u001b[1m0s\u001b[0m 6ms/step - AZT_accuracy: 0.8131 - AZT_loss: 0.4910 - CIP_accuracy: 0.7616 - CIP_loss: 0.3894 - FEP_accuracy: 0.8196 - FEP_loss: 0.3856 - IMI_accuracy: 0.6754 - IMI_loss: 0.6592 - MER_accuracy: 0.6806 - MER_loss: 0.6477 - loss: 2.5697 - val_AZT_accuracy: 0.9043 - val_AZT_loss: 0.2736 - val_CIP_accuracy: 0.8660 - val_CIP_loss: 0.3945 - val_FEP_accuracy: 0.9187 - val_FEP_loss: 0.2388 - val_IMI_accuracy: 0.8708 - val_IMI_loss: 0.4815 - val_MER_accuracy: 0.7990 - val_MER_loss: 0.6592 - val_loss: 2.0007\n",
      "Epoch 32/50\n",
      "\u001b[1m27/27\u001b[0m \u001b[32m━━━━━━━━━━━━━━━━━━━━\u001b[0m\u001b[37m\u001b[0m \u001b[1m0s\u001b[0m 7ms/step - AZT_accuracy: 0.8179 - AZT_loss: 0.4781 - CIP_accuracy: 0.7570 - CIP_loss: 0.3967 - FEP_accuracy: 0.8044 - FEP_loss: 0.3850 - IMI_accuracy: 0.6468 - IMI_loss: 0.6679 - MER_accuracy: 0.6705 - MER_loss: 0.6629 - loss: 2.5880 - val_AZT_accuracy: 0.9139 - val_AZT_loss: 0.2880 - val_CIP_accuracy: 0.8517 - val_CIP_loss: 0.5275 - val_FEP_accuracy: 0.9330 - val_FEP_loss: 0.2028 - val_IMI_accuracy: 0.8708 - val_IMI_loss: 0.5106 - val_MER_accuracy: 0.7943 - val_MER_loss: 0.6720 - val_loss: 2.1449\n",
      "Epoch 33/50\n",
      "\u001b[1m27/27\u001b[0m \u001b[32m━━━━━━━━━━━━━━━━━━━━\u001b[0m\u001b[37m\u001b[0m \u001b[1m0s\u001b[0m 7ms/step - AZT_accuracy: 0.8251 - AZT_loss: 0.4503 - CIP_accuracy: 0.7738 - CIP_loss: 0.3643 - FEP_accuracy: 0.8032 - FEP_loss: 0.3955 - IMI_accuracy: 0.6773 - IMI_loss: 0.6508 - MER_accuracy: 0.6709 - MER_loss: 0.6401 - loss: 2.5010 - val_AZT_accuracy: 0.9187 - val_AZT_loss: 0.2854 - val_CIP_accuracy: 0.8565 - val_CIP_loss: 0.4840 - val_FEP_accuracy: 0.9234 - val_FEP_loss: 0.2121 - val_IMI_accuracy: 0.8708 - val_IMI_loss: 0.4932 - val_MER_accuracy: 0.7943 - val_MER_loss: 0.6865 - val_loss: 2.1059\n",
      "Epoch 34/50\n",
      "\u001b[1m27/27\u001b[0m \u001b[32m━━━━━━━━━━━━━━━━━━━━\u001b[0m\u001b[37m\u001b[0m \u001b[1m0s\u001b[0m 7ms/step - AZT_accuracy: 0.8331 - AZT_loss: 0.4383 - CIP_accuracy: 0.7878 - CIP_loss: 0.3706 - FEP_accuracy: 0.8294 - FEP_loss: 0.3941 - IMI_accuracy: 0.6869 - IMI_loss: 0.6479 - MER_accuracy: 0.6869 - MER_loss: 0.6243 - loss: 2.4752 - val_AZT_accuracy: 0.9187 - val_AZT_loss: 0.2962 - val_CIP_accuracy: 0.8565 - val_CIP_loss: 0.4673 - val_FEP_accuracy: 0.9282 - val_FEP_loss: 0.2081 - val_IMI_accuracy: 0.8708 - val_IMI_loss: 0.4848 - val_MER_accuracy: 0.7990 - val_MER_loss: 0.6900 - val_loss: 2.0909\n",
      "Epoch 35/50\n",
      "\u001b[1m27/27\u001b[0m \u001b[32m━━━━━━━━━━━━━━━━━━━━\u001b[0m\u001b[37m\u001b[0m \u001b[1m0s\u001b[0m 7ms/step - AZT_accuracy: 0.8341 - AZT_loss: 0.4424 - CIP_accuracy: 0.7800 - CIP_loss: 0.3574 - FEP_accuracy: 0.8293 - FEP_loss: 0.3508 - IMI_accuracy: 0.6872 - IMI_loss: 0.6237 - MER_accuracy: 0.6925 - MER_loss: 0.6133 - loss: 2.3913 - val_AZT_accuracy: 0.9139 - val_AZT_loss: 0.2465 - val_CIP_accuracy: 0.8565 - val_CIP_loss: 0.4642 - val_FEP_accuracy: 0.9330 - val_FEP_loss: 0.2008 - val_IMI_accuracy: 0.8708 - val_IMI_loss: 0.5115 - val_MER_accuracy: 0.7943 - val_MER_loss: 0.6704 - val_loss: 2.0388\n",
      "Epoch 36/50\n",
      "\u001b[1m27/27\u001b[0m \u001b[32m━━━━━━━━━━━━━━━━━━━━\u001b[0m\u001b[37m\u001b[0m \u001b[1m0s\u001b[0m 7ms/step - AZT_accuracy: 0.8305 - AZT_loss: 0.4661 - CIP_accuracy: 0.7787 - CIP_loss: 0.3880 - FEP_accuracy: 0.8249 - FEP_loss: 0.3870 - IMI_accuracy: 0.6781 - IMI_loss: 0.6592 - MER_accuracy: 0.6847 - MER_loss: 0.6489 - loss: 2.5486 - val_AZT_accuracy: 0.9139 - val_AZT_loss: 0.2582 - val_CIP_accuracy: 0.8565 - val_CIP_loss: 0.4479 - val_FEP_accuracy: 0.9330 - val_FEP_loss: 0.2094 - val_IMI_accuracy: 0.8708 - val_IMI_loss: 0.4966 - val_MER_accuracy: 0.7990 - val_MER_loss: 0.6745 - val_loss: 2.0274\n",
      "Epoch 37/50\n",
      "\u001b[1m27/27\u001b[0m \u001b[32m━━━━━━━━━━━━━━━━━━━━\u001b[0m\u001b[37m\u001b[0m \u001b[1m0s\u001b[0m 7ms/step - AZT_accuracy: 0.8405 - AZT_loss: 0.4189 - CIP_accuracy: 0.7790 - CIP_loss: 0.3682 - FEP_accuracy: 0.8235 - FEP_loss: 0.3617 - IMI_accuracy: 0.6849 - IMI_loss: 0.6377 - MER_accuracy: 0.6915 - MER_loss: 0.6479 - loss: 2.4348 - val_AZT_accuracy: 0.9091 - val_AZT_loss: 0.2470 - val_CIP_accuracy: 0.8469 - val_CIP_loss: 0.5579 - val_FEP_accuracy: 0.9282 - val_FEP_loss: 0.2084 - val_IMI_accuracy: 0.8708 - val_IMI_loss: 0.5237 - val_MER_accuracy: 0.7990 - val_MER_loss: 0.6653 - val_loss: 2.1455\n",
      "Epoch 38/50\n",
      "\u001b[1m27/27\u001b[0m \u001b[32m━━━━━━━━━━━━━━━━━━━━\u001b[0m\u001b[37m\u001b[0m \u001b[1m0s\u001b[0m 7ms/step - AZT_accuracy: 0.8247 - AZT_loss: 0.4394 - CIP_accuracy: 0.7765 - CIP_loss: 0.3644 - FEP_accuracy: 0.8117 - FEP_loss: 0.3804 - IMI_accuracy: 0.6870 - IMI_loss: 0.6399 - MER_accuracy: 0.6885 - MER_loss: 0.6322 - loss: 2.4569 - val_AZT_accuracy: 0.9091 - val_AZT_loss: 0.2492 - val_CIP_accuracy: 0.8565 - val_CIP_loss: 0.4791 - val_FEP_accuracy: 0.9234 - val_FEP_loss: 0.2202 - val_IMI_accuracy: 0.8708 - val_IMI_loss: 0.5227 - val_MER_accuracy: 0.7943 - val_MER_loss: 0.6881 - val_loss: 2.1041\n",
      "Epoch 39/50\n",
      "\u001b[1m27/27\u001b[0m \u001b[32m━━━━━━━━━━━━━━━━━━━━\u001b[0m\u001b[37m\u001b[0m \u001b[1m0s\u001b[0m 7ms/step - AZT_accuracy: 0.8196 - AZT_loss: 0.4584 - CIP_accuracy: 0.7673 - CIP_loss: 0.3819 - FEP_accuracy: 0.8272 - FEP_loss: 0.3677 - IMI_accuracy: 0.6585 - IMI_loss: 0.6741 - MER_accuracy: 0.6739 - MER_loss: 0.6522 - loss: 2.5365 - val_AZT_accuracy: 0.8900 - val_AZT_loss: 0.3482 - val_CIP_accuracy: 0.8517 - val_CIP_loss: 0.5219 - val_FEP_accuracy: 0.9282 - val_FEP_loss: 0.2213 - val_IMI_accuracy: 0.8708 - val_IMI_loss: 0.5411 - val_MER_accuracy: 0.7943 - val_MER_loss: 0.7040 - val_loss: 2.2737\n",
      "Epoch 40/50\n",
      "\u001b[1m27/27\u001b[0m \u001b[32m━━━━━━━━━━━━━━━━━━━━\u001b[0m\u001b[37m\u001b[0m \u001b[1m0s\u001b[0m 7ms/step - AZT_accuracy: 0.8289 - AZT_loss: 0.4514 - CIP_accuracy: 0.7768 - CIP_loss: 0.3785 - FEP_accuracy: 0.8306 - FEP_loss: 0.3695 - IMI_accuracy: 0.6691 - IMI_loss: 0.6535 - MER_accuracy: 0.6652 - MER_loss: 0.6547 - loss: 2.5100 - val_AZT_accuracy: 0.9139 - val_AZT_loss: 0.2456 - val_CIP_accuracy: 0.8565 - val_CIP_loss: 0.5119 - val_FEP_accuracy: 0.9282 - val_FEP_loss: 0.2128 - val_IMI_accuracy: 0.8708 - val_IMI_loss: 0.5366 - val_MER_accuracy: 0.7943 - val_MER_loss: 0.6793 - val_loss: 2.1278\n",
      "Epoch 41/50\n",
      "\u001b[1m27/27\u001b[0m \u001b[32m━━━━━━━━━━━━━━━━━━━━\u001b[0m\u001b[37m\u001b[0m \u001b[1m0s\u001b[0m 7ms/step - AZT_accuracy: 0.8237 - AZT_loss: 0.4534 - CIP_accuracy: 0.7710 - CIP_loss: 0.3859 - FEP_accuracy: 0.8160 - FEP_loss: 0.3922 - IMI_accuracy: 0.6834 - IMI_loss: 0.6565 - MER_accuracy: 0.6714 - MER_loss: 0.6581 - loss: 2.5436 - val_AZT_accuracy: 0.9091 - val_AZT_loss: 0.2544 - val_CIP_accuracy: 0.8565 - val_CIP_loss: 0.4578 - val_FEP_accuracy: 0.9187 - val_FEP_loss: 0.2256 - val_IMI_accuracy: 0.8708 - val_IMI_loss: 0.5153 - val_MER_accuracy: 0.7943 - val_MER_loss: 0.6572 - val_loss: 2.0564\n",
      "Epoch 42/50\n",
      "\u001b[1m27/27\u001b[0m \u001b[32m━━━━━━━━━━━━━━━━━━━━\u001b[0m\u001b[37m\u001b[0m \u001b[1m0s\u001b[0m 7ms/step - AZT_accuracy: 0.8193 - AZT_loss: 0.4639 - CIP_accuracy: 0.7573 - CIP_loss: 0.4071 - FEP_accuracy: 0.8256 - FEP_loss: 0.3675 - IMI_accuracy: 0.6762 - IMI_loss: 0.6604 - MER_accuracy: 0.6885 - MER_loss: 0.6249 - loss: 2.5253 - val_AZT_accuracy: 0.9234 - val_AZT_loss: 0.2318 - val_CIP_accuracy: 0.8565 - val_CIP_loss: 0.4722 - val_FEP_accuracy: 0.9234 - val_FEP_loss: 0.2116 - val_IMI_accuracy: 0.8708 - val_IMI_loss: 0.5444 - val_MER_accuracy: 0.7943 - val_MER_loss: 0.6759 - val_loss: 2.0812\n",
      "Epoch 43/50\n",
      "\u001b[1m27/27\u001b[0m \u001b[32m━━━━━━━━━━━━━━━━━━━━\u001b[0m\u001b[37m\u001b[0m \u001b[1m0s\u001b[0m 7ms/step - AZT_accuracy: 0.8505 - AZT_loss: 0.4178 - CIP_accuracy: 0.7774 - CIP_loss: 0.3743 - FEP_accuracy: 0.8227 - FEP_loss: 0.3646 - IMI_accuracy: 0.6764 - IMI_loss: 0.6254 - MER_accuracy: 0.6723 - MER_loss: 0.6360 - loss: 2.4117 - val_AZT_accuracy: 0.8995 - val_AZT_loss: 0.2682 - val_CIP_accuracy: 0.8612 - val_CIP_loss: 0.4357 - val_FEP_accuracy: 0.9091 - val_FEP_loss: 0.2398 - val_IMI_accuracy: 0.8660 - val_IMI_loss: 0.5442 - val_MER_accuracy: 0.7943 - val_MER_loss: 0.6229 - val_loss: 2.0617\n",
      "Epoch 44/50\n",
      "\u001b[1m27/27\u001b[0m \u001b[32m━━━━━━━━━━━━━━━━━━━━\u001b[0m\u001b[37m\u001b[0m \u001b[1m0s\u001b[0m 7ms/step - AZT_accuracy: 0.8298 - AZT_loss: 0.4490 - CIP_accuracy: 0.7802 - CIP_loss: 0.3781 - FEP_accuracy: 0.8259 - FEP_loss: 0.3806 - IMI_accuracy: 0.6701 - IMI_loss: 0.6444 - MER_accuracy: 0.6703 - MER_loss: 0.6479 - loss: 2.4996 - val_AZT_accuracy: 0.9234 - val_AZT_loss: 0.2246 - val_CIP_accuracy: 0.8565 - val_CIP_loss: 0.4448 - val_FEP_accuracy: 0.9282 - val_FEP_loss: 0.2101 - val_IMI_accuracy: 0.8708 - val_IMI_loss: 0.5381 - val_MER_accuracy: 0.7990 - val_MER_loss: 0.6597 - val_loss: 2.0232\n",
      "Epoch 45/50\n",
      "\u001b[1m27/27\u001b[0m \u001b[32m━━━━━━━━━━━━━━━━━━━━\u001b[0m\u001b[37m\u001b[0m \u001b[1m0s\u001b[0m 7ms/step - AZT_accuracy: 0.8288 - AZT_loss: 0.4460 - CIP_accuracy: 0.7816 - CIP_loss: 0.3697 - FEP_accuracy: 0.8428 - FEP_loss: 0.3478 - IMI_accuracy: 0.6802 - IMI_loss: 0.6460 - MER_accuracy: 0.6900 - MER_loss: 0.6344 - loss: 2.4424 - val_AZT_accuracy: 0.9139 - val_AZT_loss: 0.2788 - val_CIP_accuracy: 0.8469 - val_CIP_loss: 0.5940 - val_FEP_accuracy: 0.9282 - val_FEP_loss: 0.2091 - val_IMI_accuracy: 0.8708 - val_IMI_loss: 0.5215 - val_MER_accuracy: 0.7943 - val_MER_loss: 0.6380 - val_loss: 2.1788\n",
      "Epoch 46/50\n",
      "\u001b[1m27/27\u001b[0m \u001b[32m━━━━━━━━━━━━━━━━━━━━\u001b[0m\u001b[37m\u001b[0m \u001b[1m0s\u001b[0m 7ms/step - AZT_accuracy: 0.8099 - AZT_loss: 0.4917 - CIP_accuracy: 0.7440 - CIP_loss: 0.3864 - FEP_accuracy: 0.8039 - FEP_loss: 0.3875 - IMI_accuracy: 0.6573 - IMI_loss: 0.6638 - MER_accuracy: 0.6710 - MER_loss: 0.6347 - loss: 2.5690 - val_AZT_accuracy: 0.9187 - val_AZT_loss: 0.2235 - val_CIP_accuracy: 0.8517 - val_CIP_loss: 0.5910 - val_FEP_accuracy: 0.9234 - val_FEP_loss: 0.2145 - val_IMI_accuracy: 0.8708 - val_IMI_loss: 0.5048 - val_MER_accuracy: 0.7990 - val_MER_loss: 0.7101 - val_loss: 2.1759\n",
      "Epoch 47/50\n",
      "\u001b[1m27/27\u001b[0m \u001b[32m━━━━━━━━━━━━━━━━━━━━\u001b[0m\u001b[37m\u001b[0m \u001b[1m0s\u001b[0m 7ms/step - AZT_accuracy: 0.8420 - AZT_loss: 0.4190 - CIP_accuracy: 0.7892 - CIP_loss: 0.3673 - FEP_accuracy: 0.8289 - FEP_loss: 0.3641 - IMI_accuracy: 0.6699 - IMI_loss: 0.6517 - MER_accuracy: 0.6912 - MER_loss: 0.6387 - loss: 2.4421 - val_AZT_accuracy: 0.9234 - val_AZT_loss: 0.2228 - val_CIP_accuracy: 0.8517 - val_CIP_loss: 0.5634 - val_FEP_accuracy: 0.9234 - val_FEP_loss: 0.2094 - val_IMI_accuracy: 0.8708 - val_IMI_loss: 0.5693 - val_MER_accuracy: 0.7990 - val_MER_loss: 0.7068 - val_loss: 2.2093\n",
      "Epoch 48/50\n",
      "\u001b[1m27/27\u001b[0m \u001b[32m━━━━━━━━━━━━━━━━━━━━\u001b[0m\u001b[37m\u001b[0m \u001b[1m0s\u001b[0m 7ms/step - AZT_accuracy: 0.8433 - AZT_loss: 0.4159 - CIP_accuracy: 0.7648 - CIP_loss: 0.3684 - FEP_accuracy: 0.8222 - FEP_loss: 0.3700 - IMI_accuracy: 0.6638 - IMI_loss: 0.6418 - MER_accuracy: 0.6801 - MER_loss: 0.6344 - loss: 2.4306 - val_AZT_accuracy: 0.9234 - val_AZT_loss: 0.2360 - val_CIP_accuracy: 0.8469 - val_CIP_loss: 0.6327 - val_FEP_accuracy: 0.9282 - val_FEP_loss: 0.2037 - val_IMI_accuracy: 0.8708 - val_IMI_loss: 0.6045 - val_MER_accuracy: 0.7943 - val_MER_loss: 0.6965 - val_loss: 2.3078\n",
      "Epoch 49/50\n",
      "\u001b[1m27/27\u001b[0m \u001b[32m━━━━━━━━━━━━━━━━━━━━\u001b[0m\u001b[37m\u001b[0m \u001b[1m0s\u001b[0m 7ms/step - AZT_accuracy: 0.8238 - AZT_loss: 0.4508 - CIP_accuracy: 0.7597 - CIP_loss: 0.3808 - FEP_accuracy: 0.8130 - FEP_loss: 0.3774 - IMI_accuracy: 0.6622 - IMI_loss: 0.6526 - MER_accuracy: 0.6851 - MER_loss: 0.6382 - loss: 2.5019 - val_AZT_accuracy: 0.9282 - val_AZT_loss: 0.2186 - val_CIP_accuracy: 0.8565 - val_CIP_loss: 0.5388 - val_FEP_accuracy: 0.9282 - val_FEP_loss: 0.1968 - val_IMI_accuracy: 0.8708 - val_IMI_loss: 0.5290 - val_MER_accuracy: 0.7943 - val_MER_loss: 0.6622 - val_loss: 2.0860\n",
      "Epoch 50/50\n",
      "\u001b[1m27/27\u001b[0m \u001b[32m━━━━━━━━━━━━━━━━━━━━\u001b[0m\u001b[37m\u001b[0m \u001b[1m0s\u001b[0m 7ms/step - AZT_accuracy: 0.8138 - AZT_loss: 0.4567 - CIP_accuracy: 0.7560 - CIP_loss: 0.3747 - FEP_accuracy: 0.8136 - FEP_loss: 0.3711 - IMI_accuracy: 0.6580 - IMI_loss: 0.6509 - MER_accuracy: 0.6678 - MER_loss: 0.6253 - loss: 2.4822 - val_AZT_accuracy: 0.9330 - val_AZT_loss: 0.2120 - val_CIP_accuracy: 0.8565 - val_CIP_loss: 0.4973 - val_FEP_accuracy: 0.9330 - val_FEP_loss: 0.1982 - val_IMI_accuracy: 0.8708 - val_IMI_loss: 0.5322 - val_MER_accuracy: 0.7943 - val_MER_loss: 0.6845 - val_loss: 2.0666\n",
      "Modelo entrenado\n"
     ]
    }
   ],
   "source": [
    "# ## 6. Entrenar el modelo\n",
    "print(\"Dimensiones del DataFrame original:\", train_df.shape)\n",
    "print(\"Dimensiones de X_train_input:\", X_train_input.shape)\n",
    "for key in y_train:\n",
    "    print(f\"Dimensiones de y_train[{key}]:\", y_train[key].shape)\n",
    "\n",
    "history = model.fit(X_train_input, y_train,\n",
    "                    epochs=50, batch_size=32, validation_split=0.2)\n",
    "\n",
    "print(\"Modelo entrenado\")"
   ]
  },
  {
   "cell_type": "markdown",
   "id": "a38e1c8b-7403-4ab1-9ef6-2c2f9633e4a5",
   "metadata": {},
   "source": [
    "## 7. Predicción en el set de test"
   ]
  },
  {
   "cell_type": "code",
   "execution_count": 10,
   "id": "8241b7b0-47e0-48a7-83d3-7bc348f78771",
   "metadata": {},
   "outputs": [
    {
     "name": "stdout",
     "output_type": "stream",
     "text": [
      "\u001b[1m2/2\u001b[0m \u001b[32m━━━━━━━━━━━━━━━━━━━━\u001b[0m\u001b[37m\u001b[0m \u001b[1m0s\u001b[0m 59ms/step\n",
      "Tasa de predicción correcta:\n",
      "FEP  :  0.9090909090909091\n",
      "MER  :  0.7954545454545454\n",
      "IMI  :  0.8181818181818182\n",
      "AZT  :  0.9318181818181818\n",
      "CIP  :  0.7954545454545454\n"
     ]
    }
   ],
   "source": [
    "# ## 7. Predicción en el set de test\n",
    "#\n",
    "# En el set de test se dispone únicamente de la información de mutaciones (no de MIC).\n",
    "predictions = model.predict(X_test_input)\n",
    "\n",
    "# Para cada antibiótico, se toma la clase con mayor probabilidad.\n",
    "pred_FEP = np.argmax(predictions[0], axis=1)\n",
    "pred_MER = np.argmax(predictions[1], axis=1)\n",
    "pred_IMI = np.argmax(predictions[2], axis=1)\n",
    "pred_AZT = np.argmax(predictions[3], axis=1)\n",
    "pred_CIP = np.argmax(predictions[4], axis=1)\n",
    "\n",
    "# Convertir las predicciones a etiquetas legibles usando los encoders definidos para cada evaluación.\n",
    "pred_FEP_labels = antibiotic_encoders[\"FEP_eval\"].inverse_transform(pred_FEP)\n",
    "pred_MER_labels = antibiotic_encoders[\"MER_eval\"].inverse_transform(pred_MER)\n",
    "pred_IMI_labels = antibiotic_encoders[\"IMI_eval\"].inverse_transform(pred_IMI)\n",
    "pred_AZT_labels = antibiotic_encoders[\"AZT_eval\"].inverse_transform(pred_AZT)\n",
    "pred_CIP_labels = antibiotic_encoders[\"CIP_eval\"].inverse_transform(pred_CIP)\n",
    "\n",
    "results_df = pd.read_csv('input/test_solved.csv', sep=\";\")\n",
    "\n",
    "success = {\"FEP\":0, \"MER\":0, \"IMI\":0, \"AZT\":0, \"CIP\":0}\n",
    "for index, result in results_df[\"FEP_eval\"].items():\n",
    "    if pred_FEP_labels[index] == result.lower():\n",
    "        success[\"FEP\"] = success[\"FEP\"] + 1 \n",
    "\n",
    "for index, result in results_df[\"MER_eval\"].items():\n",
    "    if pred_FEP_labels[index] == result.lower():\n",
    "        success[\"MER\"] = success[\"MER\"] + 1 \n",
    "\n",
    "for index, result in results_df[\"IMI_eval\"].items():\n",
    "    if pred_FEP_labels[index] == result.lower():\n",
    "        success[\"IMI\"] = success[\"IMI\"] + 1 \n",
    "\n",
    "for index, result in results_df[\"AZT_eval\"].items():\n",
    "    if pred_FEP_labels[index] == result.lower():\n",
    "        success[\"AZT\"] = success[\"AZT\"] + 1 \n",
    "\n",
    "for index, result in results_df[\"CIP_eval\"].items():\n",
    "    if pred_FEP_labels[index] == result.lower():\n",
    "        success[\"CIP\"] = success[\"CIP\"] + 1 \n",
    "        \n",
    "print(\"Tasa de predicción correcta:\")\n",
    "for ab, value in success.items():\n",
    "    print(ab, \" : \", value/44)"
   ]
  },
  {
   "cell_type": "code",
   "execution_count": null,
   "id": "7f06f5f6-578e-454f-834d-02bef7114554",
   "metadata": {},
   "outputs": [],
   "source": []
  }
 ],
 "metadata": {
  "kernelspec": {
   "display_name": "Python 3 (ipykernel)",
   "language": "python",
   "name": "python3"
  },
  "language_info": {
   "codemirror_mode": {
    "name": "ipython",
    "version": 3
   },
   "file_extension": ".py",
   "mimetype": "text/x-python",
   "name": "python",
   "nbconvert_exporter": "python",
   "pygments_lexer": "ipython3",
   "version": "3.10.12"
  }
 },
 "nbformat": 4,
 "nbformat_minor": 5
}
