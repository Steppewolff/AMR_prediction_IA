{
 "cells": [
  {
   "cell_type": "markdown",
   "id": "f9d21d63-cf9e-4fa9-b0b0-61c94505b880",
   "metadata": {},
   "source": [
    "## 1. Importar módulos necesarios"
   ]
  },
  {
   "cell_type": "code",
   "execution_count": 2,
   "id": "fdb03ebc-42ea-4b89-9460-7a4e0fd17c96",
   "metadata": {},
   "outputs": [
    {
     "name": "stderr",
     "output_type": "stream",
     "text": [
      "2025-02-04 11:15:22.581368: I tensorflow/core/util/port.cc:153] oneDNN custom operations are on. You may see slightly different numerical results due to floating-point round-off errors from different computation orders. To turn them off, set the environment variable `TF_ENABLE_ONEDNN_OPTS=0`.\n",
      "2025-02-04 11:15:22.582798: I external/local_xla/xla/tsl/cuda/cudart_stub.cc:32] Could not find cuda drivers on your machine, GPU will not be used.\n",
      "2025-02-04 11:15:22.586547: I external/local_xla/xla/tsl/cuda/cudart_stub.cc:32] Could not find cuda drivers on your machine, GPU will not be used.\n",
      "2025-02-04 11:15:22.599311: E external/local_xla/xla/stream_executor/cuda/cuda_fft.cc:477] Unable to register cuFFT factory: Attempting to register factory for plugin cuFFT when one has already been registered\n",
      "WARNING: All log messages before absl::InitializeLog() is called are written to STDERR\n",
      "E0000 00:00:1738664122.613022   23182 cuda_dnn.cc:8310] Unable to register cuDNN factory: Attempting to register factory for plugin cuDNN when one has already been registered\n",
      "E0000 00:00:1738664122.616927   23182 cuda_blas.cc:1418] Unable to register cuBLAS factory: Attempting to register factory for plugin cuBLAS when one has already been registered\n",
      "2025-02-04 11:15:22.630370: I tensorflow/core/platform/cpu_feature_guard.cc:210] This TensorFlow binary is optimized to use available CPU instructions in performance-critical operations.\n",
      "To enable the following instructions: AVX2 AVX512F AVX512_VNNI FMA, in other operations, rebuild TensorFlow with the appropriate compiler flags.\n"
     ]
    }
   ],
   "source": [
    "# %% [markdown]\n",
    "# ## 1. Importar módulos necesarios\n",
    "\n",
    "import numpy as np\n",
    "import pandas as pd\n",
    "import os\n",
    "from sklearn.preprocessing import LabelEncoder, StandardScaler\n",
    "from sklearn.model_selection import train_test_split\n",
    "from sklearn.metrics import classification_report\n",
    "import tensorflow as tf\n",
    "from tensorflow.keras.models import Model\n",
    "from tensorflow.keras.layers import Input, Dense, Dropout\n",
    "from tensorflow.keras.utils import to_categorical"
   ]
  },
  {
   "cell_type": "markdown",
   "id": "181e8bde-811f-448b-b93e-128493b54bdf",
   "metadata": {},
   "source": [
    "## 1.1 Comprobar si los paquetes se han cargado correctamente"
   ]
  },
  {
   "cell_type": "code",
   "execution_count": 3,
   "id": "b349020c-2305-4e18-b063-aee52c19e399",
   "metadata": {},
   "outputs": [
    {
     "name": "stdout",
     "output_type": "stream",
     "text": [
      "TensorFlow version: 2.18.0\n",
      "Eager execution: True\n"
     ]
    },
    {
     "name": "stderr",
     "output_type": "stream",
     "text": [
      "W0000 00:00:1738664130.687619   23182 gpu_device.cc:2344] Cannot dlopen some GPU libraries. Please make sure the missing libraries mentioned above are installed properly if you would like to use GPU. Follow the guide at https://www.tensorflow.org/install/gpu for how to download and setup the required libraries for your platform.\n",
      "Skipping registering GPU devices...\n"
     ]
    },
    {
     "data": {
      "text/html": [
       "<pre style=\"white-space:pre;overflow-x:auto;line-height:normal;font-family:Menlo,'DejaVu Sans Mono',consolas,'Courier New',monospace\"><span style=\"font-weight: bold\">Model: \"sequential\"</span>\n",
       "</pre>\n"
      ],
      "text/plain": [
       "\u001b[1mModel: \"sequential\"\u001b[0m\n"
      ]
     },
     "metadata": {},
     "output_type": "display_data"
    },
    {
     "data": {
      "text/html": [
       "<pre style=\"white-space:pre;overflow-x:auto;line-height:normal;font-family:Menlo,'DejaVu Sans Mono',consolas,'Courier New',monospace\">┏━━━━━━━━━━━━━━━━━━━━━━━━━━━━━━━━━┳━━━━━━━━━━━━━━━━━━━━━━━━┳━━━━━━━━━━━━━━━┓\n",
       "┃<span style=\"font-weight: bold\"> Layer (type)                    </span>┃<span style=\"font-weight: bold\"> Output Shape           </span>┃<span style=\"font-weight: bold\">       Param # </span>┃\n",
       "┡━━━━━━━━━━━━━━━━━━━━━━━━━━━━━━━━━╇━━━━━━━━━━━━━━━━━━━━━━━━╇━━━━━━━━━━━━━━━┩\n",
       "│ dense (<span style=\"color: #0087ff; text-decoration-color: #0087ff\">Dense</span>)                   │ (<span style=\"color: #00d7ff; text-decoration-color: #00d7ff\">None</span>, <span style=\"color: #00af00; text-decoration-color: #00af00\">10</span>)             │           <span style=\"color: #00af00; text-decoration-color: #00af00\">210</span> │\n",
       "├─────────────────────────────────┼────────────────────────┼───────────────┤\n",
       "│ dense_1 (<span style=\"color: #0087ff; text-decoration-color: #0087ff\">Dense</span>)                 │ (<span style=\"color: #00d7ff; text-decoration-color: #00d7ff\">None</span>, <span style=\"color: #00af00; text-decoration-color: #00af00\">1</span>)              │            <span style=\"color: #00af00; text-decoration-color: #00af00\">11</span> │\n",
       "└─────────────────────────────────┴────────────────────────┴───────────────┘\n",
       "</pre>\n"
      ],
      "text/plain": [
       "┏━━━━━━━━━━━━━━━━━━━━━━━━━━━━━━━━━┳━━━━━━━━━━━━━━━━━━━━━━━━┳━━━━━━━━━━━━━━━┓\n",
       "┃\u001b[1m \u001b[0m\u001b[1mLayer (type)                   \u001b[0m\u001b[1m \u001b[0m┃\u001b[1m \u001b[0m\u001b[1mOutput Shape          \u001b[0m\u001b[1m \u001b[0m┃\u001b[1m \u001b[0m\u001b[1m      Param #\u001b[0m\u001b[1m \u001b[0m┃\n",
       "┡━━━━━━━━━━━━━━━━━━━━━━━━━━━━━━━━━╇━━━━━━━━━━━━━━━━━━━━━━━━╇━━━━━━━━━━━━━━━┩\n",
       "│ dense (\u001b[38;5;33mDense\u001b[0m)                   │ (\u001b[38;5;45mNone\u001b[0m, \u001b[38;5;34m10\u001b[0m)             │           \u001b[38;5;34m210\u001b[0m │\n",
       "├─────────────────────────────────┼────────────────────────┼───────────────┤\n",
       "│ dense_1 (\u001b[38;5;33mDense\u001b[0m)                 │ (\u001b[38;5;45mNone\u001b[0m, \u001b[38;5;34m1\u001b[0m)              │            \u001b[38;5;34m11\u001b[0m │\n",
       "└─────────────────────────────────┴────────────────────────┴───────────────┘\n"
      ]
     },
     "metadata": {},
     "output_type": "display_data"
    },
    {
     "data": {
      "text/html": [
       "<pre style=\"white-space:pre;overflow-x:auto;line-height:normal;font-family:Menlo,'DejaVu Sans Mono',consolas,'Courier New',monospace\"><span style=\"font-weight: bold\"> Total params: </span><span style=\"color: #00af00; text-decoration-color: #00af00\">221</span> (884.00 B)\n",
       "</pre>\n"
      ],
      "text/plain": [
       "\u001b[1m Total params: \u001b[0m\u001b[38;5;34m221\u001b[0m (884.00 B)\n"
      ]
     },
     "metadata": {},
     "output_type": "display_data"
    },
    {
     "data": {
      "text/html": [
       "<pre style=\"white-space:pre;overflow-x:auto;line-height:normal;font-family:Menlo,'DejaVu Sans Mono',consolas,'Courier New',monospace\"><span style=\"font-weight: bold\"> Trainable params: </span><span style=\"color: #00af00; text-decoration-color: #00af00\">221</span> (884.00 B)\n",
       "</pre>\n"
      ],
      "text/plain": [
       "\u001b[1m Trainable params: \u001b[0m\u001b[38;5;34m221\u001b[0m (884.00 B)\n"
      ]
     },
     "metadata": {},
     "output_type": "display_data"
    },
    {
     "data": {
      "text/html": [
       "<pre style=\"white-space:pre;overflow-x:auto;line-height:normal;font-family:Menlo,'DejaVu Sans Mono',consolas,'Courier New',monospace\"><span style=\"font-weight: bold\"> Non-trainable params: </span><span style=\"color: #00af00; text-decoration-color: #00af00\">0</span> (0.00 B)\n",
       "</pre>\n"
      ],
      "text/plain": [
       "\u001b[1m Non-trainable params: \u001b[0m\u001b[38;5;34m0\u001b[0m (0.00 B)\n"
      ]
     },
     "metadata": {},
     "output_type": "display_data"
    }
   ],
   "source": [
    "# %% [markdown]\n",
    "# ## 1.1 Comprobar si los paquetes se han cargado correctamente\n",
    "\n",
    "from tensorflow.keras import Input\n",
    "\n",
    "print(\"TensorFlow version:\", tf.__version__)\n",
    "print(\"Eager execution:\", tf.executing_eagerly())\n",
    "\n",
    "# Verificar si Keras funciona\n",
    "from tensorflow.keras.models import Sequential\n",
    "from tensorflow.keras.layers import Dense\n",
    "\n",
    "model = Sequential([\n",
    "    Input(shape=(20,)),  # Define explícitamente la capa de entrada\n",
    "    Dense(10, activation='relu'),\n",
    "    Dense(1, activation='sigmoid')\n",
    "])\n",
    "\n",
    "model.summary()"
   ]
  },
  {
   "cell_type": "markdown",
   "id": "6bdb6ee3-b2e1-4346-b0b4-91dffc6df51f",
   "metadata": {},
   "source": [
    "## 2. Definir la estructura de los archivos de entrada"
   ]
  },
  {
   "cell_type": "markdown",
   "id": "cf97b6c4-88d9-4ab0-bb48-cb0447049254",
   "metadata": {},
   "source": [
    "**training_data.csv**:\n",
    "- Columna 1: strain_id\n",
    "- Columnas 2 a 11: Para cada antibiótico (FEP, MER, IMI, AZT, CIP):\n",
    "      Ejemplo:\n",
    "        FEP_MIC, FEP_eval, MER_MIC, MER_eval, IMI_MIC, IMI_eval, AZT_MIC, AZT_eval, CIP_MIC, CIP_eval\n",
    "  Las evaluaciones tienen 3 categorías: \"sensitive\", \"resistant\" e \"indeterminate\".\n",
    "- Columnas 12 en adelante: Información de mutaciones para 71 genes.\n",
    "   * Si no hay información para un gen: \"-\"\n",
    "   * Si el gen es wild type: NaN\n",
    "   * Si hay mutaciones: cadena con las mutaciones separadas por comas (ej. \"A123T,V456G\")\n",
    "\n",
    "**test_data.csv**:\n",
    "- Columna 1: strain_id\n",
    "- Columnas 2 en adelante: Información de mutaciones para los mismos 71 genes.\n",
    "\n"
   ]
  },
  {
   "cell_type": "code",
   "execution_count": 28,
   "id": "e88e9a67-74ce-489d-8264-23fe71fe030e",
   "metadata": {},
   "outputs": [
    {
     "name": "stdout",
     "output_type": "stream",
     "text": [
      "Dimensiones del DataFrame original: (1045, 79)\n",
      "Archivo de lectura: train_df:\n",
      "      Unnamed: 0       strain_id FEP_MIC FEP_eval MER_MIC MER_eval IMI_MIC  \\\n",
      "0          False  UMC Utrecht_28       2        S    ≤0.5        S       2   \n",
      "1          False  UMC Utrecht_66       2        S    ≤0.5        S       2   \n",
      "2          False  UMC Utrecht_29       8        S      16        R      16   \n",
      "3          False  UMC Utrecht_68       2        S    ≤0.5        S       2   \n",
      "4          False  UMC Utrecht_32       8        S       2        S       2   \n",
      "...          ...             ...     ...      ...     ...      ...     ...   \n",
      "1040       False       NAV01-004       2        S    ≤0.5        S       1   \n",
      "1041       False       NAV01-005       4        S       4        I      16   \n",
      "1042       False       PVA01-003       4        S       1        S       2   \n",
      "1043       False       PVA01-006       4        S    ≤0.5        S       4   \n",
      "1044       False       PVA01-011       2        S    ≤0.5        S       2   \n",
      "\n",
      "     IMI_eval AZT_MIC AZT_eval  ... PA3620 PA4366       PA4400 PA4468 PA4609  \\\n",
      "0           S       4        I  ...    NaN    NaN  A97V, L288V    NaN    NaN   \n",
      "1           S       4        I  ...    NaN    NaN          NaN    NaN    NaN   \n",
      "2           R      16        I  ...  A187S    NaN          NaN    NaN    NaN   \n",
      "3           S       4        I  ...    NaN    NaN          NaN    NaN    NaN   \n",
      "4           S      32        R  ...    NaN    NaN          NaN    NaN    NaN   \n",
      "...       ...     ...      ...  ...    ...    ...          ...    ...    ...   \n",
      "1040        S       4        S  ...    NaN    NaN          NaN    NaN    NaN   \n",
      "1041        R      ≤2        S  ...    NaN    NaN          NaN    NaN    NaN   \n",
      "1042        S       8        S  ...    NaN    NaN          NaN    NaN    NaN   \n",
      "1043        S      ≤2        S  ...    NaN    NaN          NaN    NaN    NaN   \n",
      "1044        S       4        S  ...    NaN    NaN          NaN    NaN    NaN   \n",
      "\n",
      "     PA4946 PA5147 PA5344                      PA5443 PA5493  \n",
      "0       NaN  A354T    NaN  K344R, A641S, S662N, N666S    NaN  \n",
      "1       NaN    NaN    NaN                         NaN    NaN  \n",
      "2       NaN  D269N    NaN                S662N, N666S  D876E  \n",
      "3       NaN    NaN    NaN                         NaN    NaN  \n",
      "4       NaN    NaN    NaN                         NaN    NaN  \n",
      "...     ...    ...    ...                         ...    ...  \n",
      "1040    NaN    NaN    NaN                         NaN    NaN  \n",
      "1041    NaN    NaN    NaN                         NaN    NaN  \n",
      "1042    NaN    NaN    NaN                         NaN    NaN  \n",
      "1043    NaN    NaN    NaN                         NaN    NaN  \n",
      "1044    NaN    NaN    NaN                         NaN    NaN  \n",
      "\n",
      "[1045 rows x 79 columns]\n"
     ]
    }
   ],
   "source": [
    "# %% [markdown]\n",
    "# ## 3. Cargar y preprocesar los datos\n",
    "# Leer el archivo de entrenamiento (1200 cepas)\n",
    "train_df = pd.read_csv('input/training_data.csv', sep=\";\").reset_index(drop=True)\n",
    "print(\"Dimensiones del DataFrame original:\", train_df.shape)\n",
    "\n",
    "# Definir nombres de columnas:\n",
    "# [\"strain_id\", \"FEP_MIC\", \"FEP_eval\", \"MER_MIC\", \"MER_eval\", \"IMI_MIC\", \"IMI_eval\",\n",
    "#  \"AZT_MIC\", \"AZT_eval\", \"CIP_MIC\", \"CIP_eval\", gene1, gene2, ..., gene71]\n",
    "id_col = \"strain_id\"\n",
    "\n",
    "# Evaluaciones clínicas de los antibióticos\n",
    "eval_cols = [\"FEP_eval\", \"MER_eval\", \"IMI_eval\", \"AZT_eval\", \"CIP_eval\"]\n",
    "\n",
    "# Columnas con genes de resistencia\n",
    "gene_cols = train_df.loc[:, \"PA0004\":\"PA5493\"]\n",
    "\n",
    "# Preprocesamiento de los genes: codificación multi-hot por gen\n",
    "# La idea es, para cada gen, construir un vocabulario de mutaciones (observadas en el set de entrenamiento)\n",
    "# y, para cada celda, crear un vector binario indicando la presencia de cada mutación.\n",
    "def build_gene_vocab(df, gene_columns):\n",
    "    vocab = {}\n",
    "    for col in gene_columns:\n",
    "        mutations = set()\n",
    "        for val in df[col]:\n",
    "            if pd.isna(val) or str(val).strip() == \"-\" or str(val).strip() == \"\":\n",
    "                continue\n",
    "            # Dividir las mutaciones por coma\n",
    "            for mut in val.split(\",\"):\n",
    "                mut = mut.strip()\n",
    "                if mut:\n",
    "                    mutations.add(mut)\n",
    "        # Ordenamos el vocabulario para tener un orden fijo\n",
    "        vocab[col] = sorted(list(mutations))\n",
    "    return vocab\n",
    "\n",
    "gene_vocab = build_gene_vocab(train_df, gene_cols)\n",
    "\n",
    "print('Archivo de lectura: train_df:')\n",
    "print(train_df)\n",
    "\n",
    "# print('Columnas con genes de resistencia: gene_cols:')\n",
    "# print(gene_cols)\n",
    "\n",
    "# print('Vocabulario de mutaciones: gene_vocab')\n",
    "# print(gene_vocab)"
   ]
  },
  {
   "cell_type": "code",
   "execution_count": 33,
   "id": "ffc27c21-df81-4cb3-9de2-588a283ee5b8",
   "metadata": {},
   "outputs": [
    {
     "name": "stdout",
     "output_type": "stream",
     "text": [
      "Número de índices únicos en train_df: 1045\n",
      "Número de muestras generadas: 1045\n",
      "Dimensiones de X_train_genes: (1045, 2261)\n",
      "Dimensiones de X_train_input: (1045, 2261)\n",
      "Dimensiones de X_test_input: (44, 2261)\n"
     ]
    }
   ],
   "source": [
    "# Función para codificar una fila: para cada gen, si la celda está vacía se retorna un vector de ceros,\n",
    "# si tiene mutaciones, se asigna 1 en las posiciones correspondientes al vocabulario.\n",
    "def encode_gene_row(row, gene_columns, vocab):\n",
    "    features = []\n",
    "    for col in gene_columns:\n",
    "        gene_voc = vocab[col]\n",
    "        vec = np.zeros(len(gene_voc), dtype=int)\n",
    "        cell = row[col]\n",
    "        if pd.isna(cell) or str(cell).strip() == \"-\" or str(cell).strip() == \"\":\n",
    "            # Wild type: vector de ceros\n",
    "            pass\n",
    "        else:\n",
    "            mutations = [m.strip() for m in cell.split(\",\") if m.strip() != \"\"]\n",
    "            for mut in mutations:\n",
    "                if mut in gene_voc:\n",
    "                    idx = gene_voc.index(mut)\n",
    "                    vec[idx] = 1\n",
    "        # Agregar el vector para este gen a la lista de características\n",
    "        features.extend(vec.tolist())\n",
    "    return features\n",
    "\n",
    "print(\"Número de índices únicos en train_df:\", train_df.index.nunique())\n",
    "\n",
    "# # Aplicar la codificación a cada fila para los genes en el set de entrenamiento\n",
    "# Aplicar la codificación a cada fila para los genes en el set de entrenamiento\n",
    "# Usar list comprehension con iterrows\n",
    "X_train_list = [encode_gene_row(row, gene_cols, gene_vocab) for _, row in train_df.iterrows()]\n",
    "print(\"Número de muestras generadas:\", len(X_train_list))\n",
    "X_train_genes = np.array(X_train_list)\n",
    "print(\"Dimensiones de X_train_genes:\", X_train_genes.shape)\n",
    "\n",
    "# X_train_genes = train_df.apply(lambda row: encode_gene_row(row, gene_cols, gene_vocab), axis=1)\n",
    "# X_train_genes = np.array(X_train.tolist())\n",
    "# print(\"Dimensiones de X_train_genes:\", X_train_genes.shape)\n",
    "\n",
    "\n",
    "\n",
    "# Preparar las etiquetas para caracterizar clínicamente los valores MIC:\n",
    "# Cada evaluación es una cadena con una de 3 categorías: \"sensitive\", \"resistant\" o \"indeterminate\".\n",
    "y_antibiotics = {}\n",
    "antibiotic_encoders = {}\n",
    "\n",
    "for col in eval_cols:\n",
    "    le = LabelEncoder()\n",
    "    y_enc = le.fit_transform(train_df[col].astype(str).str.lower())\n",
    "    antibiotic_encoders[col] = le\n",
    "    # Convertimos a formato one-hot (aunque en clasificación binaria se puede usar una sola neurona con sigmoide)\n",
    "    # One-hot encoding para 3 clases *********************************REVISAR**********************************¿como se codifican las 3 clases?\n",
    "    y_antibiotics[col] = to_categorical(y_enc)\n",
    "\n",
    "\n",
    "# Creamos el diccionario de salidas para el modelo multi-salida (5 salidas, una por antibiótico)\n",
    "y_train = {\n",
    "    'FEP': y_antibiotics[\"FEP_eval\"],\n",
    "    'MER': y_antibiotics[\"MER_eval\"],\n",
    "    'IMI': y_antibiotics[\"IMI_eval\"],\n",
    "    'AZT': y_antibiotics[\"AZT_eval\"],\n",
    "    'CIP': y_antibiotics[\"CIP_eval\"]\n",
    "}\n",
    "\n",
    "\n",
    "# La entrada del modelo será únicamente la información codificada de los genes.\n",
    "X_train_input = X_train_genes\n",
    "print(\"Dimensiones de X_train_input:\", X_train_input.shape)\n",
    "\n",
    "# Cargar datos de test (200 cepas)\n",
    "test_df = pd.read_csv('input/test_data.csv',sep=\";\")\n",
    "# Se asume que test_data.csv tiene: \"strain_id\" y luego las 71 columnas de genes con los mismos nombres.\n",
    "test_gene_cols = test_df.columns[1:]\n",
    "X_test_genes = test_df.apply(lambda row: encode_gene_row(row, test_gene_cols, gene_vocab), axis=1)\n",
    "X_test_input = np.array(X_test_genes.tolist())\n",
    "print(\"Dimensiones de X_test_input:\", X_test_input.shape)"
   ]
  },
  {
   "cell_type": "code",
   "execution_count": 34,
   "id": "e5f15e6e-2f02-43d6-b722-f89a000a60c0",
   "metadata": {},
   "outputs": [
    {
     "name": "stdout",
     "output_type": "stream",
     "text": [
      "Matrices CrossLayer creadas\n"
     ]
    }
   ],
   "source": [
    "# ## 4. Definir una capa Cross para capturar interacciones entre mutaciones\n",
    "class CrossLayer(tf.keras.layers.Layer):\n",
    "    def __init__(self, num_layers=1, **kwargs):\n",
    "        super(CrossLayer, self).__init__(**kwargs)\n",
    "        self.num_layers = num_layers\n",
    "\n",
    "    def build(self, input_shape):\n",
    "        self.cross_weights = []\n",
    "        self.cross_biases = []\n",
    "        d = int(input_shape[-1])\n",
    "        for i in range(self.num_layers):\n",
    "            self.cross_weights.append(\n",
    "                self.add_weight(name=f'cross_w_{i}',\n",
    "                                shape=(d, 1),\n",
    "                                initializer='glorot_uniform',\n",
    "                                trainable=True)\n",
    "            )\n",
    "            self.cross_biases.append(\n",
    "                self.add_weight(name=f'cross_b_{i}',\n",
    "                                shape=(d,),\n",
    "                                initializer='zeros',\n",
    "                                trainable=True)\n",
    "            )\n",
    "        super(CrossLayer, self).build(input_shape)\n",
    "\n",
    "    def call(self, inputs):\n",
    "        x0 = inputs\n",
    "        x = inputs\n",
    "        for i in range(self.num_layers):\n",
    "            dot = tf.matmul(x, self.cross_weights[i])  # (batch_size, 1)\n",
    "            x = x0 * dot + self.cross_biases[i] + x\n",
    "        return x\n",
    "\n",
    "    print(\"Matrices CrossLayer creadas\")"
   ]
  },
  {
   "cell_type": "code",
   "execution_count": 35,
   "id": "a58a6b1d-1351-4c3b-9dc7-c1d8f141184c",
   "metadata": {},
   "outputs": [
    {
     "name": "stdout",
     "output_type": "stream",
     "text": [
      "Salidas creadas\n",
      "Calculada matriz dense para FEP\n",
      "2025-02-04 14:28:05.214571\n",
      "Calculada matriz dense para FEP\n",
      "2025-02-04 14:28:05.219837\n",
      "Calculada matriz dense para FEP\n",
      "2025-02-04 14:28:05.225083\n",
      "Calculada matriz dense para FEP\n",
      "2025-02-04 14:28:05.230568\n",
      "Calculada matriz dense para FEP\n",
      "2025-02-04 14:28:05.235939\n",
      "Ejecutando modelo\n"
     ]
    },
    {
     "data": {
      "text/html": [
       "<pre style=\"white-space:pre;overflow-x:auto;line-height:normal;font-family:Menlo,'DejaVu Sans Mono',consolas,'Courier New',monospace\"><span style=\"font-weight: bold\">Model: \"functional_6\"</span>\n",
       "</pre>\n"
      ],
      "text/plain": [
       "\u001b[1mModel: \"functional_6\"\u001b[0m\n"
      ]
     },
     "metadata": {},
     "output_type": "display_data"
    },
    {
     "data": {
      "text/html": [
       "<pre style=\"white-space:pre;overflow-x:auto;line-height:normal;font-family:Menlo,'DejaVu Sans Mono',consolas,'Courier New',monospace\">┏━━━━━━━━━━━━━━━━━━━━━┳━━━━━━━━━━━━━━━━━━━┳━━━━━━━━━━━━┳━━━━━━━━━━━━━━━━━━━┓\n",
       "┃<span style=\"font-weight: bold\"> Layer (type)        </span>┃<span style=\"font-weight: bold\"> Output Shape      </span>┃<span style=\"font-weight: bold\">    Param # </span>┃<span style=\"font-weight: bold\"> Connected to      </span>┃\n",
       "┡━━━━━━━━━━━━━━━━━━━━━╇━━━━━━━━━━━━━━━━━━━╇━━━━━━━━━━━━╇━━━━━━━━━━━━━━━━━━━┩\n",
       "│ input (<span style=\"color: #0087ff; text-decoration-color: #0087ff\">InputLayer</span>)  │ (<span style=\"color: #00d7ff; text-decoration-color: #00d7ff\">None</span>, <span style=\"color: #00af00; text-decoration-color: #00af00\">2261</span>)      │          <span style=\"color: #00af00; text-decoration-color: #00af00\">0</span> │ -                 │\n",
       "├─────────────────────┼───────────────────┼────────────┼───────────────────┤\n",
       "│ dense_17 (<span style=\"color: #0087ff; text-decoration-color: #0087ff\">Dense</span>)    │ (<span style=\"color: #00d7ff; text-decoration-color: #00d7ff\">None</span>, <span style=\"color: #00af00; text-decoration-color: #00af00\">256</span>)       │    <span style=\"color: #00af00; text-decoration-color: #00af00\">579,072</span> │ input[<span style=\"color: #00af00; text-decoration-color: #00af00\">0</span>][<span style=\"color: #00af00; text-decoration-color: #00af00\">0</span>]       │\n",
       "├─────────────────────┼───────────────────┼────────────┼───────────────────┤\n",
       "│ dropout_10          │ (<span style=\"color: #00d7ff; text-decoration-color: #00d7ff\">None</span>, <span style=\"color: #00af00; text-decoration-color: #00af00\">256</span>)       │          <span style=\"color: #00af00; text-decoration-color: #00af00\">0</span> │ dense_17[<span style=\"color: #00af00; text-decoration-color: #00af00\">0</span>][<span style=\"color: #00af00; text-decoration-color: #00af00\">0</span>]    │\n",
       "│ (<span style=\"color: #0087ff; text-decoration-color: #0087ff\">Dropout</span>)           │                   │            │                   │\n",
       "├─────────────────────┼───────────────────┼────────────┼───────────────────┤\n",
       "│ dense_18 (<span style=\"color: #0087ff; text-decoration-color: #0087ff\">Dense</span>)    │ (<span style=\"color: #00d7ff; text-decoration-color: #00d7ff\">None</span>, <span style=\"color: #00af00; text-decoration-color: #00af00\">128</span>)       │     <span style=\"color: #00af00; text-decoration-color: #00af00\">32,896</span> │ dropout_10[<span style=\"color: #00af00; text-decoration-color: #00af00\">0</span>][<span style=\"color: #00af00; text-decoration-color: #00af00\">0</span>]  │\n",
       "├─────────────────────┼───────────────────┼────────────┼───────────────────┤\n",
       "│ dropout_11          │ (<span style=\"color: #00d7ff; text-decoration-color: #00d7ff\">None</span>, <span style=\"color: #00af00; text-decoration-color: #00af00\">128</span>)       │          <span style=\"color: #00af00; text-decoration-color: #00af00\">0</span> │ dense_18[<span style=\"color: #00af00; text-decoration-color: #00af00\">0</span>][<span style=\"color: #00af00; text-decoration-color: #00af00\">0</span>]    │\n",
       "│ (<span style=\"color: #0087ff; text-decoration-color: #0087ff\">Dropout</span>)           │                   │            │                   │\n",
       "├─────────────────────┼───────────────────┼────────────┼───────────────────┤\n",
       "│ cross_layer_5       │ (<span style=\"color: #00d7ff; text-decoration-color: #00d7ff\">None</span>, <span style=\"color: #00af00; text-decoration-color: #00af00\">128</span>)       │        <span style=\"color: #00af00; text-decoration-color: #00af00\">256</span> │ dropout_11[<span style=\"color: #00af00; text-decoration-color: #00af00\">0</span>][<span style=\"color: #00af00; text-decoration-color: #00af00\">0</span>]  │\n",
       "│ (<span style=\"color: #0087ff; text-decoration-color: #0087ff\">CrossLayer</span>)        │                   │            │                   │\n",
       "├─────────────────────┼───────────────────┼────────────┼───────────────────┤\n",
       "│ dense_19 (<span style=\"color: #0087ff; text-decoration-color: #0087ff\">Dense</span>)    │ (<span style=\"color: #00d7ff; text-decoration-color: #00d7ff\">None</span>, <span style=\"color: #00af00; text-decoration-color: #00af00\">64</span>)        │      <span style=\"color: #00af00; text-decoration-color: #00af00\">8,256</span> │ cross_layer_5[<span style=\"color: #00af00; text-decoration-color: #00af00\">0</span>]… │\n",
       "├─────────────────────┼───────────────────┼────────────┼───────────────────┤\n",
       "│ FEP (<span style=\"color: #0087ff; text-decoration-color: #0087ff\">Dense</span>)         │ (<span style=\"color: #00d7ff; text-decoration-color: #00d7ff\">None</span>, <span style=\"color: #00af00; text-decoration-color: #00af00\">3</span>)         │        <span style=\"color: #00af00; text-decoration-color: #00af00\">195</span> │ dense_19[<span style=\"color: #00af00; text-decoration-color: #00af00\">0</span>][<span style=\"color: #00af00; text-decoration-color: #00af00\">0</span>]    │\n",
       "├─────────────────────┼───────────────────┼────────────┼───────────────────┤\n",
       "│ MER (<span style=\"color: #0087ff; text-decoration-color: #0087ff\">Dense</span>)         │ (<span style=\"color: #00d7ff; text-decoration-color: #00d7ff\">None</span>, <span style=\"color: #00af00; text-decoration-color: #00af00\">3</span>)         │        <span style=\"color: #00af00; text-decoration-color: #00af00\">195</span> │ dense_19[<span style=\"color: #00af00; text-decoration-color: #00af00\">0</span>][<span style=\"color: #00af00; text-decoration-color: #00af00\">0</span>]    │\n",
       "├─────────────────────┼───────────────────┼────────────┼───────────────────┤\n",
       "│ IMI (<span style=\"color: #0087ff; text-decoration-color: #0087ff\">Dense</span>)         │ (<span style=\"color: #00d7ff; text-decoration-color: #00d7ff\">None</span>, <span style=\"color: #00af00; text-decoration-color: #00af00\">3</span>)         │        <span style=\"color: #00af00; text-decoration-color: #00af00\">195</span> │ dense_19[<span style=\"color: #00af00; text-decoration-color: #00af00\">0</span>][<span style=\"color: #00af00; text-decoration-color: #00af00\">0</span>]    │\n",
       "├─────────────────────┼───────────────────┼────────────┼───────────────────┤\n",
       "│ AZT (<span style=\"color: #0087ff; text-decoration-color: #0087ff\">Dense</span>)         │ (<span style=\"color: #00d7ff; text-decoration-color: #00d7ff\">None</span>, <span style=\"color: #00af00; text-decoration-color: #00af00\">3</span>)         │        <span style=\"color: #00af00; text-decoration-color: #00af00\">195</span> │ dense_19[<span style=\"color: #00af00; text-decoration-color: #00af00\">0</span>][<span style=\"color: #00af00; text-decoration-color: #00af00\">0</span>]    │\n",
       "├─────────────────────┼───────────────────┼────────────┼───────────────────┤\n",
       "│ CIP (<span style=\"color: #0087ff; text-decoration-color: #0087ff\">Dense</span>)         │ (<span style=\"color: #00d7ff; text-decoration-color: #00d7ff\">None</span>, <span style=\"color: #00af00; text-decoration-color: #00af00\">3</span>)         │        <span style=\"color: #00af00; text-decoration-color: #00af00\">195</span> │ dense_19[<span style=\"color: #00af00; text-decoration-color: #00af00\">0</span>][<span style=\"color: #00af00; text-decoration-color: #00af00\">0</span>]    │\n",
       "└─────────────────────┴───────────────────┴────────────┴───────────────────┘\n",
       "</pre>\n"
      ],
      "text/plain": [
       "┏━━━━━━━━━━━━━━━━━━━━━┳━━━━━━━━━━━━━━━━━━━┳━━━━━━━━━━━━┳━━━━━━━━━━━━━━━━━━━┓\n",
       "┃\u001b[1m \u001b[0m\u001b[1mLayer (type)       \u001b[0m\u001b[1m \u001b[0m┃\u001b[1m \u001b[0m\u001b[1mOutput Shape     \u001b[0m\u001b[1m \u001b[0m┃\u001b[1m \u001b[0m\u001b[1m   Param #\u001b[0m\u001b[1m \u001b[0m┃\u001b[1m \u001b[0m\u001b[1mConnected to     \u001b[0m\u001b[1m \u001b[0m┃\n",
       "┡━━━━━━━━━━━━━━━━━━━━━╇━━━━━━━━━━━━━━━━━━━╇━━━━━━━━━━━━╇━━━━━━━━━━━━━━━━━━━┩\n",
       "│ input (\u001b[38;5;33mInputLayer\u001b[0m)  │ (\u001b[38;5;45mNone\u001b[0m, \u001b[38;5;34m2261\u001b[0m)      │          \u001b[38;5;34m0\u001b[0m │ -                 │\n",
       "├─────────────────────┼───────────────────┼────────────┼───────────────────┤\n",
       "│ dense_17 (\u001b[38;5;33mDense\u001b[0m)    │ (\u001b[38;5;45mNone\u001b[0m, \u001b[38;5;34m256\u001b[0m)       │    \u001b[38;5;34m579,072\u001b[0m │ input[\u001b[38;5;34m0\u001b[0m][\u001b[38;5;34m0\u001b[0m]       │\n",
       "├─────────────────────┼───────────────────┼────────────┼───────────────────┤\n",
       "│ dropout_10          │ (\u001b[38;5;45mNone\u001b[0m, \u001b[38;5;34m256\u001b[0m)       │          \u001b[38;5;34m0\u001b[0m │ dense_17[\u001b[38;5;34m0\u001b[0m][\u001b[38;5;34m0\u001b[0m]    │\n",
       "│ (\u001b[38;5;33mDropout\u001b[0m)           │                   │            │                   │\n",
       "├─────────────────────┼───────────────────┼────────────┼───────────────────┤\n",
       "│ dense_18 (\u001b[38;5;33mDense\u001b[0m)    │ (\u001b[38;5;45mNone\u001b[0m, \u001b[38;5;34m128\u001b[0m)       │     \u001b[38;5;34m32,896\u001b[0m │ dropout_10[\u001b[38;5;34m0\u001b[0m][\u001b[38;5;34m0\u001b[0m]  │\n",
       "├─────────────────────┼───────────────────┼────────────┼───────────────────┤\n",
       "│ dropout_11          │ (\u001b[38;5;45mNone\u001b[0m, \u001b[38;5;34m128\u001b[0m)       │          \u001b[38;5;34m0\u001b[0m │ dense_18[\u001b[38;5;34m0\u001b[0m][\u001b[38;5;34m0\u001b[0m]    │\n",
       "│ (\u001b[38;5;33mDropout\u001b[0m)           │                   │            │                   │\n",
       "├─────────────────────┼───────────────────┼────────────┼───────────────────┤\n",
       "│ cross_layer_5       │ (\u001b[38;5;45mNone\u001b[0m, \u001b[38;5;34m128\u001b[0m)       │        \u001b[38;5;34m256\u001b[0m │ dropout_11[\u001b[38;5;34m0\u001b[0m][\u001b[38;5;34m0\u001b[0m]  │\n",
       "│ (\u001b[38;5;33mCrossLayer\u001b[0m)        │                   │            │                   │\n",
       "├─────────────────────┼───────────────────┼────────────┼───────────────────┤\n",
       "│ dense_19 (\u001b[38;5;33mDense\u001b[0m)    │ (\u001b[38;5;45mNone\u001b[0m, \u001b[38;5;34m64\u001b[0m)        │      \u001b[38;5;34m8,256\u001b[0m │ cross_layer_5[\u001b[38;5;34m0\u001b[0m]… │\n",
       "├─────────────────────┼───────────────────┼────────────┼───────────────────┤\n",
       "│ FEP (\u001b[38;5;33mDense\u001b[0m)         │ (\u001b[38;5;45mNone\u001b[0m, \u001b[38;5;34m3\u001b[0m)         │        \u001b[38;5;34m195\u001b[0m │ dense_19[\u001b[38;5;34m0\u001b[0m][\u001b[38;5;34m0\u001b[0m]    │\n",
       "├─────────────────────┼───────────────────┼────────────┼───────────────────┤\n",
       "│ MER (\u001b[38;5;33mDense\u001b[0m)         │ (\u001b[38;5;45mNone\u001b[0m, \u001b[38;5;34m3\u001b[0m)         │        \u001b[38;5;34m195\u001b[0m │ dense_19[\u001b[38;5;34m0\u001b[0m][\u001b[38;5;34m0\u001b[0m]    │\n",
       "├─────────────────────┼───────────────────┼────────────┼───────────────────┤\n",
       "│ IMI (\u001b[38;5;33mDense\u001b[0m)         │ (\u001b[38;5;45mNone\u001b[0m, \u001b[38;5;34m3\u001b[0m)         │        \u001b[38;5;34m195\u001b[0m │ dense_19[\u001b[38;5;34m0\u001b[0m][\u001b[38;5;34m0\u001b[0m]    │\n",
       "├─────────────────────┼───────────────────┼────────────┼───────────────────┤\n",
       "│ AZT (\u001b[38;5;33mDense\u001b[0m)         │ (\u001b[38;5;45mNone\u001b[0m, \u001b[38;5;34m3\u001b[0m)         │        \u001b[38;5;34m195\u001b[0m │ dense_19[\u001b[38;5;34m0\u001b[0m][\u001b[38;5;34m0\u001b[0m]    │\n",
       "├─────────────────────┼───────────────────┼────────────┼───────────────────┤\n",
       "│ CIP (\u001b[38;5;33mDense\u001b[0m)         │ (\u001b[38;5;45mNone\u001b[0m, \u001b[38;5;34m3\u001b[0m)         │        \u001b[38;5;34m195\u001b[0m │ dense_19[\u001b[38;5;34m0\u001b[0m][\u001b[38;5;34m0\u001b[0m]    │\n",
       "└─────────────────────┴───────────────────┴────────────┴───────────────────┘\n"
      ]
     },
     "metadata": {},
     "output_type": "display_data"
    },
    {
     "data": {
      "text/html": [
       "<pre style=\"white-space:pre;overflow-x:auto;line-height:normal;font-family:Menlo,'DejaVu Sans Mono',consolas,'Courier New',monospace\"><span style=\"font-weight: bold\"> Total params: </span><span style=\"color: #00af00; text-decoration-color: #00af00\">621,455</span> (2.37 MB)\n",
       "</pre>\n"
      ],
      "text/plain": [
       "\u001b[1m Total params: \u001b[0m\u001b[38;5;34m621,455\u001b[0m (2.37 MB)\n"
      ]
     },
     "metadata": {},
     "output_type": "display_data"
    },
    {
     "data": {
      "text/html": [
       "<pre style=\"white-space:pre;overflow-x:auto;line-height:normal;font-family:Menlo,'DejaVu Sans Mono',consolas,'Courier New',monospace\"><span style=\"font-weight: bold\"> Trainable params: </span><span style=\"color: #00af00; text-decoration-color: #00af00\">621,455</span> (2.37 MB)\n",
       "</pre>\n"
      ],
      "text/plain": [
       "\u001b[1m Trainable params: \u001b[0m\u001b[38;5;34m621,455\u001b[0m (2.37 MB)\n"
      ]
     },
     "metadata": {},
     "output_type": "display_data"
    },
    {
     "data": {
      "text/html": [
       "<pre style=\"white-space:pre;overflow-x:auto;line-height:normal;font-family:Menlo,'DejaVu Sans Mono',consolas,'Courier New',monospace\"><span style=\"font-weight: bold\"> Non-trainable params: </span><span style=\"color: #00af00; text-decoration-color: #00af00\">0</span> (0.00 B)\n",
       "</pre>\n"
      ],
      "text/plain": [
       "\u001b[1m Non-trainable params: \u001b[0m\u001b[38;5;34m0\u001b[0m (0.00 B)\n"
      ]
     },
     "metadata": {},
     "output_type": "display_data"
    },
    {
     "name": "stdout",
     "output_type": "stream",
     "text": [
      "Calculados parametros para modelo\n",
      "2025-02-04 14:28:05.304619\n",
      "FEP_eval -> ['s' 'r' 'i']\n",
      "MER_eval -> ['s' 'r' 'i']\n",
      "IMI_eval -> ['s' 'r' 'i']\n",
      "AZT_eval -> ['i' 'r' 's']\n",
      "CIP_eval -> ['r' 's' 'i']\n"
     ]
    }
   ],
   "source": [
    "# ## 5. Definir el modelo de redes neuronales multi-salida\n",
    "#\n",
    "# Se construirán 5 salidas, una para cada antibiótico, cada una con 3 neuronas (softmax).\n",
    "input_layer = Input(shape=(X_train_input.shape[1],), name='input')\n",
    "x = Dense(256, activation='relu')(input_layer)\n",
    "x = Dropout(0.3)(x)\n",
    "x = Dense(128, activation='relu')(x)\n",
    "x = Dropout(0.3)(x)\n",
    "# Capa Cross para modelar interacciones entre las mutaciones\n",
    "x = CrossLayer(num_layers=1)(x)\n",
    "x = Dense(64, activation='relu')(x)\n",
    "\n",
    "print(\"Salidas creadas\")\n",
    "\n",
    "# Salidas para cada antibiótico: FEP, MER, IMI, AZT, CIP\n",
    "out_FEP = Dense(3, activation='softmax', name='FEP')(x)\n",
    "print(\"Calculada matriz dense para FEP\")\n",
    "print(pd.Timestamp.now())\n",
    "\n",
    "out_MER = Dense(3, activation='softmax', name='MER')(x)\n",
    "print(\"Calculada matriz dense para FEP\")\n",
    "print(pd.Timestamp.now())\n",
    "\n",
    "out_IMI = Dense(3, activation='softmax', name='IMI')(x)\n",
    "print(\"Calculada matriz dense para FEP\")\n",
    "print(pd.Timestamp.now())\n",
    "\n",
    "out_AZT = Dense(3, activation='softmax', name='AZT')(x)\n",
    "print(\"Calculada matriz dense para FEP\")\n",
    "print(pd.Timestamp.now())\n",
    "\n",
    "out_CIP = Dense(3, activation='softmax', name='CIP')(x)\n",
    "print(\"Calculada matriz dense para FEP\")\n",
    "print(pd.Timestamp.now())\n",
    "\n",
    "print(\"Ejecutando modelo\")\n",
    "\n",
    "model = tf.keras.models.Model(inputs=input_layer, outputs=[out_FEP, out_MER, out_IMI, out_AZT, out_CIP])\n",
    "model.compile(optimizer='adam',\n",
    "              loss={'FEP': 'categorical_crossentropy',\n",
    "                    'MER': 'categorical_crossentropy',\n",
    "                    'IMI': 'categorical_crossentropy',\n",
    "                    'AZT': 'categorical_crossentropy',\n",
    "                    'CIP': 'categorical_crossentropy'},\n",
    "              metrics={'FEP': 'accuracy',\n",
    "                       'MER': 'accuracy',\n",
    "                       'IMI': 'accuracy',\n",
    "                       'AZT': 'accuracy',\n",
    "                       'CIP': 'accuracy'})\n",
    "\n",
    "model.summary()\n",
    "print(\"Calculados parametros para modelo\")\n",
    "print(pd.Timestamp.now())\n",
    "\n",
    "for col in eval_cols:\n",
    "    unique_vals = train_df[col].astype(str).str.lower().unique()\n",
    "    print(f\"{col} -> {unique_vals}\")"
   ]
  },
  {
   "cell_type": "code",
   "execution_count": 36,
   "id": "bd2628a3-6d88-4fca-be42-c3ffd8b7d4e6",
   "metadata": {},
   "outputs": [
    {
     "name": "stdout",
     "output_type": "stream",
     "text": [
      "Dimensiones del DataFrame original: (1045, 79)\n",
      "Dimensiones de X_train_input: (1045, 2261)\n",
      "Dimensiones de y_train[FEP]: (1045, 3)\n",
      "Dimensiones de y_train[MER]: (1045, 3)\n",
      "Dimensiones de y_train[IMI]: (1045, 3)\n",
      "Dimensiones de y_train[AZT]: (1045, 3)\n",
      "Dimensiones de y_train[CIP]: (1045, 3)\n",
      "Epoch 1/50\n",
      "\u001b[1m27/27\u001b[0m \u001b[32m━━━━━━━━━━━━━━━━━━━━\u001b[0m\u001b[37m\u001b[0m \u001b[1m5s\u001b[0m 36ms/step - AZT_accuracy: 0.5504 - AZT_loss: 1.0594 - CIP_accuracy: 0.5253 - CIP_loss: 0.9306 - FEP_accuracy: 0.4055 - FEP_loss: 1.0136 - IMI_accuracy: 0.3715 - IMI_loss: 1.0906 - MER_accuracy: 0.3144 - MER_loss: 1.0756 - loss: 5.1717 - val_AZT_accuracy: 0.0000e+00 - val_AZT_loss: 1.4467 - val_CIP_accuracy: 0.5550 - val_CIP_loss: 0.7769 - val_FEP_accuracy: 0.8612 - val_FEP_loss: 0.8481 - val_IMI_accuracy: 0.7416 - val_IMI_loss: 1.0186 - val_MER_accuracy: 0.3636 - val_MER_loss: 1.0440 - val_loss: 5.1125\n",
      "Epoch 2/50\n",
      "\u001b[1m27/27\u001b[0m \u001b[32m━━━━━━━━━━━━━━━━━━━━\u001b[0m\u001b[37m\u001b[0m \u001b[1m0s\u001b[0m 16ms/step - AZT_accuracy: 0.6071 - AZT_loss: 0.8962 - CIP_accuracy: 0.7037 - CIP_loss: 0.5747 - FEP_accuracy: 0.7601 - FEP_loss: 0.7032 - IMI_accuracy: 0.5561 - IMI_loss: 0.9451 - MER_accuracy: 0.5232 - MER_loss: 0.9199 - loss: 4.0386 - val_AZT_accuracy: 0.1244 - val_AZT_loss: 1.6483 - val_CIP_accuracy: 0.8708 - val_CIP_loss: 0.5049 - val_FEP_accuracy: 0.9426 - val_FEP_loss: 0.4762 - val_IMI_accuracy: 0.8469 - val_IMI_loss: 0.7922 - val_MER_accuracy: 0.7656 - val_MER_loss: 0.8986 - val_loss: 4.2738\n",
      "Epoch 3/50\n",
      "\u001b[1m27/27\u001b[0m \u001b[32m━━━━━━━━━━━━━━━━━━━━\u001b[0m\u001b[37m\u001b[0m \u001b[1m0s\u001b[0m 13ms/step - AZT_accuracy: 0.6841 - AZT_loss: 0.7654 - CIP_accuracy: 0.7624 - CIP_loss: 0.4368 - FEP_accuracy: 0.7636 - FEP_loss: 0.5639 - IMI_accuracy: 0.6024 - IMI_loss: 0.8731 - MER_accuracy: 0.6131 - MER_loss: 0.8154 - loss: 3.4544 - val_AZT_accuracy: 0.1531 - val_AZT_loss: 1.8271 - val_CIP_accuracy: 0.8852 - val_CIP_loss: 0.4135 - val_FEP_accuracy: 0.9139 - val_FEP_loss: 0.3764 - val_IMI_accuracy: 0.8421 - val_IMI_loss: 0.7414 - val_MER_accuracy: 0.7656 - val_MER_loss: 0.8269 - val_loss: 4.1173\n",
      "Epoch 4/50\n",
      "\u001b[1m27/27\u001b[0m \u001b[32m━━━━━━━━━━━━━━━━━━━━\u001b[0m\u001b[37m\u001b[0m \u001b[1m0s\u001b[0m 13ms/step - AZT_accuracy: 0.7247 - AZT_loss: 0.6757 - CIP_accuracy: 0.7724 - CIP_loss: 0.4302 - FEP_accuracy: 0.7803 - FEP_loss: 0.5147 - IMI_accuracy: 0.6126 - IMI_loss: 0.8114 - MER_accuracy: 0.6194 - MER_loss: 0.8129 - loss: 3.2444 - val_AZT_accuracy: 0.1531 - val_AZT_loss: 1.7237 - val_CIP_accuracy: 0.8708 - val_CIP_loss: 0.3988 - val_FEP_accuracy: 0.9139 - val_FEP_loss: 0.3055 - val_IMI_accuracy: 0.8469 - val_IMI_loss: 0.6074 - val_MER_accuracy: 0.7703 - val_MER_loss: 0.7463 - val_loss: 3.7172\n",
      "Epoch 5/50\n",
      "\u001b[1m27/27\u001b[0m \u001b[32m━━━━━━━━━━━━━━━━━━━━\u001b[0m\u001b[37m\u001b[0m \u001b[1m0s\u001b[0m 14ms/step - AZT_accuracy: 0.7347 - AZT_loss: 0.6790 - CIP_accuracy: 0.7058 - CIP_loss: 0.4713 - FEP_accuracy: 0.7886 - FEP_loss: 0.4722 - IMI_accuracy: 0.5842 - IMI_loss: 0.8210 - MER_accuracy: 0.6170 - MER_loss: 0.7774 - loss: 3.2242 - val_AZT_accuracy: 0.1627 - val_AZT_loss: 1.4331 - val_CIP_accuracy: 0.8565 - val_CIP_loss: 0.3768 - val_FEP_accuracy: 0.9282 - val_FEP_loss: 0.2658 - val_IMI_accuracy: 0.8469 - val_IMI_loss: 0.5849 - val_MER_accuracy: 0.7895 - val_MER_loss: 0.6822 - val_loss: 3.2800\n",
      "Epoch 6/50\n",
      "\u001b[1m27/27\u001b[0m \u001b[32m━━━━━━━━━━━━━━━━━━━━\u001b[0m\u001b[37m\u001b[0m \u001b[1m0s\u001b[0m 15ms/step - AZT_accuracy: 0.7778 - AZT_loss: 0.5855 - CIP_accuracy: 0.7598 - CIP_loss: 0.4094 - FEP_accuracy: 0.8011 - FEP_loss: 0.4468 - IMI_accuracy: 0.6135 - IMI_loss: 0.8141 - MER_accuracy: 0.6390 - MER_loss: 0.7560 - loss: 3.0106 - val_AZT_accuracy: 0.1722 - val_AZT_loss: 1.4428 - val_CIP_accuracy: 0.8708 - val_CIP_loss: 0.3609 - val_FEP_accuracy: 0.9187 - val_FEP_loss: 0.2455 - val_IMI_accuracy: 0.8660 - val_IMI_loss: 0.5786 - val_MER_accuracy: 0.7799 - val_MER_loss: 0.7012 - val_loss: 3.2620\n",
      "Epoch 7/50\n",
      "\u001b[1m27/27\u001b[0m \u001b[32m━━━━━━━━━━━━━━━━━━━━\u001b[0m\u001b[37m\u001b[0m \u001b[1m0s\u001b[0m 14ms/step - AZT_accuracy: 0.7792 - AZT_loss: 0.5647 - CIP_accuracy: 0.7439 - CIP_loss: 0.4246 - FEP_accuracy: 0.7970 - FEP_loss: 0.4509 - IMI_accuracy: 0.6123 - IMI_loss: 0.7664 - MER_accuracy: 0.6277 - MER_loss: 0.7468 - loss: 2.9559 - val_AZT_accuracy: 0.2153 - val_AZT_loss: 1.1405 - val_CIP_accuracy: 0.8421 - val_CIP_loss: 0.3774 - val_FEP_accuracy: 0.9426 - val_FEP_loss: 0.2188 - val_IMI_accuracy: 0.8421 - val_IMI_loss: 0.5632 - val_MER_accuracy: 0.7751 - val_MER_loss: 0.7265 - val_loss: 2.9649\n",
      "Epoch 8/50\n",
      "\u001b[1m27/27\u001b[0m \u001b[32m━━━━━━━━━━━━━━━━━━━━\u001b[0m\u001b[37m\u001b[0m \u001b[1m0s\u001b[0m 12ms/step - AZT_accuracy: 0.7831 - AZT_loss: 0.5703 - CIP_accuracy: 0.7380 - CIP_loss: 0.4273 - FEP_accuracy: 0.8027 - FEP_loss: 0.4323 - IMI_accuracy: 0.5968 - IMI_loss: 0.7745 - MER_accuracy: 0.6366 - MER_loss: 0.7242 - loss: 2.9265 - val_AZT_accuracy: 0.1914 - val_AZT_loss: 1.1733 - val_CIP_accuracy: 0.8565 - val_CIP_loss: 0.3625 - val_FEP_accuracy: 0.9187 - val_FEP_loss: 0.2481 - val_IMI_accuracy: 0.8612 - val_IMI_loss: 0.5035 - val_MER_accuracy: 0.7799 - val_MER_loss: 0.6922 - val_loss: 2.9145\n",
      "Epoch 9/50\n",
      "\u001b[1m27/27\u001b[0m \u001b[32m━━━━━━━━━━━━━━━━━━━━\u001b[0m\u001b[37m\u001b[0m \u001b[1m0s\u001b[0m 15ms/step - AZT_accuracy: 0.7843 - AZT_loss: 0.5706 - CIP_accuracy: 0.7751 - CIP_loss: 0.3924 - FEP_accuracy: 0.8113 - FEP_loss: 0.4170 - IMI_accuracy: 0.6618 - IMI_loss: 0.7184 - MER_accuracy: 0.6743 - MER_loss: 0.6853 - loss: 2.7848 - val_AZT_accuracy: 0.6029 - val_AZT_loss: 0.8957 - val_CIP_accuracy: 0.8565 - val_CIP_loss: 0.3637 - val_FEP_accuracy: 0.9187 - val_FEP_loss: 0.2399 - val_IMI_accuracy: 0.8517 - val_IMI_loss: 0.5216 - val_MER_accuracy: 0.7799 - val_MER_loss: 0.6932 - val_loss: 2.6548\n",
      "Epoch 10/50\n",
      "\u001b[1m27/27\u001b[0m \u001b[32m━━━━━━━━━━━━━━━━━━━━\u001b[0m\u001b[37m\u001b[0m \u001b[1m0s\u001b[0m 14ms/step - AZT_accuracy: 0.7835 - AZT_loss: 0.5384 - CIP_accuracy: 0.7393 - CIP_loss: 0.4240 - FEP_accuracy: 0.7742 - FEP_loss: 0.4517 - IMI_accuracy: 0.6321 - IMI_loss: 0.7613 - MER_accuracy: 0.6288 - MER_loss: 0.7241 - loss: 2.8977 - val_AZT_accuracy: 0.5933 - val_AZT_loss: 0.8650 - val_CIP_accuracy: 0.8469 - val_CIP_loss: 0.3704 - val_FEP_accuracy: 0.9474 - val_FEP_loss: 0.2000 - val_IMI_accuracy: 0.8612 - val_IMI_loss: 0.4848 - val_MER_accuracy: 0.7799 - val_MER_loss: 0.6934 - val_loss: 2.5565\n",
      "Epoch 11/50\n",
      "\u001b[1m27/27\u001b[0m \u001b[32m━━━━━━━━━━━━━━━━━━━━\u001b[0m\u001b[37m\u001b[0m \u001b[1m0s\u001b[0m 14ms/step - AZT_accuracy: 0.8039 - AZT_loss: 0.5277 - CIP_accuracy: 0.7412 - CIP_loss: 0.4156 - FEP_accuracy: 0.8129 - FEP_loss: 0.4241 - IMI_accuracy: 0.6371 - IMI_loss: 0.7311 - MER_accuracy: 0.6515 - MER_loss: 0.7234 - loss: 2.8259 - val_AZT_accuracy: 0.5885 - val_AZT_loss: 0.9017 - val_CIP_accuracy: 0.8517 - val_CIP_loss: 0.3661 - val_FEP_accuracy: 0.9234 - val_FEP_loss: 0.2151 - val_IMI_accuracy: 0.8612 - val_IMI_loss: 0.5021 - val_MER_accuracy: 0.7799 - val_MER_loss: 0.6979 - val_loss: 2.6241\n",
      "Epoch 12/50\n",
      "\u001b[1m27/27\u001b[0m \u001b[32m━━━━━━━━━━━━━━━━━━━━\u001b[0m\u001b[37m\u001b[0m \u001b[1m0s\u001b[0m 15ms/step - AZT_accuracy: 0.7911 - AZT_loss: 0.5176 - CIP_accuracy: 0.7359 - CIP_loss: 0.4090 - FEP_accuracy: 0.7746 - FEP_loss: 0.4567 - IMI_accuracy: 0.6242 - IMI_loss: 0.7561 - MER_accuracy: 0.6469 - MER_loss: 0.6935 - loss: 2.8343 - val_AZT_accuracy: 0.5359 - val_AZT_loss: 0.9682 - val_CIP_accuracy: 0.8517 - val_CIP_loss: 0.3625 - val_FEP_accuracy: 0.9522 - val_FEP_loss: 0.1906 - val_IMI_accuracy: 0.8612 - val_IMI_loss: 0.5025 - val_MER_accuracy: 0.7751 - val_MER_loss: 0.7241 - val_loss: 2.6873\n",
      "Epoch 13/50\n",
      "\u001b[1m27/27\u001b[0m \u001b[32m━━━━━━━━━━━━━━━━━━━━\u001b[0m\u001b[37m\u001b[0m \u001b[1m0s\u001b[0m 15ms/step - AZT_accuracy: 0.8191 - AZT_loss: 0.4933 - CIP_accuracy: 0.7535 - CIP_loss: 0.4013 - FEP_accuracy: 0.7954 - FEP_loss: 0.4183 - IMI_accuracy: 0.6270 - IMI_loss: 0.7539 - MER_accuracy: 0.6456 - MER_loss: 0.6930 - loss: 2.7604 - val_AZT_accuracy: 0.8421 - val_AZT_loss: 0.6684 - val_CIP_accuracy: 0.8421 - val_CIP_loss: 0.3764 - val_FEP_accuracy: 0.9474 - val_FEP_loss: 0.1928 - val_IMI_accuracy: 0.8660 - val_IMI_loss: 0.4606 - val_MER_accuracy: 0.7799 - val_MER_loss: 0.6979 - val_loss: 2.3464\n",
      "Epoch 14/50\n",
      "\u001b[1m27/27\u001b[0m \u001b[32m━━━━━━━━━━━━━━━━━━━━\u001b[0m\u001b[37m\u001b[0m \u001b[1m0s\u001b[0m 14ms/step - AZT_accuracy: 0.8055 - AZT_loss: 0.5054 - CIP_accuracy: 0.7594 - CIP_loss: 0.3966 - FEP_accuracy: 0.8176 - FEP_loss: 0.4022 - IMI_accuracy: 0.6608 - IMI_loss: 0.7015 - MER_accuracy: 0.6638 - MER_loss: 0.6895 - loss: 2.6967 - val_AZT_accuracy: 0.8278 - val_AZT_loss: 0.6670 - val_CIP_accuracy: 0.8469 - val_CIP_loss: 0.3696 - val_FEP_accuracy: 0.9522 - val_FEP_loss: 0.1885 - val_IMI_accuracy: 0.8565 - val_IMI_loss: 0.4880 - val_MER_accuracy: 0.7751 - val_MER_loss: 0.7188 - val_loss: 2.3766\n",
      "Epoch 15/50\n",
      "\u001b[1m27/27\u001b[0m \u001b[32m━━━━━━━━━━━━━━━━━━━━\u001b[0m\u001b[37m\u001b[0m \u001b[1m0s\u001b[0m 13ms/step - AZT_accuracy: 0.8178 - AZT_loss: 0.4793 - CIP_accuracy: 0.7604 - CIP_loss: 0.3931 - FEP_accuracy: 0.8064 - FEP_loss: 0.4067 - IMI_accuracy: 0.6443 - IMI_loss: 0.6830 - MER_accuracy: 0.6652 - MER_loss: 0.6778 - loss: 2.6385 - val_AZT_accuracy: 0.8852 - val_AZT_loss: 0.5419 - val_CIP_accuracy: 0.8421 - val_CIP_loss: 0.3802 - val_FEP_accuracy: 0.9474 - val_FEP_loss: 0.1863 - val_IMI_accuracy: 0.8612 - val_IMI_loss: 0.4611 - val_MER_accuracy: 0.7799 - val_MER_loss: 0.7117 - val_loss: 2.2309\n",
      "Epoch 16/50\n",
      "\u001b[1m27/27\u001b[0m \u001b[32m━━━━━━━━━━━━━━━━━━━━\u001b[0m\u001b[37m\u001b[0m \u001b[1m0s\u001b[0m 14ms/step - AZT_accuracy: 0.8348 - AZT_loss: 0.4665 - CIP_accuracy: 0.7788 - CIP_loss: 0.3877 - FEP_accuracy: 0.8220 - FEP_loss: 0.4057 - IMI_accuracy: 0.6748 - IMI_loss: 0.6848 - MER_accuracy: 0.6865 - MER_loss: 0.6669 - loss: 2.6054 - val_AZT_accuracy: 0.8660 - val_AZT_loss: 0.5878 - val_CIP_accuracy: 0.8517 - val_CIP_loss: 0.3439 - val_FEP_accuracy: 0.9378 - val_FEP_loss: 0.1867 - val_IMI_accuracy: 0.8565 - val_IMI_loss: 0.4707 - val_MER_accuracy: 0.7847 - val_MER_loss: 0.7061 - val_loss: 2.2434\n",
      "Epoch 17/50\n",
      "\u001b[1m27/27\u001b[0m \u001b[32m━━━━━━━━━━━━━━━━━━━━\u001b[0m\u001b[37m\u001b[0m \u001b[1m0s\u001b[0m 12ms/step - AZT_accuracy: 0.8390 - AZT_loss: 0.4481 - CIP_accuracy: 0.7580 - CIP_loss: 0.3775 - FEP_accuracy: 0.8239 - FEP_loss: 0.3835 - IMI_accuracy: 0.6527 - IMI_loss: 0.6708 - MER_accuracy: 0.6636 - MER_loss: 0.6471 - loss: 2.5289 - val_AZT_accuracy: 0.8900 - val_AZT_loss: 0.4299 - val_CIP_accuracy: 0.8517 - val_CIP_loss: 0.3441 - val_FEP_accuracy: 0.9474 - val_FEP_loss: 0.1847 - val_IMI_accuracy: 0.8660 - val_IMI_loss: 0.4717 - val_MER_accuracy: 0.7943 - val_MER_loss: 0.6886 - val_loss: 2.0742\n",
      "Epoch 18/50\n",
      "\u001b[1m27/27\u001b[0m \u001b[32m━━━━━━━━━━━━━━━━━━━━\u001b[0m\u001b[37m\u001b[0m \u001b[1m0s\u001b[0m 16ms/step - AZT_accuracy: 0.8120 - AZT_loss: 0.5150 - CIP_accuracy: 0.7718 - CIP_loss: 0.3944 - FEP_accuracy: 0.8061 - FEP_loss: 0.4195 - IMI_accuracy: 0.6500 - IMI_loss: 0.7006 - MER_accuracy: 0.6656 - MER_loss: 0.6823 - loss: 2.7158 - val_AZT_accuracy: 0.8852 - val_AZT_loss: 0.4814 - val_CIP_accuracy: 0.8565 - val_CIP_loss: 0.3384 - val_FEP_accuracy: 0.9282 - val_FEP_loss: 0.1929 - val_IMI_accuracy: 0.8612 - val_IMI_loss: 0.4792 - val_MER_accuracy: 0.7847 - val_MER_loss: 0.6786 - val_loss: 2.1232\n",
      "Epoch 19/50\n",
      "\u001b[1m27/27\u001b[0m \u001b[32m━━━━━━━━━━━━━━━━━━━━\u001b[0m\u001b[37m\u001b[0m \u001b[1m0s\u001b[0m 11ms/step - AZT_accuracy: 0.8213 - AZT_loss: 0.4715 - CIP_accuracy: 0.7754 - CIP_loss: 0.3705 - FEP_accuracy: 0.8260 - FEP_loss: 0.3705 - IMI_accuracy: 0.6585 - IMI_loss: 0.6873 - MER_accuracy: 0.6812 - MER_loss: 0.6439 - loss: 2.5443 - val_AZT_accuracy: 0.8660 - val_AZT_loss: 0.5538 - val_CIP_accuracy: 0.8469 - val_CIP_loss: 0.3665 - val_FEP_accuracy: 0.9330 - val_FEP_loss: 0.1841 - val_IMI_accuracy: 0.8708 - val_IMI_loss: 0.4659 - val_MER_accuracy: 0.7943 - val_MER_loss: 0.6872 - val_loss: 2.2068\n",
      "Epoch 20/50\n",
      "\u001b[1m27/27\u001b[0m \u001b[32m━━━━━━━━━━━━━━━━━━━━\u001b[0m\u001b[37m\u001b[0m \u001b[1m0s\u001b[0m 13ms/step - AZT_accuracy: 0.8154 - AZT_loss: 0.4933 - CIP_accuracy: 0.7552 - CIP_loss: 0.3936 - FEP_accuracy: 0.8146 - FEP_loss: 0.3829 - IMI_accuracy: 0.6465 - IMI_loss: 0.6915 - MER_accuracy: 0.6533 - MER_loss: 0.6882 - loss: 2.6488 - val_AZT_accuracy: 0.8804 - val_AZT_loss: 0.4966 - val_CIP_accuracy: 0.8612 - val_CIP_loss: 0.3425 - val_FEP_accuracy: 0.9522 - val_FEP_loss: 0.1833 - val_IMI_accuracy: 0.8612 - val_IMI_loss: 0.4712 - val_MER_accuracy: 0.7703 - val_MER_loss: 0.7454 - val_loss: 2.1889\n",
      "Epoch 21/50\n",
      "\u001b[1m27/27\u001b[0m \u001b[32m━━━━━━━━━━━━━━━━━━━━\u001b[0m\u001b[37m\u001b[0m \u001b[1m0s\u001b[0m 15ms/step - AZT_accuracy: 0.8467 - AZT_loss: 0.4379 - CIP_accuracy: 0.7942 - CIP_loss: 0.3654 - FEP_accuracy: 0.8365 - FEP_loss: 0.3632 - IMI_accuracy: 0.6802 - IMI_loss: 0.6499 - MER_accuracy: 0.6823 - MER_loss: 0.6620 - loss: 2.4810 - val_AZT_accuracy: 0.8900 - val_AZT_loss: 0.4231 - val_CIP_accuracy: 0.8517 - val_CIP_loss: 0.3402 - val_FEP_accuracy: 0.9522 - val_FEP_loss: 0.1841 - val_IMI_accuracy: 0.8660 - val_IMI_loss: 0.4777 - val_MER_accuracy: 0.7847 - val_MER_loss: 0.7200 - val_loss: 2.0994\n",
      "Epoch 22/50\n",
      "\u001b[1m27/27\u001b[0m \u001b[32m━━━━━━━━━━━━━━━━━━━━\u001b[0m\u001b[37m\u001b[0m \u001b[1m0s\u001b[0m 13ms/step - AZT_accuracy: 0.8282 - AZT_loss: 0.4578 - CIP_accuracy: 0.7488 - CIP_loss: 0.3995 - FEP_accuracy: 0.8039 - FEP_loss: 0.3968 - IMI_accuracy: 0.6627 - IMI_loss: 0.6995 - MER_accuracy: 0.6764 - MER_loss: 0.6590 - loss: 2.6163 - val_AZT_accuracy: 0.8900 - val_AZT_loss: 0.4972 - val_CIP_accuracy: 0.8469 - val_CIP_loss: 0.3625 - val_FEP_accuracy: 0.9522 - val_FEP_loss: 0.1818 - val_IMI_accuracy: 0.8660 - val_IMI_loss: 0.4746 - val_MER_accuracy: 0.7895 - val_MER_loss: 0.7503 - val_loss: 2.2193\n",
      "Epoch 23/50\n",
      "\u001b[1m27/27\u001b[0m \u001b[32m━━━━━━━━━━━━━━━━━━━━\u001b[0m\u001b[37m\u001b[0m \u001b[1m0s\u001b[0m 14ms/step - AZT_accuracy: 0.8198 - AZT_loss: 0.4524 - CIP_accuracy: 0.7703 - CIP_loss: 0.3844 - FEP_accuracy: 0.8069 - FEP_loss: 0.4005 - IMI_accuracy: 0.6511 - IMI_loss: 0.6950 - MER_accuracy: 0.6578 - MER_loss: 0.6737 - loss: 2.6096 - val_AZT_accuracy: 0.8660 - val_AZT_loss: 0.5289 - val_CIP_accuracy: 0.8517 - val_CIP_loss: 0.3444 - val_FEP_accuracy: 0.9426 - val_FEP_loss: 0.1763 - val_IMI_accuracy: 0.8612 - val_IMI_loss: 0.4703 - val_MER_accuracy: 0.7847 - val_MER_loss: 0.7081 - val_loss: 2.1829\n",
      "Epoch 24/50\n",
      "\u001b[1m27/27\u001b[0m \u001b[32m━━━━━━━━━━━━━━━━━━━━\u001b[0m\u001b[37m\u001b[0m \u001b[1m0s\u001b[0m 13ms/step - AZT_accuracy: 0.8003 - AZT_loss: 0.5158 - CIP_accuracy: 0.7706 - CIP_loss: 0.3856 - FEP_accuracy: 0.8136 - FEP_loss: 0.4127 - IMI_accuracy: 0.6691 - IMI_loss: 0.6613 - MER_accuracy: 0.6799 - MER_loss: 0.6608 - loss: 2.6371 - val_AZT_accuracy: 0.9234 - val_AZT_loss: 0.3336 - val_CIP_accuracy: 0.8421 - val_CIP_loss: 0.4073 - val_FEP_accuracy: 0.9569 - val_FEP_loss: 0.1805 - val_IMI_accuracy: 0.8756 - val_IMI_loss: 0.4938 - val_MER_accuracy: 0.7943 - val_MER_loss: 0.6868 - val_loss: 2.0602\n",
      "Epoch 25/50\n",
      "\u001b[1m27/27\u001b[0m \u001b[32m━━━━━━━━━━━━━━━━━━━━\u001b[0m\u001b[37m\u001b[0m \u001b[1m0s\u001b[0m 12ms/step - AZT_accuracy: 0.8294 - AZT_loss: 0.4415 - CIP_accuracy: 0.8002 - CIP_loss: 0.3569 - FEP_accuracy: 0.8154 - FEP_loss: 0.3760 - IMI_accuracy: 0.6823 - IMI_loss: 0.6463 - MER_accuracy: 0.7021 - MER_loss: 0.6226 - loss: 2.4464 - val_AZT_accuracy: 0.9187 - val_AZT_loss: 0.3421 - val_CIP_accuracy: 0.8469 - val_CIP_loss: 0.3757 - val_FEP_accuracy: 0.9474 - val_FEP_loss: 0.1854 - val_IMI_accuracy: 0.8660 - val_IMI_loss: 0.4710 - val_MER_accuracy: 0.7799 - val_MER_loss: 0.7612 - val_loss: 2.0871\n",
      "Epoch 26/50\n",
      "\u001b[1m27/27\u001b[0m \u001b[32m━━━━━━━━━━━━━━━━━━━━\u001b[0m\u001b[37m\u001b[0m \u001b[1m0s\u001b[0m 14ms/step - AZT_accuracy: 0.8172 - AZT_loss: 0.4729 - CIP_accuracy: 0.7699 - CIP_loss: 0.3840 - FEP_accuracy: 0.8246 - FEP_loss: 0.3752 - IMI_accuracy: 0.6415 - IMI_loss: 0.7068 - MER_accuracy: 0.6769 - MER_loss: 0.6728 - loss: 2.6118 - val_AZT_accuracy: 0.9187 - val_AZT_loss: 0.3338 - val_CIP_accuracy: 0.8469 - val_CIP_loss: 0.3642 - val_FEP_accuracy: 0.9426 - val_FEP_loss: 0.1968 - val_IMI_accuracy: 0.8708 - val_IMI_loss: 0.4936 - val_MER_accuracy: 0.7799 - val_MER_loss: 0.7912 - val_loss: 2.1302\n",
      "Epoch 27/50\n",
      "\u001b[1m27/27\u001b[0m \u001b[32m━━━━━━━━━━━━━━━━━━━━\u001b[0m\u001b[37m\u001b[0m \u001b[1m0s\u001b[0m 12ms/step - AZT_accuracy: 0.8200 - AZT_loss: 0.4599 - CIP_accuracy: 0.7486 - CIP_loss: 0.3762 - FEP_accuracy: 0.8210 - FEP_loss: 0.3921 - IMI_accuracy: 0.6559 - IMI_loss: 0.6536 - MER_accuracy: 0.6682 - MER_loss: 0.6371 - loss: 2.5172 - val_AZT_accuracy: 0.9234 - val_AZT_loss: 0.3038 - val_CIP_accuracy: 0.8469 - val_CIP_loss: 0.3693 - val_FEP_accuracy: 0.9474 - val_FEP_loss: 0.2005 - val_IMI_accuracy: 0.8660 - val_IMI_loss: 0.5202 - val_MER_accuracy: 0.7799 - val_MER_loss: 0.7880 - val_loss: 2.1358\n",
      "Epoch 28/50\n",
      "\u001b[1m27/27\u001b[0m \u001b[32m━━━━━━━━━━━━━━━━━━━━\u001b[0m\u001b[37m\u001b[0m \u001b[1m0s\u001b[0m 14ms/step - AZT_accuracy: 0.8024 - AZT_loss: 0.5001 - CIP_accuracy: 0.7538 - CIP_loss: 0.3967 - FEP_accuracy: 0.7908 - FEP_loss: 0.4364 - IMI_accuracy: 0.6468 - IMI_loss: 0.6756 - MER_accuracy: 0.6622 - MER_loss: 0.6532 - loss: 2.6561 - val_AZT_accuracy: 0.8995 - val_AZT_loss: 0.3230 - val_CIP_accuracy: 0.8373 - val_CIP_loss: 0.3747 - val_FEP_accuracy: 0.9378 - val_FEP_loss: 0.2061 - val_IMI_accuracy: 0.8565 - val_IMI_loss: 0.5436 - val_MER_accuracy: 0.7751 - val_MER_loss: 0.8036 - val_loss: 2.2108\n",
      "Epoch 29/50\n",
      "\u001b[1m27/27\u001b[0m \u001b[32m━━━━━━━━━━━━━━━━━━━━\u001b[0m\u001b[37m\u001b[0m \u001b[1m0s\u001b[0m 13ms/step - AZT_accuracy: 0.8287 - AZT_loss: 0.4490 - CIP_accuracy: 0.7694 - CIP_loss: 0.4030 - FEP_accuracy: 0.8270 - FEP_loss: 0.3760 - IMI_accuracy: 0.6643 - IMI_loss: 0.6561 - MER_accuracy: 0.6754 - MER_loss: 0.6303 - loss: 2.5159 - val_AZT_accuracy: 0.9378 - val_AZT_loss: 0.2484 - val_CIP_accuracy: 0.8469 - val_CIP_loss: 0.4185 - val_FEP_accuracy: 0.9522 - val_FEP_loss: 0.1899 - val_IMI_accuracy: 0.8660 - val_IMI_loss: 0.5193 - val_MER_accuracy: 0.7943 - val_MER_loss: 0.7869 - val_loss: 2.1252\n",
      "Epoch 30/50\n",
      "\u001b[1m27/27\u001b[0m \u001b[32m━━━━━━━━━━━━━━━━━━━━\u001b[0m\u001b[37m\u001b[0m \u001b[1m0s\u001b[0m 13ms/step - AZT_accuracy: 0.8375 - AZT_loss: 0.4337 - CIP_accuracy: 0.7817 - CIP_loss: 0.3653 - FEP_accuracy: 0.8301 - FEP_loss: 0.3598 - IMI_accuracy: 0.6989 - IMI_loss: 0.6313 - MER_accuracy: 0.6898 - MER_loss: 0.6351 - loss: 2.4231 - val_AZT_accuracy: 0.9282 - val_AZT_loss: 0.2548 - val_CIP_accuracy: 0.8517 - val_CIP_loss: 0.3880 - val_FEP_accuracy: 0.9522 - val_FEP_loss: 0.1941 - val_IMI_accuracy: 0.8660 - val_IMI_loss: 0.5397 - val_MER_accuracy: 0.7895 - val_MER_loss: 0.7924 - val_loss: 2.1258\n",
      "Epoch 31/50\n",
      "\u001b[1m27/27\u001b[0m \u001b[32m━━━━━━━━━━━━━━━━━━━━\u001b[0m\u001b[37m\u001b[0m \u001b[1m0s\u001b[0m 10ms/step - AZT_accuracy: 0.8176 - AZT_loss: 0.5151 - CIP_accuracy: 0.7760 - CIP_loss: 0.3842 - FEP_accuracy: 0.8302 - FEP_loss: 0.3736 - IMI_accuracy: 0.6753 - IMI_loss: 0.6524 - MER_accuracy: 0.6884 - MER_loss: 0.6714 - loss: 2.5959 - val_AZT_accuracy: 0.9043 - val_AZT_loss: 0.3210 - val_CIP_accuracy: 0.8517 - val_CIP_loss: 0.3851 - val_FEP_accuracy: 0.9474 - val_FEP_loss: 0.1948 - val_IMI_accuracy: 0.8708 - val_IMI_loss: 0.5586 - val_MER_accuracy: 0.7943 - val_MER_loss: 0.7686 - val_loss: 2.1862\n",
      "Epoch 32/50\n",
      "\u001b[1m27/27\u001b[0m \u001b[32m━━━━━━━━━━━━━━━━━━━━\u001b[0m\u001b[37m\u001b[0m \u001b[1m0s\u001b[0m 13ms/step - AZT_accuracy: 0.8458 - AZT_loss: 0.4268 - CIP_accuracy: 0.7865 - CIP_loss: 0.3695 - FEP_accuracy: 0.8425 - FEP_loss: 0.3515 - IMI_accuracy: 0.6992 - IMI_loss: 0.6225 - MER_accuracy: 0.6862 - MER_loss: 0.6411 - loss: 2.4139 - val_AZT_accuracy: 0.9330 - val_AZT_loss: 0.2394 - val_CIP_accuracy: 0.8469 - val_CIP_loss: 0.4372 - val_FEP_accuracy: 0.9474 - val_FEP_loss: 0.1979 - val_IMI_accuracy: 0.8708 - val_IMI_loss: 0.5753 - val_MER_accuracy: 0.7847 - val_MER_loss: 0.8236 - val_loss: 2.2230\n",
      "Epoch 33/50\n",
      "\u001b[1m27/27\u001b[0m \u001b[32m━━━━━━━━━━━━━━━━━━━━\u001b[0m\u001b[37m\u001b[0m \u001b[1m0s\u001b[0m 11ms/step - AZT_accuracy: 0.8132 - AZT_loss: 0.4753 - CIP_accuracy: 0.7595 - CIP_loss: 0.3856 - FEP_accuracy: 0.8069 - FEP_loss: 0.3889 - IMI_accuracy: 0.6772 - IMI_loss: 0.6332 - MER_accuracy: 0.6595 - MER_loss: 0.6501 - loss: 2.5324 - val_AZT_accuracy: 0.9139 - val_AZT_loss: 0.2936 - val_CIP_accuracy: 0.8565 - val_CIP_loss: 0.3584 - val_FEP_accuracy: 0.9474 - val_FEP_loss: 0.1987 - val_IMI_accuracy: 0.8708 - val_IMI_loss: 0.6057 - val_MER_accuracy: 0.7847 - val_MER_loss: 0.8609 - val_loss: 2.2720\n",
      "Epoch 34/50\n",
      "\u001b[1m27/27\u001b[0m \u001b[32m━━━━━━━━━━━━━━━━━━━━\u001b[0m\u001b[37m\u001b[0m \u001b[1m0s\u001b[0m 15ms/step - AZT_accuracy: 0.8268 - AZT_loss: 0.4431 - CIP_accuracy: 0.7750 - CIP_loss: 0.3686 - FEP_accuracy: 0.8321 - FEP_loss: 0.3676 - IMI_accuracy: 0.6915 - IMI_loss: 0.6356 - MER_accuracy: 0.6813 - MER_loss: 0.6529 - loss: 2.4715 - val_AZT_accuracy: 0.9330 - val_AZT_loss: 0.2643 - val_CIP_accuracy: 0.8469 - val_CIP_loss: 0.3951 - val_FEP_accuracy: 0.9522 - val_FEP_loss: 0.1987 - val_IMI_accuracy: 0.8708 - val_IMI_loss: 0.6003 - val_MER_accuracy: 0.7943 - val_MER_loss: 0.8396 - val_loss: 2.2506\n",
      "Epoch 35/50\n",
      "\u001b[1m27/27\u001b[0m \u001b[32m━━━━━━━━━━━━━━━━━━━━\u001b[0m\u001b[37m\u001b[0m \u001b[1m0s\u001b[0m 14ms/step - AZT_accuracy: 0.8248 - AZT_loss: 0.4628 - CIP_accuracy: 0.7743 - CIP_loss: 0.3905 - FEP_accuracy: 0.8241 - FEP_loss: 0.3668 - IMI_accuracy: 0.6603 - IMI_loss: 0.6597 - MER_accuracy: 0.6818 - MER_loss: 0.6391 - loss: 2.5188 - val_AZT_accuracy: 0.9330 - val_AZT_loss: 0.2676 - val_CIP_accuracy: 0.8565 - val_CIP_loss: 0.3708 - val_FEP_accuracy: 0.9522 - val_FEP_loss: 0.2065 - val_IMI_accuracy: 0.8660 - val_IMI_loss: 0.5874 - val_MER_accuracy: 0.7656 - val_MER_loss: 0.9155 - val_loss: 2.2949\n",
      "Epoch 36/50\n",
      "\u001b[1m27/27\u001b[0m \u001b[32m━━━━━━━━━━━━━━━━━━━━\u001b[0m\u001b[37m\u001b[0m \u001b[1m0s\u001b[0m 13ms/step - AZT_accuracy: 0.8453 - AZT_loss: 0.4340 - CIP_accuracy: 0.7702 - CIP_loss: 0.3786 - FEP_accuracy: 0.8262 - FEP_loss: 0.3764 - IMI_accuracy: 0.6662 - IMI_loss: 0.6617 - MER_accuracy: 0.6763 - MER_loss: 0.6491 - loss: 2.4956 - val_AZT_accuracy: 0.9139 - val_AZT_loss: 0.2865 - val_CIP_accuracy: 0.8517 - val_CIP_loss: 0.3857 - val_FEP_accuracy: 0.9474 - val_FEP_loss: 0.2158 - val_IMI_accuracy: 0.8660 - val_IMI_loss: 0.5941 - val_MER_accuracy: 0.7895 - val_MER_loss: 0.8499 - val_loss: 2.2804\n",
      "Epoch 37/50\n",
      "\u001b[1m27/27\u001b[0m \u001b[32m━━━━━━━━━━━━━━━━━━━━\u001b[0m\u001b[37m\u001b[0m \u001b[1m0s\u001b[0m 11ms/step - AZT_accuracy: 0.8236 - AZT_loss: 0.4510 - CIP_accuracy: 0.7527 - CIP_loss: 0.3715 - FEP_accuracy: 0.8183 - FEP_loss: 0.3677 - IMI_accuracy: 0.6652 - IMI_loss: 0.6521 - MER_accuracy: 0.6762 - MER_loss: 0.6308 - loss: 2.4701 - val_AZT_accuracy: 0.9187 - val_AZT_loss: 0.2732 - val_CIP_accuracy: 0.8469 - val_CIP_loss: 0.4429 - val_FEP_accuracy: 0.9474 - val_FEP_loss: 0.2144 - val_IMI_accuracy: 0.8708 - val_IMI_loss: 0.6250 - val_MER_accuracy: 0.7943 - val_MER_loss: 0.8850 - val_loss: 2.3865\n",
      "Epoch 38/50\n",
      "\u001b[1m27/27\u001b[0m \u001b[32m━━━━━━━━━━━━━━━━━━━━\u001b[0m\u001b[37m\u001b[0m \u001b[1m0s\u001b[0m 12ms/step - AZT_accuracy: 0.8331 - AZT_loss: 0.4295 - CIP_accuracy: 0.7691 - CIP_loss: 0.3614 - FEP_accuracy: 0.8246 - FEP_loss: 0.3750 - IMI_accuracy: 0.6790 - IMI_loss: 0.6448 - MER_accuracy: 0.6834 - MER_loss: 0.6209 - loss: 2.4332 - val_AZT_accuracy: 0.9330 - val_AZT_loss: 0.2492 - val_CIP_accuracy: 0.8469 - val_CIP_loss: 0.4207 - val_FEP_accuracy: 0.9474 - val_FEP_loss: 0.2256 - val_IMI_accuracy: 0.8708 - val_IMI_loss: 0.6412 - val_MER_accuracy: 0.7895 - val_MER_loss: 0.8750 - val_loss: 2.3592\n",
      "Epoch 39/50\n",
      "\u001b[1m27/27\u001b[0m \u001b[32m━━━━━━━━━━━━━━━━━━━━\u001b[0m\u001b[37m\u001b[0m \u001b[1m0s\u001b[0m 14ms/step - AZT_accuracy: 0.8153 - AZT_loss: 0.4623 - CIP_accuracy: 0.7733 - CIP_loss: 0.3768 - FEP_accuracy: 0.8210 - FEP_loss: 0.3750 - IMI_accuracy: 0.6849 - IMI_loss: 0.6347 - MER_accuracy: 0.7008 - MER_loss: 0.6236 - loss: 2.4696 - val_AZT_accuracy: 0.9330 - val_AZT_loss: 0.2392 - val_CIP_accuracy: 0.8565 - val_CIP_loss: 0.3998 - val_FEP_accuracy: 0.9522 - val_FEP_loss: 0.2025 - val_IMI_accuracy: 0.8708 - val_IMI_loss: 0.6032 - val_MER_accuracy: 0.7895 - val_MER_loss: 0.8730 - val_loss: 2.2660\n",
      "Epoch 40/50\n",
      "\u001b[1m27/27\u001b[0m \u001b[32m━━━━━━━━━━━━━━━━━━━━\u001b[0m\u001b[37m\u001b[0m \u001b[1m0s\u001b[0m 16ms/step - AZT_accuracy: 0.8390 - AZT_loss: 0.4292 - CIP_accuracy: 0.7962 - CIP_loss: 0.3543 - FEP_accuracy: 0.8332 - FEP_loss: 0.3489 - IMI_accuracy: 0.6954 - IMI_loss: 0.6338 - MER_accuracy: 0.7002 - MER_loss: 0.6080 - loss: 2.3746 - val_AZT_accuracy: 0.9187 - val_AZT_loss: 0.2479 - val_CIP_accuracy: 0.8469 - val_CIP_loss: 0.4119 - val_FEP_accuracy: 0.9522 - val_FEP_loss: 0.2102 - val_IMI_accuracy: 0.8660 - val_IMI_loss: 0.5910 - val_MER_accuracy: 0.7895 - val_MER_loss: 0.8685 - val_loss: 2.2758\n",
      "Epoch 41/50\n",
      "\u001b[1m27/27\u001b[0m \u001b[32m━━━━━━━━━━━━━━━━━━━━\u001b[0m\u001b[37m\u001b[0m \u001b[1m0s\u001b[0m 13ms/step - AZT_accuracy: 0.8143 - AZT_loss: 0.4806 - CIP_accuracy: 0.7676 - CIP_loss: 0.3788 - FEP_accuracy: 0.8257 - FEP_loss: 0.3654 - IMI_accuracy: 0.6879 - IMI_loss: 0.6216 - MER_accuracy: 0.7124 - MER_loss: 0.5978 - loss: 2.4408 - val_AZT_accuracy: 0.9139 - val_AZT_loss: 0.2615 - val_CIP_accuracy: 0.8565 - val_CIP_loss: 0.3840 - val_FEP_accuracy: 0.9522 - val_FEP_loss: 0.2092 - val_IMI_accuracy: 0.8660 - val_IMI_loss: 0.5873 - val_MER_accuracy: 0.7895 - val_MER_loss: 0.9029 - val_loss: 2.2903\n",
      "Epoch 42/50\n",
      "\u001b[1m27/27\u001b[0m \u001b[32m━━━━━━━━━━━━━━━━━━━━\u001b[0m\u001b[37m\u001b[0m \u001b[1m0s\u001b[0m 14ms/step - AZT_accuracy: 0.8137 - AZT_loss: 0.4730 - CIP_accuracy: 0.7429 - CIP_loss: 0.3848 - FEP_accuracy: 0.8111 - FEP_loss: 0.3900 - IMI_accuracy: 0.6421 - IMI_loss: 0.6810 - MER_accuracy: 0.6705 - MER_loss: 0.6518 - loss: 2.5824 - val_AZT_accuracy: 0.9234 - val_AZT_loss: 0.2598 - val_CIP_accuracy: 0.8469 - val_CIP_loss: 0.4029 - val_FEP_accuracy: 0.9522 - val_FEP_loss: 0.2078 - val_IMI_accuracy: 0.8660 - val_IMI_loss: 0.5860 - val_MER_accuracy: 0.7847 - val_MER_loss: 0.8442 - val_loss: 2.2521\n",
      "Epoch 43/50\n",
      "\u001b[1m27/27\u001b[0m \u001b[32m━━━━━━━━━━━━━━━━━━━━\u001b[0m\u001b[37m\u001b[0m \u001b[1m0s\u001b[0m 12ms/step - AZT_accuracy: 0.8205 - AZT_loss: 0.4649 - CIP_accuracy: 0.7800 - CIP_loss: 0.3692 - FEP_accuracy: 0.8412 - FEP_loss: 0.3510 - IMI_accuracy: 0.6679 - IMI_loss: 0.6485 - MER_accuracy: 0.6936 - MER_loss: 0.6238 - loss: 2.4530 - val_AZT_accuracy: 0.9187 - val_AZT_loss: 0.2671 - val_CIP_accuracy: 0.8565 - val_CIP_loss: 0.3682 - val_FEP_accuracy: 0.9522 - val_FEP_loss: 0.2189 - val_IMI_accuracy: 0.8660 - val_IMI_loss: 0.5863 - val_MER_accuracy: 0.7990 - val_MER_loss: 0.9007 - val_loss: 2.2936\n",
      "Epoch 44/50\n",
      "\u001b[1m27/27\u001b[0m \u001b[32m━━━━━━━━━━━━━━━━━━━━\u001b[0m\u001b[37m\u001b[0m \u001b[1m0s\u001b[0m 12ms/step - AZT_accuracy: 0.8047 - AZT_loss: 0.4808 - CIP_accuracy: 0.7621 - CIP_loss: 0.3662 - FEP_accuracy: 0.8101 - FEP_loss: 0.3905 - IMI_accuracy: 0.6802 - IMI_loss: 0.6155 - MER_accuracy: 0.6899 - MER_loss: 0.6069 - loss: 2.4620 - val_AZT_accuracy: 0.9091 - val_AZT_loss: 0.2986 - val_CIP_accuracy: 0.8660 - val_CIP_loss: 0.3625 - val_FEP_accuracy: 0.9474 - val_FEP_loss: 0.2143 - val_IMI_accuracy: 0.8708 - val_IMI_loss: 0.6054 - val_MER_accuracy: 0.7943 - val_MER_loss: 0.8498 - val_loss: 2.2841\n",
      "Epoch 45/50\n",
      "\u001b[1m27/27\u001b[0m \u001b[32m━━━━━━━━━━━━━━━━━━━━\u001b[0m\u001b[37m\u001b[0m \u001b[1m0s\u001b[0m 13ms/step - AZT_accuracy: 0.8152 - AZT_loss: 0.4655 - CIP_accuracy: 0.7227 - CIP_loss: 0.3894 - FEP_accuracy: 0.8082 - FEP_loss: 0.3931 - IMI_accuracy: 0.6522 - IMI_loss: 0.6700 - MER_accuracy: 0.6624 - MER_loss: 0.6617 - loss: 2.5785 - val_AZT_accuracy: 0.8995 - val_AZT_loss: 0.2891 - val_CIP_accuracy: 0.8469 - val_CIP_loss: 0.5261 - val_FEP_accuracy: 0.9474 - val_FEP_loss: 0.2191 - val_IMI_accuracy: 0.8660 - val_IMI_loss: 0.6193 - val_MER_accuracy: 0.7943 - val_MER_loss: 0.8762 - val_loss: 2.4750\n",
      "Epoch 46/50\n",
      "\u001b[1m27/27\u001b[0m \u001b[32m━━━━━━━━━━━━━━━━━━━━\u001b[0m\u001b[37m\u001b[0m \u001b[1m0s\u001b[0m 13ms/step - AZT_accuracy: 0.8031 - AZT_loss: 0.5140 - CIP_accuracy: 0.7520 - CIP_loss: 0.3784 - FEP_accuracy: 0.8030 - FEP_loss: 0.4010 - IMI_accuracy: 0.6898 - IMI_loss: 0.6372 - MER_accuracy: 0.6788 - MER_loss: 0.6281 - loss: 2.5601 - val_AZT_accuracy: 0.9378 - val_AZT_loss: 0.2210 - val_CIP_accuracy: 0.8469 - val_CIP_loss: 0.5710 - val_FEP_accuracy: 0.9522 - val_FEP_loss: 0.2434 - val_IMI_accuracy: 0.8660 - val_IMI_loss: 0.6529 - val_MER_accuracy: 0.7943 - val_MER_loss: 0.8985 - val_loss: 2.5266\n",
      "Epoch 47/50\n",
      "\u001b[1m27/27\u001b[0m \u001b[32m━━━━━━━━━━━━━━━━━━━━\u001b[0m\u001b[37m\u001b[0m \u001b[1m0s\u001b[0m 11ms/step - AZT_accuracy: 0.8381 - AZT_loss: 0.4480 - CIP_accuracy: 0.7792 - CIP_loss: 0.3640 - FEP_accuracy: 0.8162 - FEP_loss: 0.3730 - IMI_accuracy: 0.6710 - IMI_loss: 0.6454 - MER_accuracy: 0.6874 - MER_loss: 0.6277 - loss: 2.4583 - val_AZT_accuracy: 0.9474 - val_AZT_loss: 0.2023 - val_CIP_accuracy: 0.8469 - val_CIP_loss: 0.5512 - val_FEP_accuracy: 0.9474 - val_FEP_loss: 0.2365 - val_IMI_accuracy: 0.8660 - val_IMI_loss: 0.6351 - val_MER_accuracy: 0.7943 - val_MER_loss: 0.8813 - val_loss: 2.4481\n",
      "Epoch 48/50\n",
      "\u001b[1m27/27\u001b[0m \u001b[32m━━━━━━━━━━━━━━━━━━━━\u001b[0m\u001b[37m\u001b[0m \u001b[1m0s\u001b[0m 11ms/step - AZT_accuracy: 0.8389 - AZT_loss: 0.4127 - CIP_accuracy: 0.7675 - CIP_loss: 0.3667 - FEP_accuracy: 0.8345 - FEP_loss: 0.3597 - IMI_accuracy: 0.6939 - IMI_loss: 0.6182 - MER_accuracy: 0.6997 - MER_loss: 0.6098 - loss: 2.3656 - val_AZT_accuracy: 0.9522 - val_AZT_loss: 0.2019 - val_CIP_accuracy: 0.8373 - val_CIP_loss: 0.7142 - val_FEP_accuracy: 0.9474 - val_FEP_loss: 0.2354 - val_IMI_accuracy: 0.8708 - val_IMI_loss: 0.7071 - val_MER_accuracy: 0.7943 - val_MER_loss: 0.9297 - val_loss: 2.7275\n",
      "Epoch 49/50\n",
      "\u001b[1m27/27\u001b[0m \u001b[32m━━━━━━━━━━━━━━━━━━━━\u001b[0m\u001b[37m\u001b[0m \u001b[1m0s\u001b[0m 11ms/step - AZT_accuracy: 0.8075 - AZT_loss: 0.4674 - CIP_accuracy: 0.7708 - CIP_loss: 0.3887 - FEP_accuracy: 0.8040 - FEP_loss: 0.3959 - IMI_accuracy: 0.6478 - IMI_loss: 0.6685 - MER_accuracy: 0.6634 - MER_loss: 0.6626 - loss: 2.5888 - val_AZT_accuracy: 0.9522 - val_AZT_loss: 0.2104 - val_CIP_accuracy: 0.8469 - val_CIP_loss: 0.6244 - val_FEP_accuracy: 0.9522 - val_FEP_loss: 0.2393 - val_IMI_accuracy: 0.8708 - val_IMI_loss: 0.7135 - val_MER_accuracy: 0.7943 - val_MER_loss: 0.9130 - val_loss: 2.6413\n",
      "Epoch 50/50\n",
      "\u001b[1m27/27\u001b[0m \u001b[32m━━━━━━━━━━━━━━━━━━━━\u001b[0m\u001b[37m\u001b[0m \u001b[1m0s\u001b[0m 14ms/step - AZT_accuracy: 0.8573 - AZT_loss: 0.4072 - CIP_accuracy: 0.7924 - CIP_loss: 0.3634 - FEP_accuracy: 0.8345 - FEP_loss: 0.3584 - IMI_accuracy: 0.6771 - IMI_loss: 0.6491 - MER_accuracy: 0.7044 - MER_loss: 0.6179 - loss: 2.3949 - val_AZT_accuracy: 0.9522 - val_AZT_loss: 0.2011 - val_CIP_accuracy: 0.8421 - val_CIP_loss: 0.6700 - val_FEP_accuracy: 0.9522 - val_FEP_loss: 0.2390 - val_IMI_accuracy: 0.8708 - val_IMI_loss: 0.7151 - val_MER_accuracy: 0.7943 - val_MER_loss: 0.8544 - val_loss: 2.6175\n",
      "Modelo entrenado\n"
     ]
    }
   ],
   "source": [
    "# ## 6. Entrenar el modelo\n",
    "print(\"Dimensiones del DataFrame original:\", train_df.shape)\n",
    "print(\"Dimensiones de X_train_input:\", X_train_input.shape)\n",
    "for key in y_train:\n",
    "    print(f\"Dimensiones de y_train[{key}]:\", y_train[key].shape)\n",
    "\n",
    "history = model.fit(X_train_input, y_train,\n",
    "                    epochs=50, batch_size=32, validation_split=0.2)\n",
    "\n",
    "print(\"Modelo entrenado\")"
   ]
  },
  {
   "cell_type": "code",
   "execution_count": 40,
   "id": "8241b7b0-47e0-48a7-83d3-7bc348f78771",
   "metadata": {},
   "outputs": [
    {
     "name": "stdout",
     "output_type": "stream",
     "text": [
      "\u001b[1m2/2\u001b[0m \u001b[32m━━━━━━━━━━━━━━━━━━━━\u001b[0m\u001b[37m\u001b[0m \u001b[1m0s\u001b[0m 15ms/step\n",
      "Predicción para FEP: ['s' 's' 's' 's' 's' 's' 's' 's' 's' 's' 's' 's' 's' 's' 's' 's' 's' 's'\n",
      " 's' 's' 's' 's' 's' 's' 's' 's' 's' 's' 's' 's' 's' 's' 's' 's' 's' 's'\n",
      " 's' 's' 's' 's' 's' 's' 's' 's']\n",
      "Predicción para MER: ['s' 's' 's' 's' 's' 's' 's' 's' 's' 'r' 's' 's' 's' 's' 's' 'r' 's' 's'\n",
      " 's' 's' 's' 's' 's' 's' 's' 's' 's' 's' 's' 'r' 's' 's' 's' 's' 's' 's'\n",
      " 's' 's' 's' 's' 's' 's' 's' 's']\n",
      "Predicción para IMI ['s' 's' 's' 's' 's' 's' 's' 's' 's' 'r' 's' 's' 's' 's' 's' 's' 's' 's'\n",
      " 's' 's' 's' 's' 's' 's' 's' 's' 's' 's' 's' 'r' 's' 's' 's' 's' 's' 's'\n",
      " 's' 's' 's' 's' 's' 's' 's' 's']\n",
      "Predicción para AZT ['s' 's' 's' 's' 's' 's' 's' 's' 's' 's' 's' 's' 's' 's' 's' 's' 's' 's'\n",
      " 's' 's' 's' 's' 's' 's' 's' 's' 's' 's' 's' 's' 's' 's' 's' 's' 's' 's'\n",
      " 's' 's' 's' 's' 's' 's' 's' 's']\n",
      "Predicción para CIP ['s' 's' 's' 's' 's' 's' 's' 's' 's' 'r' 's' 's' 's' 's' 's' 'r' 's' 's'\n",
      " 's' 's' 's' 's' 's' 's' 's' 's' 's' 's' 's' 'r' 's' 's' 's' 's' 's' 's'\n",
      " 's' 's' 's' 's' 's' 's' 's' 's']\n"
     ]
    }
   ],
   "source": [
    "# ## 7. Predicción en el set de test\n",
    "#\n",
    "# En el set de test se dispone únicamente de la información de mutaciones (no de MIC).\n",
    "predictions = model.predict(X_test_input)\n",
    "\n",
    "# Para cada antibiótico, se toma la clase con mayor probabilidad.\n",
    "pred_FEP = np.argmax(predictions[0], axis=1)\n",
    "pred_MER = np.argmax(predictions[1], axis=1)\n",
    "pred_IMI = np.argmax(predictions[2], axis=1)\n",
    "pred_AZT = np.argmax(predictions[3], axis=1)\n",
    "pred_CIP = np.argmax(predictions[4], axis=1)\n",
    "\n",
    "# Convertir las predicciones a etiquetas legibles usando los encoders definidos para cada evaluación.\n",
    "pred_FEP_labels = antibiotic_encoders[\"FEP_eval\"].inverse_transform(pred_FEP)\n",
    "pred_MER_labels = antibiotic_encoders[\"MER_eval\"].inverse_transform(pred_MER)\n",
    "pred_IMI_labels = antibiotic_encoders[\"IMI_eval\"].inverse_transform(pred_IMI)\n",
    "pred_AZT_labels = antibiotic_encoders[\"AZT_eval\"].inverse_transform(pred_AZT)\n",
    "pred_CIP_labels = antibiotic_encoders[\"CIP_eval\"].inverse_transform(pred_CIP)\n",
    "\n",
    "print(\"Predicción para FEP:\", pred_FEP_labels)\n",
    "print(\"Predicción para MER:\", pred_MER_labels)\n",
    "print(\"Predicción para IMI\", pred_IMI_labels)\n",
    "print(\"Predicción para AZT\", pred_AZT_labels)\n",
    "print(\"Predicción para CIP\", pred_CIP_labels)"
   ]
  },
  {
   "cell_type": "code",
   "execution_count": null,
   "id": "a73d4226-f944-41aa-920e-371970c8b1f4",
   "metadata": {},
   "outputs": [],
   "source": []
  }
 ],
 "metadata": {
  "kernelspec": {
   "display_name": "Python 3 (ipykernel)",
   "language": "python",
   "name": "python3"
  },
  "language_info": {
   "codemirror_mode": {
    "name": "ipython",
    "version": 3
   },
   "file_extension": ".py",
   "mimetype": "text/x-python",
   "name": "python",
   "nbconvert_exporter": "python",
   "pygments_lexer": "ipython3",
   "version": "3.10.12"
  }
 },
 "nbformat": 4,
 "nbformat_minor": 5
}
